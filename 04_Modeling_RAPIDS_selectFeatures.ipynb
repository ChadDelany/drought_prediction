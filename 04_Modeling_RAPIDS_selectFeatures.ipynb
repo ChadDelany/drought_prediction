{
  "cells": [
    {
      "cell_type": "markdown",
      "metadata": {
        "id": "view-in-github",
        "colab_type": "text"
      },
      "source": [
        "<a href=\"https://colab.research.google.com/github/ChadDelany/Drought_Prediction/blob/main/04_Modeling_RAPIDS_selectFeatures.ipynb\" target=\"_parent\"><img src=\"https://colab.research.google.com/assets/colab-badge.svg\" alt=\"Open In Colab\"/></a>"
      ]
    },
    {
      "cell_type": "markdown",
      "source": [
        "# **Drought Prediction: Modeling**"
      ],
      "metadata": {
        "id": "9mR2bPvswIvt"
      }
    },
    {
      "cell_type": "markdown",
      "source": [
        "This notebook was run on Google Colab Pro+.  The RAPIDS system was used to access GPU processing.  Previous attempts to run the models using Pandas with CPUs took 24+ hours to run and often crashed due to exceeding existing resources.  The RAPIDS GPU processing allowed models to run usually within 5 minutes and at a maximum of 15 minutes.  Setting up RAPIDS to run on Google Colab Pro+ takes between 15 minutes to 1 hour depending on resource availability on Google Colab Pro+.\n",
        "\n",
        "ALL MODELS RERUN WITH SELECTED FEATURES TO DETERMINE VARIABLE IMPORTANCE AND MODEL EXPLAINABILITY."
      ],
      "metadata": {
        "id": "L8B6xerQwatO"
      }
    },
    {
      "cell_type": "markdown",
      "metadata": {
        "id": "qIS3fhPT8naz"
      },
      "source": [
        "# Environment Sanity Check #\n",
        "\n",
        "Click the _Runtime_ dropdown at the top of the page, then _Change Runtime Type_ and confirm the instance type is _GPU_.\n",
        "\n",
        "Check the output of `!nvidia-smi` to make sure you've been allocated a Tesla T4, P4, or P100."
      ]
    },
    {
      "cell_type": "code",
      "execution_count": null,
      "metadata": {
        "colab": {
          "base_uri": "https://localhost:8080/"
        },
        "id": "UTUcQ76Wb3NA",
        "outputId": "57ab9687-c721-4a17-8f8f-a9b39fe1bf1d"
      },
      "outputs": [
        {
          "output_type": "stream",
          "name": "stdout",
          "text": [
            "Thu Aug 18 15:22:59 2022       \n",
            "+-----------------------------------------------------------------------------+\n",
            "| NVIDIA-SMI 460.32.03    Driver Version: 460.32.03    CUDA Version: 11.2     |\n",
            "|-------------------------------+----------------------+----------------------+\n",
            "| GPU  Name        Persistence-M| Bus-Id        Disp.A | Volatile Uncorr. ECC |\n",
            "| Fan  Temp  Perf  Pwr:Usage/Cap|         Memory-Usage | GPU-Util  Compute M. |\n",
            "|                               |                      |               MIG M. |\n",
            "|===============================+======================+======================|\n",
            "|   0  Tesla P100-PCIE...  Off  | 00000000:00:04.0 Off |                    0 |\n",
            "| N/A   49C    P0    31W / 250W |      0MiB / 16280MiB |      0%      Default |\n",
            "|                               |                      |                  N/A |\n",
            "+-------------------------------+----------------------+----------------------+\n",
            "                                                                               \n",
            "+-----------------------------------------------------------------------------+\n",
            "| Processes:                                                                  |\n",
            "|  GPU   GI   CI        PID   Type   Process name                  GPU Memory |\n",
            "|        ID   ID                                                   Usage      |\n",
            "|=============================================================================|\n",
            "|  No running processes found                                                 |\n",
            "+-----------------------------------------------------------------------------+\n"
          ]
        }
      ],
      "source": [
        "!nvidia-smi"
      ]
    },
    {
      "cell_type": "markdown",
      "metadata": {
        "id": "jfVoeLbP8iZp"
      },
      "source": [
        "#Setup:\n",
        "This notebook was built on RAPIDS 0.13 stable and is based on this [DataCamp Tutorial](https://www.datacamp.com/community/tutorials/xgboost-in-python).  tested and working on 0.19 stable.\n",
        "\n",
        "#Setup:\n",
        "Set up script installs\n",
        "1. Updates gcc in Colab\n",
        "1. Installs Conda\n",
        "1. Install RAPIDS' current stable version of its libraries, as well as some external libraries including:\n",
        "  1. cuDF\n",
        "  1. cuML\n",
        "  1. cuGraph\n",
        "  1. cuSpatial\n",
        "  1. cuSignal\n",
        "  1. BlazingSQL\n",
        "  1. xgboost\n",
        "1. Copy RAPIDS .so files into current working directory, a neccessary workaround for RAPIDS+Colab integration.\n"
      ]
    },
    {
      "cell_type": "code",
      "execution_count": null,
      "metadata": {
        "colab": {
          "base_uri": "https://localhost:8080/"
        },
        "id": "EH3gMCzX3siM",
        "outputId": "6f6e4505-453e-4622-a7dd-ab78d68f4f77"
      },
      "outputs": [
        {
          "output_type": "stream",
          "name": "stdout",
          "text": [
            "Looking in indexes: https://pypi.org/simple, https://us-python.pkg.dev/colab-wheels/public/simple/\n",
            "Collecting pynvml\n",
            "  Downloading pynvml-11.4.1-py3-none-any.whl (46 kB)\n",
            "\u001b[K     |████████████████████████████████| 46 kB 3.2 MB/s \n",
            "\u001b[?25hInstalling collected packages: pynvml\n",
            "Successfully installed pynvml-11.4.1\n",
            "Cloning into 'rapidsai-csp-utils'...\n",
            "remote: Enumerating objects: 300, done.\u001b[K\n",
            "remote: Counting objects: 100% (129/129), done.\u001b[K\n",
            "remote: Compressing objects: 100% (74/74), done.\u001b[K\n",
            "remote: Total 300 (delta 74), reused 99 (delta 55), pack-reused 171\u001b[K\n",
            "Receiving objects: 100% (300/300), 87.58 KiB | 7.96 MiB/s, done.\n",
            "Resolving deltas: 100% (136/136), done.\n",
            "***********************************************************************\n",
            "Woo! Your instance has the right kind of GPU, a Tesla P100-PCIE-16GB!\n",
            "***********************************************************************\n",
            "\n"
          ]
        }
      ],
      "source": [
        "!pip install pynvml\n",
        "\n",
        "# This get the RAPIDS-Colab install files and test check your GPU.  Run this and the next cell only.\n",
        "# Please read the output of this cell.  If your Colab Instance is not RAPIDS compatible, it will warn you and give you remediation steps.\n",
        "!git clone https://github.com/rapidsai/rapidsai-csp-utils.git\n",
        "!python rapidsai-csp-utils/colab/env-check.py"
      ]
    },
    {
      "cell_type": "code",
      "execution_count": null,
      "metadata": {
        "colab": {
          "base_uri": "https://localhost:8080/"
        },
        "id": "LNd6j0tPahdh",
        "outputId": "49868875-f7f5-4675-d25c-201a92b99a6a"
      },
      "outputs": [
        {
          "output_type": "stream",
          "name": "stdout",
          "text": [
            "Updating your Colab environment.  This will restart your kernel.  Don't Panic!\n",
            "Get:1 http://security.ubuntu.com/ubuntu bionic-security InRelease [88.7 kB]\n",
            "Get:2 http://ppa.launchpad.net/c2d4u.team/c2d4u4.0+/ubuntu bionic InRelease [15.9 kB]\n",
            "Get:3 https://cloud.r-project.org/bin/linux/ubuntu bionic-cran40/ InRelease [3,626 B]\n",
            "Hit:4 http://ppa.launchpad.net/cran/libgit2/ubuntu bionic InRelease\n",
            "Hit:5 http://ppa.launchpad.net/deadsnakes/ppa/ubuntu bionic InRelease\n",
            "Hit:6 http://ppa.launchpad.net/graphics-drivers/ppa/ubuntu bionic InRelease\n",
            "Get:7 http://ppa.launchpad.net/ubuntu-toolchain-r/test/ubuntu bionic InRelease [20.8 kB]\n",
            "Hit:8 http://archive.ubuntu.com/ubuntu bionic InRelease\n",
            "Get:9 http://ppa.launchpad.net/c2d4u.team/c2d4u4.0+/ubuntu bionic/main Sources [2,095 kB]\n",
            "Get:10 http://archive.ubuntu.com/ubuntu bionic-updates InRelease [88.7 kB]\n",
            "Ign:11 https://developer.download.nvidia.com/compute/machine-learning/repos/ubuntu1804/x86_64  InRelease\n",
            "Get:12 https://developer.download.nvidia.com/compute/cuda/repos/ubuntu1804/x86_64  InRelease [1,581 B]\n",
            "Hit:13 https://developer.download.nvidia.com/compute/machine-learning/repos/ubuntu1804/x86_64  Release\n",
            "Get:14 http://security.ubuntu.com/ubuntu bionic-security/universe amd64 Packages [1,533 kB]\n",
            "Get:15 http://ppa.launchpad.net/c2d4u.team/c2d4u4.0+/ubuntu bionic/main amd64 Packages [1,073 kB]\n",
            "Get:16 http://security.ubuntu.com/ubuntu bionic-security/main amd64 Packages [2,937 kB]\n",
            "Get:17 http://archive.ubuntu.com/ubuntu bionic-backports InRelease [74.6 kB]\n",
            "Get:18 http://ppa.launchpad.net/ubuntu-toolchain-r/test/ubuntu bionic/main amd64 Packages [50.4 kB]\n",
            "Get:19 https://developer.download.nvidia.com/compute/cuda/repos/ubuntu1804/x86_64  Packages [910 kB]\n",
            "Get:21 http://archive.ubuntu.com/ubuntu bionic-updates/main amd64 Packages [3,369 kB]\n",
            "Get:22 http://archive.ubuntu.com/ubuntu bionic-updates/universe amd64 Packages [2,310 kB]\n",
            "Fetched 14.6 MB in 2s (6,077 kB/s)\n",
            "Reading package lists... Done\n",
            "Added repo\n",
            "Hit:1 http://ppa.launchpad.net/c2d4u.team/c2d4u4.0+/ubuntu bionic InRelease\n",
            "Hit:2 http://ppa.launchpad.net/cran/libgit2/ubuntu bionic InRelease\n",
            "Hit:3 https://cloud.r-project.org/bin/linux/ubuntu bionic-cran40/ InRelease\n",
            "Hit:4 http://ppa.launchpad.net/deadsnakes/ppa/ubuntu bionic InRelease\n",
            "Hit:5 http://ppa.launchpad.net/graphics-drivers/ppa/ubuntu bionic InRelease\n",
            "Hit:6 http://ppa.launchpad.net/ubuntu-toolchain-r/test/ubuntu bionic InRelease\n",
            "Hit:7 http://archive.ubuntu.com/ubuntu bionic InRelease\n",
            "Hit:8 http://security.ubuntu.com/ubuntu bionic-security InRelease\n",
            "Hit:9 http://archive.ubuntu.com/ubuntu bionic-updates InRelease\n",
            "Ign:10 https://developer.download.nvidia.com/compute/machine-learning/repos/ubuntu1804/x86_64  InRelease\n",
            "Hit:11 https://developer.download.nvidia.com/compute/cuda/repos/ubuntu1804/x86_64  InRelease\n",
            "Hit:12 http://archive.ubuntu.com/ubuntu bionic-backports InRelease\n",
            "Hit:13 https://developer.download.nvidia.com/compute/machine-learning/repos/ubuntu1804/x86_64  Release\n",
            "Reading package lists... Done\n",
            "Installing libstdc++\n",
            "Reading package lists... Done\n",
            "Building dependency tree       \n",
            "Reading state information... Done\n",
            "Selected version '11.1.0-1ubuntu1~18.04.1' (Toolchain test builds:18.04/bionic [amd64]) for 'libstdc++6'\n",
            "The following package was automatically installed and is no longer required:\n",
            "  libnvidia-common-460\n",
            "Use 'sudo apt autoremove' to remove it.\n",
            "The following additional packages will be installed:\n",
            "  gcc-11-base libgcc-s1\n",
            "The following NEW packages will be installed:\n",
            "  gcc-11-base libgcc-s1\n",
            "The following packages will be upgraded:\n",
            "  libstdc++6\n",
            "1 upgraded, 2 newly installed, 0 to remove and 33 not upgraded.\n",
            "Need to get 641 kB of archives.\n",
            "After this operation, 981 kB of additional disk space will be used.\n",
            "Get:1 http://ppa.launchpad.net/ubuntu-toolchain-r/test/ubuntu bionic/main amd64 gcc-11-base amd64 11.1.0-1ubuntu1~18.04.1 [19.0 kB]\n",
            "Get:2 http://ppa.launchpad.net/ubuntu-toolchain-r/test/ubuntu bionic/main amd64 libgcc-s1 amd64 11.1.0-1ubuntu1~18.04.1 [41.8 kB]\n",
            "Get:3 http://ppa.launchpad.net/ubuntu-toolchain-r/test/ubuntu bionic/main amd64 libstdc++6 amd64 11.1.0-1ubuntu1~18.04.1 [580 kB]\n",
            "Fetched 641 kB in 0s (4,896 kB/s)\n",
            "debconf: unable to initialize frontend: Dialog\n",
            "debconf: (No usable dialog-like program is installed, so the dialog based frontend cannot be used. at /usr/share/perl5/Debconf/FrontEnd/Dialog.pm line 76, <> line 3.)\n",
            "debconf: falling back to frontend: Readline\n",
            "debconf: unable to initialize frontend: Readline\n",
            "debconf: (This frontend requires a controlling tty.)\n",
            "debconf: falling back to frontend: Teletype\n",
            "dpkg-preconfigure: unable to re-open stdin: \n",
            "Selecting previously unselected package gcc-11-base:amd64.\n",
            "(Reading database ... 155676 files and directories currently installed.)\n",
            "Preparing to unpack .../gcc-11-base_11.1.0-1ubuntu1~18.04.1_amd64.deb ...\n",
            "Unpacking gcc-11-base:amd64 (11.1.0-1ubuntu1~18.04.1) ...\n",
            "Setting up gcc-11-base:amd64 (11.1.0-1ubuntu1~18.04.1) ...\n",
            "Selecting previously unselected package libgcc-s1:amd64.\n",
            "(Reading database ... 155681 files and directories currently installed.)\n",
            "Preparing to unpack .../libgcc-s1_11.1.0-1ubuntu1~18.04.1_amd64.deb ...\n",
            "Unpacking libgcc-s1:amd64 (11.1.0-1ubuntu1~18.04.1) ...\n",
            "Replacing files in old package libgcc1:amd64 (1:8.4.0-1ubuntu1~18.04) ...\n",
            "Setting up libgcc-s1:amd64 (11.1.0-1ubuntu1~18.04.1) ...\n",
            "(Reading database ... 155683 files and directories currently installed.)\n",
            "Preparing to unpack .../libstdc++6_11.1.0-1ubuntu1~18.04.1_amd64.deb ...\n",
            "Unpacking libstdc++6:amd64 (11.1.0-1ubuntu1~18.04.1) over (8.4.0-1ubuntu1~18.04) ...\n",
            "Setting up libstdc++6:amd64 (11.1.0-1ubuntu1~18.04.1) ...\n",
            "Processing triggers for libc-bin (2.27-3ubuntu1.5) ...\n",
            "restarting Colab...\n"
          ]
        }
      ],
      "source": [
        "# This will update the Colab environment and restart the kernel.  Don't run the next cell until you see the session crash.\n",
        "!bash rapidsai-csp-utils/colab/update_gcc.sh\n",
        "import os\n",
        "os._exit(00)"
      ]
    },
    {
      "cell_type": "code",
      "execution_count": null,
      "metadata": {
        "colab": {
          "base_uri": "https://localhost:8080/"
        },
        "id": "Q_8QCkggahkH",
        "outputId": "2749f1a4-7fe7-4214-eae2-908cc55eb424"
      },
      "outputs": [
        {
          "output_type": "stream",
          "name": "stdout",
          "text": [
            "⏬ Downloading https://github.com/jaimergp/miniforge/releases/latest/download/Mambaforge-colab-Linux-x86_64.sh...\n",
            "📦 Installing...\n",
            "📌 Adjusting configuration...\n",
            "🩹 Patching environment...\n",
            "⏲ Done in 0:00:35\n",
            "🔁 Restarting kernel...\n"
          ]
        }
      ],
      "source": [
        "# This will install CondaColab.  This will restart your kernel one last time.  Run this cell by itself and only run the next cell once you see the session crash.\n",
        "import condacolab\n",
        "condacolab.install()"
      ]
    },
    {
      "cell_type": "code",
      "execution_count": null,
      "metadata": {
        "id": "ts_8oCWvahnN",
        "colab": {
          "base_uri": "https://localhost:8080/"
        },
        "outputId": "1a843093-5f74-45fb-e615-543aea28fe4f"
      },
      "outputs": [
        {
          "output_type": "stream",
          "name": "stdout",
          "text": [
            "✨🍰✨ Everything looks OK!\n"
          ]
        }
      ],
      "source": [
        "# you can now run the rest of the cells as normal\n",
        "import condacolab\n",
        "condacolab.check()"
      ]
    },
    {
      "cell_type": "code",
      "execution_count": null,
      "metadata": {
        "id": "I-ZgdDIIahqr",
        "colab": {
          "base_uri": "https://localhost:8080/"
        },
        "outputId": "8b38a381-2864-4ee5-bd76-c3b31032eb57"
      },
      "outputs": [
        {
          "output_type": "stream",
          "name": "stdout",
          "text": [
            "Found existing installation: cffi 1.14.5\n",
            "Uninstalling cffi-1.14.5:\n",
            "  Successfully uninstalled cffi-1.14.5\n",
            "Found existing installation: cryptography 3.4.5\n",
            "Uninstalling cryptography-3.4.5:\n",
            "  Successfully uninstalled cryptography-3.4.5\n",
            "Looking in indexes: https://pypi.org/simple, https://us-python.pkg.dev/colab-wheels/public/simple/\n",
            "Collecting cffi==1.15.0\n",
            "  Downloading cffi-1.15.0-cp37-cp37m-manylinux_2_12_x86_64.manylinux2010_x86_64.whl (427 kB)\n",
            "Requirement already satisfied: pycparser in /usr/local/lib/python3.7/site-packages (from cffi==1.15.0) (2.20)\n",
            "Installing collected packages: cffi\n",
            "Successfully installed cffi-1.15.0\n",
            "Installing RAPIDS Stable 21.12\n",
            "Starting the RAPIDS install on Colab.  This will take about 15 minutes.\n",
            "Collecting package metadata (current_repodata.json): ...working... done\n",
            "Solving environment: ...working... WARNING conda.core.solve:_add_specs(611): pinned spec cudatoolkit=11.1 conflicts with explicit specs.  Overriding pinned spec.\n",
            "failed with initial frozen solve. Retrying with flexible solve.\n",
            "Solving environment: ...working... WARNING conda.core.solve:_add_specs(611): pinned spec cudatoolkit=11.1 conflicts with explicit specs.  Overriding pinned spec.\n",
            "failed with repodata from current_repodata.json, will retry with next repodata source.\n",
            "Collecting package metadata (repodata.json): ...working... done\n",
            "Solving environment: ...working... WARNING conda.core.solve:_add_specs(611): pinned spec cudatoolkit=11.1 conflicts with explicit specs.  Overriding pinned spec.\n",
            "done\n",
            "\n",
            "## Package Plan ##\n",
            "\n",
            "  environment location: /usr/local\n",
            "\n",
            "  added / updated specs:\n",
            "    - cudatoolkit=11.2\n",
            "    - dask-sql\n",
            "    - gcsfs\n",
            "    - llvmlite\n",
            "    - openssl\n",
            "    - python=3.7\n",
            "    - rapids=21.12\n",
            "\n",
            "\n",
            "The following packages will be downloaded:\n",
            "\n",
            "    package                    |            build\n",
            "    ---------------------------|-----------------\n",
            "    abseil-cpp-20210324.2      |       h9c3ff4c_0        1010 KB  conda-forge\n",
            "    aiohttp-3.8.1              |   py37h540881e_1         561 KB  conda-forge\n",
            "    aiosignal-1.2.0            |     pyhd8ed1ab_0          12 KB  conda-forge\n",
            "    alsa-lib-1.2.3.2           |       h166bdaf_0         554 KB  conda-forge\n",
            "    anyio-3.6.1                |     pyhd8ed1ab_1          83 KB  conda-forge\n",
            "    appdirs-1.4.4              |     pyh9f0ad1d_0          13 KB  conda-forge\n",
            "    argon2-cffi-21.3.0         |     pyhd8ed1ab_0          15 KB  conda-forge\n",
            "    argon2-cffi-bindings-21.2.0|   py37h540881e_2          34 KB  conda-forge\n",
            "    arrow-cpp-5.0.0            |py37hc2523e2_2_cuda        23.3 MB  conda-forge\n",
            "    arrow-cpp-proc-3.0.0       |             cuda          24 KB  conda-forge\n",
            "    async-timeout-4.0.2        |     pyhd8ed1ab_0           9 KB  conda-forge\n",
            "    asynctest-0.13.0           |             py_0          24 KB  conda-forge\n",
            "    attrs-22.1.0               |     pyh71513ae_1          48 KB  conda-forge\n",
            "    aws-c-cal-0.5.11           |       h95a6274_0          37 KB  conda-forge\n",
            "    aws-c-common-0.6.2         |       h7f98852_0         168 KB  conda-forge\n",
            "    aws-c-event-stream-0.2.7   |      h3541f99_13          47 KB  conda-forge\n",
            "    aws-c-io-0.10.5            |       hfb6a706_0         121 KB  conda-forge\n",
            "    aws-checksums-0.1.11       |       ha31a3da_7          50 KB  conda-forge\n",
            "    aws-sdk-cpp-1.8.186        |       hb4091e7_3         4.6 MB  conda-forge\n",
            "    backcall-0.2.0             |     pyh9f0ad1d_0          13 KB  conda-forge\n",
            "    backports-1.0              |             py_2           4 KB  conda-forge\n",
            "    backports.functools_lru_cache-1.6.4|     pyhd8ed1ab_0           9 KB  conda-forge\n",
            "    backports.zoneinfo-0.2.1   |   py37h540881e_5          47 KB  conda-forge\n",
            "    beautifulsoup4-4.11.1      |     pyha770c72_0          96 KB  conda-forge\n",
            "    bleach-5.0.1               |     pyhd8ed1ab_0         124 KB  conda-forge\n",
            "    blinker-1.4                |             py_1          13 KB  conda-forge\n",
            "    blosc-1.21.1               |       h83bc5f7_3          47 KB  conda-forge\n",
            "    bokeh-2.4.0                |   py37h89c1867_0        13.5 MB  conda-forge\n",
            "    boost-1.74.0               |   py37h796e4cb_5         342 KB  conda-forge\n",
            "    boost-cpp-1.74.0           |       h312852a_4        16.3 MB  conda-forge\n",
            "    brotli-1.0.9               |       h166bdaf_7          18 KB  conda-forge\n",
            "    brotli-bin-1.0.9           |       h166bdaf_7          19 KB  conda-forge\n",
            "    brunsli-0.1                |       h9c3ff4c_0         200 KB  conda-forge\n",
            "    c-blosc2-2.2.0             |       h7a311fb_0         247 KB  conda-forge\n",
            "    ca-certificates-2022.6.15  |       ha878542_0         149 KB  conda-forge\n",
            "    cachetools-5.2.0           |     pyhd8ed1ab_0          13 KB  conda-forge\n",
            "    cairo-1.16.0               |    h6cf1ce9_1008         1.5 MB  conda-forge\n",
            "    certifi-2022.6.15          |   py37h89c1867_0         155 KB  conda-forge\n",
            "    cfitsio-3.470              |       hb418390_7         1.3 MB  conda-forge\n",
            "    charls-2.2.0               |       h9c3ff4c_0         138 KB  conda-forge\n",
            "    charset-normalizer-2.1.0   |     pyhd8ed1ab_0          35 KB  conda-forge\n",
            "    click-8.0.4                |   py37h89c1867_0         145 KB  conda-forge\n",
            "    click-plugins-1.1.1        |             py_0           9 KB  conda-forge\n",
            "    cligj-0.7.2                |     pyhd8ed1ab_1          10 KB  conda-forge\n",
            "    cloudpickle-2.1.0          |     pyhd8ed1ab_0          25 KB  conda-forge\n",
            "    colorcet-3.0.0             |     pyhd8ed1ab_0         1.5 MB  conda-forge\n",
            "    conda-4.12.0               |   py37h89c1867_0         1.0 MB  conda-forge\n",
            "    cucim-21.12.00             |cuda_11_py37_g6d1f082_0         3.2 MB  rapidsai\n",
            "    cudatoolkit-11.2.72        |       h2bc3f7f_0       933.4 MB  nvidia\n",
            "    cudf-21.12.02              |cuda_11_py37_g06540b9b37_0        12.6 MB  rapidsai\n",
            "    cudf_kafka-21.12.02        |py37_g06540b9b37_0         1.8 MB  rapidsai\n",
            "    cugraph-21.12.00           |cuda11_py37_g3a43e9d0_0         7.2 MB  rapidsai\n",
            "    cuml-21.12.00              |cuda11_py37_g04c4927f3_0         9.4 MB  rapidsai\n",
            "    cupy-9.6.0                 |   py37h07c33ac_0        51.5 MB  conda-forge\n",
            "    curl-7.78.0                |       hea6ffbf_0         148 KB  conda-forge\n",
            "    cusignal-21.12.00          |  py37_g2bf865c_0         1.1 MB  rapidsai\n",
            "    cuspatial-21.12.00         |  py37_gab6748f_0        15.9 MB  rapidsai\n",
            "    custreamz-21.12.02         |py37_g06540b9b37_0          32 KB  rapidsai\n",
            "    cuxfilter-21.12.00         |  py37_g2e0fb5a_0         137 KB  rapidsai\n",
            "    cycler-0.11.0              |     pyhd8ed1ab_0          10 KB  conda-forge\n",
            "    cyrus-sasl-2.1.27          |       h230043b_5         228 KB  conda-forge\n",
            "    cytoolz-0.12.0             |   py37h540881e_0         380 KB  conda-forge\n",
            "    dask-2021.11.2             |     pyhd8ed1ab_0           5 KB  conda-forge\n",
            "    dask-core-2021.11.2        |     pyhd8ed1ab_0         783 KB  conda-forge\n",
            "    dask-cuda-21.12.00         |           py37_0         123 KB  rapidsai\n",
            "    dask-cudf-21.12.02         |cuda_11_py37_g06540b9b37_0         112 KB  rapidsai\n",
            "    dask-sql-2022.1.0          |   py37h89c1867_0        19.7 MB  conda-forge\n",
            "    datashader-0.11.1          |     pyh9f0ad1d_0        14.0 MB  conda-forge\n",
            "    datashape-0.5.4            |             py_1          49 KB  conda-forge\n",
            "    debugpy-1.6.3              |   py37hd23a5d3_0         2.0 MB  conda-forge\n",
            "    decorator-5.1.1            |     pyhd8ed1ab_0          12 KB  conda-forge\n",
            "    defusedxml-0.7.1           |     pyhd8ed1ab_0          23 KB  conda-forge\n",
            "    distributed-2021.11.2      |   py37h89c1867_0         1.1 MB  conda-forge\n",
            "    dlpack-0.5                 |       h9c3ff4c_0          12 KB  conda-forge\n",
            "    entrypoints-0.4            |     pyhd8ed1ab_0           9 KB  conda-forge\n",
            "    expat-2.4.8                |       h27087fc_0         187 KB  conda-forge\n",
            "    faiss-proc-1.0.0           |             cuda          24 KB  rapidsai\n",
            "    fastapi-0.79.0             |     pyhd8ed1ab_0          45 KB  conda-forge\n",
            "    fastavro-1.6.0             |   py37h540881e_0         466 KB  conda-forge\n",
            "    fastrlock-0.8              |   py37hd23a5d3_2          31 KB  conda-forge\n",
            "    fiona-1.8.20               |   py37hb7e2723_2         1.1 MB  conda-forge\n",
            "    flit-core-3.7.1            |     pyhd8ed1ab_0          44 KB  conda-forge\n",
            "    font-ttf-dejavu-sans-mono-2.37|       hab24e00_0         388 KB  conda-forge\n",
            "    font-ttf-inconsolata-3.000 |       h77eed37_0          94 KB  conda-forge\n",
            "    font-ttf-source-code-pro-2.038|       h77eed37_0         684 KB  conda-forge\n",
            "    font-ttf-ubuntu-0.83       |       hab24e00_0         1.9 MB  conda-forge\n",
            "    fontconfig-2.14.0          |       h8e229c2_0         305 KB  conda-forge\n",
            "    fonts-conda-ecosystem-1    |                0           4 KB  conda-forge\n",
            "    fonts-conda-forge-1        |                0           4 KB  conda-forge\n",
            "    freetype-2.12.1            |       hca18f0e_0         884 KB  conda-forge\n",
            "    freexl-1.0.6               |       h7f98852_0          48 KB  conda-forge\n",
            "    frozenlist-1.3.1           |   py37h540881e_0          44 KB  conda-forge\n",
            "    fsspec-2022.7.1            |     pyhd8ed1ab_0          96 KB  conda-forge\n",
            "    gcsfs-2022.7.1             |     pyhd8ed1ab_0          26 KB  conda-forge\n",
            "    gdal-3.3.2                 |   py37hd5a0ba4_3         1.7 MB  conda-forge\n",
            "    geopandas-0.9.0            |     pyhd8ed1ab_1           5 KB  conda-forge\n",
            "    geopandas-base-0.9.0       |     pyhd8ed1ab_1         950 KB  conda-forge\n",
            "    geos-3.9.1                 |       h9c3ff4c_2         1.1 MB  conda-forge\n",
            "    geotiff-1.7.0              |       h08e826d_2         296 KB  conda-forge\n",
            "    gettext-0.19.8.1           |    h0b5b191_1005         3.6 MB  conda-forge\n",
            "    gflags-2.2.2               |    he1b5a44_1004         114 KB  conda-forge\n",
            "    giflib-5.2.1               |       h36c2ea0_2          77 KB  conda-forge\n",
            "    glog-0.5.0                 |       h48cff8f_0         104 KB  conda-forge\n",
            "    google-api-core-2.8.2      |     pyhd8ed1ab_0          70 KB  conda-forge\n",
            "    google-auth-2.10.0         |     pyh6c4a22f_0          90 KB  conda-forge\n",
            "    google-auth-oauthlib-0.5.2 |     pyhd8ed1ab_0          20 KB  conda-forge\n",
            "    google-cloud-core-2.3.2    |     pyhd8ed1ab_0          28 KB  conda-forge\n",
            "    google-cloud-storage-2.4.0 |     pyh6c4a22f_0          74 KB  conda-forge\n",
            "    google-crc32c-1.1.2        |   py37h5d4fa31_3          24 KB  conda-forge\n",
            "    google-resumable-media-2.3.3|     pyhd8ed1ab_0          42 KB  conda-forge\n",
            "    googleapis-common-protos-1.56.4|   py37h89c1867_0         123 KB  conda-forge\n",
            "    graphite2-1.3.13           |    h58526e2_1001         102 KB  conda-forge\n",
            "    grpc-cpp-1.39.0            |       hf1f433d_2         3.6 MB  conda-forge\n",
            "    grpcio-1.38.1              |   py37hb27c1af_0         2.2 MB  conda-forge\n",
            "    h11-0.13.0                 |     pyhd8ed1ab_1          46 KB  conda-forge\n",
            "    harfbuzz-2.9.1             |       h83ec7ef_1         2.0 MB  conda-forge\n",
            "    hdf4-4.2.15                |       h9772cbc_4         955 KB  conda-forge\n",
            "    hdf5-1.12.1                |nompi_h2750804_100         3.5 MB  conda-forge\n",
            "    heapdict-1.0.1             |             py_0           7 KB  conda-forge\n",
            "    imagecodecs-2021.8.26      |   py37hfe5a812_1         7.2 MB  conda-forge\n",
            "    imageio-2.13.1             |     pyhd8ed1ab_0         3.1 MB  conda-forge\n",
            "    importlib-metadata-4.11.4  |   py37h89c1867_0          33 KB  conda-forge\n",
            "    importlib_metadata-4.11.4  |       hd8ed1ab_0           4 KB  conda-forge\n",
            "    importlib_resources-5.9.0  |     pyhd8ed1ab_0          28 KB  conda-forge\n",
            "    ipykernel-6.14.0           |   py37h25bab4e_0         185 KB  conda-forge\n",
            "    ipython-7.33.0             |   py37h89c1867_0         1.1 MB  conda-forge\n",
            "    ipython_genutils-0.2.0     |             py_1          21 KB  conda-forge\n",
            "    ipywidgets-8.0.1           |     pyhd8ed1ab_0         109 KB  conda-forge\n",
            "    jbig-2.1                   |    h7f98852_2003          43 KB  conda-forge\n",
            "    jedi-0.18.1                |     pyhd8ed1ab_2         799 KB  conda-forge\n",
            "    jinja2-3.1.2               |     pyhd8ed1ab_1          99 KB  conda-forge\n",
            "    joblib-1.1.0               |     pyhd8ed1ab_0         210 KB  conda-forge\n",
            "    jpeg-9e                    |       h166bdaf_2         269 KB  conda-forge\n",
            "    jpype1-1.4.0               |   py37h7cecad7_0         495 KB  conda-forge\n",
            "    json-c-0.15                |       h98cffda_0         274 KB  conda-forge\n",
            "    jsonschema-4.9.1           |     pyhd8ed1ab_0          62 KB  conda-forge\n",
            "    jupyter-server-proxy-3.2.1 |     pyhd8ed1ab_0          29 KB  conda-forge\n",
            "    jupyter_client-7.3.4       |     pyhd8ed1ab_0          91 KB  conda-forge\n",
            "    jupyter_core-4.11.1        |   py37h89c1867_0          81 KB  conda-forge\n",
            "    jupyter_server-1.18.1      |     pyhd8ed1ab_0         232 KB  conda-forge\n",
            "    jupyterlab_pygments-0.2.2  |     pyhd8ed1ab_0          17 KB  conda-forge\n",
            "    jupyterlab_widgets-3.0.1   |     pyhd8ed1ab_0         220 KB  conda-forge\n",
            "    jxrlib-1.1                 |       h7f98852_2         235 KB  conda-forge\n",
            "    kealib-1.4.15              |       hfe1a663_0         188 KB  conda-forge\n",
            "    keyutils-1.6.1             |       h166bdaf_0         115 KB  conda-forge\n",
            "    kiwisolver-1.4.4           |   py37h7cecad7_0          73 KB  conda-forge\n",
            "    krb5-1.19.3                |       h3790be6_0         1.4 MB  conda-forge\n",
            "    lcms2-2.12                 |       hddcbb42_0         443 KB  conda-forge\n",
            "    lerc-3.0                   |       h9c3ff4c_0         216 KB  conda-forge\n",
            "    libaec-1.0.6               |       h9c3ff4c_0          45 KB  conda-forge\n",
            "    libarchive-3.5.2           |       hccf745f_1         1.6 MB  conda-forge\n",
            "    libblas-3.9.0              |16_linux64_openblas          13 KB  conda-forge\n",
            "    libbrotlicommon-1.0.9      |       h166bdaf_7          65 KB  conda-forge\n",
            "    libbrotlidec-1.0.9         |       h166bdaf_7          33 KB  conda-forge\n",
            "    libbrotlienc-1.0.9         |       h166bdaf_7         287 KB  conda-forge\n",
            "    libcblas-3.9.0             |16_linux64_openblas          13 KB  conda-forge\n",
            "    libcrc32c-1.1.2            |       h9c3ff4c_0          20 KB  conda-forge\n",
            "    libcucim-21.12.00          |cuda11_g6d1f082_0         2.8 MB  rapidsai\n",
            "    libcudf-21.12.02           |cuda11_g06540b9b37_0       288.2 MB  rapidsai\n",
            "    libcudf_kafka-21.12.02     |    g06540b9b37_0         126 KB  rapidsai\n",
            "    libcugraph-21.12.00        |cuda11_g3a43e9d0_0       259.4 MB  rapidsai\n",
            "    libcuml-21.12.00           |cuda11_g04c4927f3_0       222.9 MB  rapidsai\n",
            "    libcumlprims-21.12.00      |cuda11_g0a7f19f_0         3.7 MB  nvidia\n",
            "    libcurl-7.78.0             |       h2574ce0_0         335 KB  conda-forge\n",
            "    libcusolver-11.4.0.1       |                0        78.7 MB  nvidia\n",
            "    libcuspatial-21.12.00      |cuda11_gab6748f_0         6.4 MB  rapidsai\n",
            "    libdap4-3.20.6             |       hd7c4107_2        11.3 MB  conda-forge\n",
            "    libdeflate-1.8             |       h7f98852_0          67 KB  conda-forge\n",
            "    libevent-2.1.10            |       h9b69904_4         1.1 MB  conda-forge\n",
            "    libfaiss-1.7.0             |cuda112h5bea7ad_8_cuda        98.5 MB  conda-forge\n",
            "    libgcc-ng-12.1.0           |      h8d9b700_16         940 KB  conda-forge\n",
            "    libgcrypt-1.10.1           |       h166bdaf_0         703 KB  conda-forge\n",
            "    libgdal-3.3.2              |       h6acdded_3        13.1 MB  conda-forge\n",
            "    libgfortran-ng-12.1.0      |      h69a702a_16          23 KB  conda-forge\n",
            "    libgfortran5-12.1.0        |      hdcd56e2_16         1.8 MB  conda-forge\n",
            "    libglib-2.68.4             |       h3e27bee_0         3.0 MB  conda-forge\n",
            "    libgomp-12.1.0             |      h8d9b700_16         459 KB  conda-forge\n",
            "    libgpg-error-1.45          |       hc0c96e0_0         286 KB  conda-forge\n",
            "    libgsasl-1.10.0            |       h5b4c23d_0         179 KB  conda-forge\n",
            "    libhwloc-2.3.0             |       h5e5b7d1_1         2.7 MB  conda-forge\n",
            "    libkml-1.3.0               |    h238a007_1014         591 KB  conda-forge\n",
            "    liblapack-3.9.0            |16_linux64_openblas          13 KB  conda-forge\n",
            "    libllvm11-11.1.0           |       hf817b99_3        29.1 MB  conda-forge\n",
            "    libnetcdf-4.8.1            |nompi_hb3fd0d9_101         1.5 MB  conda-forge\n",
            "    libnsl-2.0.0               |       h7f98852_0          31 KB  conda-forge\n",
            "    libntlm-1.4                |    h7f98852_1002          32 KB  conda-forge\n",
            "    libopenblas-0.3.21         |pthreads_h78a6416_1        10.1 MB  conda-forge\n",
            "    libpng-1.6.37              |       h753d276_4         371 KB  conda-forge\n",
            "    libpq-13.5                 |       hd57d9b9_1         2.8 MB  conda-forge\n",
            "    libprotobuf-3.16.0         |       h780b84a_0         2.5 MB  conda-forge\n",
            "    librdkafka-1.6.1           |       hc49e61c_1        12.6 MB  conda-forge\n",
            "    librmm-21.12.00            |cuda11_g957ad04_0         688 KB  rapidsai\n",
            "    librttopo-1.1.0            |       h1185371_6         235 KB  conda-forge\n",
            "    libsodium-1.0.18           |       h36c2ea0_1         366 KB  conda-forge\n",
            "    libspatialindex-1.9.3      |       h9c3ff4c_4         4.6 MB  conda-forge\n",
            "    libspatialite-5.0.1        |       h5cf074c_8         4.4 MB  conda-forge\n",
            "    libstdcxx-ng-12.1.0        |      ha89aaad_16         4.3 MB  conda-forge\n",
            "    libthrift-0.14.2           |       he6d91bd_1         4.5 MB  conda-forge\n",
            "    libtiff-4.3.0              |       h6f004c6_2         614 KB  conda-forge\n",
            "    libutf8proc-2.7.0          |       h7f98852_0          98 KB  conda-forge\n",
            "    libuuid-2.32.1             |    h7f98852_1000          28 KB  conda-forge\n",
            "    libuv-1.42.0               |       h7f98852_0         1.0 MB  conda-forge\n",
            "    libwebp-1.2.2              |       h3452ae3_0          85 KB  conda-forge\n",
            "    libwebp-base-1.2.2         |       h7f98852_1         824 KB  conda-forge\n",
            "    libxcb-1.13                |    h7f98852_1004         391 KB  conda-forge\n",
            "    libxgboost-1.5.0dev.rapidsai21.12|       cuda11.2_0       128.2 MB  rapidsai\n",
            "    libxml2-2.9.12             |       h72842e0_0         772 KB  conda-forge\n",
            "    libxslt-1.1.33             |       h15afd5d_2         522 KB  conda-forge\n",
            "    libzip-1.9.2               |       hc869a4a_1          97 KB  conda-forge\n",
            "    libzlib-1.2.12             |       h166bdaf_2          63 KB  conda-forge\n",
            "    libzopfli-1.0.3            |       h9c3ff4c_0         164 KB  conda-forge\n",
            "    llvmlite-0.38.1            |   py37h0761922_0         2.3 MB  conda-forge\n",
            "    locket-1.0.0               |     pyhd8ed1ab_0           8 KB  conda-forge\n",
            "    lxml-4.8.0                 |   py37h540881e_2         1.4 MB  conda-forge\n",
            "    mapclassify-2.4.3          |     pyhd8ed1ab_0          36 KB  conda-forge\n",
            "    markdown-3.4.1             |     pyhd8ed1ab_0          65 KB  conda-forge\n",
            "    markupsafe-2.1.1           |   py37h540881e_1          22 KB  conda-forge\n",
            "    matplotlib-base-3.4.3      |   py37h1058ff1_0         7.2 MB  conda-forge\n",
            "    matplotlib-inline-0.1.6    |     pyhd8ed1ab_0          12 KB  conda-forge\n",
            "    mistune-0.8.4              |py37h5e8e339_1005          54 KB  conda-forge\n",
            "    msgpack-python-1.0.4       |   py37h7cecad7_0          90 KB  conda-forge\n",
            "    multidict-6.0.2            |   py37h540881e_1          49 KB  conda-forge\n",
            "    multipledispatch-0.6.0     |             py_0          12 KB  conda-forge\n",
            "    munch-2.5.0                |             py_0          12 KB  conda-forge\n",
            "    nbclient-0.6.6             |     pyhd8ed1ab_0          65 KB  conda-forge\n",
            "    nbconvert-core-6.5.3       |     pyhd8ed1ab_0         448 KB  conda-forge\n",
            "    nbformat-5.4.0             |     pyhd8ed1ab_0         104 KB  conda-forge\n",
            "    nccl-2.13.4.1              |       h0800d71_0       133.8 MB  conda-forge\n",
            "    nest-asyncio-1.5.5         |     pyhd8ed1ab_0           9 KB  conda-forge\n",
            "    networkx-2.7.1             |     pyhd8ed1ab_0         1.5 MB  conda-forge\n",
            "    nodejs-14.17.4             |       h92b4a50_0        15.8 MB  conda-forge\n",
            "    numba-0.55.2               |   py37h43839f2_0         3.8 MB  conda-forge\n",
            "    numpy-1.21.6               |   py37h976b520_0         6.1 MB  conda-forge\n",
            "    nvtx-0.2.3                 |   py37h5e8e339_1          55 KB  conda-forge\n",
            "    oauthlib-3.2.0             |     pyhd8ed1ab_0          90 KB  conda-forge\n",
            "    olefile-0.46               |     pyh9f0ad1d_1          32 KB  conda-forge\n",
            "    openjdk-11.0.9.1           |       h5cc2fde_1       173.5 MB  conda-forge\n",
            "    openjpeg-2.4.0             |       hb52868f_1         444 KB  conda-forge\n",
            "    openssl-1.1.1q             |       h166bdaf_0         2.1 MB  conda-forge\n",
            "    orc-1.6.9                  |       h58a87f1_0         746 KB  conda-forge\n",
            "    packaging-21.3             |     pyhd8ed1ab_0          36 KB  conda-forge\n",
            "    pandas-1.3.5               |   py37he8f5f7f_0        12.7 MB  conda-forge\n",
            "    pandocfilters-1.5.0        |     pyhd8ed1ab_0          11 KB  conda-forge\n",
            "    panel-0.12.4               |     pyhd8ed1ab_0         9.8 MB  conda-forge\n",
            "    param-1.12.2               |     pyh6c4a22f_0          72 KB  conda-forge\n",
            "    parquet-cpp-1.5.1          |                2           3 KB  conda-forge\n",
            "    parso-0.8.3                |     pyhd8ed1ab_0          69 KB  conda-forge\n",
            "    partd-1.3.0                |     pyhd8ed1ab_0          18 KB  conda-forge\n",
            "    pcre-8.45                  |       h9c3ff4c_0         253 KB  conda-forge\n",
            "    pexpect-4.8.0              |     pyh9f0ad1d_2          47 KB  conda-forge\n",
            "    pickle5-0.0.12             |   py37h5e8e339_0         173 KB  conda-forge\n",
            "    pickleshare-0.7.5          |          py_1003           9 KB  conda-forge\n",
            "    pillow-8.3.1               |   py37h0f21c89_0         692 KB  conda-forge\n",
            "    pixman-0.40.0              |       h36c2ea0_0         627 KB  conda-forge\n",
            "    pkgutil-resolve-name-1.3.10|     pyhd8ed1ab_0           9 KB  conda-forge\n",
            "    pooch-1.6.0                |     pyhd8ed1ab_0          44 KB  conda-forge\n",
            "    poppler-21.09.0            |       h0e1ea10_1        16.8 MB  conda-forge\n",
            "    poppler-data-0.4.11        |       hd8ed1ab_0         3.6 MB  conda-forge\n",
            "    postgresql-13.5            |       h2510834_1         5.3 MB  conda-forge\n",
            "    proj-8.1.0                 |       h277dcde_1         2.9 MB  conda-forge\n",
            "    prometheus_client-0.14.1   |     pyhd8ed1ab_0          49 KB  conda-forge\n",
            "    prompt-toolkit-3.0.30      |     pyha770c72_0         254 KB  conda-forge\n",
            "    protobuf-3.16.0            |   py37hcd2ae1e_0         342 KB  conda-forge\n",
            "    psutil-5.9.1               |   py37h540881e_0         344 KB  conda-forge\n",
            "    pthread-stubs-0.4          |    h36c2ea0_1001           5 KB  conda-forge\n",
            "    ptxcompiler-0.2.0          |   py37hcfeb250_0         5.6 MB  rapidsai\n",
            "    ptyprocess-0.7.0           |     pyhd3deb0d_0          16 KB  conda-forge\n",
            "    py-xgboost-1.5.0dev.rapidsai21.12|   cuda11.2py37_0         159 KB  rapidsai\n",
            "    pyarrow-5.0.0              |py37hf0016df_2_cuda         2.9 MB  conda-forge\n",
            "    pyasn1-0.4.8               |             py_0          53 KB  conda-forge\n",
            "    pyasn1-modules-0.2.7       |             py_0          60 KB  conda-forge\n",
            "    pyct-0.4.6                 |             py_0           3 KB  conda-forge\n",
            "    pyct-core-0.4.6            |             py_0          13 KB  conda-forge\n",
            "    pydantic-1.9.2             |   py37h540881e_0         2.2 MB  conda-forge\n",
            "    pydeck-0.5.0               |     pyh9f0ad1d_0         3.6 MB  conda-forge\n",
            "    pyee-8.1.0                 |     pyhd8ed1ab_0          14 KB  conda-forge\n",
            "    pygments-2.13.0            |     pyhd8ed1ab_0         821 KB  conda-forge\n",
            "    pyjwt-2.4.0                |     pyhd8ed1ab_0          19 KB  conda-forge\n",
            "    pynvml-11.4.1              |     pyhd8ed1ab_0          40 KB  conda-forge\n",
            "    pyparsing-3.0.9            |     pyhd8ed1ab_0          79 KB  conda-forge\n",
            "    pyppeteer-1.0.2            |     pyhd8ed1ab_0          63 KB  conda-forge\n",
            "    pyproj-3.1.0               |   py37hdf91f24_4         523 KB  conda-forge\n",
            "    pyrsistent-0.18.1          |   py37h540881e_1          91 KB  conda-forge\n",
            "    python-confluent-kafka-1.6.0|   py37h5e8e339_1         125 KB  conda-forge\n",
            "    python-dateutil-2.8.2      |     pyhd8ed1ab_0         240 KB  conda-forge\n",
            "    python-fastjsonschema-2.16.1|     pyhd8ed1ab_0         243 KB  conda-forge\n",
            "    python-tzdata-2022.2       |     pyhd8ed1ab_0         147 KB  conda-forge\n",
            "    python_abi-3.7             |          2_cp37m           4 KB  conda-forge\n",
            "    pytz-2022.2.1              |     pyhd8ed1ab_0         224 KB  conda-forge\n",
            "    pytz-deprecation-shim-0.1.0.post0|   py37h89c1867_2          22 KB  conda-forge\n",
            "    pyu2f-0.1.5                |     pyhd8ed1ab_0          31 KB  conda-forge\n",
            "    pyviz_comms-2.2.0          |     pyhd8ed1ab_0          31 KB  conda-forge\n",
            "    pywavelets-1.3.0           |   py37hda87dfa_1         4.4 MB  conda-forge\n",
            "    pyyaml-6.0                 |   py37h540881e_4         178 KB  conda-forge\n",
            "    pyzmq-23.2.1               |   py37h0c0c2a8_0         483 KB  conda-forge\n",
            "    rapids-21.12.00            |cuda11.2_py37_gc46440c_94           5 KB  rapidsai\n",
            "    rapids-xgboost-21.12.00    |cuda11.2_py37_gc46440c_94           5 KB  rapidsai\n",
            "    re2-2021.08.01             |       h9c3ff4c_0         220 KB  conda-forge\n",
            "    readline-8.1               |       h46c0cb4_0         295 KB  conda-forge\n",
            "    requests-oauthlib-1.3.1    |     pyhd8ed1ab_0          22 KB  conda-forge\n",
            "    rmm-21.12.00               |cuda11_py37_g957ad04_0_has_cma         943 KB  rapidsai\n",
            "    rsa-4.9                    |     pyhd8ed1ab_0          29 KB  conda-forge\n",
            "    rtree-1.0.0                |   py37h0b55af0_1          49 KB  conda-forge\n",
            "    s2n-1.0.10                 |       h9b69904_0         442 KB  conda-forge\n",
            "    scikit-image-0.18.1        |   py37hdc94413_0        11.5 MB  conda-forge\n",
            "    scikit-learn-1.0.2         |   py37hf9e9bfc_0         7.8 MB  conda-forge\n",
            "    scipy-1.7.3                |   py37hf2a6cf1_0        21.8 MB  conda-forge\n",
            "    send2trash-1.8.0           |     pyhd8ed1ab_0          17 KB  conda-forge\n",
            "    setuptools-59.8.0          |   py37h89c1867_1         1.0 MB  conda-forge\n",
            "    shapely-1.8.0              |   py37h48c49eb_0         367 KB  conda-forge\n",
            "    simpervisor-0.4            |     pyhd8ed1ab_0           9 KB  conda-forge\n",
            "    snappy-1.1.9               |       hbd366e4_1          35 KB  conda-forge\n",
            "    sniffio-1.2.0              |   py37h89c1867_3          15 KB  conda-forge\n",
            "    sortedcontainers-2.4.0     |     pyhd8ed1ab_0          26 KB  conda-forge\n",
            "    soupsieve-2.3.2.post1      |     pyhd8ed1ab_0          34 KB  conda-forge\n",
            "    spdlog-1.8.5               |       h4bd325d_1         352 KB  conda-forge\n",
            "    sqlite-3.37.0              |       h9cd32fc_0         1.5 MB  conda-forge\n",
            "    starlette-0.19.1           |     pyhd8ed1ab_0          47 KB  conda-forge\n",
            "    streamz-0.6.4              |     pyh6c4a22f_0          63 KB  conda-forge\n",
            "    tabulate-0.8.10            |     pyhd8ed1ab_0          29 KB  conda-forge\n",
            "    tblib-1.7.0                |     pyhd8ed1ab_0          15 KB  conda-forge\n",
            "    terminado-0.15.0           |   py37h89c1867_0          28 KB  conda-forge\n",
            "    threadpoolctl-3.1.0        |     pyh8a188c0_0          18 KB  conda-forge\n",
            "    tifffile-2021.11.2         |     pyhd8ed1ab_0         139 KB  conda-forge\n",
            "    tiledb-2.3.4               |       he87e0bf_0         4.1 MB  conda-forge\n",
            "    tinycss2-1.1.1             |     pyhd8ed1ab_0          23 KB  conda-forge\n",
            "    toolz-0.12.0               |     pyhd8ed1ab_0          48 KB  conda-forge\n",
            "    tornado-6.1                |   py37h540881e_3         646 KB  conda-forge\n",
            "    traitlets-5.3.0            |     pyhd8ed1ab_0          85 KB  conda-forge\n",
            "    treelite-2.1.0             |   py37h4b3d254_0         1.4 MB  conda-forge\n",
            "    typing-extensions-4.3.0    |       hd8ed1ab_0           8 KB  conda-forge\n",
            "    typing_extensions-4.3.0    |     pyha770c72_0          28 KB  conda-forge\n",
            "    tzcode-2022c               |       h166bdaf_0          71 KB  conda-forge\n",
            "    tzdata-2022c               |       h191b570_0         119 KB  conda-forge\n",
            "    tzlocal-4.2                |   py37h89c1867_1          31 KB  conda-forge\n",
            "    ucx-1.11.2+gef2bbcf        |       cuda11.2_0        11.9 MB  rapidsai\n",
            "    ucx-proc-1.0.0             |              gpu           9 KB  rapidsai\n",
            "    ucx-py-0.23.0              |  py37_gef2bbcf_0         353 KB  rapidsai\n",
            "    uvicorn-0.18.2             |   py37h89c1867_2          82 KB  conda-forge\n",
            "    wcwidth-0.2.5              |     pyh9f0ad1d_2          33 KB  conda-forge\n",
            "    webencodings-0.5.1         |             py_1          12 KB  conda-forge\n",
            "    websocket-client-1.3.3     |     pyhd8ed1ab_0          41 KB  conda-forge\n",
            "    websockets-10.3            |   py37h540881e_0         122 KB  conda-forge\n",
            "    widgetsnbextension-4.0.1   |     pyhd8ed1ab_0         1.6 MB  conda-forge\n",
            "    xarray-0.20.2              |     pyhd8ed1ab_0         628 KB  conda-forge\n",
            "    xerces-c-3.2.3             |       h9d8b166_3         1.8 MB  conda-forge\n",
            "    xgboost-1.5.0dev.rapidsai21.12|   cuda11.2py37_0          17 KB  rapidsai\n",
            "    xorg-fixesproto-5.0        |    h7f98852_1002           9 KB  conda-forge\n",
            "    xorg-inputproto-2.3.2      |    h7f98852_1002          19 KB  conda-forge\n",
            "    xorg-kbproto-1.0.7         |    h7f98852_1002          27 KB  conda-forge\n",
            "    xorg-libice-1.0.10         |       h7f98852_0          58 KB  conda-forge\n",
            "    xorg-libsm-1.2.3           |    hd9c2040_1000          26 KB  conda-forge\n",
            "    xorg-libx11-1.7.2          |       h7f98852_0         941 KB  conda-forge\n",
            "    xorg-libxau-1.0.9          |       h7f98852_0          13 KB  conda-forge\n",
            "    xorg-libxdmcp-1.1.3        |       h7f98852_0          19 KB  conda-forge\n",
            "    xorg-libxext-1.3.4         |       h7f98852_1          54 KB  conda-forge\n",
            "    xorg-libxfixes-5.0.3       |    h7f98852_1004          18 KB  conda-forge\n",
            "    xorg-libxi-1.7.10          |       h7f98852_0          46 KB  conda-forge\n",
            "    xorg-libxrender-0.9.10     |    h7f98852_1003          32 KB  conda-forge\n",
            "    xorg-libxtst-1.2.3         |    h7f98852_1002          31 KB  conda-forge\n",
            "    xorg-recordproto-1.14.2    |    h7f98852_1002           8 KB  conda-forge\n",
            "    xorg-renderproto-0.11.1    |    h7f98852_1002           9 KB  conda-forge\n",
            "    xorg-xextproto-7.3.0       |    h7f98852_1002          28 KB  conda-forge\n",
            "    xorg-xproto-7.0.31         |    h7f98852_1007          73 KB  conda-forge\n",
            "    yarl-1.7.2                 |   py37h540881e_2         132 KB  conda-forge\n",
            "    zeromq-4.3.4               |       h9c3ff4c_1         351 KB  conda-forge\n",
            "    zfp-0.5.5                  |       h9c3ff4c_8         190 KB  conda-forge\n",
            "    zict-2.2.0                 |     pyhd8ed1ab_0          20 KB  conda-forge\n",
            "    zipp-3.8.1                 |     pyhd8ed1ab_0          13 KB  conda-forge\n",
            "    zlib-1.2.12                |       h166bdaf_2          91 KB  conda-forge\n",
            "    zlib-ng-2.0.6              |       h166bdaf_0          96 KB  conda-forge\n",
            "    zstd-1.5.2                 |       h6239696_4         448 KB  conda-forge\n",
            "    ------------------------------------------------------------\n",
            "                                           Total:        2.83 GB\n",
            "\n",
            "The following NEW packages will be INSTALLED:\n",
            "\n",
            "  abseil-cpp         conda-forge/linux-64::abseil-cpp-20210324.2-h9c3ff4c_0\n",
            "  aiohttp            conda-forge/linux-64::aiohttp-3.8.1-py37h540881e_1\n",
            "  aiosignal          conda-forge/noarch::aiosignal-1.2.0-pyhd8ed1ab_0\n",
            "  alsa-lib           conda-forge/linux-64::alsa-lib-1.2.3.2-h166bdaf_0\n",
            "  anyio              conda-forge/noarch::anyio-3.6.1-pyhd8ed1ab_1\n",
            "  appdirs            conda-forge/noarch::appdirs-1.4.4-pyh9f0ad1d_0\n",
            "  argon2-cffi        conda-forge/noarch::argon2-cffi-21.3.0-pyhd8ed1ab_0\n",
            "  argon2-cffi-bindi~ conda-forge/linux-64::argon2-cffi-bindings-21.2.0-py37h540881e_2\n",
            "  arrow-cpp          conda-forge/linux-64::arrow-cpp-5.0.0-py37hc2523e2_2_cuda\n",
            "  arrow-cpp-proc     conda-forge/linux-64::arrow-cpp-proc-3.0.0-cuda\n",
            "  async-timeout      conda-forge/noarch::async-timeout-4.0.2-pyhd8ed1ab_0\n",
            "  asynctest          conda-forge/noarch::asynctest-0.13.0-py_0\n",
            "  attrs              conda-forge/noarch::attrs-22.1.0-pyh71513ae_1\n",
            "  aws-c-cal          conda-forge/linux-64::aws-c-cal-0.5.11-h95a6274_0\n",
            "  aws-c-common       conda-forge/linux-64::aws-c-common-0.6.2-h7f98852_0\n",
            "  aws-c-event-stream conda-forge/linux-64::aws-c-event-stream-0.2.7-h3541f99_13\n",
            "  aws-c-io           conda-forge/linux-64::aws-c-io-0.10.5-hfb6a706_0\n",
            "  aws-checksums      conda-forge/linux-64::aws-checksums-0.1.11-ha31a3da_7\n",
            "  aws-sdk-cpp        conda-forge/linux-64::aws-sdk-cpp-1.8.186-hb4091e7_3\n",
            "  backcall           conda-forge/noarch::backcall-0.2.0-pyh9f0ad1d_0\n",
            "  backports          conda-forge/noarch::backports-1.0-py_2\n",
            "  backports.functoo~ conda-forge/noarch::backports.functools_lru_cache-1.6.4-pyhd8ed1ab_0\n",
            "  backports.zoneinfo conda-forge/linux-64::backports.zoneinfo-0.2.1-py37h540881e_5\n",
            "  beautifulsoup4     conda-forge/noarch::beautifulsoup4-4.11.1-pyha770c72_0\n",
            "  bleach             conda-forge/noarch::bleach-5.0.1-pyhd8ed1ab_0\n",
            "  blinker            conda-forge/noarch::blinker-1.4-py_1\n",
            "  blosc              conda-forge/linux-64::blosc-1.21.1-h83bc5f7_3\n",
            "  bokeh              conda-forge/linux-64::bokeh-2.4.0-py37h89c1867_0\n",
            "  boost              conda-forge/linux-64::boost-1.74.0-py37h796e4cb_5\n",
            "  boost-cpp          conda-forge/linux-64::boost-cpp-1.74.0-h312852a_4\n",
            "  brotli             conda-forge/linux-64::brotli-1.0.9-h166bdaf_7\n",
            "  brotli-bin         conda-forge/linux-64::brotli-bin-1.0.9-h166bdaf_7\n",
            "  brunsli            conda-forge/linux-64::brunsli-0.1-h9c3ff4c_0\n",
            "  c-blosc2           conda-forge/linux-64::c-blosc2-2.2.0-h7a311fb_0\n",
            "  cachetools         conda-forge/noarch::cachetools-5.2.0-pyhd8ed1ab_0\n",
            "  cairo              conda-forge/linux-64::cairo-1.16.0-h6cf1ce9_1008\n",
            "  cfitsio            conda-forge/linux-64::cfitsio-3.470-hb418390_7\n",
            "  charls             conda-forge/linux-64::charls-2.2.0-h9c3ff4c_0\n",
            "  charset-normalizer conda-forge/noarch::charset-normalizer-2.1.0-pyhd8ed1ab_0\n",
            "  click              conda-forge/linux-64::click-8.0.4-py37h89c1867_0\n",
            "  click-plugins      conda-forge/noarch::click-plugins-1.1.1-py_0\n",
            "  cligj              conda-forge/noarch::cligj-0.7.2-pyhd8ed1ab_1\n",
            "  cloudpickle        conda-forge/noarch::cloudpickle-2.1.0-pyhd8ed1ab_0\n",
            "  colorcet           conda-forge/noarch::colorcet-3.0.0-pyhd8ed1ab_0\n",
            "  cucim              rapidsai/linux-64::cucim-21.12.00-cuda_11_py37_g6d1f082_0\n",
            "  cudatoolkit        nvidia/linux-64::cudatoolkit-11.2.72-h2bc3f7f_0\n",
            "  cudf               rapidsai/linux-64::cudf-21.12.02-cuda_11_py37_g06540b9b37_0\n",
            "  cudf_kafka         rapidsai/linux-64::cudf_kafka-21.12.02-py37_g06540b9b37_0\n",
            "  cugraph            rapidsai/linux-64::cugraph-21.12.00-cuda11_py37_g3a43e9d0_0\n",
            "  cuml               rapidsai/linux-64::cuml-21.12.00-cuda11_py37_g04c4927f3_0\n",
            "  cupy               conda-forge/linux-64::cupy-9.6.0-py37h07c33ac_0\n",
            "  curl               conda-forge/linux-64::curl-7.78.0-hea6ffbf_0\n",
            "  cusignal           rapidsai/noarch::cusignal-21.12.00-py37_g2bf865c_0\n",
            "  cuspatial          rapidsai/linux-64::cuspatial-21.12.00-py37_gab6748f_0\n",
            "  custreamz          rapidsai/linux-64::custreamz-21.12.02-py37_g06540b9b37_0\n",
            "  cuxfilter          rapidsai/linux-64::cuxfilter-21.12.00-py37_g2e0fb5a_0\n",
            "  cycler             conda-forge/noarch::cycler-0.11.0-pyhd8ed1ab_0\n",
            "  cyrus-sasl         conda-forge/linux-64::cyrus-sasl-2.1.27-h230043b_5\n",
            "  cytoolz            conda-forge/linux-64::cytoolz-0.12.0-py37h540881e_0\n",
            "  dask               conda-forge/noarch::dask-2021.11.2-pyhd8ed1ab_0\n",
            "  dask-core          conda-forge/noarch::dask-core-2021.11.2-pyhd8ed1ab_0\n",
            "  dask-cuda          rapidsai/linux-64::dask-cuda-21.12.00-py37_0\n",
            "  dask-cudf          rapidsai/linux-64::dask-cudf-21.12.02-cuda_11_py37_g06540b9b37_0\n",
            "  dask-sql           conda-forge/linux-64::dask-sql-2022.1.0-py37h89c1867_0\n",
            "  datashader         conda-forge/noarch::datashader-0.11.1-pyh9f0ad1d_0\n",
            "  datashape          conda-forge/noarch::datashape-0.5.4-py_1\n",
            "  debugpy            conda-forge/linux-64::debugpy-1.6.3-py37hd23a5d3_0\n",
            "  decorator          conda-forge/noarch::decorator-5.1.1-pyhd8ed1ab_0\n",
            "  defusedxml         conda-forge/noarch::defusedxml-0.7.1-pyhd8ed1ab_0\n",
            "  distributed        conda-forge/linux-64::distributed-2021.11.2-py37h89c1867_0\n",
            "  dlpack             conda-forge/linux-64::dlpack-0.5-h9c3ff4c_0\n",
            "  entrypoints        conda-forge/noarch::entrypoints-0.4-pyhd8ed1ab_0\n",
            "  expat              conda-forge/linux-64::expat-2.4.8-h27087fc_0\n",
            "  faiss-proc         rapidsai/linux-64::faiss-proc-1.0.0-cuda\n",
            "  fastapi            conda-forge/noarch::fastapi-0.79.0-pyhd8ed1ab_0\n",
            "  fastavro           conda-forge/linux-64::fastavro-1.6.0-py37h540881e_0\n",
            "  fastrlock          conda-forge/linux-64::fastrlock-0.8-py37hd23a5d3_2\n",
            "  fiona              conda-forge/linux-64::fiona-1.8.20-py37hb7e2723_2\n",
            "  flit-core          conda-forge/noarch::flit-core-3.7.1-pyhd8ed1ab_0\n",
            "  font-ttf-dejavu-s~ conda-forge/noarch::font-ttf-dejavu-sans-mono-2.37-hab24e00_0\n",
            "  font-ttf-inconsol~ conda-forge/noarch::font-ttf-inconsolata-3.000-h77eed37_0\n",
            "  font-ttf-source-c~ conda-forge/noarch::font-ttf-source-code-pro-2.038-h77eed37_0\n",
            "  font-ttf-ubuntu    conda-forge/noarch::font-ttf-ubuntu-0.83-hab24e00_0\n",
            "  fontconfig         conda-forge/linux-64::fontconfig-2.14.0-h8e229c2_0\n",
            "  fonts-conda-ecosy~ conda-forge/noarch::fonts-conda-ecosystem-1-0\n",
            "  fonts-conda-forge  conda-forge/noarch::fonts-conda-forge-1-0\n",
            "  freetype           conda-forge/linux-64::freetype-2.12.1-hca18f0e_0\n",
            "  freexl             conda-forge/linux-64::freexl-1.0.6-h7f98852_0\n",
            "  frozenlist         conda-forge/linux-64::frozenlist-1.3.1-py37h540881e_0\n",
            "  fsspec             conda-forge/noarch::fsspec-2022.7.1-pyhd8ed1ab_0\n",
            "  gcsfs              conda-forge/noarch::gcsfs-2022.7.1-pyhd8ed1ab_0\n",
            "  gdal               conda-forge/linux-64::gdal-3.3.2-py37hd5a0ba4_3\n",
            "  geopandas          conda-forge/noarch::geopandas-0.9.0-pyhd8ed1ab_1\n",
            "  geopandas-base     conda-forge/noarch::geopandas-base-0.9.0-pyhd8ed1ab_1\n",
            "  geos               conda-forge/linux-64::geos-3.9.1-h9c3ff4c_2\n",
            "  geotiff            conda-forge/linux-64::geotiff-1.7.0-h08e826d_2\n",
            "  gettext            conda-forge/linux-64::gettext-0.19.8.1-h0b5b191_1005\n",
            "  gflags             conda-forge/linux-64::gflags-2.2.2-he1b5a44_1004\n",
            "  giflib             conda-forge/linux-64::giflib-5.2.1-h36c2ea0_2\n",
            "  glog               conda-forge/linux-64::glog-0.5.0-h48cff8f_0\n",
            "  google-api-core    conda-forge/noarch::google-api-core-2.8.2-pyhd8ed1ab_0\n",
            "  google-auth        conda-forge/noarch::google-auth-2.10.0-pyh6c4a22f_0\n",
            "  google-auth-oauth~ conda-forge/noarch::google-auth-oauthlib-0.5.2-pyhd8ed1ab_0\n",
            "  google-cloud-core  conda-forge/noarch::google-cloud-core-2.3.2-pyhd8ed1ab_0\n",
            "  google-cloud-stor~ conda-forge/noarch::google-cloud-storage-2.4.0-pyh6c4a22f_0\n",
            "  google-crc32c      conda-forge/linux-64::google-crc32c-1.1.2-py37h5d4fa31_3\n",
            "  google-resumable-~ conda-forge/noarch::google-resumable-media-2.3.3-pyhd8ed1ab_0\n",
            "  googleapis-common~ conda-forge/linux-64::googleapis-common-protos-1.56.4-py37h89c1867_0\n",
            "  graphite2          conda-forge/linux-64::graphite2-1.3.13-h58526e2_1001\n",
            "  grpc-cpp           conda-forge/linux-64::grpc-cpp-1.39.0-hf1f433d_2\n",
            "  grpcio             conda-forge/linux-64::grpcio-1.38.1-py37hb27c1af_0\n",
            "  h11                conda-forge/noarch::h11-0.13.0-pyhd8ed1ab_1\n",
            "  harfbuzz           conda-forge/linux-64::harfbuzz-2.9.1-h83ec7ef_1\n",
            "  hdf4               conda-forge/linux-64::hdf4-4.2.15-h9772cbc_4\n",
            "  hdf5               conda-forge/linux-64::hdf5-1.12.1-nompi_h2750804_100\n",
            "  heapdict           conda-forge/noarch::heapdict-1.0.1-py_0\n",
            "  imagecodecs        conda-forge/linux-64::imagecodecs-2021.8.26-py37hfe5a812_1\n",
            "  imageio            conda-forge/noarch::imageio-2.13.1-pyhd8ed1ab_0\n",
            "  importlib-metadata conda-forge/linux-64::importlib-metadata-4.11.4-py37h89c1867_0\n",
            "  importlib_metadata conda-forge/noarch::importlib_metadata-4.11.4-hd8ed1ab_0\n",
            "  importlib_resourc~ conda-forge/noarch::importlib_resources-5.9.0-pyhd8ed1ab_0\n",
            "  ipykernel          conda-forge/linux-64::ipykernel-6.14.0-py37h25bab4e_0\n",
            "  ipython            conda-forge/linux-64::ipython-7.33.0-py37h89c1867_0\n",
            "  ipython_genutils   conda-forge/noarch::ipython_genutils-0.2.0-py_1\n",
            "  ipywidgets         conda-forge/noarch::ipywidgets-8.0.1-pyhd8ed1ab_0\n",
            "  jbig               conda-forge/linux-64::jbig-2.1-h7f98852_2003\n",
            "  jedi               conda-forge/noarch::jedi-0.18.1-pyhd8ed1ab_2\n",
            "  jinja2             conda-forge/noarch::jinja2-3.1.2-pyhd8ed1ab_1\n",
            "  joblib             conda-forge/noarch::joblib-1.1.0-pyhd8ed1ab_0\n",
            "  jpeg               conda-forge/linux-64::jpeg-9e-h166bdaf_2\n",
            "  jpype1             conda-forge/linux-64::jpype1-1.4.0-py37h7cecad7_0\n",
            "  json-c             conda-forge/linux-64::json-c-0.15-h98cffda_0\n",
            "  jsonschema         conda-forge/noarch::jsonschema-4.9.1-pyhd8ed1ab_0\n",
            "  jupyter-server-pr~ conda-forge/noarch::jupyter-server-proxy-3.2.1-pyhd8ed1ab_0\n",
            "  jupyter_client     conda-forge/noarch::jupyter_client-7.3.4-pyhd8ed1ab_0\n",
            "  jupyter_core       conda-forge/linux-64::jupyter_core-4.11.1-py37h89c1867_0\n",
            "  jupyter_server     conda-forge/noarch::jupyter_server-1.18.1-pyhd8ed1ab_0\n",
            "  jupyterlab_pygmen~ conda-forge/noarch::jupyterlab_pygments-0.2.2-pyhd8ed1ab_0\n",
            "  jupyterlab_widgets conda-forge/noarch::jupyterlab_widgets-3.0.1-pyhd8ed1ab_0\n",
            "  jxrlib             conda-forge/linux-64::jxrlib-1.1-h7f98852_2\n",
            "  kealib             conda-forge/linux-64::kealib-1.4.15-hfe1a663_0\n",
            "  keyutils           conda-forge/linux-64::keyutils-1.6.1-h166bdaf_0\n",
            "  kiwisolver         conda-forge/linux-64::kiwisolver-1.4.4-py37h7cecad7_0\n",
            "  lcms2              conda-forge/linux-64::lcms2-2.12-hddcbb42_0\n",
            "  lerc               conda-forge/linux-64::lerc-3.0-h9c3ff4c_0\n",
            "  libaec             conda-forge/linux-64::libaec-1.0.6-h9c3ff4c_0\n",
            "  libblas            conda-forge/linux-64::libblas-3.9.0-16_linux64_openblas\n",
            "  libbrotlicommon    conda-forge/linux-64::libbrotlicommon-1.0.9-h166bdaf_7\n",
            "  libbrotlidec       conda-forge/linux-64::libbrotlidec-1.0.9-h166bdaf_7\n",
            "  libbrotlienc       conda-forge/linux-64::libbrotlienc-1.0.9-h166bdaf_7\n",
            "  libcblas           conda-forge/linux-64::libcblas-3.9.0-16_linux64_openblas\n",
            "  libcrc32c          conda-forge/linux-64::libcrc32c-1.1.2-h9c3ff4c_0\n",
            "  libcucim           rapidsai/linux-64::libcucim-21.12.00-cuda11_g6d1f082_0\n",
            "  libcudf            rapidsai/linux-64::libcudf-21.12.02-cuda11_g06540b9b37_0\n",
            "  libcudf_kafka      rapidsai/linux-64::libcudf_kafka-21.12.02-g06540b9b37_0\n",
            "  libcugraph         rapidsai/linux-64::libcugraph-21.12.00-cuda11_g3a43e9d0_0\n",
            "  libcuml            rapidsai/linux-64::libcuml-21.12.00-cuda11_g04c4927f3_0\n",
            "  libcumlprims       nvidia/linux-64::libcumlprims-21.12.00-cuda11_g0a7f19f_0\n",
            "  libcusolver        nvidia/linux-64::libcusolver-11.4.0.1-0\n",
            "  libcuspatial       rapidsai/linux-64::libcuspatial-21.12.00-cuda11_gab6748f_0\n",
            "  libdap4            conda-forge/linux-64::libdap4-3.20.6-hd7c4107_2\n",
            "  libdeflate         conda-forge/linux-64::libdeflate-1.8-h7f98852_0\n",
            "  libevent           conda-forge/linux-64::libevent-2.1.10-h9b69904_4\n",
            "  libfaiss           conda-forge/linux-64::libfaiss-1.7.0-cuda112h5bea7ad_8_cuda\n",
            "  libgcrypt          conda-forge/linux-64::libgcrypt-1.10.1-h166bdaf_0\n",
            "  libgdal            conda-forge/linux-64::libgdal-3.3.2-h6acdded_3\n",
            "  libgfortran-ng     conda-forge/linux-64::libgfortran-ng-12.1.0-h69a702a_16\n",
            "  libgfortran5       conda-forge/linux-64::libgfortran5-12.1.0-hdcd56e2_16\n",
            "  libglib            conda-forge/linux-64::libglib-2.68.4-h3e27bee_0\n",
            "  libgpg-error       conda-forge/linux-64::libgpg-error-1.45-hc0c96e0_0\n",
            "  libgsasl           conda-forge/linux-64::libgsasl-1.10.0-h5b4c23d_0\n",
            "  libhwloc           conda-forge/linux-64::libhwloc-2.3.0-h5e5b7d1_1\n",
            "  libkml             conda-forge/linux-64::libkml-1.3.0-h238a007_1014\n",
            "  liblapack          conda-forge/linux-64::liblapack-3.9.0-16_linux64_openblas\n",
            "  libllvm11          conda-forge/linux-64::libllvm11-11.1.0-hf817b99_3\n",
            "  libnetcdf          conda-forge/linux-64::libnetcdf-4.8.1-nompi_hb3fd0d9_101\n",
            "  libnsl             conda-forge/linux-64::libnsl-2.0.0-h7f98852_0\n",
            "  libntlm            conda-forge/linux-64::libntlm-1.4-h7f98852_1002\n",
            "  libopenblas        conda-forge/linux-64::libopenblas-0.3.21-pthreads_h78a6416_1\n",
            "  libpng             conda-forge/linux-64::libpng-1.6.37-h753d276_4\n",
            "  libpq              conda-forge/linux-64::libpq-13.5-hd57d9b9_1\n",
            "  libprotobuf        conda-forge/linux-64::libprotobuf-3.16.0-h780b84a_0\n",
            "  librdkafka         conda-forge/linux-64::librdkafka-1.6.1-hc49e61c_1\n",
            "  librmm             rapidsai/linux-64::librmm-21.12.00-cuda11_g957ad04_0\n",
            "  librttopo          conda-forge/linux-64::librttopo-1.1.0-h1185371_6\n",
            "  libsodium          conda-forge/linux-64::libsodium-1.0.18-h36c2ea0_1\n",
            "  libspatialindex    conda-forge/linux-64::libspatialindex-1.9.3-h9c3ff4c_4\n",
            "  libspatialite      conda-forge/linux-64::libspatialite-5.0.1-h5cf074c_8\n",
            "  libthrift          conda-forge/linux-64::libthrift-0.14.2-he6d91bd_1\n",
            "  libtiff            conda-forge/linux-64::libtiff-4.3.0-h6f004c6_2\n",
            "  libutf8proc        conda-forge/linux-64::libutf8proc-2.7.0-h7f98852_0\n",
            "  libuuid            conda-forge/linux-64::libuuid-2.32.1-h7f98852_1000\n",
            "  libuv              conda-forge/linux-64::libuv-1.42.0-h7f98852_0\n",
            "  libwebp            conda-forge/linux-64::libwebp-1.2.2-h3452ae3_0\n",
            "  libwebp-base       conda-forge/linux-64::libwebp-base-1.2.2-h7f98852_1\n",
            "  libxcb             conda-forge/linux-64::libxcb-1.13-h7f98852_1004\n",
            "  libxgboost         rapidsai/linux-64::libxgboost-1.5.0dev.rapidsai21.12-cuda11.2_0\n",
            "  libxslt            conda-forge/linux-64::libxslt-1.1.33-h15afd5d_2\n",
            "  libzip             conda-forge/linux-64::libzip-1.9.2-hc869a4a_1\n",
            "  libzlib            conda-forge/linux-64::libzlib-1.2.12-h166bdaf_2\n",
            "  libzopfli          conda-forge/linux-64::libzopfli-1.0.3-h9c3ff4c_0\n",
            "  llvmlite           conda-forge/linux-64::llvmlite-0.38.1-py37h0761922_0\n",
            "  locket             conda-forge/noarch::locket-1.0.0-pyhd8ed1ab_0\n",
            "  lxml               conda-forge/linux-64::lxml-4.8.0-py37h540881e_2\n",
            "  mapclassify        conda-forge/noarch::mapclassify-2.4.3-pyhd8ed1ab_0\n",
            "  markdown           conda-forge/noarch::markdown-3.4.1-pyhd8ed1ab_0\n",
            "  markupsafe         conda-forge/linux-64::markupsafe-2.1.1-py37h540881e_1\n",
            "  matplotlib-base    conda-forge/linux-64::matplotlib-base-3.4.3-py37h1058ff1_0\n",
            "  matplotlib-inline  conda-forge/noarch::matplotlib-inline-0.1.6-pyhd8ed1ab_0\n",
            "  mistune            conda-forge/linux-64::mistune-0.8.4-py37h5e8e339_1005\n",
            "  msgpack-python     conda-forge/linux-64::msgpack-python-1.0.4-py37h7cecad7_0\n",
            "  multidict          conda-forge/linux-64::multidict-6.0.2-py37h540881e_1\n",
            "  multipledispatch   conda-forge/noarch::multipledispatch-0.6.0-py_0\n",
            "  munch              conda-forge/noarch::munch-2.5.0-py_0\n",
            "  nbclient           conda-forge/noarch::nbclient-0.6.6-pyhd8ed1ab_0\n",
            "  nbconvert-core     conda-forge/noarch::nbconvert-core-6.5.3-pyhd8ed1ab_0\n",
            "  nbformat           conda-forge/noarch::nbformat-5.4.0-pyhd8ed1ab_0\n",
            "  nccl               conda-forge/linux-64::nccl-2.13.4.1-h0800d71_0\n",
            "  nest-asyncio       conda-forge/noarch::nest-asyncio-1.5.5-pyhd8ed1ab_0\n",
            "  networkx           conda-forge/noarch::networkx-2.7.1-pyhd8ed1ab_0\n",
            "  nodejs             conda-forge/linux-64::nodejs-14.17.4-h92b4a50_0\n",
            "  numba              conda-forge/linux-64::numba-0.55.2-py37h43839f2_0\n",
            "  numpy              conda-forge/linux-64::numpy-1.21.6-py37h976b520_0\n",
            "  nvtx               conda-forge/linux-64::nvtx-0.2.3-py37h5e8e339_1\n",
            "  oauthlib           conda-forge/noarch::oauthlib-3.2.0-pyhd8ed1ab_0\n",
            "  olefile            conda-forge/noarch::olefile-0.46-pyh9f0ad1d_1\n",
            "  openjdk            conda-forge/linux-64::openjdk-11.0.9.1-h5cc2fde_1\n",
            "  openjpeg           conda-forge/linux-64::openjpeg-2.4.0-hb52868f_1\n",
            "  orc                conda-forge/linux-64::orc-1.6.9-h58a87f1_0\n",
            "  packaging          conda-forge/noarch::packaging-21.3-pyhd8ed1ab_0\n",
            "  pandas             conda-forge/linux-64::pandas-1.3.5-py37he8f5f7f_0\n",
            "  pandocfilters      conda-forge/noarch::pandocfilters-1.5.0-pyhd8ed1ab_0\n",
            "  panel              conda-forge/noarch::panel-0.12.4-pyhd8ed1ab_0\n",
            "  param              conda-forge/noarch::param-1.12.2-pyh6c4a22f_0\n",
            "  parquet-cpp        conda-forge/noarch::parquet-cpp-1.5.1-2\n",
            "  parso              conda-forge/noarch::parso-0.8.3-pyhd8ed1ab_0\n",
            "  partd              conda-forge/noarch::partd-1.3.0-pyhd8ed1ab_0\n",
            "  pcre               conda-forge/linux-64::pcre-8.45-h9c3ff4c_0\n",
            "  pexpect            conda-forge/noarch::pexpect-4.8.0-pyh9f0ad1d_2\n",
            "  pickle5            conda-forge/linux-64::pickle5-0.0.12-py37h5e8e339_0\n",
            "  pickleshare        conda-forge/noarch::pickleshare-0.7.5-py_1003\n",
            "  pillow             conda-forge/linux-64::pillow-8.3.1-py37h0f21c89_0\n",
            "  pixman             conda-forge/linux-64::pixman-0.40.0-h36c2ea0_0\n",
            "  pkgutil-resolve-n~ conda-forge/noarch::pkgutil-resolve-name-1.3.10-pyhd8ed1ab_0\n",
            "  pooch              conda-forge/noarch::pooch-1.6.0-pyhd8ed1ab_0\n",
            "  poppler            conda-forge/linux-64::poppler-21.09.0-h0e1ea10_1\n",
            "  poppler-data       conda-forge/noarch::poppler-data-0.4.11-hd8ed1ab_0\n",
            "  postgresql         conda-forge/linux-64::postgresql-13.5-h2510834_1\n",
            "  proj               conda-forge/linux-64::proj-8.1.0-h277dcde_1\n",
            "  prometheus_client  conda-forge/noarch::prometheus_client-0.14.1-pyhd8ed1ab_0\n",
            "  prompt-toolkit     conda-forge/noarch::prompt-toolkit-3.0.30-pyha770c72_0\n",
            "  protobuf           conda-forge/linux-64::protobuf-3.16.0-py37hcd2ae1e_0\n",
            "  psutil             conda-forge/linux-64::psutil-5.9.1-py37h540881e_0\n",
            "  pthread-stubs      conda-forge/linux-64::pthread-stubs-0.4-h36c2ea0_1001\n",
            "  ptxcompiler        rapidsai/linux-64::ptxcompiler-0.2.0-py37hcfeb250_0\n",
            "  ptyprocess         conda-forge/noarch::ptyprocess-0.7.0-pyhd3deb0d_0\n",
            "  py-xgboost         rapidsai/linux-64::py-xgboost-1.5.0dev.rapidsai21.12-cuda11.2py37_0\n",
            "  pyarrow            conda-forge/linux-64::pyarrow-5.0.0-py37hf0016df_2_cuda\n",
            "  pyasn1             conda-forge/noarch::pyasn1-0.4.8-py_0\n",
            "  pyasn1-modules     conda-forge/noarch::pyasn1-modules-0.2.7-py_0\n",
            "  pyct               conda-forge/noarch::pyct-0.4.6-py_0\n",
            "  pyct-core          conda-forge/noarch::pyct-core-0.4.6-py_0\n",
            "  pydantic           conda-forge/linux-64::pydantic-1.9.2-py37h540881e_0\n",
            "  pydeck             conda-forge/noarch::pydeck-0.5.0-pyh9f0ad1d_0\n",
            "  pyee               conda-forge/noarch::pyee-8.1.0-pyhd8ed1ab_0\n",
            "  pygments           conda-forge/noarch::pygments-2.13.0-pyhd8ed1ab_0\n",
            "  pyjwt              conda-forge/noarch::pyjwt-2.4.0-pyhd8ed1ab_0\n",
            "  pynvml             conda-forge/noarch::pynvml-11.4.1-pyhd8ed1ab_0\n",
            "  pyparsing          conda-forge/noarch::pyparsing-3.0.9-pyhd8ed1ab_0\n",
            "  pyppeteer          conda-forge/noarch::pyppeteer-1.0.2-pyhd8ed1ab_0\n",
            "  pyproj             conda-forge/linux-64::pyproj-3.1.0-py37hdf91f24_4\n",
            "  pyrsistent         conda-forge/linux-64::pyrsistent-0.18.1-py37h540881e_1\n",
            "  python-confluent-~ conda-forge/linux-64::python-confluent-kafka-1.6.0-py37h5e8e339_1\n",
            "  python-dateutil    conda-forge/noarch::python-dateutil-2.8.2-pyhd8ed1ab_0\n",
            "  python-fastjsonsc~ conda-forge/noarch::python-fastjsonschema-2.16.1-pyhd8ed1ab_0\n",
            "  python-tzdata      conda-forge/noarch::python-tzdata-2022.2-pyhd8ed1ab_0\n",
            "  pytz               conda-forge/noarch::pytz-2022.2.1-pyhd8ed1ab_0\n",
            "  pytz-deprecation-~ conda-forge/linux-64::pytz-deprecation-shim-0.1.0.post0-py37h89c1867_2\n",
            "  pyu2f              conda-forge/noarch::pyu2f-0.1.5-pyhd8ed1ab_0\n",
            "  pyviz_comms        conda-forge/noarch::pyviz_comms-2.2.0-pyhd8ed1ab_0\n",
            "  pywavelets         conda-forge/linux-64::pywavelets-1.3.0-py37hda87dfa_1\n",
            "  pyyaml             conda-forge/linux-64::pyyaml-6.0-py37h540881e_4\n",
            "  pyzmq              conda-forge/linux-64::pyzmq-23.2.1-py37h0c0c2a8_0\n",
            "  rapids             rapidsai/linux-64::rapids-21.12.00-cuda11.2_py37_gc46440c_94\n",
            "  rapids-xgboost     rapidsai/linux-64::rapids-xgboost-21.12.00-cuda11.2_py37_gc46440c_94\n",
            "  re2                conda-forge/linux-64::re2-2021.08.01-h9c3ff4c_0\n",
            "  requests-oauthlib  conda-forge/noarch::requests-oauthlib-1.3.1-pyhd8ed1ab_0\n",
            "  rmm                rapidsai/linux-64::rmm-21.12.00-cuda11_py37_g957ad04_0_has_cma\n",
            "  rsa                conda-forge/noarch::rsa-4.9-pyhd8ed1ab_0\n",
            "  rtree              conda-forge/linux-64::rtree-1.0.0-py37h0b55af0_1\n",
            "  s2n                conda-forge/linux-64::s2n-1.0.10-h9b69904_0\n",
            "  scikit-image       conda-forge/linux-64::scikit-image-0.18.1-py37hdc94413_0\n",
            "  scikit-learn       conda-forge/linux-64::scikit-learn-1.0.2-py37hf9e9bfc_0\n",
            "  scipy              conda-forge/linux-64::scipy-1.7.3-py37hf2a6cf1_0\n",
            "  send2trash         conda-forge/noarch::send2trash-1.8.0-pyhd8ed1ab_0\n",
            "  shapely            conda-forge/linux-64::shapely-1.8.0-py37h48c49eb_0\n",
            "  simpervisor        conda-forge/noarch::simpervisor-0.4-pyhd8ed1ab_0\n",
            "  snappy             conda-forge/linux-64::snappy-1.1.9-hbd366e4_1\n",
            "  sniffio            conda-forge/linux-64::sniffio-1.2.0-py37h89c1867_3\n",
            "  sortedcontainers   conda-forge/noarch::sortedcontainers-2.4.0-pyhd8ed1ab_0\n",
            "  soupsieve          conda-forge/noarch::soupsieve-2.3.2.post1-pyhd8ed1ab_0\n",
            "  spdlog             conda-forge/linux-64::spdlog-1.8.5-h4bd325d_1\n",
            "  starlette          conda-forge/noarch::starlette-0.19.1-pyhd8ed1ab_0\n",
            "  streamz            conda-forge/noarch::streamz-0.6.4-pyh6c4a22f_0\n",
            "  tabulate           conda-forge/noarch::tabulate-0.8.10-pyhd8ed1ab_0\n",
            "  tblib              conda-forge/noarch::tblib-1.7.0-pyhd8ed1ab_0\n",
            "  terminado          conda-forge/linux-64::terminado-0.15.0-py37h89c1867_0\n",
            "  threadpoolctl      conda-forge/noarch::threadpoolctl-3.1.0-pyh8a188c0_0\n",
            "  tifffile           conda-forge/noarch::tifffile-2021.11.2-pyhd8ed1ab_0\n",
            "  tiledb             conda-forge/linux-64::tiledb-2.3.4-he87e0bf_0\n",
            "  tinycss2           conda-forge/noarch::tinycss2-1.1.1-pyhd8ed1ab_0\n",
            "  toolz              conda-forge/noarch::toolz-0.12.0-pyhd8ed1ab_0\n",
            "  tornado            conda-forge/linux-64::tornado-6.1-py37h540881e_3\n",
            "  traitlets          conda-forge/noarch::traitlets-5.3.0-pyhd8ed1ab_0\n",
            "  treelite           conda-forge/linux-64::treelite-2.1.0-py37h4b3d254_0\n",
            "  typing-extensions  conda-forge/noarch::typing-extensions-4.3.0-hd8ed1ab_0\n",
            "  typing_extensions  conda-forge/noarch::typing_extensions-4.3.0-pyha770c72_0\n",
            "  tzcode             conda-forge/linux-64::tzcode-2022c-h166bdaf_0\n",
            "  tzdata             conda-forge/noarch::tzdata-2022c-h191b570_0\n",
            "  tzlocal            conda-forge/linux-64::tzlocal-4.2-py37h89c1867_1\n",
            "  ucx                rapidsai/linux-64::ucx-1.11.2+gef2bbcf-cuda11.2_0\n",
            "  ucx-proc           rapidsai/linux-64::ucx-proc-1.0.0-gpu\n",
            "  ucx-py             rapidsai/linux-64::ucx-py-0.23.0-py37_gef2bbcf_0\n",
            "  uvicorn            conda-forge/linux-64::uvicorn-0.18.2-py37h89c1867_2\n",
            "  wcwidth            conda-forge/noarch::wcwidth-0.2.5-pyh9f0ad1d_2\n",
            "  webencodings       conda-forge/noarch::webencodings-0.5.1-py_1\n",
            "  websocket-client   conda-forge/noarch::websocket-client-1.3.3-pyhd8ed1ab_0\n",
            "  websockets         conda-forge/linux-64::websockets-10.3-py37h540881e_0\n",
            "  widgetsnbextension conda-forge/noarch::widgetsnbextension-4.0.1-pyhd8ed1ab_0\n",
            "  xarray             conda-forge/noarch::xarray-0.20.2-pyhd8ed1ab_0\n",
            "  xerces-c           conda-forge/linux-64::xerces-c-3.2.3-h9d8b166_3\n",
            "  xgboost            rapidsai/linux-64::xgboost-1.5.0dev.rapidsai21.12-cuda11.2py37_0\n",
            "  xorg-fixesproto    conda-forge/linux-64::xorg-fixesproto-5.0-h7f98852_1002\n",
            "  xorg-inputproto    conda-forge/linux-64::xorg-inputproto-2.3.2-h7f98852_1002\n",
            "  xorg-kbproto       conda-forge/linux-64::xorg-kbproto-1.0.7-h7f98852_1002\n",
            "  xorg-libice        conda-forge/linux-64::xorg-libice-1.0.10-h7f98852_0\n",
            "  xorg-libsm         conda-forge/linux-64::xorg-libsm-1.2.3-hd9c2040_1000\n",
            "  xorg-libx11        conda-forge/linux-64::xorg-libx11-1.7.2-h7f98852_0\n",
            "  xorg-libxau        conda-forge/linux-64::xorg-libxau-1.0.9-h7f98852_0\n",
            "  xorg-libxdmcp      conda-forge/linux-64::xorg-libxdmcp-1.1.3-h7f98852_0\n",
            "  xorg-libxext       conda-forge/linux-64::xorg-libxext-1.3.4-h7f98852_1\n",
            "  xorg-libxfixes     conda-forge/linux-64::xorg-libxfixes-5.0.3-h7f98852_1004\n",
            "  xorg-libxi         conda-forge/linux-64::xorg-libxi-1.7.10-h7f98852_0\n",
            "  xorg-libxrender    conda-forge/linux-64::xorg-libxrender-0.9.10-h7f98852_1003\n",
            "  xorg-libxtst       conda-forge/linux-64::xorg-libxtst-1.2.3-h7f98852_1002\n",
            "  xorg-recordproto   conda-forge/linux-64::xorg-recordproto-1.14.2-h7f98852_1002\n",
            "  xorg-renderproto   conda-forge/linux-64::xorg-renderproto-0.11.1-h7f98852_1002\n",
            "  xorg-xextproto     conda-forge/linux-64::xorg-xextproto-7.3.0-h7f98852_1002\n",
            "  xorg-xproto        conda-forge/linux-64::xorg-xproto-7.0.31-h7f98852_1007\n",
            "  yarl               conda-forge/linux-64::yarl-1.7.2-py37h540881e_2\n",
            "  zeromq             conda-forge/linux-64::zeromq-4.3.4-h9c3ff4c_1\n",
            "  zfp                conda-forge/linux-64::zfp-0.5.5-h9c3ff4c_8\n",
            "  zict               conda-forge/noarch::zict-2.2.0-pyhd8ed1ab_0\n",
            "  zipp               conda-forge/noarch::zipp-3.8.1-pyhd8ed1ab_0\n",
            "  zlib-ng            conda-forge/linux-64::zlib-ng-2.0.6-h166bdaf_0\n",
            "\n",
            "The following packages will be UPDATED:\n",
            "\n",
            "  ca-certificates                      2020.12.5-ha878542_0 --> 2022.6.15-ha878542_0\n",
            "  certifi                          2020.12.5-py37h89c1867_1 --> 2022.6.15-py37h89c1867_0\n",
            "  conda                                4.9.2-py37h89c1867_0 --> 4.12.0-py37h89c1867_0\n",
            "  krb5                                    1.17.2-h926e7f8_0 --> 1.19.3-h3790be6_0\n",
            "  libarchive                               3.5.1-h3f442fb_1 --> 3.5.2-hccf745f_1\n",
            "  libcurl                                 7.75.0-hc4aaa36_0 --> 7.78.0-h2574ce0_0\n",
            "  libgcc-ng                               9.3.0-h2828fa1_18 --> 12.1.0-h8d9b700_16\n",
            "  libgomp                                 9.3.0-h2828fa1_18 --> 12.1.0-h8d9b700_16\n",
            "  libstdcxx-ng                            9.3.0-h6de172a_18 --> 12.1.0-ha89aaad_16\n",
            "  libxml2                                 2.9.10-h72842e0_3 --> 2.9.12-h72842e0_0\n",
            "  openssl                                 1.1.1j-h7f98852_0 --> 1.1.1q-h166bdaf_0\n",
            "  python_abi                                    3.7-1_cp37m --> 3.7-2_cp37m\n",
            "  readline                                   8.0-he28a2e2_2 --> 8.1-h46c0cb4_0\n",
            "  setuptools                          49.6.0-py37h89c1867_3 --> 59.8.0-py37h89c1867_1\n",
            "  sqlite                                  3.34.0-h74cdb3f_0 --> 3.37.0-h9cd32fc_0\n",
            "  zlib                                 1.2.11-h516909a_1010 --> 1.2.12-h166bdaf_2\n",
            "  zstd                                     1.4.9-ha95c52a_0 --> 1.5.2-h6239696_4\n",
            "\n",
            "\n",
            "\n",
            "Downloading and Extracting Packages\n",
            "\n",
            "jupyterlab_pygments- | 17 KB     |            |   0%\n",
            "jupyterlab_pygments- | 17 KB     | #########4 |  94%\n",
            "jupyterlab_pygments- | 17 KB     | ########## | 100%\n",
            "\n",
            "geotiff-1.7.0        | 296 KB    |            |   0%\n",
            "geotiff-1.7.0        | 296 KB    | 5          |   5%\n",
            "geotiff-1.7.0        | 296 KB    | ########## | 100%\n",
            "\n",
            "scikit-learn-1.0.2   | 7.8 MB    |            |   0%\n",
            "scikit-learn-1.0.2   | 7.8 MB    |            |   0%\n",
            "scikit-learn-1.0.2   | 7.8 MB    | 2          |   2%\n",
            "scikit-learn-1.0.2   | 7.8 MB    | 4          |   4%\n",
            "scikit-learn-1.0.2   | 7.8 MB    | 6          |   7%\n",
            "scikit-learn-1.0.2   | 7.8 MB    | 9          |   9%\n",
            "scikit-learn-1.0.2   | 7.8 MB    | #          |  11%\n",
            "scikit-learn-1.0.2   | 7.8 MB    | #3         |  13%\n",
            "scikit-learn-1.0.2   | 7.8 MB    | #6         |  16%\n",
            "scikit-learn-1.0.2   | 7.8 MB    | #8         |  18%\n",
            "scikit-learn-1.0.2   | 7.8 MB    | ##         |  20%\n",
            "scikit-learn-1.0.2   | 7.8 MB    | ##2        |  23%\n",
            "scikit-learn-1.0.2   | 7.8 MB    | ##4        |  25%\n",
            "scikit-learn-1.0.2   | 7.8 MB    | ##6        |  27%\n",
            "scikit-learn-1.0.2   | 7.8 MB    | ##9        |  29%\n",
            "scikit-learn-1.0.2   | 7.8 MB    | ###1       |  32%\n",
            "scikit-learn-1.0.2   | 7.8 MB    | ###3       |  34%\n",
            "scikit-learn-1.0.2   | 7.8 MB    | ###7       |  37%\n",
            "scikit-learn-1.0.2   | 7.8 MB    | ###9       |  40%\n",
            "scikit-learn-1.0.2   | 7.8 MB    | ####2      |  43%\n",
            "scikit-learn-1.0.2   | 7.8 MB    | ####5      |  45%\n",
            "scikit-learn-1.0.2   | 7.8 MB    | ####7      |  48%\n",
            "scikit-learn-1.0.2   | 7.8 MB    | #####1     |  52%\n",
            "scikit-learn-1.0.2   | 7.8 MB    | #####4     |  54%\n",
            "scikit-learn-1.0.2   | 7.8 MB    | #####6     |  57%\n",
            "scikit-learn-1.0.2   | 7.8 MB    | #####9     |  59%\n",
            "scikit-learn-1.0.2   | 7.8 MB    | ######1    |  62%\n",
            "scikit-learn-1.0.2   | 7.8 MB    | ######3    |  64%\n",
            "scikit-learn-1.0.2   | 7.8 MB    | ######6    |  66%\n",
            "scikit-learn-1.0.2   | 7.8 MB    | ######8    |  69%\n",
            "scikit-learn-1.0.2   | 7.8 MB    | #######1   |  71%\n",
            "scikit-learn-1.0.2   | 7.8 MB    | #######3   |  73%\n",
            "scikit-learn-1.0.2   | 7.8 MB    | #######5   |  76%\n",
            "scikit-learn-1.0.2   | 7.8 MB    | #######7   |  78%\n",
            "scikit-learn-1.0.2   | 7.8 MB    | #######9   |  80%\n",
            "scikit-learn-1.0.2   | 7.8 MB    | ########2  |  82%\n",
            "scikit-learn-1.0.2   | 7.8 MB    | ########4  |  84%\n",
            "scikit-learn-1.0.2   | 7.8 MB    | ########6  |  86%\n",
            "scikit-learn-1.0.2   | 7.8 MB    | ########9  |  89%\n",
            "scikit-learn-1.0.2   | 7.8 MB    | #########1 |  91%\n",
            "scikit-learn-1.0.2   | 7.8 MB    | #########3 |  94%\n",
            "scikit-learn-1.0.2   | 7.8 MB    | #########5 |  95%\n",
            "scikit-learn-1.0.2   | 7.8 MB    | #########7 |  98%\n",
            "scikit-learn-1.0.2   | 7.8 MB    | ########## | 100%\n",
            "scikit-learn-1.0.2   | 7.8 MB    | ########## | 100%\n",
            "\n",
            "python-tzdata-2022.2 | 147 KB    |            |   0%\n",
            "python-tzdata-2022.2 | 147 KB    | ########## | 100%\n",
            "python-tzdata-2022.2 | 147 KB    | ########## | 100%\n",
            "\n",
            "libstdcxx-ng-12.1.0  | 4.3 MB    |            |   0%\n",
            "libstdcxx-ng-12.1.0  | 4.3 MB    | #####7     |  58%\n",
            "libstdcxx-ng-12.1.0  | 4.3 MB    | ########## | 100%\n",
            "libstdcxx-ng-12.1.0  | 4.3 MB    | ########## | 100%\n",
            "\n",
            "dask-cudf-21.12.02   | 112 KB    |            |   0%\n",
            "dask-cudf-21.12.02   | 112 KB    | #4         |  14%\n",
            "dask-cudf-21.12.02   | 112 KB    | #####7     |  57%\n",
            "dask-cudf-21.12.02   | 112 KB    | ########## | 100%\n",
            "\n",
            "fonts-conda-ecosyste | 4 KB      |            |   0%\n",
            "fonts-conda-ecosyste | 4 KB      | ########## | 100%\n",
            "\n",
            "bleach-5.0.1         | 124 KB    |            |   0%\n",
            "bleach-5.0.1         | 124 KB    | ########## | 100%\n",
            "\n",
            "kiwisolver-1.4.4     | 73 KB     |            |   0%\n",
            "kiwisolver-1.4.4     | 73 KB     | ########## | 100%\n",
            "\n",
            "simpervisor-0.4      | 9 KB      |            |   0%\n",
            "simpervisor-0.4      | 9 KB      | ########## | 100%\n",
            "\n",
            "wcwidth-0.2.5        | 33 KB     |            |   0%\n",
            "wcwidth-0.2.5        | 33 KB     | ########## | 100%\n",
            "\n",
            "pkgutil-resolve-name | 9 KB      |            |   0%\n",
            "pkgutil-resolve-name | 9 KB      | ########## | 100%\n",
            "\n",
            "pyee-8.1.0           | 14 KB     |            |   0%\n",
            "pyee-8.1.0           | 14 KB     | ########## | 100%\n",
            "pyee-8.1.0           | 14 KB     | ########## | 100%\n",
            "\n",
            "pywavelets-1.3.0     | 4.4 MB    |            |   0%\n",
            "pywavelets-1.3.0     | 4.4 MB    |            |   0%\n",
            "pywavelets-1.3.0     | 4.4 MB    | #1         |  11%\n",
            "pywavelets-1.3.0     | 4.4 MB    | ##4        |  25%\n",
            "pywavelets-1.3.0     | 4.4 MB    | ###9       |  39%\n",
            "pywavelets-1.3.0     | 4.4 MB    | #####      |  50%\n",
            "pywavelets-1.3.0     | 4.4 MB    | #####9     |  59%\n",
            "pywavelets-1.3.0     | 4.4 MB    | ########3  |  83%\n",
            "pywavelets-1.3.0     | 4.4 MB    | #########6 |  97%\n",
            "pywavelets-1.3.0     | 4.4 MB    | ########## | 100%\n",
            "\n",
            "gflags-2.2.2         | 114 KB    |            |   0%\n",
            "gflags-2.2.2         | 114 KB    | ########## | 100%\n",
            "gflags-2.2.2         | 114 KB    | ########## | 100%\n",
            "\n",
            "spdlog-1.8.5         | 352 KB    |            |   0%\n",
            "spdlog-1.8.5         | 352 KB    | 4          |   5%\n",
            "spdlog-1.8.5         | 352 KB    | ########## | 100%\n",
            "spdlog-1.8.5         | 352 KB    | ########## | 100%\n",
            "\n",
            "libzlib-1.2.12       | 63 KB     |            |   0%\n",
            "libzlib-1.2.12       | 63 KB     | ########## | 100%\n",
            "\n",
            "libnsl-2.0.0         | 31 KB     |            |   0%\n",
            "libnsl-2.0.0         | 31 KB     | ########## | 100%\n",
            "\n",
            "importlib-metadata-4 | 33 KB     |            |   0%\n",
            "importlib-metadata-4 | 33 KB     | ########## | 100%\n",
            "\n",
            "re2-2021.08.01       | 220 KB    |            |   0%\n",
            "re2-2021.08.01       | 220 KB    | 7          |   7%\n",
            "re2-2021.08.01       | 220 KB    | ########## | 100%\n",
            "\n",
            "tabulate-0.8.10      | 29 KB     |            |   0%\n",
            "tabulate-0.8.10      | 29 KB     | ########## | 100%\n",
            "\n",
            "geos-3.9.1           | 1.1 MB    |            |   0%\n",
            "geos-3.9.1           | 1.1 MB    | ########## | 100%\n",
            "geos-3.9.1           | 1.1 MB    | ########## | 100%\n",
            "\n",
            "send2trash-1.8.0     | 17 KB     |            |   0%\n",
            "send2trash-1.8.0     | 17 KB     | ########## | 100%\n",
            "\n",
            "ptyprocess-0.7.0     | 16 KB     |            |   0%\n",
            "ptyprocess-0.7.0     | 16 KB     | ########## | 100%\n",
            "\n",
            "pyyaml-6.0           | 178 KB    |            |   0%\n",
            "pyyaml-6.0           | 178 KB    | ########## | 100%\n",
            "pyyaml-6.0           | 178 KB    | ########## | 100%\n",
            "\n",
            "cupy-9.6.0           | 51.5 MB   |            |   0%\n",
            "cupy-9.6.0           | 51.5 MB   |            |   0%\n",
            "cupy-9.6.0           | 51.5 MB   |            |   0%\n",
            "cupy-9.6.0           | 51.5 MB   |            |   1%\n",
            "cupy-9.6.0           | 51.5 MB   | 1          |   1%\n",
            "cupy-9.6.0           | 51.5 MB   | 1          |   2%\n",
            "cupy-9.6.0           | 51.5 MB   | 2          |   2%\n",
            "cupy-9.6.0           | 51.5 MB   | 2          |   3%\n",
            "cupy-9.6.0           | 51.5 MB   | 3          |   3%\n",
            "cupy-9.6.0           | 51.5 MB   | 3          |   3%\n",
            "cupy-9.6.0           | 51.5 MB   | 3          |   4%\n",
            "cupy-9.6.0           | 51.5 MB   | 4          |   4%\n",
            "cupy-9.6.0           | 51.5 MB   | 4          |   5%\n",
            "cupy-9.6.0           | 51.5 MB   | 4          |   5%\n",
            "cupy-9.6.0           | 51.5 MB   | 5          |   5%\n",
            "cupy-9.6.0           | 51.5 MB   | 5          |   6%\n",
            "cupy-9.6.0           | 51.5 MB   | 6          |   6%\n",
            "cupy-9.6.0           | 51.5 MB   | 6          |   7%\n",
            "cupy-9.6.0           | 51.5 MB   | 7          |   8%\n",
            "cupy-9.6.0           | 51.5 MB   | 8          |   8%\n",
            "cupy-9.6.0           | 51.5 MB   | 8          |   9%\n",
            "cupy-9.6.0           | 51.5 MB   | 9          |  10%\n",
            "cupy-9.6.0           | 51.5 MB   | #2         |  12%\n",
            "cupy-9.6.0           | 51.5 MB   | #6         |  17%\n",
            "cupy-9.6.0           | 51.5 MB   | ##1        |  22%\n",
            "cupy-9.6.0           | 51.5 MB   | ##5        |  26%\n",
            "cupy-9.6.0           | 51.5 MB   | ###2       |  32%\n",
            "cupy-9.6.0           | 51.5 MB   | ###7       |  37%\n",
            "cupy-9.6.0           | 51.5 MB   | ####2      |  42%\n",
            "cupy-9.6.0           | 51.5 MB   | ####6      |  47%\n",
            "cupy-9.6.0           | 51.5 MB   | #####3     |  53%\n",
            "cupy-9.6.0           | 51.5 MB   | #####8     |  58%\n",
            "cupy-9.6.0           | 51.5 MB   | ######2    |  63%\n",
            "cupy-9.6.0           | 51.5 MB   | ######7    |  67%\n",
            "cupy-9.6.0           | 51.5 MB   | #######2   |  72%\n",
            "cupy-9.6.0           | 51.5 MB   | #######6   |  77%\n",
            "cupy-9.6.0           | 51.5 MB   | ########   |  81%\n",
            "cupy-9.6.0           | 51.5 MB   | ########6  |  87%\n",
            "cupy-9.6.0           | 51.5 MB   | #########6 |  96%\n",
            "cupy-9.6.0           | 51.5 MB   | ########## | 100%\n",
            "\n",
            "dask-core-2021.11.2  | 783 KB    |            |   0%\n",
            "dask-core-2021.11.2  | 783 KB    | 2          |   2%\n",
            "dask-core-2021.11.2  | 783 KB    | ########## | 100%\n",
            "dask-core-2021.11.2  | 783 KB    | ########## | 100%\n",
            "\n",
            "matplotlib-inline-0. | 12 KB     |            |   0%\n",
            "matplotlib-inline-0. | 12 KB     | ########## | 100%\n",
            "\n",
            "python-dateutil-2.8. | 240 KB    |            |   0%\n",
            "python-dateutil-2.8. | 240 KB    | ########## | 100%\n",
            "\n",
            "libgfortran-ng-12.1. | 23 KB     |            |   0%\n",
            "libgfortran-ng-12.1. | 23 KB     | ########## | 100%\n",
            "\n",
            "libaec-1.0.6         | 45 KB     |            |   0%\n",
            "libaec-1.0.6         | 45 KB     | ########## | 100%\n",
            "\n",
            "expat-2.4.8          | 187 KB    |            |   0%\n",
            "expat-2.4.8          | 187 KB    | ########## | 100%\n",
            "\n",
            "librdkafka-1.6.1     | 12.6 MB   |            |   0%\n",
            "librdkafka-1.6.1     | 12.6 MB   |            |   0%\n",
            "librdkafka-1.6.1     | 12.6 MB   | ###3       |  34%\n",
            "librdkafka-1.6.1     | 12.6 MB   | ######5    |  65%\n",
            "librdkafka-1.6.1     | 12.6 MB   | ########## | 100%\n",
            "librdkafka-1.6.1     | 12.6 MB   | ########## | 100%\n",
            "\n",
            "pydantic-1.9.2       | 2.2 MB    |            |   0%\n",
            "pydantic-1.9.2       | 2.2 MB    |            |   1%\n",
            "pydantic-1.9.2       | 2.2 MB    | ###2       |  32%\n",
            "pydantic-1.9.2       | 2.2 MB    | #########  |  90%\n",
            "pydantic-1.9.2       | 2.2 MB    | ########## | 100%\n",
            "\n",
            "heapdict-1.0.1       | 7 KB      |            |   0%\n",
            "heapdict-1.0.1       | 7 KB      | ########## | 100%\n",
            "\n",
            "gcsfs-2022.7.1       | 26 KB     |            |   0%\n",
            "gcsfs-2022.7.1       | 26 KB     | ########## | 100%\n",
            "\n",
            "pyasn1-0.4.8         | 53 KB     |            |   0%\n",
            "pyasn1-0.4.8         | 53 KB     | ###        |  30%\n",
            "pyasn1-0.4.8         | 53 KB     | ########## | 100%\n",
            "\n",
            "tinycss2-1.1.1       | 23 KB     |            |   0%\n",
            "tinycss2-1.1.1       | 23 KB     | #######1   |  71%\n",
            "tinycss2-1.1.1       | 23 KB     | ########## | 100%\n",
            "\n",
            "libwebp-1.2.2        | 85 KB     |            |   0%\n",
            "libwebp-1.2.2        | 85 KB     | ########## | 100%\n",
            "\n",
            "panel-0.12.4         | 9.8 MB    |            |   0%\n",
            "panel-0.12.4         | 9.8 MB    |            |   0%\n",
            "panel-0.12.4         | 9.8 MB    | #3         |  13%\n",
            "panel-0.12.4         | 9.8 MB    | ###7       |  37%\n",
            "panel-0.12.4         | 9.8 MB    | #######7   |  78%\n",
            "panel-0.12.4         | 9.8 MB    | ########## | 100%\n",
            "panel-0.12.4         | 9.8 MB    | ########## | 100%\n",
            "\n",
            "pyrsistent-0.18.1    | 91 KB     |            |   0%\n",
            "pyrsistent-0.18.1    | 91 KB     | #7         |  18%\n",
            "pyrsistent-0.18.1    | 91 KB     | ########## | 100%\n",
            "\n",
            "xorg-libsm-1.2.3     | 26 KB     |            |   0%\n",
            "xorg-libsm-1.2.3     | 26 KB     | ########## | 100%\n",
            "\n",
            "pyppeteer-1.0.2      | 63 KB     |            |   0%\n",
            "pyppeteer-1.0.2      | 63 KB     | ##5        |  26%\n",
            "pyppeteer-1.0.2      | 63 KB     | ########## | 100%\n",
            "\n",
            "openjdk-11.0.9.1     | 173.5 MB  |            |   0%\n",
            "openjdk-11.0.9.1     | 173.5 MB  |            |   0%\n",
            "openjdk-11.0.9.1     | 173.5 MB  | 2          |   3%\n",
            "openjdk-11.0.9.1     | 173.5 MB  | 4          |   4%\n",
            "openjdk-11.0.9.1     | 173.5 MB  | 7          |   7%\n",
            "openjdk-11.0.9.1     | 173.5 MB  | 9          |  10%\n",
            "openjdk-11.0.9.1     | 173.5 MB  | #2         |  13%\n",
            "openjdk-11.0.9.1     | 173.5 MB  | #5         |  15%\n",
            "openjdk-11.0.9.1     | 173.5 MB  | #7         |  17%\n",
            "openjdk-11.0.9.1     | 173.5 MB  | #9         |  20%\n",
            "openjdk-11.0.9.1     | 173.5 MB  | ##2        |  22%\n",
            "openjdk-11.0.9.1     | 173.5 MB  | ##4        |  25%\n",
            "openjdk-11.0.9.1     | 173.5 MB  | ##7        |  27%\n",
            "openjdk-11.0.9.1     | 173.5 MB  | ##8        |  29%\n",
            "openjdk-11.0.9.1     | 173.5 MB  | ###        |  31%\n",
            "openjdk-11.0.9.1     | 173.5 MB  | ###2       |  32%\n",
            "openjdk-11.0.9.1     | 173.5 MB  | ###5       |  36%\n",
            "openjdk-11.0.9.1     | 173.5 MB  | ###8       |  38%\n",
            "openjdk-11.0.9.1     | 173.5 MB  | ####1      |  41%\n",
            "openjdk-11.0.9.1     | 173.5 MB  | ####3      |  44%\n",
            "openjdk-11.0.9.1     | 173.5 MB  | ####5      |  45%\n",
            "openjdk-11.0.9.1     | 173.5 MB  | ####7      |  48%\n",
            "openjdk-11.0.9.1     | 173.5 MB  | ####9      |  50%\n",
            "openjdk-11.0.9.1     | 173.5 MB  | #####1     |  51%\n",
            "openjdk-11.0.9.1     | 173.5 MB  | #####3     |  54%\n",
            "openjdk-11.0.9.1     | 173.5 MB  | #####5     |  56%\n",
            "openjdk-11.0.9.1     | 173.5 MB  | #####7     |  58%\n",
            "openjdk-11.0.9.1     | 173.5 MB  | ######     |  61%\n",
            "openjdk-11.0.9.1     | 173.5 MB  | ######3    |  64%\n",
            "openjdk-11.0.9.1     | 173.5 MB  | ######7    |  68%\n",
            "openjdk-11.0.9.1     | 173.5 MB  | #######    |  71%\n",
            "openjdk-11.0.9.1     | 173.5 MB  | #######3   |  73%\n",
            "openjdk-11.0.9.1     | 173.5 MB  | #######5   |  76%\n",
            "openjdk-11.0.9.1     | 173.5 MB  | #######8   |  78%\n",
            "openjdk-11.0.9.1     | 173.5 MB  | ########1  |  82%\n",
            "openjdk-11.0.9.1     | 173.5 MB  | ########4  |  84%\n",
            "openjdk-11.0.9.1     | 173.5 MB  | ########7  |  87%\n",
            "openjdk-11.0.9.1     | 173.5 MB  | ########9  |  89%\n",
            "openjdk-11.0.9.1     | 173.5 MB  | #########1 |  92%\n",
            "openjdk-11.0.9.1     | 173.5 MB  | #########4 |  94%\n",
            "openjdk-11.0.9.1     | 173.5 MB  | #########7 |  97%\n",
            "openjdk-11.0.9.1     | 173.5 MB  | #########9 | 100%\n",
            "openjdk-11.0.9.1     | 173.5 MB  | ########## | 100%\n",
            "\n",
            "munch-2.5.0          | 12 KB     |            |   0%\n",
            "munch-2.5.0          | 12 KB     | ########## | 100%\n",
            "\n",
            "psutil-5.9.1         | 344 KB    |            |   0%\n",
            "psutil-5.9.1         | 344 KB    | ########## | 100%\n",
            "psutil-5.9.1         | 344 KB    | ########## | 100%\n",
            "\n",
            "dlpack-0.5           | 12 KB     |            |   0%\n",
            "dlpack-0.5           | 12 KB     | ########## | 100%\n",
            "dlpack-0.5           | 12 KB     | ########## | 100%\n",
            "\n",
            "pydeck-0.5.0         | 3.6 MB    |            |   0%\n",
            "pydeck-0.5.0         | 3.6 MB    |            |   0%\n",
            "pydeck-0.5.0         | 3.6 MB    | ####       |  41%\n",
            "pydeck-0.5.0         | 3.6 MB    | ########## | 100%\n",
            "pydeck-0.5.0         | 3.6 MB    | ########## | 100%\n",
            "\n",
            "pixman-0.40.0        | 627 KB    |            |   0%\n",
            "pixman-0.40.0        | 627 KB    | ########## | 100%\n",
            "pixman-0.40.0        | 627 KB    | ########## | 100%\n",
            "\n",
            "hdf4-4.2.15          | 955 KB    |            |   0%\n",
            "hdf4-4.2.15          | 955 KB    | ########## | 100%\n",
            "hdf4-4.2.15          | 955 KB    | ########## | 100%\n",
            "\n",
            "pyct-0.4.6           | 3 KB      |            |   0%\n",
            "pyct-0.4.6           | 3 KB      | ########## | 100%\n",
            "\n",
            "libpq-13.5           | 2.8 MB    |            |   0%\n",
            "libpq-13.5           | 2.8 MB    | ####5      |  45%\n",
            "libpq-13.5           | 2.8 MB    | ########## | 100%\n",
            "libpq-13.5           | 2.8 MB    | ########## | 100%\n",
            "\n",
            "xerces-c-3.2.3       | 1.8 MB    |            |   0%\n",
            "xerces-c-3.2.3       | 1.8 MB    | ###4       |  34%\n",
            "xerces-c-3.2.3       | 1.8 MB    | ########## | 100%\n",
            "xerces-c-3.2.3       | 1.8 MB    | ########## | 100%\n",
            "\n",
            "glog-0.5.0           | 104 KB    |            |   0%\n",
            "glog-0.5.0           | 104 KB    | #5         |  15%\n",
            "glog-0.5.0           | 104 KB    | ########## | 100%\n",
            "\n",
            "libkml-1.3.0         | 591 KB    |            |   0%\n",
            "libkml-1.3.0         | 591 KB    | ########## | 100%\n",
            "libkml-1.3.0         | 591 KB    | ########## | 100%\n",
            "\n",
            "pickleshare-0.7.5    | 9 KB      |            |   0%\n",
            "pickleshare-0.7.5    | 9 KB      | ########## | 100%\n",
            "pickleshare-0.7.5    | 9 KB      | ########## | 100%\n",
            "\n",
            "webencodings-0.5.1   | 12 KB     |            |   0%\n",
            "webencodings-0.5.1   | 12 KB     | ########## | 100%\n",
            "\n",
            "xorg-libxi-1.7.10    | 46 KB     |            |   0%\n",
            "xorg-libxi-1.7.10    | 46 KB     | ########## | 100%\n",
            "\n",
            "keyutils-1.6.1       | 115 KB    |            |   0%\n",
            "keyutils-1.6.1       | 115 KB    | ########## | 100%\n",
            "\n",
            "soupsieve-2.3.2.post | 34 KB     |            |   0%\n",
            "soupsieve-2.3.2.post | 34 KB     | ####7      |  47%\n",
            "soupsieve-2.3.2.post | 34 KB     | ########## | 100%\n",
            "\n",
            "lxml-4.8.0           | 1.4 MB    |            |   0%\n",
            "lxml-4.8.0           | 1.4 MB    | ########8  |  89%\n",
            "lxml-4.8.0           | 1.4 MB    | ########## | 100%\n",
            "\n",
            "zstd-1.5.2           | 448 KB    |            |   0%\n",
            "zstd-1.5.2           | 448 KB    | ########## | 100%\n",
            "zstd-1.5.2           | 448 KB    | ########## | 100%\n",
            "\n",
            "proj-8.1.0           | 2.9 MB    |            |   0%\n",
            "proj-8.1.0           | 2.9 MB    | ####       |  41%\n",
            "proj-8.1.0           | 2.9 MB    | ########## | 100%\n",
            "proj-8.1.0           | 2.9 MB    | ########## | 100%\n",
            "\n",
            "pthread-stubs-0.4    | 5 KB      |            |   0%\n",
            "pthread-stubs-0.4    | 5 KB      | ########## | 100%\n",
            "pthread-stubs-0.4    | 5 KB      | ########## | 100%\n",
            "\n",
            "tblib-1.7.0          | 15 KB     |            |   0%\n",
            "tblib-1.7.0          | 15 KB     | ########## | 100%\n",
            "\n",
            "libpng-1.6.37        | 371 KB    |            |   0%\n",
            "libpng-1.6.37        | 371 KB    | ########## | 100%\n",
            "libpng-1.6.37        | 371 KB    | ########## | 100%\n",
            "\n",
            "cyrus-sasl-2.1.27    | 228 KB    |            |   0%\n",
            "cyrus-sasl-2.1.27    | 228 KB    | 7          |   7%\n",
            "cyrus-sasl-2.1.27    | 228 KB    | ########## | 100%\n",
            "\n",
            "imagecodecs-2021.8.2 | 7.2 MB    |            |   0%\n",
            "imagecodecs-2021.8.2 | 7.2 MB    |            |   0%\n",
            "imagecodecs-2021.8.2 | 7.2 MB    | 7          |   7%\n",
            "imagecodecs-2021.8.2 | 7.2 MB    | #9         |  19%\n",
            "imagecodecs-2021.8.2 | 7.2 MB    | #####1     |  52%\n",
            "imagecodecs-2021.8.2 | 7.2 MB    | #########5 |  95%\n",
            "imagecodecs-2021.8.2 | 7.2 MB    | ########## | 100%\n",
            "\n",
            "orc-1.6.9            | 746 KB    |            |   0%\n",
            "orc-1.6.9            | 746 KB    | 2          |   2%\n",
            "orc-1.6.9            | 746 KB    | ######2    |  62%\n",
            "orc-1.6.9            | 746 KB    | ########## | 100%\n",
            "orc-1.6.9            | 746 KB    | ########## | 100%\n",
            "\n",
            "nodejs-14.17.4       | 15.8 MB   |            |   0%\n",
            "nodejs-14.17.4       | 15.8 MB   |            |   0%\n",
            "nodejs-14.17.4       | 15.8 MB   | 1          |   1%\n",
            "nodejs-14.17.4       | 15.8 MB   | 4          |   4%\n",
            "nodejs-14.17.4       | 15.8 MB   | 9          |   9%\n",
            "nodejs-14.17.4       | 15.8 MB   | ###        |  31%\n",
            "nodejs-14.17.4       | 15.8 MB   | ######1    |  62%\n",
            "nodejs-14.17.4       | 15.8 MB   | ########4  |  85%\n",
            "nodejs-14.17.4       | 15.8 MB   | ########## | 100%\n",
            "\n",
            "libglib-2.68.4       | 3.0 MB    |            |   0%\n",
            "libglib-2.68.4       | 3.0 MB    | ###8       |  38%\n",
            "libglib-2.68.4       | 3.0 MB    | ########## | 100%\n",
            "libglib-2.68.4       | 3.0 MB    | ########## | 100%\n",
            "\n",
            "pyviz_comms-2.2.0    | 31 KB     |            |   0%\n",
            "pyviz_comms-2.2.0    | 31 KB     | ########## | 100%\n",
            "\n",
            "custreamz-21.12.02   | 32 KB     |            |   0%\n",
            "custreamz-21.12.02   | 32 KB     | ####9      |  50%\n",
            "custreamz-21.12.02   | 32 KB     | ########## | 100%\n",
            "\n",
            "entrypoints-0.4      | 9 KB      |            |   0%\n",
            "entrypoints-0.4      | 9 KB      | ########## | 100%\n",
            "\n",
            "hdf5-1.12.1          | 3.5 MB    |            |   0%\n",
            "hdf5-1.12.1          | 3.5 MB    | #######8   |  79%\n",
            "hdf5-1.12.1          | 3.5 MB    | ########## | 100%\n",
            "\n",
            "aws-sdk-cpp-1.8.186  | 4.6 MB    |            |   0%\n",
            "aws-sdk-cpp-1.8.186  | 4.6 MB    | #######5   |  75%\n",
            "aws-sdk-cpp-1.8.186  | 4.6 MB    | ########## | 100%\n",
            "aws-sdk-cpp-1.8.186  | 4.6 MB    | ########## | 100%\n",
            "\n",
            "setuptools-59.8.0    | 1.0 MB    |            |   0%\n",
            "setuptools-59.8.0    | 1.0 MB    | ########## | 100%\n",
            "setuptools-59.8.0    | 1.0 MB    | ########## | 100%\n",
            "\n",
            "lcms2-2.12           | 443 KB    |            |   0%\n",
            "lcms2-2.12           | 443 KB    | ########## | 100%\n",
            "lcms2-2.12           | 443 KB    | ########## | 100%\n",
            "\n",
            "xorg-xproto-7.0.31   | 73 KB     |            |   0%\n",
            "xorg-xproto-7.0.31   | 73 KB     | ##1        |  22%\n",
            "xorg-xproto-7.0.31   | 73 KB     | ########## | 100%\n",
            "\n",
            "prompt-toolkit-3.0.3 | 254 KB    |            |   0%\n",
            "prompt-toolkit-3.0.3 | 254 KB    | #########4 |  95%\n",
            "prompt-toolkit-3.0.3 | 254 KB    | ########## | 100%\n",
            "\n",
            "importlib_metadata-4 | 4 KB      |            |   0%\n",
            "importlib_metadata-4 | 4 KB      | ########## | 100%\n",
            "\n",
            "libgcrypt-1.10.1     | 703 KB    |            |   0%\n",
            "libgcrypt-1.10.1     | 703 KB    | 2          |   2%\n",
            "libgcrypt-1.10.1     | 703 KB    | ##9        |  30%\n",
            "libgcrypt-1.10.1     | 703 KB    | #######    |  71%\n",
            "libgcrypt-1.10.1     | 703 KB    | ########## | 100%\n",
            "libgcrypt-1.10.1     | 703 KB    | ########## | 100%\n",
            "\n",
            "xorg-fixesproto-5.0  | 9 KB      |            |   0%\n",
            "xorg-fixesproto-5.0  | 9 KB      | ########## | 100%\n",
            "\n",
            "font-ttf-ubuntu-0.83 | 1.9 MB    |            |   0%\n",
            "font-ttf-ubuntu-0.83 | 1.9 MB    | ########3  |  84%\n",
            "font-ttf-ubuntu-0.83 | 1.9 MB    | ########## | 100%\n",
            "\n",
            "debugpy-1.6.3        | 2.0 MB    |            |   0%\n",
            "debugpy-1.6.3        | 2.0 MB    | ########## | 100%\n",
            "debugpy-1.6.3        | 2.0 MB    | ########## | 100%\n",
            "\n",
            "fsspec-2022.7.1      | 96 KB     |            |   0%\n",
            "fsspec-2022.7.1      | 96 KB     | ########## | 100%\n",
            "\n",
            "xarray-0.20.2        | 628 KB    |            |   0%\n",
            "xarray-0.20.2        | 628 KB    | ########## | 100%\n",
            "xarray-0.20.2        | 628 KB    | ########## | 100%\n",
            "\n",
            "click-plugins-1.1.1  | 9 KB      |            |   0%\n",
            "click-plugins-1.1.1  | 9 KB      | ########## | 100%\n",
            "\n",
            "google-crc32c-1.1.2  | 24 KB     |            |   0%\n",
            "google-crc32c-1.1.2  | 24 KB     | ######6    |  66%\n",
            "google-crc32c-1.1.2  | 24 KB     | ########## | 100%\n",
            "\n",
            "libdeflate-1.8       | 67 KB     |            |   0%\n",
            "libdeflate-1.8       | 67 KB     | ##4        |  24%\n",
            "libdeflate-1.8       | 67 KB     | ########## | 100%\n",
            "\n",
            "treelite-2.1.0       | 1.4 MB    |            |   0%\n",
            "treelite-2.1.0       | 1.4 MB    | 1          |   1%\n",
            "treelite-2.1.0       | 1.4 MB    | ##         |  21%\n",
            "treelite-2.1.0       | 1.4 MB    | #####9     |  59%\n",
            "treelite-2.1.0       | 1.4 MB    | ########## | 100%\n",
            "treelite-2.1.0       | 1.4 MB    | ########## | 100%\n",
            "\n",
            "backports.functools_ | 9 KB      |            |   0%\n",
            "backports.functools_ | 9 KB      | ########## | 100%\n",
            "\n",
            "backcall-0.2.0       | 13 KB     |            |   0%\n",
            "backcall-0.2.0       | 13 KB     | ########## | 100%\n",
            "\n",
            "libtiff-4.3.0        | 614 KB    |            |   0%\n",
            "libtiff-4.3.0        | 614 KB    | ########## | 100%\n",
            "libtiff-4.3.0        | 614 KB    | ########## | 100%\n",
            "\n",
            "font-ttf-source-code | 684 KB    |            |   0%\n",
            "font-ttf-source-code | 684 KB    | ########## | 100%\n",
            "font-ttf-source-code | 684 KB    | ########## | 100%\n",
            "\n",
            "grpc-cpp-1.39.0      | 3.6 MB    |            |   0%\n",
            "grpc-cpp-1.39.0      | 3.6 MB    |            |   0%\n",
            "grpc-cpp-1.39.0      | 3.6 MB    | 4          |   5%\n",
            "grpc-cpp-1.39.0      | 3.6 MB    | #7         |  18%\n",
            "grpc-cpp-1.39.0      | 3.6 MB    | ####2      |  43%\n",
            "grpc-cpp-1.39.0      | 3.6 MB    | ########9  |  90%\n",
            "grpc-cpp-1.39.0      | 3.6 MB    | ########## | 100%\n",
            "\n",
            "colorcet-3.0.0       | 1.5 MB    |            |   0%\n",
            "colorcet-3.0.0       | 1.5 MB    | ########## | 100%\n",
            "colorcet-3.0.0       | 1.5 MB    | ########## | 100%\n",
            "\n",
            "ucx-1.11.2+gef2bbcf  | 11.9 MB   |            |   0%\n",
            "ucx-1.11.2+gef2bbcf  | 11.9 MB   |            |   0%\n",
            "ucx-1.11.2+gef2bbcf  | 11.9 MB   |            |   1%\n",
            "ucx-1.11.2+gef2bbcf  | 11.9 MB   | 2          |   2%\n",
            "ucx-1.11.2+gef2bbcf  | 11.9 MB   | 9          |   9%\n",
            "ucx-1.11.2+gef2bbcf  | 11.9 MB   | ###8       |  38%\n",
            "ucx-1.11.2+gef2bbcf  | 11.9 MB   | #######9   |  79%\n",
            "ucx-1.11.2+gef2bbcf  | 11.9 MB   | ########## | 100%\n",
            "ucx-1.11.2+gef2bbcf  | 11.9 MB   | ########## | 100%\n",
            "\n",
            "libcumlprims-21.12.0 | 3.7 MB    |            |   0%\n",
            "libcumlprims-21.12.0 | 3.7 MB    | ########## | 100%\n",
            "libcumlprims-21.12.0 | 3.7 MB    | ########## | 100%\n",
            "\n",
            "font-ttf-inconsolata | 94 KB     |            |   0%\n",
            "font-ttf-inconsolata | 94 KB     | ########## | 100%\n",
            "\n",
            "libcurl-7.78.0       | 335 KB    |            |   0%\n",
            "libcurl-7.78.0       | 335 KB    | 4          |   5%\n",
            "libcurl-7.78.0       | 335 KB    | ###8       |  38%\n",
            "libcurl-7.78.0       | 335 KB    | ########## | 100%\n",
            "\n",
            "tornado-6.1          | 646 KB    |            |   0%\n",
            "tornado-6.1          | 646 KB    | 2          |   2%\n",
            "tornado-6.1          | 646 KB    | ########## | 100%\n",
            "tornado-6.1          | 646 KB    | ########## | 100%\n",
            "\n",
            "jedi-0.18.1          | 799 KB    |            |   0%\n",
            "jedi-0.18.1          | 799 KB    | ########## | 100%\n",
            "jedi-0.18.1          | 799 KB    | ########## | 100%\n",
            "\n",
            "aws-c-cal-0.5.11     | 37 KB     |            |   0%\n",
            "aws-c-cal-0.5.11     | 37 KB     | ########## | 100%\n",
            "aws-c-cal-0.5.11     | 37 KB     | ########## | 100%\n",
            "\n",
            "multipledispatch-0.6 | 12 KB     |            |   0%\n",
            "multipledispatch-0.6 | 12 KB     | ########## | 100%\n",
            "\n",
            "python-confluent-kaf | 125 KB    |            |   0%\n",
            "python-confluent-kaf | 125 KB    | #2         |  13%\n",
            "python-confluent-kaf | 125 KB    | ########## | 100%\n",
            "\n",
            "zfp-0.5.5            | 190 KB    |            |   0%\n",
            "zfp-0.5.5            | 190 KB    | ########## | 100%\n",
            "\n",
            "uvicorn-0.18.2       | 82 KB     |            |   0%\n",
            "uvicorn-0.18.2       | 82 KB     | #9         |  19%\n",
            "uvicorn-0.18.2       | 82 KB     | ########## | 100%\n",
            "\n",
            "fonts-conda-forge-1  | 4 KB      |            |   0%\n",
            "fonts-conda-forge-1  | 4 KB      | ########## | 100%\n",
            "\n",
            "libzip-1.9.2         | 97 KB     |            |   0%\n",
            "libzip-1.9.2         | 97 KB     | ########## | 100%\n",
            "\n",
            "cfitsio-3.470        | 1.3 MB    |            |   0%\n",
            "cfitsio-3.470        | 1.3 MB    | ########## | 100%\n",
            "cfitsio-3.470        | 1.3 MB    | ########## | 100%\n",
            "\n",
            "libxslt-1.1.33       | 522 KB    |            |   0%\n",
            "libxslt-1.1.33       | 522 KB    | ########## | 100%\n",
            "libxslt-1.1.33       | 522 KB    | ########## | 100%\n",
            "\n",
            "abseil-cpp-20210324. | 1010 KB   |            |   0%\n",
            "abseil-cpp-20210324. | 1010 KB   | ########## | 100%\n",
            "abseil-cpp-20210324. | 1010 KB   | ########## | 100%\n",
            "\n",
            "arrow-cpp-5.0.0      | 23.3 MB   |            |   0%\n",
            "arrow-cpp-5.0.0      | 23.3 MB   |            |   0%\n",
            "arrow-cpp-5.0.0      | 23.3 MB   | 1          |   1%\n",
            "arrow-cpp-5.0.0      | 23.3 MB   | 4          |   4%\n",
            "arrow-cpp-5.0.0      | 23.3 MB   | 9          |  10%\n",
            "arrow-cpp-5.0.0      | 23.3 MB   | #8         |  19%\n",
            "arrow-cpp-5.0.0      | 23.3 MB   | ###5       |  35%\n",
            "arrow-cpp-5.0.0      | 23.3 MB   | #####3     |  53%\n",
            "arrow-cpp-5.0.0      | 23.3 MB   | ######9    |  70%\n",
            "arrow-cpp-5.0.0      | 23.3 MB   | ########## | 100%\n",
            "arrow-cpp-5.0.0      | 23.3 MB   | ########## | 100%\n",
            "\n",
            "backports.zoneinfo-0 | 47 KB     |            |   0%\n",
            "backports.zoneinfo-0 | 47 KB     | ########## | 100%\n",
            "\n",
            "tzlocal-4.2          | 31 KB     |            |   0%\n",
            "tzlocal-4.2          | 31 KB     | ########## | 100%\n",
            "\n",
            "numpy-1.21.6         | 6.1 MB    |            |   0%\n",
            "numpy-1.21.6         | 6.1 MB    | ###9       |  40%\n",
            "numpy-1.21.6         | 6.1 MB    | ########## | 100%\n",
            "numpy-1.21.6         | 6.1 MB    | ########## | 100%\n",
            "\n",
            "jupyter_server-1.18. | 232 KB    |            |   0%\n",
            "jupyter_server-1.18. | 232 KB    | ########## | 100%\n",
            "jupyter_server-1.18. | 232 KB    | ########## | 100%\n",
            "\n",
            "libcblas-3.9.0       | 13 KB     |            |   0%\n",
            "libcblas-3.9.0       | 13 KB     | ########## | 100%\n",
            "\n",
            "backports-1.0        | 4 KB      |            |   0%\n",
            "backports-1.0        | 4 KB      | ########## | 100%\n",
            "\n",
            "anyio-3.6.1          | 83 KB     |            |   0%\n",
            "anyio-3.6.1          | 83 KB     | ########## | 100%\n",
            "\n",
            "cligj-0.7.2          | 10 KB     |            |   0%\n",
            "cligj-0.7.2          | 10 KB     | ########## | 100%\n",
            "\n",
            "jupyter_core-4.11.1  | 81 KB     |            |   0%\n",
            "jupyter_core-4.11.1  | 81 KB     | ########## | 100%\n",
            "\n",
            "google-cloud-core-2. | 28 KB     |            |   0%\n",
            "google-cloud-core-2. | 28 KB     | ########## | 100%\n",
            "\n",
            "freetype-2.12.1      | 884 KB    |            |   0%\n",
            "freetype-2.12.1      | 884 KB    | ########## | 100%\n",
            "freetype-2.12.1      | 884 KB    | ########## | 100%\n",
            "\n",
            "parso-0.8.3          | 69 KB     |            |   0%\n",
            "parso-0.8.3          | 69 KB     | ########## | 100%\n",
            "\n",
            "websocket-client-1.3 | 41 KB     |            |   0%\n",
            "websocket-client-1.3 | 41 KB     | ########## | 100%\n",
            "\n",
            "cuml-21.12.00        | 9.4 MB    |            |   0%\n",
            "cuml-21.12.00        | 9.4 MB    |            |   0%\n",
            "cuml-21.12.00        | 9.4 MB    | 1          |   1%\n",
            "cuml-21.12.00        | 9.4 MB    | 5          |   5%\n",
            "cuml-21.12.00        | 9.4 MB    | ##2        |  23%\n",
            "cuml-21.12.00        | 9.4 MB    | ######7    |  67%\n",
            "cuml-21.12.00        | 9.4 MB    | ########## | 100%\n",
            "cuml-21.12.00        | 9.4 MB    | ########## | 100%\n",
            "\n",
            "brotli-1.0.9         | 18 KB     |            |   0%\n",
            "brotli-1.0.9         | 18 KB     | ########## | 100%\n",
            "\n",
            "cugraph-21.12.00     | 7.2 MB    |            |   0%\n",
            "cugraph-21.12.00     | 7.2 MB    |            |   0%\n",
            "cugraph-21.12.00     | 7.2 MB    | ######6    |  67%\n",
            "cugraph-21.12.00     | 7.2 MB    | ########## | 100%\n",
            "cugraph-21.12.00     | 7.2 MB    | ########## | 100%\n",
            "\n",
            "googleapis-common-pr | 123 KB    |            |   0%\n",
            "googleapis-common-pr | 123 KB    | #3         |  13%\n",
            "googleapis-common-pr | 123 KB    | ########## | 100%\n",
            "\n",
            "pooch-1.6.0          | 44 KB     |            |   0%\n",
            "pooch-1.6.0          | 44 KB     | ########## | 100%\n",
            "\n",
            "requests-oauthlib-1. | 22 KB     |            |   0%\n",
            "requests-oauthlib-1. | 22 KB     | ########## | 100%\n",
            "\n",
            "libsodium-1.0.18     | 366 KB    |            |   0%\n",
            "libsodium-1.0.18     | 366 KB    | ########## | 100%\n",
            "libsodium-1.0.18     | 366 KB    | ########## | 100%\n",
            "\n",
            "gdal-3.3.2           | 1.7 MB    |            |   0%\n",
            "gdal-3.3.2           | 1.7 MB    |            |   1%\n",
            "gdal-3.3.2           | 1.7 MB    | ########## | 100%\n",
            "gdal-3.3.2           | 1.7 MB    | ########## | 100%\n",
            "\n",
            "beautifulsoup4-4.11. | 96 KB     |            |   0%\n",
            "beautifulsoup4-4.11. | 96 KB     | ########## | 100%\n",
            "\n",
            "brotli-bin-1.0.9     | 19 KB     |            |   0%\n",
            "brotli-bin-1.0.9     | 19 KB     | ########## | 100%\n",
            "\n",
            "fontconfig-2.14.0    | 305 KB    |            |   0%\n",
            "fontconfig-2.14.0    | 305 KB    | ########## | 100%\n",
            "fontconfig-2.14.0    | 305 KB    | ########## | 100%\n",
            "\n",
            "nbconvert-core-6.5.3 | 448 KB    |            |   0%\n",
            "nbconvert-core-6.5.3 | 448 KB    | ########## | 100%\n",
            "nbconvert-core-6.5.3 | 448 KB    | ########## | 100%\n",
            "\n",
            "kealib-1.4.15        | 188 KB    |            |   0%\n",
            "kealib-1.4.15        | 188 KB    | ########## | 100%\n",
            "\n",
            "nvtx-0.2.3           | 55 KB     |            |   0%\n",
            "nvtx-0.2.3           | 55 KB     | ##9        |  29%\n",
            "nvtx-0.2.3           | 55 KB     | ########## | 100%\n",
            "\n",
            "librmm-21.12.00      | 688 KB    |            |   0%\n",
            "librmm-21.12.00      | 688 KB    | 2          |   2%\n",
            "librmm-21.12.00      | 688 KB    | ########## | 100%\n",
            "librmm-21.12.00      | 688 KB    | ########## | 100%\n",
            "\n",
            "brunsli-0.1          | 200 KB    |            |   0%\n",
            "brunsli-0.1          | 200 KB    | ########## | 100%\n",
            "\n",
            "aws-c-common-0.6.2   | 168 KB    |            |   0%\n",
            "aws-c-common-0.6.2   | 168 KB    | 9          |  10%\n",
            "aws-c-common-0.6.2   | 168 KB    | ########## | 100%\n",
            "\n",
            "boost-1.74.0         | 342 KB    |            |   0%\n",
            "boost-1.74.0         | 342 KB    | ########## | 100%\n",
            "boost-1.74.0         | 342 KB    | ########## | 100%\n",
            "\n",
            "shapely-1.8.0        | 367 KB    |            |   0%\n",
            "shapely-1.8.0        | 367 KB    | 4          |   4%\n",
            "shapely-1.8.0        | 367 KB    | ####7      |  48%\n",
            "shapely-1.8.0        | 367 KB    | ########## | 100%\n",
            "shapely-1.8.0        | 367 KB    | ########## | 100%\n",
            "\n",
            "async-timeout-4.0.2  | 9 KB      |            |   0%\n",
            "async-timeout-4.0.2  | 9 KB      | ########## | 100%\n",
            "\n",
            "pynvml-11.4.1        | 40 KB     |            |   0%\n",
            "pynvml-11.4.1        | 40 KB     | ####       |  40%\n",
            "pynvml-11.4.1        | 40 KB     | ########## | 100%\n",
            "\n",
            "google-auth-2.10.0   | 90 KB     |            |   0%\n",
            "google-auth-2.10.0   | 90 KB     | ########## | 100%\n",
            "\n",
            "traitlets-5.3.0      | 85 KB     |            |   0%\n",
            "traitlets-5.3.0      | 85 KB     | ########## | 100%\n",
            "\n",
            "pandas-1.3.5         | 12.7 MB   |            |   0%\n",
            "pandas-1.3.5         | 12.7 MB   | #7         |  18%\n",
            "pandas-1.3.5         | 12.7 MB   | ###9       |  40%\n",
            "pandas-1.3.5         | 12.7 MB   | ######9    |  70%\n",
            "pandas-1.3.5         | 12.7 MB   | ########## | 100%\n",
            "pandas-1.3.5         | 12.7 MB   | ########## | 100%\n",
            "\n",
            "xorg-xextproto-7.3.0 | 28 KB     |            |   0%\n",
            "xorg-xextproto-7.3.0 | 28 KB     | ########## | 100%\n",
            "\n",
            "cusignal-21.12.00    | 1.1 MB    |            |   0%\n",
            "cusignal-21.12.00    | 1.1 MB    | 1          |   1%\n",
            "cusignal-21.12.00    | 1.1 MB    | ########## | 100%\n",
            "cusignal-21.12.00    | 1.1 MB    | ########## | 100%\n",
            "\n",
            "jpype1-1.4.0         | 495 KB    |            |   0%\n",
            "jpype1-1.4.0         | 495 KB    | ########## | 100%\n",
            "jpype1-1.4.0         | 495 KB    | ########## | 100%\n",
            "\n",
            "xorg-libice-1.0.10   | 58 KB     |            |   0%\n",
            "xorg-libice-1.0.10   | 58 KB     | ########## | 100%\n",
            "\n",
            "libcusolver-11.4.0.1 | 78.7 MB   |            |   0%\n",
            "libcusolver-11.4.0.1 | 78.7 MB   | ########## | 100%\n",
            "libcusolver-11.4.0.1 | 78.7 MB   | ########## | 100%\n",
            "\n",
            "poppler-data-0.4.11  | 3.6 MB    |            |   0%\n",
            "poppler-data-0.4.11  | 3.6 MB    | #####5     |  56%\n",
            "poppler-data-0.4.11  | 3.6 MB    | ########## | 100%\n",
            "poppler-data-0.4.11  | 3.6 MB    | ########## | 100%\n",
            "\n",
            "xgboost-1.5.0dev.rap | 17 KB     |            |   0%\n",
            "xgboost-1.5.0dev.rap | 17 KB     | #########2 |  93%\n",
            "xgboost-1.5.0dev.rap | 17 KB     | ########## | 100%\n",
            "\n",
            "matplotlib-base-3.4. | 7.2 MB    |            |   0%\n",
            "matplotlib-base-3.4. | 7.2 MB    |            |   0%\n",
            "matplotlib-base-3.4. | 7.2 MB    | 3          |   3%\n",
            "matplotlib-base-3.4. | 7.2 MB    | #1         |  11%\n",
            "matplotlib-base-3.4. | 7.2 MB    | ##9        |  29%\n",
            "matplotlib-base-3.4. | 7.2 MB    | #####8     |  59%\n",
            "matplotlib-base-3.4. | 7.2 MB    | ########## | 100%\n",
            "matplotlib-base-3.4. | 7.2 MB    | ########## | 100%\n",
            "\n",
            "python_abi-3.7       | 4 KB      |            |   0%\n",
            "python_abi-3.7       | 4 KB      | ########## | 100%\n",
            "\n",
            "ca-certificates-2022 | 149 KB    |            |   0%\n",
            "ca-certificates-2022 | 149 KB    | ########## | 100%\n",
            "\n",
            "parquet-cpp-1.5.1    | 3 KB      |            |   0%\n",
            "parquet-cpp-1.5.1    | 3 KB      | ########## | 100%\n",
            "\n",
            "libspatialindex-1.9. | 4.6 MB    |            |   0%\n",
            "libspatialindex-1.9. | 4.6 MB    | ###        |  30%\n",
            "libspatialindex-1.9. | 4.6 MB    | #########4 |  95%\n",
            "libspatialindex-1.9. | 4.6 MB    | ########## | 100%\n",
            "\n",
            "markupsafe-2.1.1     | 22 KB     |            |   0%\n",
            "markupsafe-2.1.1     | 22 KB     | ########## | 100%\n",
            "\n",
            "google-cloud-storage | 74 KB     |            |   0%\n",
            "google-cloud-storage | 74 KB     | ##1        |  22%\n",
            "google-cloud-storage | 74 KB     | ########## | 100%\n",
            "\n",
            "click-8.0.4          | 145 KB    |            |   0%\n",
            "click-8.0.4          | 145 KB    | #1         |  11%\n",
            "click-8.0.4          | 145 KB    | ########## | 100%\n",
            "\n",
            "libcuspatial-21.12.0 | 6.4 MB    |            |   0%\n",
            "libcuspatial-21.12.0 | 6.4 MB    |            |   0%\n",
            "libcuspatial-21.12.0 | 6.4 MB    | 1          |   1%\n",
            "libcuspatial-21.12.0 | 6.4 MB    | 6          |   6%\n",
            "libcuspatial-21.12.0 | 6.4 MB    | ##5        |  26%\n",
            "libcuspatial-21.12.0 | 6.4 MB    | ########7  |  88%\n",
            "libcuspatial-21.12.0 | 6.4 MB    | ########## | 100%\n",
            "\n",
            "libcudf_kafka-21.12. | 126 KB    |            |   0%\n",
            "libcudf_kafka-21.12. | 126 KB    | #2         |  13%\n",
            "libcudf_kafka-21.12. | 126 KB    | ########## | 100%\n",
            "\n",
            "libnetcdf-4.8.1      | 1.5 MB    |            |   0%\n",
            "libnetcdf-4.8.1      | 1.5 MB    | ######8    |  69%\n",
            "libnetcdf-4.8.1      | 1.5 MB    | ########## | 100%\n",
            "libnetcdf-4.8.1      | 1.5 MB    | ########## | 100%\n",
            "\n",
            "jupyter_client-7.3.4 | 91 KB     |            |   0%\n",
            "jupyter_client-7.3.4 | 91 KB     | ########## | 100%\n",
            "\n",
            "giflib-5.2.1         | 77 KB     |            |   0%\n",
            "giflib-5.2.1         | 77 KB     | ########## | 100%\n",
            "\n",
            "poppler-21.09.0      | 16.8 MB   |            |   0%\n",
            "poppler-21.09.0      | 16.8 MB   |            |   0%\n",
            "poppler-21.09.0      | 16.8 MB   | 1          |   1%\n",
            "poppler-21.09.0      | 16.8 MB   | 2          |   2%\n",
            "poppler-21.09.0      | 16.8 MB   | 2          |   3%\n",
            "poppler-21.09.0      | 16.8 MB   | 3          |   4%\n",
            "poppler-21.09.0      | 16.8 MB   | #2         |  13%\n",
            "poppler-21.09.0      | 16.8 MB   | ##4        |  25%\n",
            "poppler-21.09.0      | 16.8 MB   | ###9       |  39%\n",
            "poppler-21.09.0      | 16.8 MB   | ####8      |  49%\n",
            "poppler-21.09.0      | 16.8 MB   | ######1    |  62%\n",
            "poppler-21.09.0      | 16.8 MB   | ########7  |  87%\n",
            "poppler-21.09.0      | 16.8 MB   | ########## | 100%\n",
            "\n",
            "toolz-0.12.0         | 48 KB     |            |   0%\n",
            "toolz-0.12.0         | 48 KB     | ########## | 100%\n",
            "\n",
            "c-blosc2-2.2.0       | 247 KB    |            |   0%\n",
            "c-blosc2-2.2.0       | 247 KB    | ########## | 100%\n",
            "c-blosc2-2.2.0       | 247 KB    | ########## | 100%\n",
            "\n",
            "pyjwt-2.4.0          | 19 KB     |            |   0%\n",
            "pyjwt-2.4.0          | 19 KB     | ########## | 100%\n",
            "\n",
            "fiona-1.8.20         | 1.1 MB    |            |   0%\n",
            "fiona-1.8.20         | 1.1 MB    | 1          |   1%\n",
            "fiona-1.8.20         | 1.1 MB    | #2         |  13%\n",
            "fiona-1.8.20         | 1.1 MB    | ##3        |  24%\n",
            "fiona-1.8.20         | 1.1 MB    | ####4      |  45%\n",
            "fiona-1.8.20         | 1.1 MB    | ######     |  60%\n",
            "fiona-1.8.20         | 1.1 MB    | #######9   |  80%\n",
            "fiona-1.8.20         | 1.1 MB    | #########3 |  94%\n",
            "fiona-1.8.20         | 1.1 MB    | ########## | 100%\n",
            "\n",
            "aws-checksums-0.1.11 | 50 KB     |            |   0%\n",
            "aws-checksums-0.1.11 | 50 KB     | ########## | 100%\n",
            "\n",
            "fastapi-0.79.0       | 45 KB     |            |   0%\n",
            "fastapi-0.79.0       | 45 KB     | ########## | 100%\n",
            "\n",
            "rsa-4.9              | 29 KB     |            |   0%\n",
            "rsa-4.9              | 29 KB     | ########## | 100%\n",
            "\n",
            "jsonschema-4.9.1     | 62 KB     |            |   0%\n",
            "jsonschema-4.9.1     | 62 KB     | ########## | 100%\n",
            "\n",
            "rapids-xgboost-21.12 | 5 KB      |            |   0%\n",
            "rapids-xgboost-21.12 | 5 KB      | ########## | 100%\n",
            "rapids-xgboost-21.12 | 5 KB      | ########## | 100%\n",
            "\n",
            "frozenlist-1.3.1     | 44 KB     |            |   0%\n",
            "frozenlist-1.3.1     | 44 KB     | ###6       |  36%\n",
            "frozenlist-1.3.1     | 44 KB     | ########## | 100%\n",
            "\n",
            "tzdata-2022c         | 119 KB    |            |   0%\n",
            "tzdata-2022c         | 119 KB    | ########## | 100%\n",
            "tzdata-2022c         | 119 KB    | ########## | 100%\n",
            "\n",
            "rmm-21.12.00         | 943 KB    |            |   0%\n",
            "rmm-21.12.00         | 943 KB    | 1          |   2%\n",
            "rmm-21.12.00         | 943 KB    | 6          |   7%\n",
            "rmm-21.12.00         | 943 KB    | ##7        |  27%\n",
            "rmm-21.12.00         | 943 KB    | ########## | 100%\n",
            "rmm-21.12.00         | 943 KB    | ########## | 100%\n",
            "\n",
            "certifi-2022.6.15    | 155 KB    |            |   0%\n",
            "certifi-2022.6.15    | 155 KB    | ########## | 100%\n",
            "\n",
            "harfbuzz-2.9.1       | 2.0 MB    |            |   0%\n",
            "harfbuzz-2.9.1       | 2.0 MB    |            |   1%\n",
            "harfbuzz-2.9.1       | 2.0 MB    | ########## | 100%\n",
            "harfbuzz-2.9.1       | 2.0 MB    | ########## | 100%\n",
            "\n",
            "xorg-libx11-1.7.2    | 941 KB    |            |   0%\n",
            "xorg-libx11-1.7.2    | 941 KB    | ########## | 100%\n",
            "xorg-libx11-1.7.2    | 941 KB    | ########## | 100%\n",
            "\n",
            "grpcio-1.38.1        | 2.2 MB    |            |   0%\n",
            "grpcio-1.38.1        | 2.2 MB    |            |   1%\n",
            "grpcio-1.38.1        | 2.2 MB    | ######     |  61%\n",
            "grpcio-1.38.1        | 2.2 MB    | ########## | 100%\n",
            "grpcio-1.38.1        | 2.2 MB    | ########## | 100%\n",
            "\n",
            "libevent-2.1.10      | 1.1 MB    |            |   0%\n",
            "libevent-2.1.10      | 1.1 MB    | ########## | 100%\n",
            "libevent-2.1.10      | 1.1 MB    | ########## | 100%\n",
            "\n",
            "rapids-21.12.00      | 5 KB      |            |   0%\n",
            "rapids-21.12.00      | 5 KB      | ########## | 100%\n",
            "rapids-21.12.00      | 5 KB      | ########## | 100%\n",
            "\n",
            "conda-4.12.0         | 1.0 MB    |            |   0%\n",
            "conda-4.12.0         | 1.0 MB    | 1          |   2%\n",
            "conda-4.12.0         | 1.0 MB    | ########## | 100%\n",
            "conda-4.12.0         | 1.0 MB    | ########## | 100%\n",
            "\n",
            "tzcode-2022c         | 71 KB     |            |   0%\n",
            "tzcode-2022c         | 71 KB     | ########## | 100%\n",
            "\n",
            "pillow-8.3.1         | 692 KB    |            |   0%\n",
            "pillow-8.3.1         | 692 KB    | 2          |   2%\n",
            "pillow-8.3.1         | 692 KB    | ########## | 100%\n",
            "pillow-8.3.1         | 692 KB    | ########## | 100%\n",
            "\n",
            "python-fastjsonschem | 243 KB    |            |   0%\n",
            "python-fastjsonschem | 243 KB    | ########## | 100%\n",
            "python-fastjsonschem | 243 KB    | ########## | 100%\n",
            "\n",
            "multidict-6.0.2      | 49 KB     |            |   0%\n",
            "multidict-6.0.2      | 49 KB     | ########## | 100%\n",
            "\n",
            "jpeg-9e              | 269 KB    |            |   0%\n",
            "jpeg-9e              | 269 KB    | ########## | 100%\n",
            "jpeg-9e              | 269 KB    | ########## | 100%\n",
            "\n",
            "terminado-0.15.0     | 28 KB     |            |   0%\n",
            "terminado-0.15.0     | 28 KB     | ########## | 100%\n",
            "\n",
            "locket-1.0.0         | 8 KB      |            |   0%\n",
            "locket-1.0.0         | 8 KB      | ########## | 100%\n",
            "\n",
            "dask-cuda-21.12.00   | 123 KB    |            |   0%\n",
            "dask-cuda-21.12.00   | 123 KB    | #2         |  13%\n",
            "dask-cuda-21.12.00   | 123 KB    | ########## | 100%\n",
            "\n",
            "ucx-py-0.23.0        | 353 KB    |            |   0%\n",
            "ucx-py-0.23.0        | 353 KB    | 4          |   5%\n",
            "ucx-py-0.23.0        | 353 KB    | ########## | 100%\n",
            "\n",
            "attrs-22.1.0         | 48 KB     |            |   0%\n",
            "attrs-22.1.0         | 48 KB     | ########## | 100%\n",
            "\n",
            "pyparsing-3.0.9      | 79 KB     |            |   0%\n",
            "pyparsing-3.0.9      | 79 KB     | ########## | 100%\n",
            "\n",
            "libntlm-1.4          | 32 KB     |            |   0%\n",
            "libntlm-1.4          | 32 KB     | ####9      |  49%\n",
            "libntlm-1.4          | 32 KB     | ########## | 100%\n",
            "\n",
            "zlib-ng-2.0.6        | 96 KB     |            |   0%\n",
            "zlib-ng-2.0.6        | 96 KB     | ########## | 100%\n",
            "\n",
            "pygments-2.13.0      | 821 KB    |            |   0%\n",
            "pygments-2.13.0      | 821 KB    | ########## | 100%\n",
            "pygments-2.13.0      | 821 KB    | ########## | 100%\n",
            "\n",
            "aiosignal-1.2.0      | 12 KB     |            |   0%\n",
            "aiosignal-1.2.0      | 12 KB     | ########## | 100%\n",
            "\n",
            "libutf8proc-2.7.0    | 98 KB     |            |   0%\n",
            "libutf8proc-2.7.0    | 98 KB     | ########## | 100%\n",
            "\n",
            "libxcb-1.13          | 391 KB    |            |   0%\n",
            "libxcb-1.13          | 391 KB    | ########## | 100%\n",
            "libxcb-1.13          | 391 KB    | ########## | 100%\n",
            "\n",
            "dask-sql-2022.1.0    | 19.7 MB   |            |   0%\n",
            "dask-sql-2022.1.0    | 19.7 MB   |            |   0%\n",
            "dask-sql-2022.1.0    | 19.7 MB   |            |   1%\n",
            "dask-sql-2022.1.0    | 19.7 MB   | 1          |   1%\n",
            "dask-sql-2022.1.0    | 19.7 MB   | 3          |   3%\n",
            "dask-sql-2022.1.0    | 19.7 MB   | 5          |   6%\n",
            "dask-sql-2022.1.0    | 19.7 MB   | #1         |  12%\n",
            "dask-sql-2022.1.0    | 19.7 MB   | #8         |  18%\n",
            "dask-sql-2022.1.0    | 19.7 MB   | ##7        |  27%\n",
            "dask-sql-2022.1.0    | 19.7 MB   | ###3       |  34%\n",
            "dask-sql-2022.1.0    | 19.7 MB   | ####5      |  45%\n",
            "dask-sql-2022.1.0    | 19.7 MB   | #####2     |  53%\n",
            "dask-sql-2022.1.0    | 19.7 MB   | #####9     |  60%\n",
            "dask-sql-2022.1.0    | 19.7 MB   | ######6    |  67%\n",
            "dask-sql-2022.1.0    | 19.7 MB   | ########2  |  83%\n",
            "dask-sql-2022.1.0    | 19.7 MB   | #########1 |  92%\n",
            "dask-sql-2022.1.0    | 19.7 MB   | ########## | 100%\n",
            "\n",
            "scipy-1.7.3          | 21.8 MB   |            |   0%\n",
            "scipy-1.7.3          | 21.8 MB   | #1         |  12%\n",
            "scipy-1.7.3          | 21.8 MB   | ###8       |  38%\n",
            "scipy-1.7.3          | 21.8 MB   | #####5     |  56%\n",
            "scipy-1.7.3          | 21.8 MB   | ########7  |  87%\n",
            "scipy-1.7.3          | 21.8 MB   | ########## | 100%\n",
            "\n",
            "datashape-0.5.4      | 49 KB     |            |   0%\n",
            "datashape-0.5.4      | 49 KB     | ########## | 100%\n",
            "\n",
            "libzopfli-1.0.3      | 164 KB    |            |   0%\n",
            "libzopfli-1.0.3      | 164 KB    | ########## | 100%\n",
            "libzopfli-1.0.3      | 164 KB    | ########## | 100%\n",
            "\n",
            "libgcc-ng-12.1.0     | 940 KB    |            |   0%\n",
            "libgcc-ng-12.1.0     | 940 KB    | ########## | 100%\n",
            "libgcc-ng-12.1.0     | 940 KB    | ########## | 100%\n",
            "\n",
            "cudf-21.12.02        | 12.6 MB   |            |   0%\n",
            "cudf-21.12.02        | 12.6 MB   |            |   0%\n",
            "cudf-21.12.02        | 12.6 MB   |            |   0%\n",
            "cudf-21.12.02        | 12.6 MB   | 2          |   2%\n",
            "cudf-21.12.02        | 12.6 MB   | 8          |   9%\n",
            "cudf-21.12.02        | 12.6 MB   | ##8        |  29%\n",
            "cudf-21.12.02        | 12.6 MB   | ######5    |  66%\n",
            "cudf-21.12.02        | 12.6 MB   | ########## | 100%\n",
            "cudf-21.12.02        | 12.6 MB   | ########## | 100%\n",
            "\n",
            "imageio-2.13.1       | 3.1 MB    |            |   0%\n",
            "imageio-2.13.1       | 3.1 MB    |            |   0%\n",
            "imageio-2.13.1       | 3.1 MB    | 8          |   8%\n",
            "imageio-2.13.1       | 3.1 MB    | ##4        |  25%\n",
            "imageio-2.13.1       | 3.1 MB    | ######1    |  61%\n",
            "imageio-2.13.1       | 3.1 MB    | ########## | 100%\n",
            "imageio-2.13.1       | 3.1 MB    | ########## | 100%\n",
            "\n",
            "libxgboost-1.5.0dev. | 128.2 MB  |            |   0%\n",
            "libxgboost-1.5.0dev. | 128.2 MB  |            |   0%\n",
            "libxgboost-1.5.0dev. | 128.2 MB  | 3          |   4%\n",
            "libxgboost-1.5.0dev. | 128.2 MB  | 5          |   6%\n",
            "libxgboost-1.5.0dev. | 128.2 MB  | 9          |  10%\n",
            "libxgboost-1.5.0dev. | 128.2 MB  | #1         |  12%\n",
            "libxgboost-1.5.0dev. | 128.2 MB  | #5         |  16%\n",
            "libxgboost-1.5.0dev. | 128.2 MB  | #8         |  19%\n",
            "libxgboost-1.5.0dev. | 128.2 MB  | ##2        |  22%\n",
            "libxgboost-1.5.0dev. | 128.2 MB  | ##6        |  26%\n",
            "libxgboost-1.5.0dev. | 128.2 MB  | ##9        |  29%\n",
            "libxgboost-1.5.0dev. | 128.2 MB  | ###2       |  33%\n",
            "libxgboost-1.5.0dev. | 128.2 MB  | ###6       |  37%\n",
            "libxgboost-1.5.0dev. | 128.2 MB  | ###9       |  40%\n",
            "libxgboost-1.5.0dev. | 128.2 MB  | ####3      |  43%\n",
            "libxgboost-1.5.0dev. | 128.2 MB  | ####7      |  48%\n",
            "libxgboost-1.5.0dev. | 128.2 MB  | #####      |  51%\n",
            "libxgboost-1.5.0dev. | 128.2 MB  | #####4     |  54%\n",
            "libxgboost-1.5.0dev. | 128.2 MB  | #####7     |  57%\n",
            "libxgboost-1.5.0dev. | 128.2 MB  | ######     |  61%\n",
            "libxgboost-1.5.0dev. | 128.2 MB  | ######3    |  64%\n",
            "libxgboost-1.5.0dev. | 128.2 MB  | ######7    |  67%\n",
            "libxgboost-1.5.0dev. | 128.2 MB  | ######9    |  70%\n",
            "libxgboost-1.5.0dev. | 128.2 MB  | #######3   |  74%\n",
            "libxgboost-1.5.0dev. | 128.2 MB  | #######6   |  77%\n",
            "libxgboost-1.5.0dev. | 128.2 MB  | ########   |  80%\n",
            "libxgboost-1.5.0dev. | 128.2 MB  | ########3  |  83%\n",
            "libxgboost-1.5.0dev. | 128.2 MB  | ########6  |  87%\n",
            "libxgboost-1.5.0dev. | 128.2 MB  | ########9  |  90%\n",
            "libxgboost-1.5.0dev. | 128.2 MB  | #########2 |  93%\n",
            "libxgboost-1.5.0dev. | 128.2 MB  | #########5 |  96%\n",
            "libxgboost-1.5.0dev. | 128.2 MB  | #########8 |  98%\n",
            "libxgboost-1.5.0dev. | 128.2 MB  | ########## | 100%\n",
            "\n",
            "gettext-0.19.8.1     | 3.6 MB    |            |   0%\n",
            "gettext-0.19.8.1     | 3.6 MB    | ###        |  30%\n",
            "gettext-0.19.8.1     | 3.6 MB    | ########## | 100%\n",
            "gettext-0.19.8.1     | 3.6 MB    | ########## | 100%\n",
            "\n",
            "libfaiss-1.7.0       | 98.5 MB   |            |   0%\n",
            "libfaiss-1.7.0       | 98.5 MB   |            |   0%\n",
            "libfaiss-1.7.0       | 98.5 MB   | 1          |   2%\n",
            "libfaiss-1.7.0       | 98.5 MB   | 3          |   4%\n",
            "libfaiss-1.7.0       | 98.5 MB   | 6          |   7%\n",
            "libfaiss-1.7.0       | 98.5 MB   | 8          |   9%\n",
            "libfaiss-1.7.0       | 98.5 MB   | #          |  11%\n",
            "libfaiss-1.7.0       | 98.5 MB   | #3         |  14%\n",
            "libfaiss-1.7.0       | 98.5 MB   | #5         |  15%\n",
            "libfaiss-1.7.0       | 98.5 MB   | ##4        |  25%\n",
            "libfaiss-1.7.0       | 98.5 MB   | ###        |  31%\n",
            "libfaiss-1.7.0       | 98.5 MB   | ###5       |  35%\n",
            "libfaiss-1.7.0       | 98.5 MB   | ####       |  41%\n",
            "libfaiss-1.7.0       | 98.5 MB   | ####5      |  46%\n",
            "libfaiss-1.7.0       | 98.5 MB   | #####      |  51%\n",
            "libfaiss-1.7.0       | 98.5 MB   | #####4     |  55%\n",
            "libfaiss-1.7.0       | 98.5 MB   | ######2    |  62%\n",
            "libfaiss-1.7.0       | 98.5 MB   | ######7    |  68%\n",
            "libfaiss-1.7.0       | 98.5 MB   | #######2   |  72%\n",
            "libfaiss-1.7.0       | 98.5 MB   | #######6   |  76%\n",
            "libfaiss-1.7.0       | 98.5 MB   | #######9   |  79%\n",
            "libfaiss-1.7.0       | 98.5 MB   | ########3  |  84%\n",
            "libfaiss-1.7.0       | 98.5 MB   | ########6  |  87%\n",
            "libfaiss-1.7.0       | 98.5 MB   | #########2 |  92%\n",
            "libfaiss-1.7.0       | 98.5 MB   | #########8 |  99%\n",
            "libfaiss-1.7.0       | 98.5 MB   | ########## | 100%\n",
            "\n",
            "postgresql-13.5      | 5.3 MB    |            |   0%\n",
            "postgresql-13.5      | 5.3 MB    | ###2       |  33%\n",
            "postgresql-13.5      | 5.3 MB    | ########## | 100%\n",
            "postgresql-13.5      | 5.3 MB    | ########## | 100%\n",
            "\n",
            "ucx-proc-1.0.0       | 9 KB      |            |   0%\n",
            "ucx-proc-1.0.0       | 9 KB      | ########## | 100%\n",
            "ucx-proc-1.0.0       | 9 KB      | ########## | 100%\n",
            "\n",
            "pyarrow-5.0.0        | 2.9 MB    |            |   0%\n",
            "pyarrow-5.0.0        | 2.9 MB    |            |   1%\n",
            "pyarrow-5.0.0        | 2.9 MB    | ###7       |  37%\n",
            "pyarrow-5.0.0        | 2.9 MB    | #######9   |  80%\n",
            "pyarrow-5.0.0        | 2.9 MB    | ########## | 100%\n",
            "pyarrow-5.0.0        | 2.9 MB    | ########## | 100%\n",
            "\n",
            "packaging-21.3       | 36 KB     |            |   0%\n",
            "packaging-21.3       | 36 KB     | ########## | 100%\n",
            "\n",
            "libgdal-3.3.2        | 13.1 MB   |            |   0%\n",
            "libgdal-3.3.2        | 13.1 MB   |            |   0%\n",
            "libgdal-3.3.2        | 13.1 MB   | #9         |  19%\n",
            "libgdal-3.3.2        | 13.1 MB   | ##5        |  25%\n",
            "libgdal-3.3.2        | 13.1 MB   | #####      |  50%\n",
            "libgdal-3.3.2        | 13.1 MB   | #######9   |  80%\n",
            "libgdal-3.3.2        | 13.1 MB   | ########## | 100%\n",
            "libgdal-3.3.2        | 13.1 MB   | ########## | 100%\n",
            "\n",
            "libthrift-0.14.2     | 4.5 MB    |            |   0%\n",
            "libthrift-0.14.2     | 4.5 MB    |            |   0%\n",
            "libthrift-0.14.2     | 4.5 MB    | 2          |   2%\n",
            "libthrift-0.14.2     | 4.5 MB    | ##3        |  23%\n",
            "libthrift-0.14.2     | 4.5 MB    | ####8      |  48%\n",
            "libthrift-0.14.2     | 4.5 MB    | ########## | 100%\n",
            "libthrift-0.14.2     | 4.5 MB    | ########## | 100%\n",
            "\n",
            "libcuml-21.12.00     | 222.9 MB  |            |   0%\n",
            "libcuml-21.12.00     | 222.9 MB  |            |   0%\n",
            "libcuml-21.12.00     | 222.9 MB  |            |   0%\n",
            "libcuml-21.12.00     | 222.9 MB  |            |   0%\n",
            "libcuml-21.12.00     | 222.9 MB  | 1          |   1%\n",
            "libcuml-21.12.00     | 222.9 MB  | 3          |   3%\n",
            "libcuml-21.12.00     | 222.9 MB  | 4          |   5%\n",
            "libcuml-21.12.00     | 222.9 MB  | 6          |   7%\n",
            "libcuml-21.12.00     | 222.9 MB  | 8          |   9%\n",
            "libcuml-21.12.00     | 222.9 MB  | #          |  11%\n",
            "libcuml-21.12.00     | 222.9 MB  | #2         |  13%\n",
            "libcuml-21.12.00     | 222.9 MB  | #4         |  15%\n",
            "libcuml-21.12.00     | 222.9 MB  | #6         |  17%\n",
            "libcuml-21.12.00     | 222.9 MB  | #8         |  19%\n",
            "libcuml-21.12.00     | 222.9 MB  | ##         |  21%\n",
            "libcuml-21.12.00     | 222.9 MB  | ##2        |  23%\n",
            "libcuml-21.12.00     | 222.9 MB  | ##4        |  25%\n",
            "libcuml-21.12.00     | 222.9 MB  | ##6        |  27%\n",
            "libcuml-21.12.00     | 222.9 MB  | ##8        |  29%\n",
            "libcuml-21.12.00     | 222.9 MB  | ###        |  31%\n",
            "libcuml-21.12.00     | 222.9 MB  | ###2       |  33%\n",
            "libcuml-21.12.00     | 222.9 MB  | ###4       |  35%\n",
            "libcuml-21.12.00     | 222.9 MB  | ###6       |  37%\n",
            "libcuml-21.12.00     | 222.9 MB  | ###8       |  39%\n",
            "libcuml-21.12.00     | 222.9 MB  | ####1      |  41%\n",
            "libcuml-21.12.00     | 222.9 MB  | ####3      |  43%\n",
            "libcuml-21.12.00     | 222.9 MB  | ####5      |  45%\n",
            "libcuml-21.12.00     | 222.9 MB  | ####7      |  47%\n",
            "libcuml-21.12.00     | 222.9 MB  | ####9      |  50%\n",
            "libcuml-21.12.00     | 222.9 MB  | #####1     |  52%\n",
            "libcuml-21.12.00     | 222.9 MB  | #####3     |  54%\n",
            "libcuml-21.12.00     | 222.9 MB  | #####6     |  56%\n",
            "libcuml-21.12.00     | 222.9 MB  | #####8     |  58%\n",
            "libcuml-21.12.00     | 222.9 MB  | ######     |  60%\n",
            "libcuml-21.12.00     | 222.9 MB  | ######2    |  63%\n",
            "libcuml-21.12.00     | 222.9 MB  | ######4    |  65%\n",
            "libcuml-21.12.00     | 222.9 MB  | ######7    |  67%\n",
            "libcuml-21.12.00     | 222.9 MB  | ######9    |  69%\n",
            "libcuml-21.12.00     | 222.9 MB  | #######1   |  72%\n",
            "libcuml-21.12.00     | 222.9 MB  | #######3   |  74%\n",
            "libcuml-21.12.00     | 222.9 MB  | #######6   |  76%\n",
            "libcuml-21.12.00     | 222.9 MB  | #######8   |  78%\n",
            "libcuml-21.12.00     | 222.9 MB  | ########   |  81%\n",
            "libcuml-21.12.00     | 222.9 MB  | ########2  |  83%\n",
            "libcuml-21.12.00     | 222.9 MB  | ########5  |  85%\n",
            "libcuml-21.12.00     | 222.9 MB  | ########7  |  88%\n",
            "libcuml-21.12.00     | 222.9 MB  | ########9  |  90%\n",
            "libcuml-21.12.00     | 222.9 MB  | #########2 |  92%\n",
            "libcuml-21.12.00     | 222.9 MB  | #########4 |  94%\n",
            "libcuml-21.12.00     | 222.9 MB  | #########6 |  97%\n",
            "libcuml-21.12.00     | 222.9 MB  | #########9 |  99%\n",
            "libcuml-21.12.00     | 222.9 MB  | ########## | 100%\n",
            "\n",
            "google-api-core-2.8. | 70 KB     |            |   0%\n",
            "google-api-core-2.8. | 70 KB     | ########## | 100%\n",
            "\n",
            "cycler-0.11.0        | 10 KB     |            |   0%\n",
            "cycler-0.11.0        | 10 KB     | ########## | 100%\n",
            "\n",
            "asynctest-0.13.0     | 24 KB     |            |   0%\n",
            "asynctest-0.13.0     | 24 KB     | ######5    |  66%\n",
            "asynctest-0.13.0     | 24 KB     | ########## | 100%\n",
            "\n",
            "libcudf-21.12.02     | 288.2 MB  |            |   0%\n",
            "libcudf-21.12.02     | 288.2 MB  |            |   0%\n",
            "libcudf-21.12.02     | 288.2 MB  |            |   0%\n",
            "libcudf-21.12.02     | 288.2 MB  |            |   0%\n",
            "libcudf-21.12.02     | 288.2 MB  |            |   0%\n",
            "libcudf-21.12.02     | 288.2 MB  | 1          |   2%\n",
            "libcudf-21.12.02     | 288.2 MB  | 3          |   3%\n",
            "libcudf-21.12.02     | 288.2 MB  | 4          |   5%\n",
            "libcudf-21.12.02     | 288.2 MB  | 6          |   6%\n",
            "libcudf-21.12.02     | 288.2 MB  | 7          |   7%\n",
            "libcudf-21.12.02     | 288.2 MB  | 8          |   9%\n",
            "libcudf-21.12.02     | 288.2 MB  | #          |  10%\n",
            "libcudf-21.12.02     | 288.2 MB  | #1         |  12%\n",
            "libcudf-21.12.02     | 288.2 MB  | #2         |  13%\n",
            "libcudf-21.12.02     | 288.2 MB  | #4         |  14%\n",
            "libcudf-21.12.02     | 288.2 MB  | #5         |  16%\n",
            "libcudf-21.12.02     | 288.2 MB  | #7         |  17%\n",
            "libcudf-21.12.02     | 288.2 MB  | #8         |  19%\n",
            "libcudf-21.12.02     | 288.2 MB  | #9         |  20%\n",
            "libcudf-21.12.02     | 288.2 MB  | ##1        |  21%\n",
            "libcudf-21.12.02     | 288.2 MB  | ##2        |  23%\n",
            "libcudf-21.12.02     | 288.2 MB  | ##3        |  24%\n",
            "libcudf-21.12.02     | 288.2 MB  | ##5        |  25%\n",
            "libcudf-21.12.02     | 288.2 MB  | ##7        |  27%\n",
            "libcudf-21.12.02     | 288.2 MB  | ##8        |  28%\n",
            "libcudf-21.12.02     | 288.2 MB  | ###        |  30%\n",
            "libcudf-21.12.02     | 288.2 MB  | ###1       |  31%\n",
            "libcudf-21.12.02     | 288.2 MB  | ###3       |  33%\n",
            "libcudf-21.12.02     | 288.2 MB  | ###4       |  34%\n",
            "libcudf-21.12.02     | 288.2 MB  | ###5       |  36%\n",
            "libcudf-21.12.02     | 288.2 MB  | ###7       |  37%\n",
            "libcudf-21.12.02     | 288.2 MB  | ###8       |  39%\n",
            "libcudf-21.12.02     | 288.2 MB  | ###9       |  40%\n",
            "libcudf-21.12.02     | 288.2 MB  | ####1      |  42%\n",
            "libcudf-21.12.02     | 288.2 MB  | ####2      |  43%\n",
            "libcudf-21.12.02     | 288.2 MB  | ####4      |  44%\n",
            "libcudf-21.12.02     | 288.2 MB  | ####5      |  46%\n",
            "libcudf-21.12.02     | 288.2 MB  | ####6      |  47%\n",
            "libcudf-21.12.02     | 288.2 MB  | ####7      |  48%\n",
            "libcudf-21.12.02     | 288.2 MB  | ####9      |  49%\n",
            "libcudf-21.12.02     | 288.2 MB  | #####      |  51%\n",
            "libcudf-21.12.02     | 288.2 MB  | #####1     |  52%\n",
            "libcudf-21.12.02     | 288.2 MB  | #####3     |  53%\n",
            "libcudf-21.12.02     | 288.2 MB  | #####4     |  55%\n",
            "libcudf-21.12.02     | 288.2 MB  | #####5     |  56%\n",
            "libcudf-21.12.02     | 288.2 MB  | #####7     |  57%\n",
            "libcudf-21.12.02     | 288.2 MB  | #####8     |  59%\n",
            "libcudf-21.12.02     | 288.2 MB  | #####9     |  60%\n",
            "libcudf-21.12.02     | 288.2 MB  | ######1    |  61%\n",
            "libcudf-21.12.02     | 288.2 MB  | ######2    |  62%\n",
            "libcudf-21.12.02     | 288.2 MB  | ######3    |  64%\n",
            "libcudf-21.12.02     | 288.2 MB  | ######5    |  65%\n",
            "libcudf-21.12.02     | 288.2 MB  | ######6    |  66%\n",
            "libcudf-21.12.02     | 288.2 MB  | ######7    |  68%\n",
            "libcudf-21.12.02     | 288.2 MB  | ######8    |  69%\n",
            "libcudf-21.12.02     | 288.2 MB  | #######    |  70%\n",
            "libcudf-21.12.02     | 288.2 MB  | #######1   |  72%\n",
            "libcudf-21.12.02     | 288.2 MB  | #######2   |  73%\n",
            "libcudf-21.12.02     | 288.2 MB  | #######4   |  74%\n",
            "libcudf-21.12.02     | 288.2 MB  | #######5   |  76%\n",
            "libcudf-21.12.02     | 288.2 MB  | #######6   |  77%\n",
            "libcudf-21.12.02     | 288.2 MB  | #######8   |  78%\n",
            "libcudf-21.12.02     | 288.2 MB  | #######9   |  79%\n",
            "libcudf-21.12.02     | 288.2 MB  | ########   |  81%\n",
            "libcudf-21.12.02     | 288.2 MB  | ########2  |  82%\n",
            "libcudf-21.12.02     | 288.2 MB  | ########3  |  84%\n",
            "libcudf-21.12.02     | 288.2 MB  | ########4  |  85%\n",
            "libcudf-21.12.02     | 288.2 MB  | ########6  |  86%\n",
            "libcudf-21.12.02     | 288.2 MB  | ########7  |  88%\n",
            "libcudf-21.12.02     | 288.2 MB  | ########9  |  89%\n",
            "libcudf-21.12.02     | 288.2 MB  | #########  |  91%\n",
            "libcudf-21.12.02     | 288.2 MB  | #########2 |  92%\n",
            "libcudf-21.12.02     | 288.2 MB  | #########3 |  94%\n",
            "libcudf-21.12.02     | 288.2 MB  | #########4 |  95%\n",
            "libcudf-21.12.02     | 288.2 MB  | #########6 |  97%\n",
            "libcudf-21.12.02     | 288.2 MB  | #########7 |  98%\n",
            "libcudf-21.12.02     | 288.2 MB  | #########9 |  99%\n",
            "libcudf-21.12.02     | 288.2 MB  | ########## | 100%\n",
            "\n",
            "libgfortran5-12.1.0  | 1.8 MB    |            |   0%\n",
            "libgfortran5-12.1.0  | 1.8 MB    | ########## | 100%\n",
            "libgfortran5-12.1.0  | 1.8 MB    | ########## | 100%\n",
            "\n",
            "json-c-0.15          | 274 KB    |            |   0%\n",
            "json-c-0.15          | 274 KB    | ########## | 100%\n",
            "\n",
            "olefile-0.46         | 32 KB     |            |   0%\n",
            "olefile-0.46         | 32 KB     | ########## | 100%\n",
            "\n",
            "zipp-3.8.1           | 13 KB     |            |   0%\n",
            "zipp-3.8.1           | 13 KB     | ########## | 100%\n",
            "\n",
            "ipywidgets-8.0.1     | 109 KB    |            |   0%\n",
            "ipywidgets-8.0.1     | 109 KB    | ########## | 100%\n",
            "\n",
            "font-ttf-dejavu-sans | 388 KB    |            |   0%\n",
            "font-ttf-dejavu-sans | 388 KB    | ########## | 100%\n",
            "font-ttf-dejavu-sans | 388 KB    | ########## | 100%\n",
            "\n",
            "llvmlite-0.38.1      | 2.3 MB    |            |   0%\n",
            "llvmlite-0.38.1      | 2.3 MB    | ########## | 100%\n",
            "llvmlite-0.38.1      | 2.3 MB    | ########## | 100%\n",
            "\n",
            "threadpoolctl-3.1.0  | 18 KB     |            |   0%\n",
            "threadpoolctl-3.1.0  | 18 KB     | ########## | 100%\n",
            "\n",
            "typing_extensions-4. | 28 KB     |            |   0%\n",
            "typing_extensions-4. | 28 KB     | ########## | 100%\n",
            "\n",
            "partd-1.3.0          | 18 KB     |            |   0%\n",
            "partd-1.3.0          | 18 KB     | ########## | 100%\n",
            "\n",
            "libarchive-3.5.2     | 1.6 MB    |            |   0%\n",
            "libarchive-3.5.2     | 1.6 MB    | ########## | 100%\n",
            "libarchive-3.5.2     | 1.6 MB    | ########## | 100%\n",
            "\n",
            "msgpack-python-1.0.4 | 90 KB     |            |   0%\n",
            "msgpack-python-1.0.4 | 90 KB     | ########## | 100%\n",
            "\n",
            "scikit-image-0.18.1  | 11.5 MB   |            |   0%\n",
            "scikit-image-0.18.1  | 11.5 MB   |            |   0%\n",
            "scikit-image-0.18.1  | 11.5 MB   | 5          |   5%\n",
            "scikit-image-0.18.1  | 11.5 MB   | #2         |  13%\n",
            "scikit-image-0.18.1  | 11.5 MB   | ##5        |  26%\n",
            "scikit-image-0.18.1  | 11.5 MB   | ####7      |  47%\n",
            "scikit-image-0.18.1  | 11.5 MB   | #########4 |  95%\n",
            "scikit-image-0.18.1  | 11.5 MB   | ########## | 100%\n",
            "\n",
            "dask-2021.11.2       | 5 KB      |            |   0%\n",
            "dask-2021.11.2       | 5 KB      | ########## | 100%\n",
            "\n",
            "cytoolz-0.12.0       | 380 KB    |            |   0%\n",
            "cytoolz-0.12.0       | 380 KB    | ########## | 100%\n",
            "cytoolz-0.12.0       | 380 KB    | ########## | 100%\n",
            "\n",
            "alsa-lib-1.2.3.2     | 554 KB    |            |   0%\n",
            "alsa-lib-1.2.3.2     | 554 KB    | ########## | 100%\n",
            "alsa-lib-1.2.3.2     | 554 KB    | ########## | 100%\n",
            "\n",
            "argon2-cffi-21.3.0   | 15 KB     |            |   0%\n",
            "argon2-cffi-21.3.0   | 15 KB     | ########## | 100%\n",
            "\n",
            "geopandas-0.9.0      | 5 KB      |            |   0%\n",
            "geopandas-0.9.0      | 5 KB      | ########## | 100%\n",
            "\n",
            "streamz-0.6.4        | 63 KB     |            |   0%\n",
            "streamz-0.6.4        | 63 KB     | ##5        |  25%\n",
            "streamz-0.6.4        | 63 KB     | ########## | 100%\n",
            "\n",
            "boost-cpp-1.74.0     | 16.3 MB   |            |   0%\n",
            "boost-cpp-1.74.0     | 16.3 MB   |            |   0%\n",
            "boost-cpp-1.74.0     | 16.3 MB   | #          |  11%\n",
            "boost-cpp-1.74.0     | 16.3 MB   | ##1        |  21%\n",
            "boost-cpp-1.74.0     | 16.3 MB   | ####3      |  43%\n",
            "boost-cpp-1.74.0     | 16.3 MB   | ######3    |  63%\n",
            "boost-cpp-1.74.0     | 16.3 MB   | ########5  |  85%\n",
            "boost-cpp-1.74.0     | 16.3 MB   | ########## | 100%\n",
            "boost-cpp-1.74.0     | 16.3 MB   | ########## | 100%\n",
            "\n",
            "importlib_resources- | 28 KB     |            |   0%\n",
            "importlib_resources- | 28 KB     | ########## | 100%\n",
            "\n",
            "pandocfilters-1.5.0  | 11 KB     |            |   0%\n",
            "pandocfilters-1.5.0  | 11 KB     | ########## | 100%\n",
            "\n",
            "libwebp-base-1.2.2   | 824 KB    |            |   0%\n",
            "libwebp-base-1.2.2   | 824 KB    | 1          |   2%\n",
            "libwebp-base-1.2.2   | 824 KB    | ########## | 100%\n",
            "libwebp-base-1.2.2   | 824 KB    | ########## | 100%\n",
            "\n",
            "joblib-1.1.0         | 210 KB    |            |   0%\n",
            "joblib-1.1.0         | 210 KB    | 7          |   8%\n",
            "joblib-1.1.0         | 210 KB    | ########## | 100%\n",
            "\n",
            "sniffio-1.2.0        | 15 KB     |            |   0%\n",
            "sniffio-1.2.0        | 15 KB     | ########## | 100%\n",
            "\n",
            "starlette-0.19.1     | 47 KB     |            |   0%\n",
            "starlette-0.19.1     | 47 KB     | ########## | 100%\n",
            "\n",
            "zlib-1.2.12          | 91 KB     |            |   0%\n",
            "zlib-1.2.12          | 91 KB     | ########## | 100%\n",
            "\n",
            "xorg-recordproto-1.1 | 8 KB      |            |   0%\n",
            "xorg-recordproto-1.1 | 8 KB      | ########## | 100%\n",
            "\n",
            "zeromq-4.3.4         | 351 KB    |            |   0%\n",
            "zeromq-4.3.4         | 351 KB    | ########## | 100%\n",
            "zeromq-4.3.4         | 351 KB    | ########## | 100%\n",
            "\n",
            "sortedcontainers-2.4 | 26 KB     |            |   0%\n",
            "sortedcontainers-2.4 | 26 KB     | ########## | 100%\n",
            "\n",
            "libxml2-2.9.12       | 772 KB    |            |   0%\n",
            "libxml2-2.9.12       | 772 KB    | #######4   |  75%\n",
            "libxml2-2.9.12       | 772 KB    | ########## | 100%\n",
            "libxml2-2.9.12       | 772 KB    | ########## | 100%\n",
            "\n",
            "nccl-2.13.4.1        | 133.8 MB  |            |   0%\n",
            "nccl-2.13.4.1        | 133.8 MB  |            |   0%\n",
            "nccl-2.13.4.1        | 133.8 MB  | 3          |   3%\n",
            "nccl-2.13.4.1        | 133.8 MB  | 6          |   7%\n",
            "nccl-2.13.4.1        | 133.8 MB  | #          |  11%\n",
            "nccl-2.13.4.1        | 133.8 MB  | #3         |  13%\n",
            "nccl-2.13.4.1        | 133.8 MB  | #5         |  15%\n",
            "nccl-2.13.4.1        | 133.8 MB  | #8         |  18%\n",
            "nccl-2.13.4.1        | 133.8 MB  | ##         |  21%\n",
            "nccl-2.13.4.1        | 133.8 MB  | ##3        |  24%\n",
            "nccl-2.13.4.1        | 133.8 MB  | ##6        |  26%\n",
            "nccl-2.13.4.1        | 133.8 MB  | ##8        |  29%\n",
            "nccl-2.13.4.1        | 133.8 MB  | ###1       |  31%\n",
            "nccl-2.13.4.1        | 133.8 MB  | ###4       |  34%\n",
            "nccl-2.13.4.1        | 133.8 MB  | ###8       |  39%\n",
            "nccl-2.13.4.1        | 133.8 MB  | ####2      |  43%\n",
            "nccl-2.13.4.1        | 133.8 MB  | ####5      |  46%\n",
            "nccl-2.13.4.1        | 133.8 MB  | ####9      |  49%\n",
            "nccl-2.13.4.1        | 133.8 MB  | #####1     |  52%\n",
            "nccl-2.13.4.1        | 133.8 MB  | #####4     |  55%\n",
            "nccl-2.13.4.1        | 133.8 MB  | #####7     |  57%\n",
            "nccl-2.13.4.1        | 133.8 MB  | #####8     |  59%\n",
            "nccl-2.13.4.1        | 133.8 MB  | ######     |  61%\n",
            "nccl-2.13.4.1        | 133.8 MB  | ######3    |  63%\n",
            "nccl-2.13.4.1        | 133.8 MB  | ######5    |  65%\n",
            "nccl-2.13.4.1        | 133.8 MB  | ######7    |  67%\n",
            "nccl-2.13.4.1        | 133.8 MB  | ######9    |  69%\n",
            "nccl-2.13.4.1        | 133.8 MB  | #######    |  71%\n",
            "nccl-2.13.4.1        | 133.8 MB  | #######4   |  75%\n",
            "nccl-2.13.4.1        | 133.8 MB  | #######7   |  78%\n",
            "nccl-2.13.4.1        | 133.8 MB  | ########1  |  81%\n",
            "nccl-2.13.4.1        | 133.8 MB  | ########3  |  84%\n",
            "nccl-2.13.4.1        | 133.8 MB  | ########6  |  86%\n",
            "nccl-2.13.4.1        | 133.8 MB  | ########8  |  88%\n",
            "nccl-2.13.4.1        | 133.8 MB  | #########  |  90%\n",
            "nccl-2.13.4.1        | 133.8 MB  | #########2 |  92%\n",
            "nccl-2.13.4.1        | 133.8 MB  | #########3 |  94%\n",
            "nccl-2.13.4.1        | 133.8 MB  | #########5 |  95%\n",
            "nccl-2.13.4.1        | 133.8 MB  | #########6 |  96%\n",
            "nccl-2.13.4.1        | 133.8 MB  | #########7 |  98%\n",
            "nccl-2.13.4.1        | 133.8 MB  | #########8 |  99%\n",
            "nccl-2.13.4.1        | 133.8 MB  | #########9 | 100%\n",
            "nccl-2.13.4.1        | 133.8 MB  | ########## | 100%\n",
            "\n",
            "aws-c-event-stream-0 | 47 KB     |            |   0%\n",
            "aws-c-event-stream-0 | 47 KB     | ########## | 100%\n",
            "\n",
            "aiohttp-3.8.1        | 561 KB    |            |   0%\n",
            "aiohttp-3.8.1        | 561 KB    | ########## | 100%\n",
            "aiohttp-3.8.1        | 561 KB    | ########## | 100%\n",
            "\n",
            "pyu2f-0.1.5          | 31 KB     |            |   0%\n",
            "pyu2f-0.1.5          | 31 KB     | ########## | 100%\n",
            "\n",
            "ipython_genutils-0.2 | 21 KB     |            |   0%\n",
            "ipython_genutils-0.2 | 21 KB     | ########## | 100%\n",
            "\n",
            "fastavro-1.6.0       | 466 KB    |            |   0%\n",
            "fastavro-1.6.0       | 466 KB    | 3          |   3%\n",
            "fastavro-1.6.0       | 466 KB    | ########## | 100%\n",
            "fastavro-1.6.0       | 466 KB    | ########## | 100%\n",
            "\n",
            "libcucim-21.12.00    | 2.8 MB    |            |   0%\n",
            "libcucim-21.12.00    | 2.8 MB    |            |   1%\n",
            "libcucim-21.12.00    | 2.8 MB    | 2          |   2%\n",
            "libcucim-21.12.00    | 2.8 MB    | 9          |   9%\n",
            "libcucim-21.12.00    | 2.8 MB    | ###7       |  38%\n",
            "libcucim-21.12.00    | 2.8 MB    | ########## | 100%\n",
            "libcucim-21.12.00    | 2.8 MB    | ########## | 100%\n",
            "\n",
            "defusedxml-0.7.1     | 23 KB     |            |   0%\n",
            "defusedxml-0.7.1     | 23 KB     | ########## | 100%\n",
            "\n",
            "librttopo-1.1.0      | 235 KB    |            |   0%\n",
            "librttopo-1.1.0      | 235 KB    | 6          |   7%\n",
            "librttopo-1.1.0      | 235 KB    | ########## | 100%\n",
            "\n",
            "ipykernel-6.14.0     | 185 KB    |            |   0%\n",
            "ipykernel-6.14.0     | 185 KB    | 8          |   9%\n",
            "ipykernel-6.14.0     | 185 KB    | ########## | 100%\n",
            "\n",
            "widgetsnbextension-4 | 1.6 MB    |            |   0%\n",
            "widgetsnbextension-4 | 1.6 MB    | ##3        |  24%\n",
            "widgetsnbextension-4 | 1.6 MB    | ########## | 100%\n",
            "widgetsnbextension-4 | 1.6 MB    | ########## | 100%\n",
            "\n",
            "cachetools-5.2.0     | 13 KB     |            |   0%\n",
            "cachetools-5.2.0     | 13 KB     | ########## | 100%\n",
            "\n",
            "openssl-1.1.1q       | 2.1 MB    |            |   0%\n",
            "openssl-1.1.1q       | 2.1 MB    | ###        |  30%\n",
            "openssl-1.1.1q       | 2.1 MB    | ########## | 100%\n",
            "openssl-1.1.1q       | 2.1 MB    | ########## | 100%\n",
            "\n",
            "xorg-libxau-1.0.9    | 13 KB     |            |   0%\n",
            "xorg-libxau-1.0.9    | 13 KB     | ########## | 100%\n",
            "\n",
            "ptxcompiler-0.2.0    | 5.6 MB    |            |   0%\n",
            "ptxcompiler-0.2.0    | 5.6 MB    |            |   0%\n",
            "ptxcompiler-0.2.0    | 5.6 MB    | #######5   |  75%\n",
            "ptxcompiler-0.2.0    | 5.6 MB    | ########## | 100%\n",
            "ptxcompiler-0.2.0    | 5.6 MB    | ########## | 100%\n",
            "\n",
            "decorator-5.1.1      | 12 KB     |            |   0%\n",
            "decorator-5.1.1      | 12 KB     | ########## | 100%\n",
            "decorator-5.1.1      | 12 KB     | ########## | 100%\n",
            "\n",
            "readline-8.1         | 295 KB    |            |   0%\n",
            "readline-8.1         | 295 KB    | 5          |   5%\n",
            "readline-8.1         | 295 KB    | ########## | 100%\n",
            "\n",
            "faiss-proc-1.0.0     | 24 KB     |            |   0%\n",
            "faiss-proc-1.0.0     | 24 KB     | ######7    |  68%\n",
            "faiss-proc-1.0.0     | 24 KB     | ########## | 100%\n",
            "\n",
            "networkx-2.7.1       | 1.5 MB    |            |   0%\n",
            "networkx-2.7.1       | 1.5 MB    | ######2    |  63%\n",
            "networkx-2.7.1       | 1.5 MB    | ########## | 100%\n",
            "networkx-2.7.1       | 1.5 MB    | ########## | 100%\n",
            "\n",
            "libprotobuf-3.16.0   | 2.5 MB    |            |   0%\n",
            "libprotobuf-3.16.0   | 2.5 MB    |            |   1%\n",
            "libprotobuf-3.16.0   | 2.5 MB    | #          |  11%\n",
            "libprotobuf-3.16.0   | 2.5 MB    | ##3        |  23%\n",
            "libprotobuf-3.16.0   | 2.5 MB    | ##9        |  29%\n",
            "libprotobuf-3.16.0   | 2.5 MB    | ####2      |  42%\n",
            "libprotobuf-3.16.0   | 2.5 MB    | #####1     |  51%\n",
            "libprotobuf-3.16.0   | 2.5 MB    | ######     |  61%\n",
            "libprotobuf-3.16.0   | 2.5 MB    | ######9    |  69%\n",
            "libprotobuf-3.16.0   | 2.5 MB    | #######6   |  76%\n",
            "libprotobuf-3.16.0   | 2.5 MB    | ########9  |  89%\n",
            "libprotobuf-3.16.0   | 2.5 MB    | ########## | 100%\n",
            "libprotobuf-3.16.0   | 2.5 MB    | ########## | 100%\n",
            "\n",
            "cucim-21.12.00       | 3.2 MB    |            |   0%\n",
            "cucim-21.12.00       | 3.2 MB    |            |   0%\n",
            "cucim-21.12.00       | 3.2 MB    | ########## | 100%\n",
            "cucim-21.12.00       | 3.2 MB    | ########## | 100%\n",
            "\n",
            "xorg-libxfixes-5.0.3 | 18 KB     |            |   0%\n",
            "xorg-libxfixes-5.0.3 | 18 KB     | ########## | 100%\n",
            "\n",
            "zict-2.2.0           | 20 KB     |            |   0%\n",
            "zict-2.2.0           | 20 KB     | ########## | 100%\n",
            "\n",
            "yarl-1.7.2           | 132 KB    |            |   0%\n",
            "yarl-1.7.2           | 132 KB    | ########## | 100%\n",
            "\n",
            "xorg-libxtst-1.2.3   | 31 KB     |            |   0%\n",
            "xorg-libxtst-1.2.3   | 31 KB     | ########## | 100%\n",
            "\n",
            "xorg-renderproto-0.1 | 9 KB      |            |   0%\n",
            "xorg-renderproto-0.1 | 9 KB      | ########## | 100%\n",
            "\n",
            "liblapack-3.9.0      | 13 KB     |            |   0%\n",
            "liblapack-3.9.0      | 13 KB     | ########## | 100%\n",
            "\n",
            "py-xgboost-1.5.0dev. | 159 KB    |            |   0%\n",
            "py-xgboost-1.5.0dev. | 159 KB    | #          |  10%\n",
            "py-xgboost-1.5.0dev. | 159 KB    | ########## | 100%\n",
            "\n",
            "tiledb-2.3.4         | 4.1 MB    |            |   0%\n",
            "tiledb-2.3.4         | 4.1 MB    |            |   0%\n",
            "tiledb-2.3.4         | 4.1 MB    | #########3 |  93%\n",
            "tiledb-2.3.4         | 4.1 MB    | ########## | 100%\n",
            "\n",
            "xorg-libxext-1.3.4   | 54 KB     |            |   0%\n",
            "xorg-libxext-1.3.4   | 54 KB     | ########## | 100%\n",
            "\n",
            "protobuf-3.16.0      | 342 KB    |            |   0%\n",
            "protobuf-3.16.0      | 342 KB    | 4          |   5%\n",
            "protobuf-3.16.0      | 342 KB    | ########## | 100%\n",
            "\n",
            "flit-core-3.7.1      | 44 KB     |            |   0%\n",
            "flit-core-3.7.1      | 44 KB     | ########## | 100%\n",
            "\n",
            "libgomp-12.1.0       | 459 KB    |            |   0%\n",
            "libgomp-12.1.0       | 459 KB    | ########## | 100%\n",
            "libgomp-12.1.0       | 459 KB    | ########## | 100%\n",
            "\n",
            "libcrc32c-1.1.2      | 20 KB     |            |   0%\n",
            "libcrc32c-1.1.2      | 20 KB     | ########## | 100%\n",
            "\n",
            "google-auth-oauthlib | 20 KB     |            |   0%\n",
            "google-auth-oauthlib | 20 KB     | ########## | 100%\n",
            "google-auth-oauthlib | 20 KB     | ########## | 100%\n",
            "\n",
            "nbclient-0.6.6       | 65 KB     |            |   0%\n",
            "nbclient-0.6.6       | 65 KB     | ########## | 100%\n",
            "\n",
            "pytz-2022.2.1        | 224 KB    |            |   0%\n",
            "pytz-2022.2.1        | 224 KB    | ########## | 100%\n",
            "pytz-2022.2.1        | 224 KB    | ########## | 100%\n",
            "\n",
            "param-1.12.2         | 72 KB     |            |   0%\n",
            "param-1.12.2         | 72 KB     | ########## | 100%\n",
            "\n",
            "distributed-2021.11. | 1.1 MB    |            |   0%\n",
            "distributed-2021.11. | 1.1 MB    | ##         |  21%\n",
            "distributed-2021.11. | 1.1 MB    | ########## | 100%\n",
            "distributed-2021.11. | 1.1 MB    | ########## | 100%\n",
            "\n",
            "krb5-1.19.3          | 1.4 MB    |            |   0%\n",
            "krb5-1.19.3          | 1.4 MB    | ########## | 100%\n",
            "krb5-1.19.3          | 1.4 MB    | ########## | 100%\n",
            "\n",
            "oauthlib-3.2.0       | 90 KB     |            |   0%\n",
            "oauthlib-3.2.0       | 90 KB     | ########## | 100%\n",
            "\n",
            "pcre-8.45            | 253 KB    |            |   0%\n",
            "pcre-8.45            | 253 KB    | ########## | 100%\n",
            "\n",
            "pexpect-4.8.0        | 47 KB     |            |   0%\n",
            "pexpect-4.8.0        | 47 KB     | ########## | 100%\n",
            "\n",
            "pyct-core-0.4.6      | 13 KB     |            |   0%\n",
            "pyct-core-0.4.6      | 13 KB     | ########## | 100%\n",
            "\n",
            "pyproj-3.1.0         | 523 KB    |            |   0%\n",
            "pyproj-3.1.0         | 523 KB    | 3          |   3%\n",
            "pyproj-3.1.0         | 523 KB    | ###9       |  40%\n",
            "pyproj-3.1.0         | 523 KB    | ######4    |  64%\n",
            "pyproj-3.1.0         | 523 KB    | ########## | 100%\n",
            "pyproj-3.1.0         | 523 KB    | ########## | 100%\n",
            "\n",
            "xorg-libxrender-0.9. | 32 KB     |            |   0%\n",
            "xorg-libxrender-0.9. | 32 KB     | ########## | 100%\n",
            "\n",
            "geopandas-base-0.9.0 | 950 KB    |            |   0%\n",
            "geopandas-base-0.9.0 | 950 KB    | ########## | 100%\n",
            "geopandas-base-0.9.0 | 950 KB    | ########## | 100%\n",
            "\n",
            "libuv-1.42.0         | 1.0 MB    |            |   0%\n",
            "libuv-1.42.0         | 1.0 MB    | 1          |   2%\n",
            "libuv-1.42.0         | 1.0 MB    | ######     |  60%\n",
            "libuv-1.42.0         | 1.0 MB    | #######7   |  77%\n",
            "libuv-1.42.0         | 1.0 MB    | ########## | 100%\n",
            "libuv-1.42.0         | 1.0 MB    | ########## | 100%\n",
            "\n",
            "fastrlock-0.8        | 31 KB     |            |   0%\n",
            "fastrlock-0.8        | 31 KB     | #####1     |  51%\n",
            "fastrlock-0.8        | 31 KB     | ########## | 100%\n",
            "\n",
            "cairo-1.16.0         | 1.5 MB    |            |   0%\n",
            "cairo-1.16.0         | 1.5 MB    | ########## | 100%\n",
            "cairo-1.16.0         | 1.5 MB    | ########## | 100%\n",
            "\n",
            "graphite2-1.3.13     | 102 KB    |            |   0%\n",
            "graphite2-1.3.13     | 102 KB    | #5         |  16%\n",
            "graphite2-1.3.13     | 102 KB    | ########## | 100%\n",
            "\n",
            "cloudpickle-2.1.0    | 25 KB     |            |   0%\n",
            "cloudpickle-2.1.0    | 25 KB     | ######4    |  64%\n",
            "cloudpickle-2.1.0    | 25 KB     | ########## | 100%\n",
            "\n",
            "libdap4-3.20.6       | 11.3 MB   |            |   0%\n",
            "libdap4-3.20.6       | 11.3 MB   | ##6        |  26%\n",
            "libdap4-3.20.6       | 11.3 MB   | ########6  |  86%\n",
            "libdap4-3.20.6       | 11.3 MB   | ########## | 100%\n",
            "\n",
            "argon2-cffi-bindings | 34 KB     |            |   0%\n",
            "argon2-cffi-bindings | 34 KB     | ########## | 100%\n",
            "\n",
            "openjpeg-2.4.0       | 444 KB    |            |   0%\n",
            "openjpeg-2.4.0       | 444 KB    | ########## | 100%\n",
            "openjpeg-2.4.0       | 444 KB    | ########## | 100%\n",
            "\n",
            "snappy-1.1.9         | 35 KB     |            |   0%\n",
            "snappy-1.1.9         | 35 KB     | ########## | 100%\n",
            "\n",
            "libhwloc-2.3.0       | 2.7 MB    |            |   0%\n",
            "libhwloc-2.3.0       | 2.7 MB    |            |   1%\n",
            "libhwloc-2.3.0       | 2.7 MB    | #          |  10%\n",
            "libhwloc-2.3.0       | 2.7 MB    | ###4       |  35%\n",
            "libhwloc-2.3.0       | 2.7 MB    | #######7   |  77%\n",
            "libhwloc-2.3.0       | 2.7 MB    | ########## | 100%\n",
            "libhwloc-2.3.0       | 2.7 MB    | ########## | 100%\n",
            "\n",
            "libblas-3.9.0        | 13 KB     |            |   0%\n",
            "libblas-3.9.0        | 13 KB     | ########## | 100%\n",
            "\n",
            "pickle5-0.0.12       | 173 KB    |            |   0%\n",
            "pickle5-0.0.12       | 173 KB    | 9          |   9%\n",
            "pickle5-0.0.12       | 173 KB    | ########## | 100%\n",
            "\n",
            "jxrlib-1.1           | 235 KB    |            |   0%\n",
            "jxrlib-1.1           | 235 KB    | ########## | 100%\n",
            "\n",
            "libspatialite-5.0.1  | 4.4 MB    |            |   0%\n",
            "libspatialite-5.0.1  | 4.4 MB    |            |   0%\n",
            "libspatialite-5.0.1  | 4.4 MB    | ########## | 100%\n",
            "libspatialite-5.0.1  | 4.4 MB    | ########## | 100%\n",
            "\n",
            "markdown-3.4.1       | 65 KB     |            |   0%\n",
            "markdown-3.4.1       | 65 KB     | ########## | 100%\n",
            "\n",
            "cudf_kafka-21.12.02  | 1.8 MB    |            |   0%\n",
            "cudf_kafka-21.12.02  | 1.8 MB    |            |   1%\n",
            "cudf_kafka-21.12.02  | 1.8 MB    | 3          |   3%\n",
            "cudf_kafka-21.12.02  | 1.8 MB    | #3         |  14%\n",
            "cudf_kafka-21.12.02  | 1.8 MB    | #####5     |  55%\n",
            "cudf_kafka-21.12.02  | 1.8 MB    | ########## | 100%\n",
            "cudf_kafka-21.12.02  | 1.8 MB    | ########## | 100%\n",
            "\n",
            "s2n-1.0.10           | 442 KB    |            |   0%\n",
            "s2n-1.0.10           | 442 KB    | ########## | 100%\n",
            "s2n-1.0.10           | 442 KB    | ########## | 100%\n",
            "\n",
            "blinker-1.4          | 13 KB     |            |   0%\n",
            "blinker-1.4          | 13 KB     | ########## | 100%\n",
            "\n",
            "typing-extensions-4. | 8 KB      |            |   0%\n",
            "typing-extensions-4. | 8 KB      | ########## | 100%\n",
            "\n",
            "jupyter-server-proxy | 29 KB     |            |   0%\n",
            "jupyter-server-proxy | 29 KB     | ########## | 100%\n",
            "\n",
            "datashader-0.11.1    | 14.0 MB   |            |   0%\n",
            "datashader-0.11.1    | 14.0 MB   |            |   0%\n",
            "datashader-0.11.1    | 14.0 MB   | #6         |  17%\n",
            "datashader-0.11.1    | 14.0 MB   | ##6        |  27%\n",
            "datashader-0.11.1    | 14.0 MB   | ####1      |  42%\n",
            "datashader-0.11.1    | 14.0 MB   | #####6     |  57%\n",
            "datashader-0.11.1    | 14.0 MB   | ######7    |  67%\n",
            "datashader-0.11.1    | 14.0 MB   | ########## | 100%\n",
            "datashader-0.11.1    | 14.0 MB   | ########## | 100%\n",
            "\n",
            "cuxfilter-21.12.00   | 137 KB    |            |   0%\n",
            "cuxfilter-21.12.00   | 137 KB    | #1         |  12%\n",
            "cuxfilter-21.12.00   | 137 KB    | ########## | 100%\n",
            "\n",
            "nest-asyncio-1.5.5   | 9 KB      |            |   0%\n",
            "nest-asyncio-1.5.5   | 9 KB      | ########## | 100%\n",
            "\n",
            "xorg-kbproto-1.0.7   | 27 KB     |            |   0%\n",
            "xorg-kbproto-1.0.7   | 27 KB     | ########## | 100%\n",
            "\n",
            "libgsasl-1.10.0      | 179 KB    |            |   0%\n",
            "libgsasl-1.10.0      | 179 KB    | ########## | 100%\n",
            "libgsasl-1.10.0      | 179 KB    | ########## | 100%\n",
            "\n",
            "libbrotlidec-1.0.9   | 33 KB     |            |   0%\n",
            "libbrotlidec-1.0.9   | 33 KB     | ########## | 100%\n",
            "\n",
            "jupyterlab_widgets-3 | 220 KB    |            |   0%\n",
            "jupyterlab_widgets-3 | 220 KB    | ########## | 100%\n",
            "\n",
            "libcugraph-21.12.00  | 259.4 MB  |            |   0%\n",
            "libcugraph-21.12.00  | 259.4 MB  |            |   0%\n",
            "libcugraph-21.12.00  | 259.4 MB  | 1          |   1%\n",
            "libcugraph-21.12.00  | 259.4 MB  | 3          |   3%\n",
            "libcugraph-21.12.00  | 259.4 MB  | 4          |   5%\n",
            "libcugraph-21.12.00  | 259.4 MB  | 6          |   6%\n",
            "libcugraph-21.12.00  | 259.4 MB  | 8          |   8%\n",
            "libcugraph-21.12.00  | 259.4 MB  | 9          |  10%\n",
            "libcugraph-21.12.00  | 259.4 MB  | #1         |  11%\n",
            "libcugraph-21.12.00  | 259.4 MB  | #3         |  13%\n",
            "libcugraph-21.12.00  | 259.4 MB  | #4         |  15%\n",
            "libcugraph-21.12.00  | 259.4 MB  | #6         |  17%\n",
            "libcugraph-21.12.00  | 259.4 MB  | #8         |  18%\n",
            "libcugraph-21.12.00  | 259.4 MB  | ##         |  20%\n",
            "libcugraph-21.12.00  | 259.4 MB  | ##1        |  22%\n",
            "libcugraph-21.12.00  | 259.4 MB  | ##3        |  24%\n",
            "libcugraph-21.12.00  | 259.4 MB  | ##5        |  25%\n",
            "libcugraph-21.12.00  | 259.4 MB  | ##7        |  27%\n",
            "libcugraph-21.12.00  | 259.4 MB  | ##9        |  29%\n",
            "libcugraph-21.12.00  | 259.4 MB  | ###        |  31%\n",
            "libcugraph-21.12.00  | 259.4 MB  | ###2       |  33%\n",
            "libcugraph-21.12.00  | 259.4 MB  | ###3       |  34%\n",
            "libcugraph-21.12.00  | 259.4 MB  | ###5       |  35%\n",
            "libcugraph-21.12.00  | 259.4 MB  | ###6       |  37%\n",
            "libcugraph-21.12.00  | 259.4 MB  | ###8       |  38%\n",
            "libcugraph-21.12.00  | 259.4 MB  | ###9       |  40%\n",
            "libcugraph-21.12.00  | 259.4 MB  | ####1      |  41%\n",
            "libcugraph-21.12.00  | 259.4 MB  | ####2      |  42%\n",
            "libcugraph-21.12.00  | 259.4 MB  | ####3      |  43%\n",
            "libcugraph-21.12.00  | 259.4 MB  | ####4      |  45%\n",
            "libcugraph-21.12.00  | 259.4 MB  | ####6      |  46%\n",
            "libcugraph-21.12.00  | 259.4 MB  | ####8      |  48%\n",
            "libcugraph-21.12.00  | 259.4 MB  | ####9      |  50%\n",
            "libcugraph-21.12.00  | 259.4 MB  | #####1     |  52%\n",
            "libcugraph-21.12.00  | 259.4 MB  | #####3     |  53%\n",
            "libcugraph-21.12.00  | 259.4 MB  | #####5     |  55%\n",
            "libcugraph-21.12.00  | 259.4 MB  | #####6     |  56%\n",
            "libcugraph-21.12.00  | 259.4 MB  | #####7     |  57%\n",
            "libcugraph-21.12.00  | 259.4 MB  | #####8     |  59%\n",
            "libcugraph-21.12.00  | 259.4 MB  | ######     |  60%\n",
            "libcugraph-21.12.00  | 259.4 MB  | ######1    |  61%\n",
            "libcugraph-21.12.00  | 259.4 MB  | ######2    |  62%\n",
            "libcugraph-21.12.00  | 259.4 MB  | ######4    |  64%\n",
            "libcugraph-21.12.00  | 259.4 MB  | ######5    |  65%\n",
            "libcugraph-21.12.00  | 259.4 MB  | ######6    |  67%\n",
            "libcugraph-21.12.00  | 259.4 MB  | ######7    |  68%\n",
            "libcugraph-21.12.00  | 259.4 MB  | ######8    |  69%\n",
            "libcugraph-21.12.00  | 259.4 MB  | #######    |  70%\n",
            "libcugraph-21.12.00  | 259.4 MB  | #######1   |  72%\n",
            "libcugraph-21.12.00  | 259.4 MB  | #######3   |  74%\n",
            "libcugraph-21.12.00  | 259.4 MB  | #######5   |  75%\n",
            "libcugraph-21.12.00  | 259.4 MB  | #######7   |  77%\n",
            "libcugraph-21.12.00  | 259.4 MB  | #######8   |  79%\n",
            "libcugraph-21.12.00  | 259.4 MB  | ########   |  80%\n",
            "libcugraph-21.12.00  | 259.4 MB  | ########2  |  82%\n",
            "libcugraph-21.12.00  | 259.4 MB  | ########3  |  84%\n",
            "libcugraph-21.12.00  | 259.4 MB  | ########5  |  85%\n",
            "libcugraph-21.12.00  | 259.4 MB  | ########7  |  87%\n",
            "libcugraph-21.12.00  | 259.4 MB  | ########8  |  89%\n",
            "libcugraph-21.12.00  | 259.4 MB  | #########  |  91%\n",
            "libcugraph-21.12.00  | 259.4 MB  | #########2 |  92%\n",
            "libcugraph-21.12.00  | 259.4 MB  | #########3 |  94%\n",
            "libcugraph-21.12.00  | 259.4 MB  | #########5 |  96%\n",
            "libcugraph-21.12.00  | 259.4 MB  | #########7 |  97%\n",
            "libcugraph-21.12.00  | 259.4 MB  | #########8 |  99%\n",
            "libcugraph-21.12.00  | 259.4 MB  | ########## | 100%\n",
            "\n",
            "rtree-1.0.0          | 49 KB     |            |   0%\n",
            "rtree-1.0.0          | 49 KB     | ########## | 100%\n",
            "rtree-1.0.0          | 49 KB     | ########## | 100%\n",
            "\n",
            "prometheus_client-0. | 49 KB     |            |   0%\n",
            "prometheus_client-0. | 49 KB     | ########## | 100%\n",
            "prometheus_client-0. | 49 KB     | ########## | 100%\n",
            "\n",
            "cuspatial-21.12.00   | 15.9 MB   |            |   0%\n",
            "cuspatial-21.12.00   | 15.9 MB   |            |   0%\n",
            "cuspatial-21.12.00   | 15.9 MB   |            |   1%\n",
            "cuspatial-21.12.00   | 15.9 MB   | 3          |   3%\n",
            "cuspatial-21.12.00   | 15.9 MB   | #          |  11%\n",
            "cuspatial-21.12.00   | 15.9 MB   | ###4       |  34%\n",
            "cuspatial-21.12.00   | 15.9 MB   | ######2    |  62%\n",
            "cuspatial-21.12.00   | 15.9 MB   | #########2 |  92%\n",
            "cuspatial-21.12.00   | 15.9 MB   | ########## | 100%\n",
            "\n",
            "ipython-7.33.0       | 1.1 MB    |            |   0%\n",
            "ipython-7.33.0       | 1.1 MB    | ########## | 100%\n",
            "ipython-7.33.0       | 1.1 MB    | ########## | 100%\n",
            "\n",
            "libopenblas-0.3.21   | 10.1 MB   |            |   0%\n",
            "libopenblas-0.3.21   | 10.1 MB   | ####6      |  46%\n",
            "libopenblas-0.3.21   | 10.1 MB   | ########## | 100%\n",
            "libopenblas-0.3.21   | 10.1 MB   | ########## | 100%\n",
            "\n",
            "curl-7.78.0          | 148 KB    |            |   0%\n",
            "curl-7.78.0          | 148 KB    | #          |  11%\n",
            "curl-7.78.0          | 148 KB    | ########## | 100%\n",
            "\n",
            "jinja2-3.1.2         | 99 KB     |            |   0%\n",
            "jinja2-3.1.2         | 99 KB     | ########## | 100%\n",
            "\n",
            "libgpg-error-1.45    | 286 KB    |            |   0%\n",
            "libgpg-error-1.45    | 286 KB    | ########## | 100%\n",
            "libgpg-error-1.45    | 286 KB    | ########## | 100%\n",
            "\n",
            "libbrotlicommon-1.0. | 65 KB     |            |   0%\n",
            "libbrotlicommon-1.0. | 65 KB     | ########## | 100%\n",
            "\n",
            "sqlite-3.37.0        | 1.5 MB    |            |   0%\n",
            "sqlite-3.37.0        | 1.5 MB    | 1          |   1%\n",
            "sqlite-3.37.0        | 1.5 MB    | ########8  |  88%\n",
            "sqlite-3.37.0        | 1.5 MB    | ########## | 100%\n",
            "\n",
            "tifffile-2021.11.2   | 139 KB    |            |   0%\n",
            "tifffile-2021.11.2   | 139 KB    | #1         |  12%\n",
            "tifffile-2021.11.2   | 139 KB    | ########## | 100%\n",
            "\n",
            "jbig-2.1             | 43 KB     |            |   0%\n",
            "jbig-2.1             | 43 KB     | ########## | 100%\n",
            "\n",
            "websockets-10.3      | 122 KB    |            |   0%\n",
            "websockets-10.3      | 122 KB    | #3         |  13%\n",
            "websockets-10.3      | 122 KB    | ########## | 100%\n",
            "\n",
            "appdirs-1.4.4        | 13 KB     |            |   0%\n",
            "appdirs-1.4.4        | 13 KB     | ########## | 100%\n",
            "\n",
            "h11-0.13.0           | 46 KB     |            |   0%\n",
            "h11-0.13.0           | 46 KB     | ########## | 100%\n",
            "\n",
            "pytz-deprecation-shi | 22 KB     |            |   0%\n",
            "pytz-deprecation-shi | 22 KB     | ########## | 100%\n",
            "\n",
            "mapclassify-2.4.3    | 36 KB     |            |   0%\n",
            "mapclassify-2.4.3    | 36 KB     | ########## | 100%\n",
            "\n",
            "nbformat-5.4.0       | 104 KB    |            |   0%\n",
            "nbformat-5.4.0       | 104 KB    | ########## | 100%\n",
            "\n",
            "libuuid-2.32.1       | 28 KB     |            |   0%\n",
            "libuuid-2.32.1       | 28 KB     | ########## | 100%\n",
            "\n",
            "google-resumable-med | 42 KB     |            |   0%\n",
            "google-resumable-med | 42 KB     | ########## | 100%\n",
            "\n",
            "arrow-cpp-proc-3.0.0 | 24 KB     |            |   0%\n",
            "arrow-cpp-proc-3.0.0 | 24 KB     | ########## | 100%\n",
            "\n",
            "xorg-inputproto-2.3. | 19 KB     |            |   0%\n",
            "xorg-inputproto-2.3. | 19 KB     | ########## | 100%\n",
            "\n",
            "aws-c-io-0.10.5      | 121 KB    |            |   0%\n",
            "aws-c-io-0.10.5      | 121 KB    | ########## | 100%\n",
            "\n",
            "blosc-1.21.1         | 47 KB     |            |   0%\n",
            "blosc-1.21.1         | 47 KB     | ########## | 100%\n",
            "\n",
            "pyasn1-modules-0.2.7 | 60 KB     |            |   0%\n",
            "pyasn1-modules-0.2.7 | 60 KB     | ########## | 100%\n",
            "\n",
            "xorg-libxdmcp-1.1.3  | 19 KB     |            |   0%\n",
            "xorg-libxdmcp-1.1.3  | 19 KB     | ########## | 100%\n",
            "\n",
            "charls-2.2.0         | 138 KB    |            |   0%\n",
            "charls-2.2.0         | 138 KB    | #1         |  12%\n",
            "charls-2.2.0         | 138 KB    | ########## | 100%\n",
            "\n",
            "lerc-3.0             | 216 KB    |            |   0%\n",
            "lerc-3.0             | 216 KB    | ########## | 100%\n",
            "lerc-3.0             | 216 KB    | ########## | 100%\n",
            "\n",
            "bokeh-2.4.0          | 13.5 MB   |            |   0%\n",
            "bokeh-2.4.0          | 13.5 MB   |            |   0%\n",
            "bokeh-2.4.0          | 13.5 MB   | #5         |  15%\n",
            "bokeh-2.4.0          | 13.5 MB   | ####1      |  41%\n",
            "bokeh-2.4.0          | 13.5 MB   | #######1   |  71%\n",
            "bokeh-2.4.0          | 13.5 MB   | ########## | 100%\n",
            "bokeh-2.4.0          | 13.5 MB   | ########## | 100%\n",
            "\n",
            "libllvm11-11.1.0     | 29.1 MB   |            |   0%\n",
            "libllvm11-11.1.0     | 29.1 MB   | #1         |  12%\n",
            "libllvm11-11.1.0     | 29.1 MB   | ###9       |  40%\n",
            "libllvm11-11.1.0     | 29.1 MB   | #####8     |  58%\n",
            "libllvm11-11.1.0     | 29.1 MB   | #######1   |  71%\n",
            "libllvm11-11.1.0     | 29.1 MB   | ########2  |  83%\n",
            "libllvm11-11.1.0     | 29.1 MB   | #########3 |  94%\n",
            "libllvm11-11.1.0     | 29.1 MB   | ########## | 100%\n",
            "\n",
            "mistune-0.8.4        | 54 KB     |            |   0%\n",
            "mistune-0.8.4        | 54 KB     | ########## | 100%\n",
            "\n",
            "libbrotlienc-1.0.9   | 287 KB    |            |   0%\n",
            "libbrotlienc-1.0.9   | 287 KB    | ########## | 100%\n",
            "libbrotlienc-1.0.9   | 287 KB    | ########## | 100%\n",
            "\n",
            "freexl-1.0.6         | 48 KB     |            |   0%\n",
            "freexl-1.0.6         | 48 KB     | ########## | 100%\n",
            "\n",
            "cudatoolkit-11.2.72  | 933.4 MB  |            |   0%\n",
            "cudatoolkit-11.2.72  | 933.4 MB  | ########## | 100%\n",
            "cudatoolkit-11.2.72  | 933.4 MB  | ########## | 100%\n",
            "\n",
            "pyzmq-23.2.1         | 483 KB    |            |   0%\n",
            "pyzmq-23.2.1         | 483 KB    | ####6      |  46%\n",
            "pyzmq-23.2.1         | 483 KB    | ########## | 100%\n",
            "pyzmq-23.2.1         | 483 KB    | ########## | 100%\n",
            "\n",
            "charset-normalizer-2 | 35 KB     |            |   0%\n",
            "charset-normalizer-2 | 35 KB     | ########## | 100%\n",
            "\n",
            "numba-0.55.2         | 3.8 MB    |            |   0%\n",
            "numba-0.55.2         | 3.8 MB    |            |   0%\n",
            "numba-0.55.2         | 3.8 MB    | 7          |   8%\n",
            "numba-0.55.2         | 3.8 MB    | ##3        |  23%\n",
            "numba-0.55.2         | 3.8 MB    | ######4    |  65%\n",
            "numba-0.55.2         | 3.8 MB    | ########## | 100%\n",
            "numba-0.55.2         | 3.8 MB    | ########## | 100%\n",
            "Preparing transaction: ...working... done\n",
            "Verifying transaction: ...working... done\n",
            "Executing transaction: ...working... By downloading and using the CUDA Toolkit conda packages, you accept the terms and conditions of the CUDA End User License Agreement (EULA): https://docs.nvidia.com/cuda/eula/index.html\n",
            "\n",
            "done\n",
            "RAPIDS conda installation complete.  Updating Colab's libraries...\n",
            "Copying /usr/local/lib/libcudf.so to /usr/lib/libcudf.so\n",
            "Copying /usr/local/lib/libnccl.so to /usr/lib/libnccl.so\n",
            "Copying /usr/local/lib/libcuml.so to /usr/lib/libcuml.so\n",
            "Copying /usr/local/lib/libcugraph.so to /usr/lib/libcugraph.so\n",
            "Copying /usr/local/lib/libxgboost.so to /usr/lib/libxgboost.so\n",
            "Copying /usr/local/lib/libcuspatial.so to /usr/lib/libcuspatial.so\n",
            "Copying /usr/local/lib/libgeos.so to /usr/lib/libgeos.so\n",
            "Copying /usr/local/lib/libgeos_c.so to /usr/lib/libgeos_c.so\n"
          ]
        }
      ],
      "source": [
        "# Installing RAPIDS is now 'python rapidsai-csp-utils/colab/install_rapids.py <release> <packages>'\n",
        "# The <release> options are 'stable' and 'nightly'.  Leaving it blank or adding any other words will default to stable.\n",
        "!python rapidsai-csp-utils/colab/install_rapids.py stable\n",
        "import os\n",
        "os.environ['NUMBAPRO_NVVM'] = '/usr/local/cuda/nvvm/lib64/libnvvm.so'\n",
        "os.environ['NUMBAPRO_LIBDEVICE'] = '/usr/local/cuda/nvvm/libdevice/'\n",
        "os.environ['CONDA_PREFIX'] = '/usr/local'"
      ]
    },
    {
      "cell_type": "markdown",
      "source": [
        "## Load RAPIDS libraries"
      ],
      "metadata": {
        "id": "aekPmRDLVPHi"
      }
    },
    {
      "cell_type": "code",
      "execution_count": null,
      "metadata": {
        "id": "GzdJ7SnJ4QDD"
      },
      "outputs": [],
      "source": [
        "# RAPIDS libraries for accessing GPU processing for running models.  Instead of taking 24+ hours to run models, it only takes 15 minutes or less.\n",
        "import cudf\n",
        "import cuml\n",
        "import cupy\n",
        "\n",
        "import pandas as pd\n",
        "\n",
        "import pynvml\n",
        "import numpy as np\n"
      ]
    },
    {
      "cell_type": "markdown",
      "metadata": {
        "id": "a28212ae"
      },
      "source": [
        "## Load additional Libraries."
      ]
    },
    {
      "cell_type": "code",
      "execution_count": null,
      "metadata": {
        "id": "034d9b70"
      },
      "outputs": [],
      "source": [
        "# Import Sklearn metrics.  The RAPIDS metrics currently appeared bugged.\n",
        "from sklearn.metrics import r2_score, mean_squared_error, mean_absolute_error\n",
        "from sklearn.dummy import DummyRegressor\n",
        "from sklearn.model_selection import cross_val_score, StratifiedKFold\n",
        "\n",
        "# For displaying model metrics in an easily readable table form.\n",
        "from IPython.display import HTML, display\n",
        "import tabulate"
      ]
    },
    {
      "cell_type": "markdown",
      "source": [
        "# Functions"
      ],
      "metadata": {
        "id": "3Smb2w30p9fg"
      }
    },
    {
      "cell_type": "markdown",
      "source": [
        "## Model Accuracy Assessment for Regression."
      ],
      "metadata": {
        "id": "B_hg_788vzLf"
      }
    },
    {
      "cell_type": "code",
      "source": [
        "# Function for Model Accuracy Assessment for Regression.  Input is in Pandas because RAPIDS metrics currently appeared to be bugged.\n",
        "def reg_metric(y_test, y_pred):\n",
        "  # Calculation of metrics\n",
        "  r2 = str(round(r2_score(y_test, y_pred), 3))\n",
        "  mse = str(round(mean_squared_error(y_test, y_pred), 3))\n",
        "  rmse = str(round(np.sqrt(mean_squared_error(y_test, y_pred)), 3))\n",
        "  mae = str(round(mean_absolute_error(y_test, y_pred), 3))\n",
        "\n",
        "  #create table for display\n",
        "  metric = [['Metric', 'Value'],\n",
        "            ['R**2:', r2],\n",
        "            ['MSE:', mse],\n",
        "            ['RMSE:', rmse],\n",
        "            ['MAE:', mae]]\n",
        "  table = tabulate.tabulate(metric, tablefmt='html')\n",
        "  display(HTML(table))\n",
        "\n",
        "  # Return metric values as strings for later display.\n",
        "  return(r2, mse, rmse, mae)"
      ],
      "metadata": {
        "id": "Ap_uwkW0V54y"
      },
      "execution_count": null,
      "outputs": []
    },
    {
      "cell_type": "markdown",
      "source": [
        "## Coefficients from Regression Models."
      ],
      "metadata": {
        "id": "pVdRLSfFv4EG"
      }
    },
    {
      "cell_type": "code",
      "source": [
        "# Function to pull coefficients for regression models.\n",
        "def reg_coefs(model):\n",
        "  # get coefficients from RAPIDS model\n",
        "  coefs = model.coef_\n",
        "  coefs = coefs.to_pandas()\n",
        "\n",
        "  # associate variable names with coefficients\n",
        "  features = X_train.columns\n",
        "  \n",
        "  # Create Pandas Series with appropriate labels\n",
        "  coefs = coefs.set_axis(features)\n",
        "\n",
        "  return(coefs)"
      ],
      "metadata": {
        "id": "3V9E3-Yqwy2J"
      },
      "execution_count": null,
      "outputs": []
    },
    {
      "cell_type": "markdown",
      "source": [
        "## Model Accuracy Assessment for Classification."
      ],
      "metadata": {
        "id": "pNPpcAM8eoWF"
      }
    },
    {
      "cell_type": "code",
      "source": [
        "# Function for calculating Classification Metrics\n",
        "def class_metric(ycat_test, y_pred):\n",
        "  #Calculation of metrics\n",
        "  accuracy = str(np.round(cuml.metrics.accuracy.accuracy_score(ycat_test, y_pred), 3) * 100)\n",
        "  roc_auc = str(np.round(cuml.metrics.roc_auc_score(ycat_test, y_pred), 3))\n",
        "\n",
        "  cp = np.round(cuml.metrics.confusion_matrix(ycat_test, y_pred, normalize='pred'), 3) * 100\n",
        "  pred_perclass = [cp[0][0].get(), cp[1][1].get(), cp[2][2].get(), cp[3][3].get(), cp[4][4].get(), cp[5][5].get()]\n",
        "\n",
        "  cp_mean = str(np.round(np.mean(pred_perclass), 1))\n",
        "  cp_std = str(np.round(np.std(pred_perclass), 1))\n",
        "\n",
        "  print(f'Accuracy Score: {accuracy}%')\n",
        "  print(f'ROC AUC: {roc_auc}')\n",
        "  print(f'Mean Accuracy per Class & Standard Deviation: {cp_mean}% +/- {cp_std}%')\n",
        "  print(cp)\n",
        "\n",
        "  return(accuracy, roc_auc, cp, cp_mean, cp_std)"
      ],
      "metadata": {
        "id": "LaRm3k8HZ1ju"
      },
      "execution_count": null,
      "outputs": []
    },
    {
      "cell_type": "markdown",
      "source": [
        "# Load Dataset."
      ],
      "metadata": {
        "id": "WEb2mxsqptdQ"
      }
    },
    {
      "cell_type": "code",
      "execution_count": null,
      "metadata": {
        "id": "GL8rpsnFj-2Y"
      },
      "outputs": [],
      "source": [
        "# Local location of the data\n",
        "\n",
        "# Location on Windows\n",
        "# local_data = 'D:\\\\Data_Science\\\\DroughtProject\\\\Data\\\\' \n",
        "\n",
        "# Location on Linux\n",
        "# local_data = '/home/chad/Data/Drought_Prediction/' \n",
        "\n",
        "# Load local data into Google Colab\n",
        "# from google.colab import files\n",
        "# files = files.upload()"
      ]
    },
    {
      "cell_type": "code",
      "execution_count": null,
      "metadata": {
        "colab": {
          "base_uri": "https://localhost:8080/"
        },
        "id": "gqo-yIYjoyMj",
        "outputId": "205159ae-a598-4565-fbb5-bc288325f958"
      },
      "outputs": [
        {
          "output_type": "stream",
          "name": "stdout",
          "text": [
            "Mounted at /content/drive\n"
          ]
        }
      ],
      "source": [
        "# Accessing Google Drive by mounting it locally\n",
        "# https://towardsdatascience.com/7-ways-to-load-external-data-into-google-colab-7ba73e7d5fc7\n",
        "from google.colab import drive\n",
        "drive.mount('/content/drive')"
      ]
    },
    {
      "cell_type": "code",
      "execution_count": null,
      "metadata": {
        "id": "A9b4ObRMp5f-"
      },
      "outputs": [],
      "source": [
        "# Location on Google Drive\n",
        "local_data = '/content/drive/MyDrive/Colab Notebooks/'"
      ]
    },
    {
      "cell_type": "code",
      "execution_count": null,
      "metadata": {
        "id": "6d643f7f"
      },
      "outputs": [],
      "source": [
        "# Load the dataset that contains training (meteorological variables) resampled weekly with mean, max, min\n",
        "# and the soil variables that have been merged on the county 'fips' value\n",
        "# This version of the file has already been scaled for the mean equal to zero and the variance to a standard deviation via StandardScaler.\n",
        "\n",
        "tsm = cudf.read_csv(local_data + 'train_soil_stats_scaled.csv',\n",
        "                        parse_dates=['date'],\n",
        "                        index_col=['index'],\n",
        "                        header=0)"
      ]
    },
    {
      "cell_type": "code",
      "execution_count": null,
      "metadata": {
        "id": "sv1gUz_npT0p"
      },
      "outputs": [],
      "source": [
        "# Unmount Google Drive.\n",
        "drive.flush_and_unmount()"
      ]
    },
    {
      "cell_type": "markdown",
      "metadata": {
        "id": "c7572e92"
      },
      "source": [
        "## Select Features and Target for Models, Features Reduced due to Collinearity."
      ]
    },
    {
      "cell_type": "code",
      "source": [
        "tsm.columns"
      ],
      "metadata": {
        "colab": {
          "base_uri": "https://localhost:8080/"
        },
        "id": "cei4ccuD-EgL",
        "outputId": "d916f7d8-19dd-4245-b788-6cfd472243f6"
      },
      "execution_count": null,
      "outputs": [
        {
          "output_type": "execute_result",
          "data": {
            "text/plain": [
              "Index(['fips', 'date', 'score', 'PRECTOT_mean', 'PS_mean', 'QV2M_mean',\n",
              "       'T2M_mean', 'T2MDEW_mean', 'T2MWET_mean', 'T2M_MAX_mean',\n",
              "       'T2M_MIN_mean', 'T2M_RANGE_mean', 'TS_mean', 'WS10M_mean',\n",
              "       'WS10M_MAX_mean', 'WS10M_MIN_mean', 'WS10M_RANGE_mean', 'WS50M_mean',\n",
              "       'WS50M_MAX_mean', 'WS50M_MIN_mean', 'WS50M_RANGE_mean', 'PRECTOT_max',\n",
              "       'PS_max', 'QV2M_max', 'T2M_max', 'T2MDEW_max', 'T2MWET_max',\n",
              "       'T2M_MAX_max', 'T2M_MIN_max', 'T2M_RANGE_max', 'TS_max', 'WS10M_max',\n",
              "       'WS10M_MAX_max', 'WS10M_MIN_max', 'WS10M_RANGE_max', 'WS50M_max',\n",
              "       'WS50M_MAX_max', 'WS50M_MIN_max', 'WS50M_RANGE_max', 'PRECTOT_min',\n",
              "       'PS_min', 'QV2M_min', 'T2M_min', 'T2MDEW_min', 'T2MWET_min',\n",
              "       'T2M_MAX_min', 'T2M_MIN_min', 'T2M_RANGE_min', 'TS_min', 'WS10M_min',\n",
              "       'WS10M_MAX_min', 'WS10M_MIN_min', 'WS10M_RANGE_min', 'WS50M_min',\n",
              "       'WS50M_MAX_min', 'WS50M_MIN_min', 'WS50M_RANGE_min', 'lat', 'lon',\n",
              "       'elevation', 'slope1', 'slope2', 'slope3', 'slope4', 'slope5', 'slope6',\n",
              "       'slope7', 'slope8', 'aspectN', 'aspectE', 'aspectS', 'aspectW',\n",
              "       'aspectUnknown', 'WAT_LAND', 'NVG_LAND', 'URB_LAND', 'GRS_LAND',\n",
              "       'FOR_LAND', 'CULTRF_LAND', 'CULTIR_LAND', 'CULT_LAND', 'SQ1', 'SQ2',\n",
              "       'SQ3', 'SQ4', 'SQ5', 'SQ6', 'SQ7'],\n",
              "      dtype='object')"
            ]
          },
          "metadata": {},
          "execution_count": 11
        }
      ]
    },
    {
      "cell_type": "code",
      "execution_count": null,
      "metadata": {
        "id": "5a1be6d5"
      },
      "outputs": [],
      "source": [
        "# Breaking out independent numerical variables from target variable, categorical variable ('fips'), and date.\n",
        "# cols = tsm.columns.tolist()\n",
        "features = ['PRECTOT_mean', 'PS_mean', 'QV2M_min', 'T2M_MAX_max', \n",
        "            'WS10M_mean', 'T2M_RANGE_mean', 'WS10M_RANGE_mean', \n",
        "            'WS50M_RANGE_mean', 'PRECTOT_max', 'PS_max', 'T2M_RANGE_max', \n",
        "            'PRECTOT_min', 'PS_min', 'WS10M_RANGE_min', 'WS50M_RANGE_min', \n",
        "            'lat', 'lon','elevation', 'slope1', 'slope2', 'slope3', 'slope4',\n",
        "            'slope5', 'slope6', 'slope7', 'slope8', 'aspectN', 'aspectE', \n",
        "            'aspectS', 'aspectW', 'WAT_LAND', 'NVG_LAND', 'URB_LAND', 'GRS_LAND', \n",
        "            'FOR_LAND', 'CULTRF_LAND', 'CULTIR_LAND', 'SQ1', 'SQ3', 'SQ4', 'SQ6']\n",
        "\n",
        "# Separating out the features\n",
        "X = tsm[features]\n",
        "\n",
        "# Separating out the target\n",
        "y = tsm[['score']]"
      ]
    },
    {
      "cell_type": "code",
      "execution_count": null,
      "metadata": {
        "id": "feb24f09"
      },
      "outputs": [],
      "source": [
        "# Converting 'y' from Panda Dataframe to Panda Series to avoid conflicts with type when running RAPIDS models.\n",
        "y = y['score']\n",
        "\n",
        "# Convert X from float64 to float32 in order to utilize GPU processing instead of CPU processing.  RAPIDS currently does not support float64.\n",
        "X = X.astype('float32')\n",
        "\n",
        "# Convert y from float64 to float32 in order to utilize GPU processing instead of CPU processing.\n",
        "y = y.astype('float32')\n",
        "\n",
        "# Create target for classication models.  Drought Score was originally an integer class ranging 0 - 5.\n",
        "y_cat = np.round(y,0)\n",
        "y_cat = y_cat.astype(int)"
      ]
    },
    {
      "cell_type": "markdown",
      "source": [
        "## Train / Test Split, Random_State=42"
      ],
      "metadata": {
        "id": "Nm7TsN0dLq5R"
      }
    },
    {
      "cell_type": "code",
      "source": [
        "# Create first train/test split for regression.  Automated folds from cross-validation are consuming too many resources and taking too long to process.\n",
        "# The datset is significantly skewed with many examples near 0 and few examples near 5.  The Train/Test split is therefore stratified to account for this.\n",
        "X_train, X_test, y_train, y_test = cuml.model_selection.train_test_split(X, y, test_size=0.2, shuffle=True, random_state=42, stratify=y_cat)\n",
        "\n",
        "# Convert y_test to Pandas for metrics calc.\n",
        "y_test = y_test.to_pandas()"
      ],
      "metadata": {
        "id": "oW5uqpO9Tk_X"
      },
      "execution_count": null,
      "outputs": []
    },
    {
      "cell_type": "markdown",
      "source": [
        "# Not-Even-A-Model"
      ],
      "metadata": {
        "id": "E3Do9e37_PZi"
      }
    },
    {
      "cell_type": "code",
      "source": [
        "# Using sklearn requires Pandas & not RAPIDS cudf\n",
        "X_train = X_train.to_pandas()\n",
        "X_test = X_test.to_pandas()\n",
        "y_train = y_train.to_pandas()\n",
        "# y_test = y_test.to_pandas()\n",
        "\n",
        "# Dummy Regressor to establish a baseline.\n",
        "Dumb_reg = DummyRegressor(strategy='mean')\n",
        "Dumb_reg.fit(X_train, y_train)\n",
        "y_pred = Dumb_reg.predict(X_test)"
      ],
      "metadata": {
        "id": "hnzN3tgi_UxQ"
      },
      "execution_count": null,
      "outputs": []
    },
    {
      "cell_type": "code",
      "source": [
        "# Dummy Regresion Model assessment: R-squared, Mean Squared Error, Root MSE, Mean Absolute Error.\n",
        "Dum_r2, Dum_mse, Dum_rmse, Dum_mae = reg_metric(y_test, y_pred)"
      ],
      "metadata": {
        "colab": {
          "base_uri": "https://localhost:8080/",
          "height": 126
        },
        "outputId": "3ed4d3b8-972e-4929-d93d-822873e69414",
        "id": "QY5A7OMU_0uf"
      },
      "execution_count": null,
      "outputs": [
        {
          "output_type": "display_data",
          "data": {
            "text/plain": [
              "<IPython.core.display.HTML object>"
            ],
            "text/html": [
              "<table>\n",
              "<tbody>\n",
              "<tr><td>Metric</td><td>Value</td></tr>\n",
              "<tr><td>R**2: </td><td>0.622</td></tr>\n",
              "<tr><td>MSE:  </td><td>0.567</td></tr>\n",
              "<tr><td>RMSE: </td><td>0.753</td></tr>\n",
              "<tr><td>MAE:  </td><td>0.52 </td></tr>\n",
              "</tbody>\n",
              "</table>"
            ]
          },
          "metadata": {}
        }
      ]
    },
    {
      "cell_type": "code",
      "source": [
        "# There is a bug in RAPIDS for converting Pandas Series back into cudf Series, so just rerunning the Test / Train split with the same random state.\n",
        "X_train, X_test, y_train, y_test = cuml.model_selection.train_test_split(X, y, test_size=0.2, shuffle=True, random_state=42, stratify=y_cat)\n",
        "\n",
        "# Convert y_test to Pandas for metrics calc.\n",
        "y_test = y_test.to_pandas()"
      ],
      "metadata": {
        "id": "3yaiD7MXEOXL"
      },
      "execution_count": null,
      "outputs": []
    },
    {
      "cell_type": "markdown",
      "source": [
        "# Regression Models"
      ],
      "metadata": {
        "id": "n7vcu5PFrPCE"
      }
    },
    {
      "cell_type": "markdown",
      "source": [
        "## Linear Regression"
      ],
      "metadata": {
        "id": "jVoNFvh5g13W"
      }
    },
    {
      "cell_type": "code",
      "source": [
        "# Linear Regression \n",
        "Lin_model = cuml.LinearRegression(fit_intercept=True, normalize=True)\n",
        "Lin_model.fit(X_train, y_train)\n",
        "y_pred = Lin_model.predict(X_test)"
      ],
      "metadata": {
        "id": "xCvR8doCS7jD"
      },
      "execution_count": null,
      "outputs": []
    },
    {
      "cell_type": "code",
      "source": [
        "# Convert RAPIDS to Pandas for Regression Metrics Calculations.\n",
        "y_pred = y_pred.to_pandas()"
      ],
      "metadata": {
        "id": "6feBpjcndHXb"
      },
      "execution_count": null,
      "outputs": []
    },
    {
      "cell_type": "code",
      "source": [
        "# Linear Regresion Model assessment: R-squared, Mean Squared Error, Root MSE, Mean Absolute Error.\n",
        "Lin_r2, Lin_mse, Lin_rmse, Lin_mae = reg_metric(y_test, y_pred)"
      ],
      "metadata": {
        "colab": {
          "base_uri": "https://localhost:8080/",
          "height": 126
        },
        "id": "DyX1Xf2RbGk2",
        "outputId": "84ccfc95-f8e2-4241-e09a-4411d06e65e2"
      },
      "execution_count": null,
      "outputs": [
        {
          "output_type": "display_data",
          "data": {
            "text/plain": [
              "<IPython.core.display.HTML object>"
            ],
            "text/html": [
              "<table>\n",
              "<tbody>\n",
              "<tr><td>Metric</td><td>Value</td></tr>\n",
              "<tr><td>R**2: </td><td>0.157</td></tr>\n",
              "<tr><td>MSE:  </td><td>1.262</td></tr>\n",
              "<tr><td>RMSE: </td><td>1.123</td></tr>\n",
              "<tr><td>MAE:  </td><td>0.858</td></tr>\n",
              "</tbody>\n",
              "</table>"
            ]
          },
          "metadata": {}
        }
      ]
    },
    {
      "cell_type": "code",
      "source": [
        "# Looking at coefficients for the regression model to determine importance of variables within the model.  \n",
        "# These results are only preliminary and need to assessed when there is less correlation between input variables.\n",
        "\n",
        "# Function call to pull coefficients.\n",
        "coefs = reg_coefs(Lin_model)\n",
        "\n",
        "# Display sorted values of coefficients.\n",
        "coefs.sort_values(ascending=False)"
      ],
      "metadata": {
        "colab": {
          "base_uri": "https://localhost:8080/"
        },
        "id": "SbRYHif2fXE2",
        "outputId": "01fa0676-685b-4869-bf54-ac36be50f8c6"
      },
      "execution_count": null,
      "outputs": [
        {
          "output_type": "execute_result",
          "data": {
            "text/plain": [
              "PS_min              0.748815\n",
              "WS10M_RANGE_mean    0.279152\n",
              "T2M_MAX_max         0.260122\n",
              "T2M_RANGE_mean      0.138986\n",
              "slope4              0.133555\n",
              "SQ1                 0.129967\n",
              "slope3              0.126802\n",
              "slope6              0.095450\n",
              "slope7              0.057758\n",
              "PRECTOT_min         0.030386\n",
              "slope8              0.018832\n",
              "WS10M_RANGE_min     0.004437\n",
              "SQ3                 0.000496\n",
              "slope1             -0.002613\n",
              "CULTIR_LAND        -0.003659\n",
              "PRECTOT_mean       -0.007030\n",
              "SQ4                -0.007562\n",
              "WS50M_RANGE_min    -0.007980\n",
              "WAT_LAND           -0.011483\n",
              "elevation          -0.014892\n",
              "T2M_RANGE_max      -0.020142\n",
              "GRS_LAND           -0.022597\n",
              "slope5             -0.023317\n",
              "URB_LAND           -0.034839\n",
              "NVG_LAND           -0.037071\n",
              "slope2             -0.050015\n",
              "WS10M_mean         -0.052763\n",
              "aspectE            -0.067856\n",
              "aspectS            -0.068648\n",
              "aspectW            -0.079802\n",
              "aspectN            -0.085419\n",
              "SQ6                -0.092158\n",
              "PRECTOT_max        -0.092593\n",
              "FOR_LAND           -0.113713\n",
              "lon                -0.124503\n",
              "CULTRF_LAND        -0.125314\n",
              "lat                -0.142025\n",
              "PS_max             -0.178124\n",
              "WS50M_RANGE_mean   -0.200847\n",
              "QV2M_min           -0.280689\n",
              "PS_mean            -0.682575\n",
              "dtype: float32"
            ]
          },
          "metadata": {},
          "execution_count": 27
        }
      ]
    },
    {
      "cell_type": "code",
      "source": [
        "# Displaying all coefficient values to understand range and variability.\n",
        "# Sorted absolute values to understand total influence on model.\n",
        "with pd.option_context('display.max_rows', None, 'display.max_columns', None): \n",
        "    display(abs(coefs).sort_values(ascending=False))"
      ],
      "metadata": {
        "colab": {
          "base_uri": "https://localhost:8080/",
          "height": 746
        },
        "id": "ZzqhR5YSxUuZ",
        "outputId": "3d02fa45-bf3e-4579-c961-d90722270147"
      },
      "execution_count": null,
      "outputs": [
        {
          "output_type": "display_data",
          "data": {
            "text/plain": [
              "PS_min              0.748815\n",
              "PS_mean             0.682575\n",
              "QV2M_min            0.280689\n",
              "WS10M_RANGE_mean    0.279152\n",
              "T2M_MAX_max         0.260122\n",
              "WS50M_RANGE_mean    0.200847\n",
              "PS_max              0.178124\n",
              "lat                 0.142025\n",
              "T2M_RANGE_mean      0.138986\n",
              "slope4              0.133555\n",
              "SQ1                 0.129967\n",
              "slope3              0.126802\n",
              "CULTRF_LAND         0.125314\n",
              "lon                 0.124503\n",
              "FOR_LAND            0.113713\n",
              "slope6              0.095450\n",
              "PRECTOT_max         0.092593\n",
              "SQ6                 0.092158\n",
              "aspectN             0.085419\n",
              "aspectW             0.079802\n",
              "aspectS             0.068648\n",
              "aspectE             0.067856\n",
              "slope7              0.057758\n",
              "WS10M_mean          0.052763\n",
              "slope2              0.050015\n",
              "NVG_LAND            0.037071\n",
              "URB_LAND            0.034839\n",
              "PRECTOT_min         0.030386\n",
              "slope5              0.023317\n",
              "GRS_LAND            0.022597\n",
              "T2M_RANGE_max       0.020142\n",
              "slope8              0.018832\n",
              "elevation           0.014892\n",
              "WAT_LAND            0.011483\n",
              "WS50M_RANGE_min     0.007980\n",
              "SQ4                 0.007562\n",
              "PRECTOT_mean        0.007030\n",
              "WS10M_RANGE_min     0.004437\n",
              "CULTIR_LAND         0.003659\n",
              "slope1              0.002613\n",
              "SQ3                 0.000496\n",
              "dtype: float32"
            ]
          },
          "metadata": {}
        }
      ]
    },
    {
      "cell_type": "code",
      "source": [
        "# The variables with the largest coefficients from the simple linear regresssion.\n",
        "top_features = abs(coefs).sort_values(ascending=False)\n",
        "top_features[:15]"
      ],
      "metadata": {
        "colab": {
          "base_uri": "https://localhost:8080/"
        },
        "id": "1gil76yb5jAB",
        "outputId": "3208f95e-7f74-4569-8886-19aaa953df7d"
      },
      "execution_count": null,
      "outputs": [
        {
          "output_type": "execute_result",
          "data": {
            "text/plain": [
              "PS_min              0.748815\n",
              "PS_mean             0.682575\n",
              "QV2M_min            0.280689\n",
              "WS10M_RANGE_mean    0.279152\n",
              "T2M_MAX_max         0.260122\n",
              "WS50M_RANGE_mean    0.200847\n",
              "PS_max              0.178124\n",
              "lat                 0.142025\n",
              "T2M_RANGE_mean      0.138986\n",
              "slope4              0.133555\n",
              "SQ1                 0.129967\n",
              "slope3              0.126802\n",
              "CULTRF_LAND         0.125314\n",
              "lon                 0.124503\n",
              "FOR_LAND            0.113713\n",
              "dtype: float32"
            ]
          },
          "metadata": {},
          "execution_count": 29
        }
      ]
    },
    {
      "cell_type": "markdown",
      "source": [
        "### Ridge Regresssion"
      ],
      "metadata": {
        "id": "_yv084CL-6ra"
      }
    },
    {
      "cell_type": "code",
      "source": [
        "# Ridge Regression - L2 regularization\n",
        "Ridge_model = cuml.Ridge(fit_intercept=True, normalize=True)\n",
        "Ridge_model.fit(X_train, y_train)\n",
        "y_pred = Ridge_model.predict(X_test)"
      ],
      "metadata": {
        "id": "HE3eCg0X-57k"
      },
      "execution_count": null,
      "outputs": []
    },
    {
      "cell_type": "code",
      "source": [
        "# Convert y_pred to Pandas for metrics calc.\n",
        "y_pred = y_pred.to_pandas()"
      ],
      "metadata": {
        "id": "mOrtveVmd1jv"
      },
      "execution_count": null,
      "outputs": []
    },
    {
      "cell_type": "code",
      "source": [
        "# Regresion Model assessment: R-squared, Mean Squared Error, Root MSE, Mean Absolute Error.\n",
        "Ridge_r2, Ridge_mse, Ridge_rmse, Ridge_mae = reg_metric(y_test, y_pred)"
      ],
      "metadata": {
        "colab": {
          "base_uri": "https://localhost:8080/",
          "height": 126
        },
        "id": "gCXHLpdyeFOe",
        "outputId": "ccbc5030-a81e-449a-ac60-399517d7174e"
      },
      "execution_count": null,
      "outputs": [
        {
          "output_type": "display_data",
          "data": {
            "text/plain": [
              "<IPython.core.display.HTML object>"
            ],
            "text/html": [
              "<table>\n",
              "<tbody>\n",
              "<tr><td>Metric</td><td>Value</td></tr>\n",
              "<tr><td>R**2: </td><td>0.13 </td></tr>\n",
              "<tr><td>MSE:  </td><td>1.303</td></tr>\n",
              "<tr><td>RMSE: </td><td>1.142</td></tr>\n",
              "<tr><td>MAE:  </td><td>0.888</td></tr>\n",
              "</tbody>\n",
              "</table>"
            ]
          },
          "metadata": {}
        }
      ]
    },
    {
      "cell_type": "code",
      "source": [
        "# Pulling coefficients from the model.\n",
        "coefs = reg_coefs(Ridge_model)\n",
        "coefs.sort_values(ascending=False)"
      ],
      "metadata": {
        "colab": {
          "base_uri": "https://localhost:8080/"
        },
        "outputId": "76873643-3a90-4c7d-e7f7-cde2d3afaf02",
        "id": "Z5_y8jGFLTCi"
      },
      "execution_count": null,
      "outputs": [
        {
          "output_type": "execute_result",
          "data": {
            "text/plain": [
              "T2M_RANGE_mean      0.083155\n",
              "T2M_MAX_max         0.064645\n",
              "T2M_RANGE_max       0.060246\n",
              "GRS_LAND            0.046142\n",
              "elevation           0.023435\n",
              "CULTIR_LAND         0.022852\n",
              "WS10M_RANGE_min     0.021058\n",
              "SQ1                 0.019350\n",
              "NVG_LAND            0.018064\n",
              "WS10M_RANGE_mean    0.014902\n",
              "slope3              0.014718\n",
              "WAT_LAND            0.003518\n",
              "PRECTOT_min         0.003160\n",
              "slope7              0.002333\n",
              "slope8              0.001277\n",
              "slope1              0.000460\n",
              "WS10M_mean         -0.000292\n",
              "slope4             -0.000375\n",
              "aspectS            -0.000447\n",
              "SQ3                -0.000571\n",
              "WS50M_RANGE_min    -0.000985\n",
              "aspectE            -0.001067\n",
              "aspectW            -0.001547\n",
              "SQ6                -0.003963\n",
              "aspectN            -0.004043\n",
              "slope2             -0.005319\n",
              "WS50M_RANGE_mean   -0.005369\n",
              "SQ4                -0.006236\n",
              "URB_LAND           -0.008621\n",
              "slope6             -0.011999\n",
              "FOR_LAND           -0.013874\n",
              "PS_min             -0.020828\n",
              "slope5             -0.023223\n",
              "PS_mean            -0.024865\n",
              "QV2M_min           -0.026084\n",
              "PS_max             -0.027385\n",
              "PRECTOT_mean       -0.039206\n",
              "CULTRF_LAND        -0.040739\n",
              "PRECTOT_max        -0.042539\n",
              "lon                -0.058942\n",
              "lat                -0.076267\n",
              "dtype: float32"
            ]
          },
          "metadata": {},
          "execution_count": 33
        }
      ]
    },
    {
      "cell_type": "code",
      "source": [
        "# The variables with the largest coefficients from the Ridge regresssion.\n",
        "top_features = abs(coefs).sort_values(ascending=False)\n",
        "top_features[:15]"
      ],
      "metadata": {
        "colab": {
          "base_uri": "https://localhost:8080/"
        },
        "outputId": "3afb52a4-2912-4c4c-b2ba-c6eff711e677",
        "id": "TJHNkK4tLXt-"
      },
      "execution_count": null,
      "outputs": [
        {
          "output_type": "execute_result",
          "data": {
            "text/plain": [
              "T2M_RANGE_mean    0.083155\n",
              "lat               0.076267\n",
              "T2M_MAX_max       0.064645\n",
              "T2M_RANGE_max     0.060246\n",
              "lon               0.058942\n",
              "GRS_LAND          0.046142\n",
              "PRECTOT_max       0.042539\n",
              "CULTRF_LAND       0.040739\n",
              "PRECTOT_mean      0.039206\n",
              "PS_max            0.027385\n",
              "QV2M_min          0.026084\n",
              "PS_mean           0.024865\n",
              "elevation         0.023435\n",
              "slope5            0.023223\n",
              "CULTIR_LAND       0.022852\n",
              "dtype: float32"
            ]
          },
          "metadata": {},
          "execution_count": 34
        }
      ]
    },
    {
      "cell_type": "markdown",
      "source": [
        "### Lasso Regression"
      ],
      "metadata": {
        "id": "WZWX6w8Og6C0"
      }
    },
    {
      "cell_type": "code",
      "source": [
        "# Lasso Regression - L1 regularization\n",
        "Lasso_model = cuml.Lasso(fit_intercept=True, normalize=True)\n",
        "Lasso_model.fit(X_train, y_train)\n",
        "y_pred = Lasso_model.predict(X_test)"
      ],
      "metadata": {
        "id": "J2D-r1mXS-Iv"
      },
      "execution_count": null,
      "outputs": []
    },
    {
      "cell_type": "code",
      "source": [
        "# Convert y_pred to Pandas for metrics calc.\n",
        "y_pred = y_pred.to_pandas()"
      ],
      "metadata": {
        "id": "huEfgtl0gR91"
      },
      "execution_count": null,
      "outputs": []
    },
    {
      "cell_type": "code",
      "source": [
        "# Regresion Model assessment: R-squared, Mean Squared Error, Root MSE, Mean Absolute Error.\n",
        "Lasso_r2, Lasso_mse, Lasso_rmse, Lasso_mae = reg_metric(y_test, y_pred)"
      ],
      "metadata": {
        "colab": {
          "base_uri": "https://localhost:8080/",
          "height": 126
        },
        "outputId": "17993e55-19dc-46a4-a63c-ff2b249a463e",
        "id": "Tm-qiVrygR91"
      },
      "execution_count": null,
      "outputs": [
        {
          "output_type": "display_data",
          "data": {
            "text/plain": [
              "<IPython.core.display.HTML object>"
            ],
            "text/html": [
              "<table>\n",
              "<tbody>\n",
              "<tr><td>Metric</td><td>Value</td></tr>\n",
              "<tr><td>R**2: </td><td>-0.0 </td></tr>\n",
              "<tr><td>MSE:  </td><td>1.497</td></tr>\n",
              "<tr><td>RMSE: </td><td>1.224</td></tr>\n",
              "<tr><td>MAE:  </td><td>0.974</td></tr>\n",
              "</tbody>\n",
              "</table>"
            ]
          },
          "metadata": {}
        }
      ]
    },
    {
      "cell_type": "code",
      "source": [
        "# Pulling coefficients from the model.\n",
        "coefs = reg_coefs(Lasso_model)\n",
        "coefs.sort_values(ascending=False)"
      ],
      "metadata": {
        "colab": {
          "base_uri": "https://localhost:8080/"
        },
        "outputId": "7f4256c0-ced0-4261-cbd2-4236f5ac09cb",
        "id": "keKzR8tfgR92"
      },
      "execution_count": null,
      "outputs": [
        {
          "output_type": "execute_result",
          "data": {
            "text/plain": [
              "PRECTOT_mean        0.0\n",
              "slope4              0.0\n",
              "slope6              0.0\n",
              "slope7              0.0\n",
              "slope8              0.0\n",
              "aspectN             0.0\n",
              "aspectE             0.0\n",
              "aspectS             0.0\n",
              "aspectW             0.0\n",
              "WAT_LAND            0.0\n",
              "NVG_LAND            0.0\n",
              "URB_LAND            0.0\n",
              "GRS_LAND            0.0\n",
              "FOR_LAND            0.0\n",
              "CULTRF_LAND         0.0\n",
              "CULTIR_LAND         0.0\n",
              "SQ1                 0.0\n",
              "SQ3                 0.0\n",
              "SQ4                 0.0\n",
              "slope5              0.0\n",
              "slope3              0.0\n",
              "PS_mean             0.0\n",
              "slope2              0.0\n",
              "QV2M_min            0.0\n",
              "T2M_MAX_max         0.0\n",
              "WS10M_mean          0.0\n",
              "T2M_RANGE_mean      0.0\n",
              "WS10M_RANGE_mean    0.0\n",
              "WS50M_RANGE_mean    0.0\n",
              "PRECTOT_max         0.0\n",
              "PS_max              0.0\n",
              "T2M_RANGE_max       0.0\n",
              "PRECTOT_min         0.0\n",
              "PS_min              0.0\n",
              "WS10M_RANGE_min     0.0\n",
              "WS50M_RANGE_min     0.0\n",
              "lat                 0.0\n",
              "lon                 0.0\n",
              "elevation           0.0\n",
              "slope1              0.0\n",
              "SQ6                 0.0\n",
              "dtype: float32"
            ]
          },
          "metadata": {},
          "execution_count": 37
        }
      ]
    },
    {
      "cell_type": "code",
      "source": [
        "# The variables with the largest coefficients from the simple linear regresssion.\n",
        "top_features = abs(coefs).sort_values(ascending=False)\n",
        "top_features[:15]"
      ],
      "metadata": {
        "colab": {
          "base_uri": "https://localhost:8080/"
        },
        "outputId": "52cc8d4a-d993-42f6-fa6b-9e517d3f0d62",
        "id": "SFreoKQvgR92"
      },
      "execution_count": null,
      "outputs": [
        {
          "output_type": "execute_result",
          "data": {
            "text/plain": [
              "PRECTOT_mean    0.0\n",
              "slope4          0.0\n",
              "slope6          0.0\n",
              "slope7          0.0\n",
              "slope8          0.0\n",
              "aspectN         0.0\n",
              "aspectE         0.0\n",
              "aspectS         0.0\n",
              "aspectW         0.0\n",
              "WAT_LAND        0.0\n",
              "NVG_LAND        0.0\n",
              "URB_LAND        0.0\n",
              "GRS_LAND        0.0\n",
              "FOR_LAND        0.0\n",
              "CULTRF_LAND     0.0\n",
              "dtype: float32"
            ]
          },
          "metadata": {},
          "execution_count": 38
        }
      ]
    },
    {
      "cell_type": "markdown",
      "source": [
        "### ElasticNet Regression"
      ],
      "metadata": {
        "id": "wJuJyWasAjWC"
      }
    },
    {
      "cell_type": "code",
      "source": [
        "# ElasticNet Regression - combination of L1 and L2 regularization\n",
        "EN_model = cuml.ElasticNet(alpha=0.33)\n",
        "EN_model.fit(X_train, y_train)\n",
        "y_pred = EN_model.predict(X_test)"
      ],
      "metadata": {
        "id": "tj47sCZ3At1e"
      },
      "execution_count": null,
      "outputs": []
    },
    {
      "cell_type": "code",
      "source": [
        "# Convert y_pred to Pandas for metrics calc.\n",
        "y_pred = y_pred.to_pandas()"
      ],
      "metadata": {
        "id": "iqVWdBKNhrPX"
      },
      "execution_count": null,
      "outputs": []
    },
    {
      "cell_type": "code",
      "source": [
        "# Regresion Model assessment: R-squared, Mean Squared Error, Root MSE, Mean Absolute Error.\n",
        "EN_r2, EN_mse, EN_rmse, EN_mae = reg_metric(y_test, y_pred)"
      ],
      "metadata": {
        "colab": {
          "base_uri": "https://localhost:8080/",
          "height": 126
        },
        "outputId": "b3b7cf33-9862-4670-d6b6-eb78cc546782",
        "id": "cj-3_NschrPX"
      },
      "execution_count": null,
      "outputs": [
        {
          "output_type": "display_data",
          "data": {
            "text/plain": [
              "<IPython.core.display.HTML object>"
            ],
            "text/html": [
              "<table>\n",
              "<tbody>\n",
              "<tr><td>Metric</td><td>Value</td></tr>\n",
              "<tr><td>R**2: </td><td>0.074</td></tr>\n",
              "<tr><td>MSE:  </td><td>1.387</td></tr>\n",
              "<tr><td>RMSE: </td><td>1.178</td></tr>\n",
              "<tr><td>MAE:  </td><td>0.929</td></tr>\n",
              "</tbody>\n",
              "</table>"
            ]
          },
          "metadata": {}
        }
      ]
    },
    {
      "cell_type": "code",
      "source": [
        "# Pulling coefficients from the model.\n",
        "coefs = reg_coefs(EN_model)\n",
        "coefs.sort_values(ascending=False)"
      ],
      "metadata": {
        "colab": {
          "base_uri": "https://localhost:8080/"
        },
        "outputId": "2f466186-7328-4d00-9b89-1df5a1b0d3e2",
        "id": "nKpgaRAIhrPX"
      },
      "execution_count": null,
      "outputs": [
        {
          "output_type": "execute_result",
          "data": {
            "text/plain": [
              "T2M_RANGE_mean      0.145189\n",
              "GRS_LAND            0.037953\n",
              "PRECTOT_mean        0.000000\n",
              "WAT_LAND            0.000000\n",
              "slope6              0.000000\n",
              "slope7              0.000000\n",
              "slope8              0.000000\n",
              "aspectN             0.000000\n",
              "aspectE             0.000000\n",
              "aspectS             0.000000\n",
              "aspectW             0.000000\n",
              "URB_LAND            0.000000\n",
              "NVG_LAND            0.000000\n",
              "slope4              0.000000\n",
              "FOR_LAND            0.000000\n",
              "CULTRF_LAND         0.000000\n",
              "CULTIR_LAND         0.000000\n",
              "SQ1                 0.000000\n",
              "SQ3                 0.000000\n",
              "SQ4                 0.000000\n",
              "slope5              0.000000\n",
              "slope3              0.000000\n",
              "PS_mean             0.000000\n",
              "T2M_RANGE_max       0.000000\n",
              "QV2M_min            0.000000\n",
              "T2M_MAX_max         0.000000\n",
              "WS10M_mean          0.000000\n",
              "WS10M_RANGE_mean    0.000000\n",
              "WS50M_RANGE_mean    0.000000\n",
              "PRECTOT_max         0.000000\n",
              "PS_max              0.000000\n",
              "PRECTOT_min         0.000000\n",
              "slope2              0.000000\n",
              "PS_min              0.000000\n",
              "WS10M_RANGE_min     0.000000\n",
              "WS50M_RANGE_min     0.000000\n",
              "lat                 0.000000\n",
              "elevation           0.000000\n",
              "slope1              0.000000\n",
              "SQ6                 0.000000\n",
              "lon                -0.033884\n",
              "dtype: float32"
            ]
          },
          "metadata": {},
          "execution_count": 42
        }
      ]
    },
    {
      "cell_type": "code",
      "source": [
        "# The variables with the largest coefficients from the simple linear regresssion.\n",
        "top_features = abs(coefs).sort_values(ascending=False)\n",
        "top_features[:15]"
      ],
      "metadata": {
        "colab": {
          "base_uri": "https://localhost:8080/"
        },
        "outputId": "4e99b75d-61b3-46b7-c3bf-d48654c2d576",
        "id": "7LPegD6NhrPX"
      },
      "execution_count": null,
      "outputs": [
        {
          "output_type": "execute_result",
          "data": {
            "text/plain": [
              "T2M_RANGE_mean    0.145189\n",
              "GRS_LAND          0.037953\n",
              "lon               0.033884\n",
              "PRECTOT_mean      0.000000\n",
              "WAT_LAND          0.000000\n",
              "slope7            0.000000\n",
              "slope8            0.000000\n",
              "aspectN           0.000000\n",
              "aspectE           0.000000\n",
              "aspectS           0.000000\n",
              "aspectW           0.000000\n",
              "URB_LAND          0.000000\n",
              "NVG_LAND          0.000000\n",
              "slope5            0.000000\n",
              "FOR_LAND          0.000000\n",
              "dtype: float32"
            ]
          },
          "metadata": {},
          "execution_count": 43
        }
      ]
    },
    {
      "cell_type": "markdown",
      "source": [
        "## Nearest Neighbors Regresssion"
      ],
      "metadata": {
        "id": "ebN_P6e0ppNR"
      }
    },
    {
      "cell_type": "code",
      "source": [
        "NNreg_model = cuml.neighbors.KNeighborsRegressor()\n",
        "NNreg_model.fit(X_train, y_train)\n",
        "y_pred = NNreg_model.predict(X_test)"
      ],
      "metadata": {
        "id": "QafjCmvVps46"
      },
      "execution_count": null,
      "outputs": []
    },
    {
      "cell_type": "code",
      "source": [
        "# Convert y_pred to Pandas for metrics calc.\n",
        "y_pred = y_pred.to_pandas()"
      ],
      "metadata": {
        "id": "bkGwuF9Nh_Yf"
      },
      "execution_count": null,
      "outputs": []
    },
    {
      "cell_type": "code",
      "source": [
        "# Regresion Model assessment: R-squared, Mean Squared Error, Root MSE, Mean Absolute Error.\n",
        "NN_r2, NN_mse, NN_rmse, NN_mae = reg_metric(y_test, y_pred)"
      ],
      "metadata": {
        "colab": {
          "base_uri": "https://localhost:8080/",
          "height": 126
        },
        "outputId": "cb2d818a-134e-44a5-bca1-077cc84981d9",
        "id": "jTnbqd5Kh_Yf"
      },
      "execution_count": null,
      "outputs": [
        {
          "output_type": "display_data",
          "data": {
            "text/plain": [
              "<IPython.core.display.HTML object>"
            ],
            "text/html": [
              "<table>\n",
              "<tbody>\n",
              "<tr><td>Metric</td><td>Value</td></tr>\n",
              "<tr><td>R**2: </td><td>0.188</td></tr>\n",
              "<tr><td>MSE:  </td><td>1.216</td></tr>\n",
              "<tr><td>RMSE: </td><td>1.103</td></tr>\n",
              "<tr><td>MAE:  </td><td>0.776</td></tr>\n",
              "</tbody>\n",
              "</table>"
            ]
          },
          "metadata": {}
        }
      ]
    },
    {
      "cell_type": "markdown",
      "source": [
        "### Nearest Neighbor Hyperparameter Search"
      ],
      "metadata": {
        "id": "x4DnQ-Svjteb"
      }
    },
    {
      "cell_type": "code",
      "source": [
        "# Convert y_test to pandas if it has not already been converted.\n",
        "# y_test = y_test.to_pandas()"
      ],
      "metadata": {
        "id": "czTeKJs4nFEp"
      },
      "execution_count": null,
      "outputs": []
    },
    {
      "cell_type": "code",
      "source": [
        "# Search for best n_neighbors hyperparameter.  Model parameters are not causing the system to crash.\n",
        "r2_list=[]\n",
        "mse_list=[]\n",
        "rmse_list=[]\n",
        "mae_list=[]\n",
        "\n",
        "# Searching nearest neighbors from 2 to 9.\n",
        "for i in range(8):\n",
        "  NNreg_model = cuml.neighbors.KNeighborsRegressor(n_neighbors=(i+2))\n",
        "  NNreg_model.fit(X_train, y_train)\n",
        "  y_pred = NNreg_model.predict(X_test)\n",
        "\n",
        "  # Convert y_pred to Pandas for metrics calc.\n",
        "  y_pred = y_pred.to_pandas()\n",
        "\n",
        "  # Call custom metric function\n",
        "  print(f'Nearest Neighbor: {i+2}')\n",
        "  NN_r2, NN_mse, NN_rmse, NN_mae = reg_metric(y_test, y_pred)\n",
        "\n",
        "  r2_list.append(NN_r2)\n",
        "  mse_list.append(NN_mse)\n",
        "  rmse_list.append(NN_rmse)\n",
        "  mae_list.append(NN_mae)"
      ],
      "metadata": {
        "colab": {
          "base_uri": "https://localhost:8080/",
          "height": 1000
        },
        "id": "w2X56WEcjted",
        "outputId": "0e52429e-f59b-490d-faf3-d90201ffca0b"
      },
      "execution_count": null,
      "outputs": [
        {
          "output_type": "stream",
          "name": "stdout",
          "text": [
            "Nearest Neighbor: 2\n"
          ]
        },
        {
          "output_type": "display_data",
          "data": {
            "text/plain": [
              "<IPython.core.display.HTML object>"
            ],
            "text/html": [
              "<table>\n",
              "<tbody>\n",
              "<tr><td>Metric</td><td>Value </td></tr>\n",
              "<tr><td>R**2: </td><td>-0.001</td></tr>\n",
              "<tr><td>MSE:  </td><td>1.499 </td></tr>\n",
              "<tr><td>RMSE: </td><td>1.224 </td></tr>\n",
              "<tr><td>MAE:  </td><td>0.809 </td></tr>\n",
              "</tbody>\n",
              "</table>"
            ]
          },
          "metadata": {}
        },
        {
          "output_type": "stream",
          "name": "stdout",
          "text": [
            "Nearest Neighbor: 3\n"
          ]
        },
        {
          "output_type": "display_data",
          "data": {
            "text/plain": [
              "<IPython.core.display.HTML object>"
            ],
            "text/html": [
              "<table>\n",
              "<tbody>\n",
              "<tr><td>Metric</td><td>Value</td></tr>\n",
              "<tr><td>R**2: </td><td>0.106</td></tr>\n",
              "<tr><td>MSE:  </td><td>1.338</td></tr>\n",
              "<tr><td>RMSE: </td><td>1.157</td></tr>\n",
              "<tr><td>MAE:  </td><td>0.789</td></tr>\n",
              "</tbody>\n",
              "</table>"
            ]
          },
          "metadata": {}
        },
        {
          "output_type": "stream",
          "name": "stdout",
          "text": [
            "Nearest Neighbor: 4\n"
          ]
        },
        {
          "output_type": "display_data",
          "data": {
            "text/plain": [
              "<IPython.core.display.HTML object>"
            ],
            "text/html": [
              "<table>\n",
              "<tbody>\n",
              "<tr><td>Metric</td><td>Value</td></tr>\n",
              "<tr><td>R**2: </td><td>0.159</td></tr>\n",
              "<tr><td>MSE:  </td><td>1.26 </td></tr>\n",
              "<tr><td>RMSE: </td><td>1.122</td></tr>\n",
              "<tr><td>MAE:  </td><td>0.78 </td></tr>\n",
              "</tbody>\n",
              "</table>"
            ]
          },
          "metadata": {}
        },
        {
          "output_type": "stream",
          "name": "stdout",
          "text": [
            "Nearest Neighbor: 5\n"
          ]
        },
        {
          "output_type": "display_data",
          "data": {
            "text/plain": [
              "<IPython.core.display.HTML object>"
            ],
            "text/html": [
              "<table>\n",
              "<tbody>\n",
              "<tr><td>Metric</td><td>Value</td></tr>\n",
              "<tr><td>R**2: </td><td>0.188</td></tr>\n",
              "<tr><td>MSE:  </td><td>1.216</td></tr>\n",
              "<tr><td>RMSE: </td><td>1.103</td></tr>\n",
              "<tr><td>MAE:  </td><td>0.776</td></tr>\n",
              "</tbody>\n",
              "</table>"
            ]
          },
          "metadata": {}
        },
        {
          "output_type": "stream",
          "name": "stdout",
          "text": [
            "Nearest Neighbor: 6\n"
          ]
        },
        {
          "output_type": "display_data",
          "data": {
            "text/plain": [
              "<IPython.core.display.HTML object>"
            ],
            "text/html": [
              "<table>\n",
              "<tbody>\n",
              "<tr><td>Metric</td><td>Value</td></tr>\n",
              "<tr><td>R**2: </td><td>0.206</td></tr>\n",
              "<tr><td>MSE:  </td><td>1.188</td></tr>\n",
              "<tr><td>RMSE: </td><td>1.09 </td></tr>\n",
              "<tr><td>MAE:  </td><td>0.774</td></tr>\n",
              "</tbody>\n",
              "</table>"
            ]
          },
          "metadata": {}
        },
        {
          "output_type": "stream",
          "name": "stdout",
          "text": [
            "Nearest Neighbor: 7\n"
          ]
        },
        {
          "output_type": "display_data",
          "data": {
            "text/plain": [
              "<IPython.core.display.HTML object>"
            ],
            "text/html": [
              "<table>\n",
              "<tbody>\n",
              "<tr><td>Metric</td><td>Value</td></tr>\n",
              "<tr><td>R**2: </td><td>0.219</td></tr>\n",
              "<tr><td>MSE:  </td><td>1.169</td></tr>\n",
              "<tr><td>RMSE: </td><td>1.081</td></tr>\n",
              "<tr><td>MAE:  </td><td>0.773</td></tr>\n",
              "</tbody>\n",
              "</table>"
            ]
          },
          "metadata": {}
        },
        {
          "output_type": "stream",
          "name": "stdout",
          "text": [
            "Nearest Neighbor: 8\n"
          ]
        },
        {
          "output_type": "display_data",
          "data": {
            "text/plain": [
              "<IPython.core.display.HTML object>"
            ],
            "text/html": [
              "<table>\n",
              "<tbody>\n",
              "<tr><td>Metric</td><td>Value</td></tr>\n",
              "<tr><td>R**2: </td><td>0.228</td></tr>\n",
              "<tr><td>MSE:  </td><td>1.155</td></tr>\n",
              "<tr><td>RMSE: </td><td>1.075</td></tr>\n",
              "<tr><td>MAE:  </td><td>0.773</td></tr>\n",
              "</tbody>\n",
              "</table>"
            ]
          },
          "metadata": {}
        },
        {
          "output_type": "stream",
          "name": "stdout",
          "text": [
            "Nearest Neighbor: 9\n"
          ]
        },
        {
          "output_type": "display_data",
          "data": {
            "text/plain": [
              "<IPython.core.display.HTML object>"
            ],
            "text/html": [
              "<table>\n",
              "<tbody>\n",
              "<tr><td>Metric</td><td>Value</td></tr>\n",
              "<tr><td>R**2: </td><td>0.235</td></tr>\n",
              "<tr><td>MSE:  </td><td>1.146</td></tr>\n",
              "<tr><td>RMSE: </td><td>1.07 </td></tr>\n",
              "<tr><td>MAE:  </td><td>0.773</td></tr>\n",
              "</tbody>\n",
              "</table>"
            ]
          },
          "metadata": {}
        }
      ]
    },
    {
      "cell_type": "code",
      "source": [
        "# Print Accuracy Score for each n_neighbors\n",
        "for i in range(8):\n",
        "  print(f'n_neighbors={(i+2)}, Mean Absolute Error: {mae_list[i]}')"
      ],
      "metadata": {
        "colab": {
          "base_uri": "https://localhost:8080/"
        },
        "outputId": "79d9afde-8d9b-4e74-c52b-558733e6b6fd",
        "id": "j79pAucEjtee"
      },
      "execution_count": null,
      "outputs": [
        {
          "output_type": "stream",
          "name": "stdout",
          "text": [
            "n_neighbors=2, Mean Absolute Error: 0.809\n",
            "n_neighbors=3, Mean Absolute Error: 0.789\n",
            "n_neighbors=4, Mean Absolute Error: 0.78\n",
            "n_neighbors=5, Mean Absolute Error: 0.776\n",
            "n_neighbors=6, Mean Absolute Error: 0.774\n",
            "n_neighbors=7, Mean Absolute Error: 0.773\n",
            "n_neighbors=8, Mean Absolute Error: 0.773\n",
            "n_neighbors=9, Mean Absolute Error: 0.773\n"
          ]
        }
      ]
    },
    {
      "cell_type": "markdown",
      "source": [
        "The Mean Absolute Error never goes below 0.5.  Since each integer value correlates to a Drought Score Category, having an error that exceeds 0.5 is not practically useful."
      ],
      "metadata": {
        "id": "O1FJGFt4pyqS"
      }
    },
    {
      "cell_type": "markdown",
      "source": [
        "## Random Forest Regression Model"
      ],
      "metadata": {
        "id": "i9HyaTwShacV"
      }
    },
    {
      "cell_type": "code",
      "source": [
        "# Random Forest Regression model, default max_depth=16, default n_estimators=100.\n",
        "RFreg_model = cuml.ensemble.RandomForestRegressor()\n",
        "RFreg_model.fit(X_train, y_train)\n",
        "y_pred = RFreg_model.predict(X_test)"
      ],
      "metadata": {
        "id": "AcpcChjS29a-"
      },
      "execution_count": null,
      "outputs": []
    },
    {
      "cell_type": "code",
      "source": [
        "# Convert y_pred to Pandas for metrics calc.\n",
        "y_pred = y_pred.to_pandas()"
      ],
      "metadata": {
        "id": "A2hH2XWTidS3"
      },
      "execution_count": null,
      "outputs": []
    },
    {
      "cell_type": "code",
      "source": [
        "# Regresion Model assessment: R-squared, Mean Squared Error, Root MSE, Mean Absolute Error.\n",
        "RF_r2, RF_mse, RF_rmse, RF_mae = reg_metric(y_test, y_pred)"
      ],
      "metadata": {
        "colab": {
          "base_uri": "https://localhost:8080/",
          "height": 126
        },
        "outputId": "bda4b5fe-adda-4601-a599-b492db16ff2a",
        "id": "DrLorZz7idS3"
      },
      "execution_count": null,
      "outputs": [
        {
          "output_type": "display_data",
          "data": {
            "text/plain": [
              "<IPython.core.display.HTML object>"
            ],
            "text/html": [
              "<table>\n",
              "<tbody>\n",
              "<tr><td>Metric</td><td>Value</td></tr>\n",
              "<tr><td>R**2: </td><td>0.415</td></tr>\n",
              "<tr><td>MSE:  </td><td>0.877</td></tr>\n",
              "<tr><td>RMSE: </td><td>0.936</td></tr>\n",
              "<tr><td>MAE:  </td><td>0.694</td></tr>\n",
              "</tbody>\n",
              "</table>"
            ]
          },
          "metadata": {}
        }
      ]
    },
    {
      "cell_type": "markdown",
      "source": [
        "### Random Forest Regression, max_depth = 100"
      ],
      "metadata": {
        "id": "k6sVf2EJwVNb"
      }
    },
    {
      "cell_type": "code",
      "source": [
        "# Random Forest Regression model: MAX DEPTH = 100.\n",
        "RFreg_model = cuml.ensemble.RandomForestRegressor(max_depth=100)\n",
        "RFreg_model.fit(X_train, y_train)\n",
        "y_pred = RFreg_model.predict(X_test)"
      ],
      "metadata": {
        "id": "bkn6XVWjr-EY"
      },
      "execution_count": null,
      "outputs": []
    },
    {
      "cell_type": "code",
      "source": [
        "# Convert y_pred to Pandas for metrics calc.\n",
        "y_pred = y_pred.to_pandas()"
      ],
      "metadata": {
        "id": "iGBePjyBjrwp"
      },
      "execution_count": null,
      "outputs": []
    },
    {
      "cell_type": "code",
      "source": [
        "# Regresion Model assessment: R-squared, Mean Squared Error, Root MSE, Mean Absolute Error.\n",
        "RF_r2, RF_mse, RF_rmse, RF_mae = reg_metric(y_test, y_pred)"
      ],
      "metadata": {
        "colab": {
          "base_uri": "https://localhost:8080/",
          "height": 126
        },
        "outputId": "35be847b-5040-444d-cfde-db10319a7c66",
        "id": "mGjdc6_kjrwp"
      },
      "execution_count": null,
      "outputs": [
        {
          "output_type": "display_data",
          "data": {
            "text/plain": [
              "<IPython.core.display.HTML object>"
            ],
            "text/html": [
              "<table>\n",
              "<tbody>\n",
              "<tr><td>Metric</td><td>Value</td></tr>\n",
              "<tr><td>R**2: </td><td>0.618</td></tr>\n",
              "<tr><td>MSE:  </td><td>0.573</td></tr>\n",
              "<tr><td>RMSE: </td><td>0.757</td></tr>\n",
              "<tr><td>MAE:  </td><td>0.521</td></tr>\n",
              "</tbody>\n",
              "</table>"
            ]
          },
          "metadata": {}
        }
      ]
    },
    {
      "cell_type": "markdown",
      "source": [
        "### Random Forest Regression, max_depth=100, n_estimators=300"
      ],
      "metadata": {
        "id": "CU9EAv7lQeWz"
      }
    },
    {
      "cell_type": "code",
      "source": [
        "# Random Forest Regression model: MAX DEPTH = 100.\n",
        "RFreg_model = cuml.ensemble.RandomForestRegressor(max_depth=100, n_estimators=300)\n",
        "RFreg_model.fit(X_train, y_train)\n",
        "y_pred = RFreg_model.predict(X_test)"
      ],
      "metadata": {
        "id": "Dx6p2cg5Qy7q"
      },
      "execution_count": null,
      "outputs": []
    },
    {
      "cell_type": "code",
      "source": [
        "# Convert y_pred to Pandas for metrics calc.\n",
        "y_pred = y_pred.to_pandas()"
      ],
      "metadata": {
        "id": "8gr4lhFTl3Rr"
      },
      "execution_count": null,
      "outputs": []
    },
    {
      "cell_type": "code",
      "source": [
        "# Regresion Model assessment: R-squared, Mean Squared Error, Root MSE, Mean Absolute Error.\n",
        "RF_r2, RF_mse, RF_rmse, RF_mae = reg_metric(y_test, y_pred)"
      ],
      "metadata": {
        "colab": {
          "base_uri": "https://localhost:8080/",
          "height": 126
        },
        "outputId": "173cc9a5-ec4e-4f71-a38a-59c96c6cbc45",
        "id": "RloDo3lrl3Rr"
      },
      "execution_count": null,
      "outputs": [
        {
          "output_type": "display_data",
          "data": {
            "text/plain": [
              "<IPython.core.display.HTML object>"
            ],
            "text/html": [
              "<table>\n",
              "<tbody>\n",
              "<tr><td>Metric</td><td>Value</td></tr>\n",
              "<tr><td>R**2: </td><td>0.622</td></tr>\n",
              "<tr><td>MSE:  </td><td>0.567</td></tr>\n",
              "<tr><td>RMSE: </td><td>0.753</td></tr>\n",
              "<tr><td>MAE:  </td><td>0.52 </td></tr>\n",
              "</tbody>\n",
              "</table>"
            ]
          },
          "metadata": {}
        }
      ]
    },
    {
      "cell_type": "markdown",
      "source": [
        "# **Regression Model Summary**."
      ],
      "metadata": {
        "id": "kaY0ETJ-tLSo"
      }
    },
    {
      "cell_type": "code",
      "source": [
        "# Table Summarizing metrics from the different regression models.\n",
        "metric = [['Metric', 'Dummy Reg', 'Linear Reg', 'Ridge Reg', 'Lasso Reg', 'ElasticNet', 'Nearest Neighbor', 'Random Forest'],\n",
        "         ['R**2', Dum_r2, Lin_r2, Ridge_r2, Lasso_r2, EN_r2, NN_r2, RF_r2],\n",
        "         ['MSE', Dum_mse, Lin_mse, Ridge_mse, Lasso_mse, EN_mse, NN_mse, RF_mse],\n",
        "         ['RMSE', Dum_rmse, Lin_rmse, Ridge_rmse, Lasso_rmse, EN_rmse, NN_rmse, RF_rmse],\n",
        "         ['MAE', Dum_mae, Lin_mae, Ridge_mae, Lasso_mae, EN_mae, NN_mae, RF_mae]]\n",
        "table = tabulate.tabulate(metric, tablefmt='html')\n",
        "\n",
        "display(HTML(table))"
      ],
      "metadata": {
        "id": "oedwix3BzodU",
        "colab": {
          "base_uri": "https://localhost:8080/",
          "height": 126
        },
        "outputId": "3414aaa8-44fb-4a26-f945-48f3cb02da8a"
      },
      "execution_count": null,
      "outputs": [
        {
          "output_type": "display_data",
          "data": {
            "text/plain": [
              "<IPython.core.display.HTML object>"
            ],
            "text/html": [
              "<table>\n",
              "<tbody>\n",
              "<tr><td>Metric</td><td>Dummy Reg</td><td>Linear Reg</td><td>Ridge Reg</td><td>Lasso Reg</td><td>ElasticNet</td><td>Nearest Neighbor</td><td>Random Forest</td></tr>\n",
              "<tr><td>R**2  </td><td>0.622    </td><td>0.157     </td><td>0.13     </td><td>-0.0     </td><td>0.074     </td><td>0.188           </td><td>0.622        </td></tr>\n",
              "<tr><td>MSE   </td><td>0.567    </td><td>1.262     </td><td>1.303    </td><td>1.497    </td><td>1.387     </td><td>1.216           </td><td>0.567        </td></tr>\n",
              "<tr><td>RMSE  </td><td>0.753    </td><td>1.123     </td><td>1.142    </td><td>1.224    </td><td>1.178     </td><td>1.103           </td><td>0.753        </td></tr>\n",
              "<tr><td>MAE   </td><td>0.52     </td><td>0.858     </td><td>0.888    </td><td>0.974    </td><td>0.929     </td><td>0.776           </td><td>0.52         </td></tr>\n",
              "</tbody>\n",
              "</table>"
            ]
          },
          "metadata": {}
        }
      ]
    },
    {
      "cell_type": "markdown",
      "source": [
        "Attempts to derive feature importance or understand variable contribution for Random Forest and Nearest Neighbor failed due to exceeding available resources: cuML KernelExplainer, cuML PermutationExplainer, sklearn .feature_importances_, and cuML .get_detailed_text().  So, while Random Forest appears to be the most accurate model for regression, it is not possible with the currently available resources to understand and rank feature importance.\n",
        "\n",
        "The default values for Lasso Regression (L1 regularization) create a model that appears to simply follow the mean values.  \n",
        "\n",
        "The errors from the regression models appear to exceed practical usefulness.  Converting to a classification problem will more likely yeild results that are more useful."
      ],
      "metadata": {
        "id": "GJZyIJvR8OkN"
      }
    },
    {
      "cell_type": "markdown",
      "source": [
        "# Classification Models"
      ],
      "metadata": {
        "id": "ChUcmcLR24WV"
      }
    },
    {
      "cell_type": "code",
      "source": [
        "# Create first train/test split for classification.  Automated folds from cross-validation are consuming too many resources and taking too long to process.\n",
        "Xcat_train, Xcat_test, ycat_train, ycat_test = cuml.model_selection.train_test_split(X, y_cat, test_size=0.2, shuffle=True, random_state=42, stratify=y_cat)"
      ],
      "metadata": {
        "id": "DDIRL_-ARh9y"
      },
      "execution_count": null,
      "outputs": []
    },
    {
      "cell_type": "markdown",
      "source": [
        "## Logistic Regression Classification Model"
      ],
      "metadata": {
        "id": "uaNnD7z7lzaa"
      }
    },
    {
      "cell_type": "code",
      "source": [
        "# Logistic Regression does not converge with default values.\n",
        "# Logistic Regression (defaults are: fit_intercept=True, C=1, penalty='l2', max_iter=1000, tol=1e-4).\n",
        "Log_model = cuml.LogisticRegression(fit_intercept=True, C=1, penalty='none', max_iter=10000, tol=5e-4)\n",
        "Log_model.fit(Xcat_train, ycat_train)\n",
        "y_pred = Log_model.predict(Xcat_test)"
      ],
      "metadata": {
        "id": "yqgITLU_SLqw"
      },
      "execution_count": null,
      "outputs": []
    },
    {
      "cell_type": "code",
      "source": [
        "Log_acc, Log_roc, Log_cp, Log_cpMean, Log_cpSTD = class_metric(ycat_test, y_pred)"
      ],
      "metadata": {
        "id": "YkiUXi08cHGu",
        "colab": {
          "base_uri": "https://localhost:8080/"
        },
        "outputId": "7d324170-c2fd-4f56-ad41-88807ceaeadd"
      },
      "execution_count": null,
      "outputs": [
        {
          "output_type": "stream",
          "name": "stdout",
          "text": [
            "Accuracy Score: 59.8%\n",
            "ROC AUC: 0.631\n",
            "Mean Accuracy per Class & Standard Deviation: 26.3% +/- 15.8%\n",
            "[[61.1 30.1 28.4 22.8 18.4 17.9]\n",
            " [16.9 22.2 16.8 16.8 16.1 18.1]\n",
            " [10.4 17.4 20.2 20.1 15.  16. ]\n",
            " [ 6.7 15.7 18.9 21.4 19.1 21.1]\n",
            " [ 3.5 12.  10.  13.1 19.  13.2]\n",
            " [ 1.3  2.6  5.7  5.7 12.5 13.7]]\n"
          ]
        }
      ]
    },
    {
      "cell_type": "markdown",
      "source": [
        "## Nearest Neighbors Classification Model"
      ],
      "metadata": {
        "id": "YhMXdI-vpEKU"
      }
    },
    {
      "cell_type": "code",
      "source": [
        "# Nearest Neighbors Classifier with default values: n_neighbors=5\n",
        "NNclass_model = cuml.neighbors.KNeighborsClassifier()\n",
        "NNclass_model.fit(Xcat_train, ycat_train)\n",
        "y_pred = NNclass_model.predict(Xcat_test)"
      ],
      "metadata": {
        "id": "nPurHSqXpJe2"
      },
      "execution_count": null,
      "outputs": []
    },
    {
      "cell_type": "code",
      "source": [
        "NN_acc, NN_roc, NN_cp, NN_cpMean, NN_cpSTD = class_metric(ycat_test, y_pred)"
      ],
      "metadata": {
        "id": "c178RT7apviG",
        "colab": {
          "base_uri": "https://localhost:8080/"
        },
        "outputId": "a4c8d6c6-e1b8-400c-e771-cb92aaf1443f"
      },
      "execution_count": null,
      "outputs": [
        {
          "output_type": "stream",
          "name": "stdout",
          "text": [
            "Accuracy Score: 59.4%\n",
            "ROC AUC: 1.029\n",
            "Mean Accuracy per Class & Standard Deviation: 33.6% +/- 15.2%\n",
            "[[67.1 36.8 27.1 25.  22.8 20.8]\n",
            " [15.3 30.4 18.2 15.3 14.8 13.2]\n",
            " [ 8.7 15.2 28.4 17.  14.  15.7]\n",
            " [ 5.4  9.7 14.9 27.3 15.7 14.6]\n",
            " [ 2.6  5.6  8.2 11.6 26.  13.4]\n",
            " [ 0.9  2.2  3.2  3.9  6.6 22.4]]\n"
          ]
        }
      ]
    },
    {
      "cell_type": "markdown",
      "source": [
        "### Nearest Neighbor Classification, n_neighbors=10"
      ],
      "metadata": {
        "id": "tBZ2xlk-qeCv"
      }
    },
    {
      "cell_type": "code",
      "source": [
        "# Nearest Neighbors Classifier, n_neighbors=10\n",
        "NNclass_model = cuml.neighbors.KNeighborsClassifier(n_neighbors=10)\n",
        "NNclass_model.fit(Xcat_train, ycat_train)\n",
        "y_pred = NNclass_model.predict(Xcat_test)"
      ],
      "metadata": {
        "id": "Fsx532Lsqnuf"
      },
      "execution_count": null,
      "outputs": []
    },
    {
      "cell_type": "code",
      "source": [
        "NN_acc, NN_roc, NN_cp, NN_cpMean, NN_cpSTD = class_metric(ycat_test, y_pred)"
      ],
      "metadata": {
        "id": "jNFvwwbDqnuf",
        "colab": {
          "base_uri": "https://localhost:8080/"
        },
        "outputId": "ae51c735-1b58-4e1a-a5f3-8a846857a431"
      },
      "execution_count": null,
      "outputs": [
        {
          "output_type": "stream",
          "name": "stdout",
          "text": [
            "Accuracy Score: 60.6%\n",
            "ROC AUC: 0.976\n",
            "Mean Accuracy per Class & Standard Deviation: 35.8% +/- 13.5%\n",
            "[[65.9 30.9 22.8 21.6 19.  16. ]\n",
            " [15.7 31.6 18.4 14.2 14.4 13.2]\n",
            " [ 9.  16.9 30.2 17.4 13.5 14.7]\n",
            " [ 5.6 11.2 15.6 30.3 16.7 15.8]\n",
            " [ 2.8  6.8  9.2 12.3 29.1 12.9]\n",
            " [ 1.   2.7  3.8  4.3  7.4 27.5]]\n"
          ]
        }
      ]
    },
    {
      "cell_type": "markdown",
      "source": [
        "### Nearest Neighbor Hyperparameter Search"
      ],
      "metadata": {
        "id": "Ts78l_5ZtPQD"
      }
    },
    {
      "cell_type": "code",
      "source": [
        "# Search for best n_neighbors hyperparameter.  Model parameters are not causing the system to crash.\n",
        "accuracy_list=[]\n",
        "\n",
        "# Searching Nearest Neighbors from 2 to 9.\n",
        "for i in range(8):\n",
        "  NNclass_model = cuml.neighbors.KNeighborsClassifier(n_neighbors=(i+2))\n",
        "  NNclass_model.fit(Xcat_train, ycat_train)\n",
        "  y_pred = NNclass_model.predict(Xcat_test)\n",
        "  score = str(np.round(cuml.metrics.accuracy.accuracy_score(ycat_test, y_pred), 3) * 100)\n",
        "  accuracy_list.append(score)"
      ],
      "metadata": {
        "id": "Mk2y4UmTq6Ws"
      },
      "execution_count": null,
      "outputs": []
    },
    {
      "cell_type": "code",
      "source": [
        "# Print Accuracy Score for each n_neighbors\n",
        "for i in range(8):\n",
        "  print(f'n_neighbors={(i+2)}, accuracy score: {accuracy_list[i]}%')"
      ],
      "metadata": {
        "id": "np3Zxb9neAxP",
        "colab": {
          "base_uri": "https://localhost:8080/"
        },
        "outputId": "4d799e50-3e7f-4d0e-b5e9-e18c714fe93c"
      },
      "execution_count": null,
      "outputs": [
        {
          "output_type": "stream",
          "name": "stdout",
          "text": [
            "n_neighbors=2, accuracy score: 58.599999999999994%\n",
            "n_neighbors=3, accuracy score: 58.3%\n",
            "n_neighbors=4, accuracy score: 59.099999999999994%\n",
            "n_neighbors=5, accuracy score: 59.4%\n",
            "n_neighbors=6, accuracy score: 59.9%\n",
            "n_neighbors=7, accuracy score: 60.099999999999994%\n",
            "n_neighbors=8, accuracy score: 60.3%\n",
            "n_neighbors=9, accuracy score: 60.5%\n"
          ]
        }
      ]
    },
    {
      "cell_type": "markdown",
      "source": [
        "**SUMMARY** of NN: In a survey of n_neighbors from 2 to 10, the accuracy score peaked at n_neighbors=5 (default) with an overeall accuracy score of 68.3%."
      ],
      "metadata": {
        "id": "tEZrEslmw8f6"
      }
    },
    {
      "cell_type": "markdown",
      "source": [
        "## Random Forest Classification Model"
      ],
      "metadata": {
        "id": "xY_Z7eu6m5RW"
      }
    },
    {
      "cell_type": "code",
      "source": [
        "# Default RF model: n_estimators=100, max_depth=16\n",
        "RFclass_model = cuml.ensemble.RandomForestClassifier()\n",
        "RFclass_model.fit(Xcat_train, ycat_train)\n",
        "y_pred = RFclass_model.predict(Xcat_test)\n",
        "y_pred = y_pred.astype(int)"
      ],
      "metadata": {
        "id": "IXeWJOQCm9Vu"
      },
      "execution_count": null,
      "outputs": []
    },
    {
      "cell_type": "code",
      "source": [
        "# Accuracy Assessment for Classification Model.\n",
        "RF_acc, RF_roc, RF_cp, RF_cpMean, RF_cpSTD = class_metric(ycat_test, y_pred)"
      ],
      "metadata": {
        "id": "o9qhlEryfhEM",
        "colab": {
          "base_uri": "https://localhost:8080/"
        },
        "outputId": "f49aafa1-4a43-4d49-f815-8847494f5452"
      },
      "execution_count": null,
      "outputs": [
        {
          "output_type": "stream",
          "name": "stdout",
          "text": [
            "Accuracy Score: 62.4%\n",
            "ROC AUC: 0.825\n",
            "Mean Accuracy per Class & Standard Deviation: 55.4% +/- 10.2%\n",
            "[[63.4 12.7  9.7  7.7  3.1  2.2]\n",
            " [16.4 46.9 14.   8.3  3.9  4.5]\n",
            " [ 9.8 17.7 42.8 15.4  5.3  5.3]\n",
            " [ 6.2 11.5 18.1 47.2 12.7  6.6]\n",
            " [ 3.1  8.  10.6 16.2 62.3 11.5]\n",
            " [ 1.1  3.1  4.8  5.4 12.7 69.9]]\n"
          ]
        }
      ]
    },
    {
      "cell_type": "code",
      "source": [
        "# Random Forest Classifier Model, MAX_DEPTH = 100\n",
        "RFclass_model = cuml.ensemble.RandomForestClassifier(max_depth=100)\n",
        "RFclass_model.fit(Xcat_train, ycat_train)\n",
        "y_pred = RFclass_model.predict(Xcat_test)\n",
        "y_pred = y_pred.astype(int)"
      ],
      "metadata": {
        "id": "BrkVhHDOBLsE"
      },
      "execution_count": null,
      "outputs": []
    },
    {
      "cell_type": "code",
      "source": [
        "# Accuracy Assessment for Classification Model.\n",
        "RF_acc, RF_roc, RF_cp, RF_cpMean, RF_cpSTD = class_metric(ycat_test, y_pred)"
      ],
      "metadata": {
        "id": "OwNC8JX5gGFr",
        "colab": {
          "base_uri": "https://localhost:8080/"
        },
        "outputId": "5c6f2608-f50b-412b-f550-a3457e4b46ae"
      },
      "execution_count": null,
      "outputs": [
        {
          "output_type": "stream",
          "name": "stdout",
          "text": [
            "Accuracy Score: 68.5%\n",
            "ROC AUC: 1.263\n",
            "Mean Accuracy per Class & Standard Deviation: 63.6% +/- 6.5%\n",
            "[[70.4 13.7  7.8  7.1  4.4  2.6]\n",
            " [14.  59.1 13.5  6.6  4.2  3.3]\n",
            " [ 7.7 14.5 56.8 14.5  5.7  4. ]\n",
            " [ 4.7  6.8 14.4 57.5 13.8  5.3]\n",
            " [ 2.4  4.3  5.5 11.7 63.7 10.9]\n",
            " [ 0.8  1.5  2.   2.6  8.1 73.8]]\n"
          ]
        }
      ]
    },
    {
      "cell_type": "markdown",
      "source": [
        "#### Random Forest Classifier, max_depth=100, n_estimators=200"
      ],
      "metadata": {
        "id": "GmxmXtsiOdG8"
      }
    },
    {
      "cell_type": "code",
      "source": [
        "# Random Forest Classifier Model, MAX_DEPTH = 100, n_estimators = 200\n",
        "RFclass_model = cuml.ensemble.RandomForestClassifier(max_depth=100, n_estimators=200)\n",
        "RFclass_model.fit(Xcat_train, ycat_train)\n",
        "y_pred = RFclass_model.predict(Xcat_test)\n",
        "y_pred = y_pred.astype(int)"
      ],
      "metadata": {
        "id": "VRL3AmbgFm1x"
      },
      "execution_count": null,
      "outputs": []
    },
    {
      "cell_type": "code",
      "source": [
        "# Accuracy Assessment for Classification Model.\n",
        "RF_acc, RF_roc, RF_cp, RF_cpMean, RF_cpSTD = class_metric(ycat_test, y_pred)"
      ],
      "metadata": {
        "id": "p3h2rh4wgkTj",
        "colab": {
          "base_uri": "https://localhost:8080/"
        },
        "outputId": "a839f31b-6707-4919-cd89-eab887fa9722"
      },
      "execution_count": null,
      "outputs": [
        {
          "output_type": "stream",
          "name": "stdout",
          "text": [
            "Accuracy Score: 68.7%\n",
            "ROC AUC: 1.256\n",
            "Mean Accuracy per Class & Standard Deviation: 64.8% +/- 6.2%\n",
            "[[70.3 12.7  7.3  6.7  3.8  2.5]\n",
            " [14.  61.  13.   6.3  3.9  2.5]\n",
            " [ 7.7 14.3 58.3 14.2  5.   3.9]\n",
            " [ 4.8  6.5 14.2 58.5 13.5  4.9]\n",
            " [ 2.4  4.1  5.1 11.7 65.9 11.2]\n",
            " [ 0.8  1.4  2.   2.5  7.9 75. ]]\n"
          ]
        }
      ]
    },
    {
      "cell_type": "markdown",
      "source": [
        "#### Random Forest Classifier, max_depth=100, n_estimators=50"
      ],
      "metadata": {
        "id": "ugk5ib9sOuOG"
      }
    },
    {
      "cell_type": "code",
      "source": [
        "# Random Forest Classifier Model, MAX_DEPTH = 100, n_estimators = 50\n",
        "RFclass_model = cuml.ensemble.RandomForestClassifier(max_depth=100, n_estimators=50)\n",
        "RFclass_model.fit(Xcat_train, ycat_train)\n",
        "y_pred = RFclass_model.predict(Xcat_test)\n",
        "y_pred = y_pred.astype(int)"
      ],
      "metadata": {
        "id": "aIG0fSVwOuOH"
      },
      "execution_count": null,
      "outputs": []
    },
    {
      "cell_type": "code",
      "source": [
        "# Accuracy Assessment for Classification Model.\n",
        "RF_acc, RF_roc, RF_cp, RF_cpMean, RF_cpSTD = class_metric(ycat_test, y_pred)"
      ],
      "metadata": {
        "id": "H-28KRBlg02M",
        "colab": {
          "base_uri": "https://localhost:8080/"
        },
        "outputId": "73ae6367-fe0d-4d70-d03e-b76303bc1262"
      },
      "execution_count": null,
      "outputs": [
        {
          "output_type": "stream",
          "name": "stdout",
          "text": [
            "Accuracy Score: 68.0%\n",
            "ROC AUC: 1.269\n",
            "Mean Accuracy per Class & Standard Deviation: 61.3% +/- 7.0%\n",
            "[[70.5 15.2  8.6  8.   5.5  3.2]\n",
            " [14.  56.3 14.   7.6  5.3  4.2]\n",
            " [ 7.7 15.1 54.5 14.5  6.5  4.5]\n",
            " [ 4.7  7.3 14.8 55.2 14.4  5.5]\n",
            " [ 2.3  4.5  5.8 12.1 60.2 11.4]\n",
            " [ 0.8  1.6  2.3  2.6  8.1 71.2]]\n"
          ]
        }
      ]
    },
    {
      "cell_type": "markdown",
      "source": [
        "#### Random Forest Classifier, max_depth=16(default), n_estimators=300"
      ],
      "metadata": {
        "id": "dw-olVnfT2sk"
      }
    },
    {
      "cell_type": "code",
      "source": [
        "# Random Forest Classifier Model, MAX_DEPTH = 16, n_estimators = 300\n",
        "RFclass_model = cuml.ensemble.RandomForestClassifier(max_depth=16, n_estimators=300)\n",
        "RFclass_model.fit(Xcat_train, ycat_train)\n",
        "y_pred = RFclass_model.predict(Xcat_test)\n",
        "y_pred = y_pred.astype(int)"
      ],
      "metadata": {
        "id": "TrbHRv9QT2sl"
      },
      "execution_count": null,
      "outputs": []
    },
    {
      "cell_type": "code",
      "source": [
        "# Accuracy Assessment for Classification Model.\n",
        "RF_acc, RF_roc, RF_cp, RF_cpMean, RF_cpSTD = class_metric(ycat_test, y_pred)"
      ],
      "metadata": {
        "id": "GxVOGZV6g1Mk",
        "colab": {
          "base_uri": "https://localhost:8080/"
        },
        "outputId": "b8a3a93b-fecf-4fd9-cc9f-9d268fb12c44"
      },
      "execution_count": null,
      "outputs": [
        {
          "output_type": "stream",
          "name": "stdout",
          "text": [
            "Accuracy Score: 62.4%\n",
            "ROC AUC: 0.815\n",
            "Mean Accuracy per Class & Standard Deviation: 56.3% +/- 10.3%\n",
            "[[63.3 12.2  9.4  7.5  3.1  2.1]\n",
            " [16.4 48.1 13.7  8.   4.   4. ]\n",
            " [ 9.8 17.7 43.3 15.1  4.5  4.4]\n",
            " [ 6.2 11.1 18.3 47.9 12.   6.5]\n",
            " [ 3.2  7.8 10.6 16.2 64.1 11.8]\n",
            " [ 1.1  3.   4.7  5.3 12.2 71.2]]\n"
          ]
        }
      ]
    },
    {
      "cell_type": "markdown",
      "source": [
        "#### Random Forest Classifier, max_depth=100, n_estimators=300"
      ],
      "metadata": {
        "id": "0c0O4VzJbREs"
      }
    },
    {
      "cell_type": "code",
      "source": [
        "# Random Forest Classifier Model, MAX_DEPTH = 100, n_estimators = 300\n",
        "RFclass_model = cuml.ensemble.RandomForestClassifier(max_depth=100, n_estimators=300)\n",
        "RFclass_model.fit(Xcat_train, ycat_train)\n",
        "y_pred = RFclass_model.predict(Xcat_test)\n",
        "y_pred = y_pred.astype(int)"
      ],
      "metadata": {
        "id": "6n6dEVC8bREx"
      },
      "execution_count": null,
      "outputs": []
    },
    {
      "cell_type": "code",
      "source": [
        "# Accuracy Assessment for Classification Model.\n",
        "RF_acc, RF_roc, RF_cp, RF_cpMean, RF_cpSTD = class_metric(ycat_test, y_pred)"
      ],
      "metadata": {
        "id": "r6ZCD50Xg1hz",
        "colab": {
          "base_uri": "https://localhost:8080/"
        },
        "outputId": "674d0d46-611b-42fe-d27e-cb7a1267a11e"
      },
      "execution_count": null,
      "outputs": [
        {
          "output_type": "stream",
          "name": "stdout",
          "text": [
            "Accuracy Score: 68.8%\n",
            "ROC AUC: 1.253\n",
            "Mean Accuracy per Class & Standard Deviation: 65.4% +/- 6.3%\n",
            "[[70.3 12.7  7.1  6.4  3.8  2.3]\n",
            " [14.  61.5 13.   6.2  3.9  2.3]\n",
            " [ 7.7 14.2 58.9 14.1  5.   3.5]\n",
            " [ 4.8  6.2 14.1 59.1 13.4  4.6]\n",
            " [ 2.4  4.   5.  11.6 66.2 11.1]\n",
            " [ 0.8  1.4  1.9  2.5  7.7 76.2]]\n"
          ]
        }
      ]
    },
    {
      "cell_type": "markdown",
      "source": [
        "#### Random Forest Classifier, max_depth=100, n_estimators=350"
      ],
      "metadata": {
        "id": "E8hl9h05cIc-"
      }
    },
    {
      "cell_type": "code",
      "source": [
        "# CAUSING SYSTEM TO CRASH, EXCEEDING RAM AVAILABILITY TODAY.\n",
        "# Random Forest Classifier Model, MAX_DEPTH = 100, n_estimators = 350\n",
        "RFclass_model = cuml.ensemble.RandomForestClassifier(max_depth=100, n_estimators=350)\n",
        "RFclass_model.fit(Xcat_train, ycat_train)\n",
        "y_pred = RFclass_model.predict(Xcat_test)\n",
        "y_pred = y_pred.astype(int)"
      ],
      "metadata": {
        "id": "7UeSgQ9scIdD"
      },
      "execution_count": null,
      "outputs": []
    },
    {
      "cell_type": "code",
      "source": [
        "# Accuracy Assessment for Classification Model.\n",
        "RF_acc, RF_roc, RF_cp, RF_cpMean, RF_cpSTD = class_metric(ycat_test, y_pred)"
      ],
      "metadata": {
        "id": "JGflWglag2rs"
      },
      "execution_count": null,
      "outputs": []
    },
    {
      "cell_type": "markdown",
      "source": [
        "#### Random Forest Classifier, max_depth=150, n_estimators=300"
      ],
      "metadata": {
        "id": "DjchlGfyewUk"
      }
    },
    {
      "cell_type": "code",
      "source": [
        "# Random Forest Classifier Model, MAX_DEPTH = 150, n_estimators = 300\n",
        "RFclass_model = cuml.ensemble.RandomForestClassifier(max_depth=150, n_estimators=300)\n",
        "RFclass_model.fit(Xcat_train, ycat_train)\n",
        "y_pred = RFclass_model.predict(Xcat_test)\n",
        "y_pred = y_pred.astype(int)"
      ],
      "metadata": {
        "id": "C8ouKLIzewUk"
      },
      "execution_count": null,
      "outputs": []
    },
    {
      "cell_type": "code",
      "source": [
        "# Accuracy Assessment for Classification Model.\n",
        "RF_acc, RF_roc, RF_cp, RF_cpMean, RF_cpSTD = class_metric(ycat_test, y_pred)"
      ],
      "metadata": {
        "id": "Qo_5caqSg3DL"
      },
      "execution_count": null,
      "outputs": []
    },
    {
      "cell_type": "markdown",
      "source": [
        "#### Random Forest Classifier: max_depth=200, n_estimators=300, split_criterion=gini(default)"
      ],
      "metadata": {
        "id": "TMoYMqPLnMKC"
      }
    },
    {
      "cell_type": "code",
      "source": [
        "# Random Forest model: split_criterion=entropy\n",
        "RFclass_model = cuml.ensemble.RandomForestClassifier(max_depth=200, n_estimators=300, split_criterion=1)\n",
        "RFclass_model.fit(Xcat_train, ycat_train)\n",
        "y_pred = RFclass_model.predict(Xcat_test)\n",
        "y_pred = y_pred.astype(int)"
      ],
      "metadata": {
        "id": "Hq8dVAAYndno"
      },
      "execution_count": null,
      "outputs": []
    },
    {
      "cell_type": "code",
      "source": [
        "# Accuracy Assessment for Classification Model.\n",
        "RF_acc, RF_roc, RF_cp, RF_cpMean, RF_cpSTD = class_metric(ycat_test, y_pred)"
      ],
      "metadata": {
        "id": "3Iuo36p5nfNG"
      },
      "execution_count": null,
      "outputs": []
    },
    {
      "cell_type": "markdown",
      "source": [
        "#### Random Forest Classifier, max_depth=200, n_estimators=300, split_criterion=entropy"
      ],
      "metadata": {
        "id": "LCDPwzawmA9H"
      }
    },
    {
      "cell_type": "code",
      "source": [
        "# Random Forest model: split_criterion=entropy\n",
        "RFclass_model = cuml.ensemble.RandomForestClassifier(max_depth=200, n_estimators=300, split_criterion=1)\n",
        "RFclass_model.fit(Xcat_train, ycat_train)\n",
        "y_pred = RFclass_model.predict(Xcat_test)\n",
        "y_pred = y_pred.astype(int)"
      ],
      "metadata": {
        "id": "VNK5YRuGmQ3n"
      },
      "execution_count": null,
      "outputs": []
    },
    {
      "cell_type": "code",
      "source": [
        "# Accuracy Assessment for Classification Model.\n",
        "RF_acc, RF_roc, RF_cp, RF_cpMean, RF_cpSTD = class_metric(ycat_test, y_pred)"
      ],
      "metadata": {
        "id": "_o6DGVHMngGG"
      },
      "execution_count": null,
      "outputs": []
    },
    {
      "cell_type": "markdown",
      "source": [
        "# Cross Validation of Optimized Random Forest Model."
      ],
      "metadata": {
        "id": "CxKNXVyPznLi"
      }
    },
    {
      "cell_type": "markdown",
      "source": [
        "## Multiple Random States Validation\n"
      ],
      "metadata": {
        "id": "HMbAqCNdkEUx"
      }
    },
    {
      "cell_type": "code",
      "source": [
        "# STILL CRASHING SYSTEM ON THIRD ITERATION (EXCEEDS AVAILABLE RAM) EVEN WITH REDUCED FEATURES.\n",
        "\n",
        "# Optimal Random Forest model within the processing and resource constraints is max_depth=100, n_estimators=300\n",
        "# Confirming results through multiple iterations of different random_states.\n",
        "\n",
        "random = [47, 103, 333, 253, 66, 31]\n",
        "\n",
        "acc_list = []\n",
        "# roc_list = []\n",
        "# cp_list = []\n",
        "# cpMean_list = []\n",
        "# cpSTD_list = []\n",
        "\n",
        "# Run through the random numbers.\n",
        "for state in random:\n",
        "  \n",
        "  # Create the Train/Test Split for each random number.\n",
        "  Xcat_train, Xcat_test, ycat_train, ycat_test = cuml.model_selection.train_test_split(X, y_cat, test_size=0.2, shuffle=True, random_state=state, stratify=y_cat)\n",
        "\n",
        "  RFclass_model = cuml.ensemble.RandomForestClassifier(max_depth=100, n_estimators=300, split_criterion=1)\n",
        "  RFclass_model.fit(Xcat_train, ycat_train)\n",
        "  y_pred = RFclass_model.predict(Xcat_test)\n",
        "  y_pred = y_pred.astype(int)\n",
        "\n",
        "#   RF_acc, RF_roc, RF_cp, RF_cpMean, RF_cpSTD = class_metric(ycat_test, y_pred)\n",
        "\n",
        "  accuracy = str(np.round(cuml.metrics.accuracy.accuracy_score(ycat_test, y_pred), 3) * 100)\n",
        "  print(f'Random State: {state}, Accuracy: {accuracy}%')\n",
        "\n",
        "  acc_list.append(accuracy)\n",
        "#   roc_list.append(RF_roc)\n",
        "#   cp_list.append(RF_cp)\n",
        "#   cpMean_list.append(RF_cpMean)\n",
        "#   cpSTD_list.append(RF_cpSTD)\n",
        "\n",
        "  del RFclass_model"
      ],
      "metadata": {
        "id": "6DqvryG8lNFy",
        "colab": {
          "base_uri": "https://localhost:8080/"
        },
        "outputId": "63c6ed79-3885-4bc9-eda0-264c25cb5d20"
      },
      "execution_count": null,
      "outputs": [
        {
          "output_type": "stream",
          "name": "stdout",
          "text": [
            "Random State: 47, Accuracy: 68.30000000000001%\n"
          ]
        }
      ]
    },
    {
      "cell_type": "code",
      "source": [
        "# Print Accuracy Score for each Random State\n",
        "print(f'Accuracy List: {acc_list}')\n",
        "print(f'Accuracy Mean: {np.mean(acc_list)}')\n",
        "print(f'Accurcay Mean STD: {np.std(acc_list)}')"
      ],
      "metadata": {
        "id": "o1TusH_IsT-P"
      },
      "execution_count": null,
      "outputs": []
    },
    {
      "cell_type": "markdown",
      "source": [
        "### Random Forest Classifier, max_depth=100, n_estimators=300, Train/Test Split random=47"
      ],
      "metadata": {
        "id": "Hkb5WOBjh9wg"
      }
    },
    {
      "cell_type": "code",
      "source": [
        "# Create first train/test split for classification.  Automated folds from cross-validation are consuming too many resources and taking too long to process.\n",
        "Xcat_train, Xcat_test, ycat_train, ycat_test = cuml.model_selection.train_test_split(X, y_cat, test_size=0.2, shuffle=True, random_state=47, stratify=y_cat)"
      ],
      "metadata": {
        "id": "jaWkai-ah3Fi"
      },
      "execution_count": null,
      "outputs": []
    },
    {
      "cell_type": "code",
      "source": [
        "RFclass_model = cuml.ensemble.RandomForestClassifier(max_depth=100, n_estimators=300)\n",
        "RFclass_model.fit(Xcat_train, ycat_train)\n",
        "y_pred = RFclass_model.predict(Xcat_test)\n",
        "y_pred = y_pred.astype(int)"
      ],
      "metadata": {
        "id": "TqAGnalPh9wg"
      },
      "execution_count": null,
      "outputs": []
    },
    {
      "cell_type": "code",
      "source": [
        "# Accuracy Assessment for Classification Model.\n",
        "RF_acc, RF_roc, RF_cp, RF_cpMean, RF_cpSTD = class_metric(ycat_test, y_pred)"
      ],
      "metadata": {
        "id": "G8XVItu2_8Kh"
      },
      "execution_count": null,
      "outputs": []
    },
    {
      "cell_type": "markdown",
      "source": [
        "### Random Forest Classifier, max_depth=100, n_estimators=300, Train/Test Split random=103"
      ],
      "metadata": {
        "id": "mf58-UXJk5Pv"
      }
    },
    {
      "cell_type": "code",
      "source": [
        "# Create first train/test split for classification.  Automated folds from cross-validation are consuming too many resources and taking too long to process.\n",
        "Xcat_train, Xcat_test, ycat_train, ycat_test = cuml.model_selection.train_test_split(X, y_cat, test_size=0.2, shuffle=True, random_state=103, stratify=y_cat)"
      ],
      "metadata": {
        "id": "haFynBFak5Pv"
      },
      "execution_count": null,
      "outputs": []
    },
    {
      "cell_type": "code",
      "source": [
        "RFclass_model = cuml.ensemble.RandomForestClassifier(max_depth=100, n_estimators=300)\n",
        "RFclass_model.fit(Xcat_train, ycat_train)\n",
        "y_pred = RFclass_model.predict(Xcat_test)\n",
        "y_pred = y_pred.astype(int)"
      ],
      "metadata": {
        "id": "XCWd_kY-k5Pw"
      },
      "execution_count": null,
      "outputs": []
    },
    {
      "cell_type": "code",
      "source": [
        "# Accuracy Assessment for Classification Model.\n",
        "RF_acc, RF_roc, RF_cp, RF_cpMean, RF_cpSTD = class_metric(ycat_test, y_pred)"
      ],
      "metadata": {
        "id": "1RPZbZnsAfrm"
      },
      "execution_count": null,
      "outputs": []
    },
    {
      "cell_type": "markdown",
      "source": [
        "### Random Forest Classifier, max_depth=100, n_estimators=300, Train/Test Split random=33"
      ],
      "metadata": {
        "id": "mPFSakpSl45w"
      }
    },
    {
      "cell_type": "code",
      "source": [
        "# Create first train/test split for classification.  Automated folds from cross-validation are consuming too many resources and taking too long to process.\n",
        "Xcat_train, Xcat_test, ycat_train, ycat_test = cuml.model_selection.train_test_split(X, y_cat, test_size=0.2, shuffle=True, random_state=33, stratify=y_cat)"
      ],
      "metadata": {
        "id": "JpMUk-zcl45v"
      },
      "execution_count": null,
      "outputs": []
    },
    {
      "cell_type": "code",
      "source": [
        "RFclass_model = cuml.ensemble.RandomForestClassifier(max_depth=100, n_estimators=300)\n",
        "RFclass_model.fit(Xcat_train, ycat_train)\n",
        "y_pred = RFclass_model.predict(Xcat_test)\n",
        "y_pred = y_pred.astype(int)"
      ],
      "metadata": {
        "id": "DxEIoLHSl45w"
      },
      "execution_count": null,
      "outputs": []
    },
    {
      "cell_type": "code",
      "source": [
        "# Accuracy Assessment for Classification Model.\n",
        "RF_acc, RF_roc, RF_cp, RF_cpMean, RF_cpSTD = class_metric(ycat_test, y_pred)"
      ],
      "metadata": {
        "id": "e3zvVr2uAtGa"
      },
      "execution_count": null,
      "outputs": []
    },
    {
      "cell_type": "markdown",
      "source": [
        "### Random Forest Classifier, max_depth=100, n_estimators=300, Train/Test Split random=253"
      ],
      "metadata": {
        "id": "IIl7O3q1m3pY"
      }
    },
    {
      "cell_type": "code",
      "source": [
        "# Create first train/test split for classification.  Automated folds from cross-validation are consuming too many resources and taking too long to process.\n",
        "Xcat_train, Xcat_test, ycat_train, ycat_test = cuml.model_selection.train_test_split(X, y_cat, test_size=0.2, shuffle=True, random_state=253, stratify=y_cat)"
      ],
      "metadata": {
        "id": "0rfdHyeHm3pY"
      },
      "execution_count": null,
      "outputs": []
    },
    {
      "cell_type": "code",
      "source": [
        "RFclass_model = cuml.ensemble.RandomForestClassifier(max_depth=100, n_estimators=300)\n",
        "RFclass_model.fit(Xcat_train, ycat_train)\n",
        "y_pred = RFclass_model.predict(Xcat_test)\n",
        "y_pred = y_pred.astype(int)"
      ],
      "metadata": {
        "id": "mVMXHVYjm3pY"
      },
      "execution_count": null,
      "outputs": []
    },
    {
      "cell_type": "code",
      "source": [
        "# Accuracy Assessment for Classification Model.\n",
        "RF_acc, RF_roc, RF_cp, RF_cpMean, RF_cpSTD = class_metric(ycat_test, y_pred)"
      ],
      "metadata": {
        "id": "ss0FusxHAwiR"
      },
      "execution_count": null,
      "outputs": []
    },
    {
      "cell_type": "markdown",
      "source": [
        "### Random Forest Classifier, max_depth=100, n_estimators=300, Train/Test Split random=66"
      ],
      "metadata": {
        "id": "bZFiwVJUpVf1"
      }
    },
    {
      "cell_type": "code",
      "source": [
        "# Create first train/test split for classification.  Automated folds from cross-validation are consuming too many resources and taking too long to process.\n",
        "Xcat_train, Xcat_test, ycat_train, ycat_test = cuml.model_selection.train_test_split(X, y_cat, test_size=0.2, shuffle=True, random_state=66, stratify=y_cat)"
      ],
      "metadata": {
        "id": "6COUJj4kpwUL"
      },
      "execution_count": null,
      "outputs": []
    },
    {
      "cell_type": "code",
      "source": [
        "RFclass_model = cuml.ensemble.RandomForestClassifier(max_depth=100, n_estimators=300)\n",
        "RFclass_model.fit(Xcat_train, ycat_train)\n",
        "y_pred = RFclass_model.predict(Xcat_test)\n",
        "y_pred = y_pred.astype(int)"
      ],
      "metadata": {
        "id": "yES_-0hxpVf1"
      },
      "execution_count": null,
      "outputs": []
    },
    {
      "cell_type": "code",
      "source": [
        "# Accuracy Assessment for Classification Model.\n",
        "RF_acc, RF_roc, RF_cp, RF_cpMean, RF_cpSTD = class_metric(ycat_test, y_pred)"
      ],
      "metadata": {
        "id": "1_9m3yEPAzLj"
      },
      "execution_count": null,
      "outputs": []
    },
    {
      "cell_type": "markdown",
      "source": [
        "### Random Forest Classifier, split_criterion=entropy, max_depth=100, n_estimators=300, Train/Test Split random=66"
      ],
      "metadata": {
        "id": "4JB4d9ZMlmDB"
      }
    },
    {
      "cell_type": "code",
      "source": [
        "RFclass_model = cuml.ensemble.RandomForestClassifier(max_depth=100, n_estimators=300, split_criterion=1)\n",
        "RFclass_model.fit(Xcat_train, ycat_train)\n",
        "y_pred = RFclass_model.predict(Xcat_test)\n",
        "y_pred = y_pred.astype(int)"
      ],
      "metadata": {
        "id": "ZguX2GW9lmDB"
      },
      "execution_count": null,
      "outputs": []
    },
    {
      "cell_type": "code",
      "source": [
        "# Accuracy Assessment for Classification Model.\n",
        "RF_acc, RF_roc, RF_cp, RF_cpMean, RF_cpSTD = class_metric(ycat_test, y_pred)"
      ],
      "metadata": {
        "id": "BoBACHTXA1Zu"
      },
      "execution_count": null,
      "outputs": []
    },
    {
      "cell_type": "markdown",
      "source": [
        "### Random Forest Classifier, split_criterion=entropy, max_depth=100, n_estimators=300, Train/Test Split random=33"
      ],
      "metadata": {
        "id": "xioqXr6Uuy5f"
      }
    },
    {
      "cell_type": "code",
      "source": [
        "# Create first train/test split for classification.  Automated folds from cross-validation are consuming too many resources and taking too long to process.\n",
        "Xcat_train, Xcat_test, ycat_train, ycat_test = cuml.model_selection.train_test_split(X, y_cat, test_size=0.2, shuffle=True, random_state=33, stratify=y_cat)"
      ],
      "metadata": {
        "id": "Nr02K8wRu5g0"
      },
      "execution_count": null,
      "outputs": []
    },
    {
      "cell_type": "code",
      "source": [
        "RFclass_model = cuml.ensemble.RandomForestClassifier(max_depth=200, n_estimators=300, split_criterion=1)\n",
        "RFclass_model.fit(Xcat_train, ycat_train)\n",
        "y_pred = RFclass_model.predict(Xcat_test)\n",
        "y_pred = y_pred.astype(int)"
      ],
      "metadata": {
        "id": "mEFANZVZuy5h"
      },
      "execution_count": null,
      "outputs": []
    },
    {
      "cell_type": "code",
      "source": [
        "# Accuracy Assessment for Classification Model.\n",
        "RF_acc, RF_roc, RF_cp, RF_cpMean, RF_cpSTD = class_metric(ycat_test, y_pred)"
      ],
      "metadata": {
        "id": "zWrqnDhpA4IE"
      },
      "execution_count": null,
      "outputs": []
    },
    {
      "cell_type": "markdown",
      "source": [
        "Changing the split_critereon from the default gini to entropy does not appear to increase accuracy in a signficant manner."
      ],
      "metadata": {
        "id": "Akzp0g49aKRD"
      }
    },
    {
      "cell_type": "markdown",
      "source": [
        "## **Summary of Validation.**"
      ],
      "metadata": {
        "id": "bdRQAiW9ZyCw"
      }
    },
    {
      "cell_type": "code",
      "source": [
        "# Mean and STD of accuracy score.\n",
        "acc_list = [76.9, 77.0, 77.0, 76.9, 76.9]\n",
        "\n",
        "# Print Accuracy Score for each Random State\n",
        "# print(f'Accuracy List: {acc_list}')\n",
        "print(f'Accuracy Mean: {str(np.round(np.mean(acc_list), 3))}%')\n",
        "print(f'Accurcay Mean STD: {str(np.round(np.std(acc_list), 3))}%')"
      ],
      "metadata": {
        "id": "fP-tG_1faEYA"
      },
      "execution_count": null,
      "outputs": []
    },
    {
      "cell_type": "markdown",
      "source": [
        "## KFold Cross Validation"
      ],
      "metadata": {
        "id": "5XjHOELAtq1p"
      }
    },
    {
      "cell_type": "code",
      "source": [
        "# CRASHES SYSTEM DUE TO EXCEEDING AVAILABLE RAM.\n",
        "\n",
        "# KFold Stratified Cross validation.  Need to convert to Numpy array in order to use cross_val_score.\n",
        "X = X.to_numpy()\n",
        "y_cat = y_cat.to_numpy()\n",
        "\n",
        "# Create 5-folds for cross validation\n",
        "cv_fold = StratifiedKFold(n_splits=5, shuffle=True, random_state=33)\n",
        "\n",
        "# Run the model with the appropriate data types.\n",
        "RFclass_model = cuml.ensemble.RandomForestClassifier(max_depth=100, n_estimators=300, output_type='numpy')\n",
        "cv_acc = cross_val_score(RFclass_model, X, y_cat, cv=cv_fold)\n",
        "print(f'RFclass_model: CV accuracy = {cv_acc.mean()} (std={cv_acc.std()})')"
      ],
      "metadata": {
        "id": "rSgTrseomO76"
      },
      "execution_count": null,
      "outputs": []
    },
    {
      "cell_type": "markdown",
      "source": [
        "# Shapley Values"
      ],
      "metadata": {
        "id": "latffQ-OoAJA"
      }
    },
    {
      "cell_type": "code",
      "source": [
        "# Create train/test split for model explainability.\n",
        "Xcat_train, Xcat_test, ycat_train, ycat_test = cuml.model_selection.train_test_split(X, y_cat, test_size=0.2, shuffle=True, random_state=33, stratify=y_cat)"
      ],
      "metadata": {
        "id": "cbzMNkRoshow"
      },
      "execution_count": null,
      "outputs": []
    },
    {
      "cell_type": "code",
      "source": [
        "# STILL CRASHES SYSTEM DUE TO EXCEEDING AVAILABLE RAM EVEN WITH REDUCED FEATURES.\n",
        "\n",
        "# RAPIDS SHAP model explainability. \n",
        "RFclass_model = cuml.ensemble.RandomForestClassifier(max_depth=200, n_estimators=300)\n",
        "RFclass_model.fit(Xcat_train, ycat_train)\n",
        "\n",
        "cu_explainer = cuml.explainer.KernelExplainer(\n",
        "    model=RFclass_model.predict,\n",
        "    data=Xcat_train,\n",
        "    is_gpu_model=True,\n",
        "    random_state=33,\n",
        "    dtype=np.float32,\n",
        "    output_type='cupy')\n",
        "\n",
        "cu_shap_values = cu_explainer.shap_values(Xcat_test)\n",
        "cu_shap_values  "
      ],
      "metadata": {
        "id": "Ftf20mduzXYS"
      },
      "execution_count": null,
      "outputs": []
    },
    {
      "cell_type": "markdown",
      "metadata": {
        "id": "BuruO_yUDInC"
      },
      "source": [
        "# **Conclusions**"
      ]
    },
    {
      "cell_type": "markdown",
      "source": [
        "## **Regression Model Summary**."
      ],
      "metadata": {
        "id": "p4EI6AwNxvty"
      }
    },
    {
      "cell_type": "markdown",
      "source": [
        "### Regression Models with SELECT FEATURES."
      ],
      "metadata": {
        "id": "i2WrXZ1rQ2oY"
      }
    },
    {
      "cell_type": "code",
      "source": [
        "# Table Summarizing metrics from the different regression models.\n",
        "metric = [['Metric', 'Dummy Reg', 'Linear Reg', 'Ridge Reg', 'Lasso Reg', 'ElasticNet', 'Nearest Neighbor', 'Random Forest'],\n",
        "         ['R**2', Dum_r2, Lin_r2, Ridge_r2, Lasso_r2, EN_r2, NN_r2, RF_r2],\n",
        "         ['MSE', Dum_mse, Lin_mse, Ridge_mse, Lasso_mse, EN_mse, NN_mse, RF_mse],\n",
        "         ['RMSE', Dum_rmse, Lin_rmse, Ridge_rmse, Lasso_rmse, EN_rmse, NN_rmse, RF_rmse],\n",
        "         ['MAE', Dum_mae, Lin_mae, Ridge_mae, Lasso_mae, EN_mae, NN_mae, RF_mae]]\n",
        "table = tabulate.tabulate(metric, tablefmt='html')\n",
        "\n",
        "display(HTML(table))"
      ],
      "metadata": {
        "colab": {
          "base_uri": "https://localhost:8080/",
          "height": 126
        },
        "outputId": "3414aaa8-44fb-4a26-f945-48f3cb02da8a",
        "id": "yTWCWLCUQvkH"
      },
      "execution_count": null,
      "outputs": [
        {
          "output_type": "display_data",
          "data": {
            "text/plain": [
              "<IPython.core.display.HTML object>"
            ],
            "text/html": [
              "<table>\n",
              "<tbody>\n",
              "<tr><td>Metric</td><td>Dummy Reg</td><td>Linear Reg</td><td>Ridge Reg</td><td>Lasso Reg</td><td>ElasticNet</td><td>Nearest Neighbor</td><td>Random Forest</td></tr>\n",
              "<tr><td>R**2  </td><td>0.622    </td><td>0.157     </td><td>0.13     </td><td>-0.0     </td><td>0.074     </td><td>0.188           </td><td>0.622        </td></tr>\n",
              "<tr><td>MSE   </td><td>0.567    </td><td>1.262     </td><td>1.303    </td><td>1.497    </td><td>1.387     </td><td>1.216           </td><td>0.567        </td></tr>\n",
              "<tr><td>RMSE  </td><td>0.753    </td><td>1.123     </td><td>1.142    </td><td>1.224    </td><td>1.178     </td><td>1.103           </td><td>0.753        </td></tr>\n",
              "<tr><td>MAE   </td><td>0.52     </td><td>0.858     </td><td>0.888    </td><td>0.974    </td><td>0.929     </td><td>0.776           </td><td>0.52         </td></tr>\n",
              "</tbody>\n",
              "</table>"
            ]
          },
          "metadata": {}
        }
      ]
    },
    {
      "cell_type": "markdown",
      "source": [
        "### Regresion Models with ALL FEATURES."
      ],
      "metadata": {
        "id": "p1nudQfaQ74l"
      }
    },
    {
      "cell_type": "code",
      "source": [
        "# Table Summarizing metrics from the different regression models FOR ALL FEATURES.\n",
        "metric = [['Metric', 'Dummy Reg', 'Linear Reg', 'Ridge Reg', 'Lasso Reg', 'ElasticNet', 'Nearest Neighbor', 'Random Forest'],\n",
        "         ['R**2', Dum_r2, Lin_r2, Ridge_r2, Lasso_r2, EN_r2, NN_r2, RF_r2],\n",
        "         ['MSE', Dum_mse, Lin_mse, Ridge_mse, Lasso_mse, EN_mse, NN_mse, RF_mse],\n",
        "         ['RMSE', Dum_rmse, Lin_rmse, Ridge_rmse, Lasso_rmse, EN_rmse, NN_rmse, RF_rmse],\n",
        "         ['MAE', Dum_mae, Lin_mae, Ridge_mae, Lasso_mae, EN_mae, NN_mae, RF_mae]]\n",
        "table = tabulate.tabulate(metric, tablefmt='html')\n",
        "\n",
        "display(HTML(table))"
      ],
      "metadata": {
        "colab": {
          "base_uri": "https://localhost:8080/",
          "height": 126
        },
        "outputId": "c7a505ea-fbea-4e5e-e528-f34fa04f3eac",
        "id": "FroAm_XLxvt0"
      },
      "execution_count": null,
      "outputs": [
        {
          "output_type": "display_data",
          "data": {
            "text/plain": [
              "<IPython.core.display.HTML object>"
            ],
            "text/html": [
              "<table>\n",
              "<tbody>\n",
              "<tr><td>Metric</td><td>Dummy Reg</td><td>Linear Reg</td><td>Ridge Reg</td><td>Lasso Reg</td><td>ElasticNet</td><td>Nearest Neighbor</td><td>Random Forest</td></tr>\n",
              "<tr><td>R**2  </td><td>-0.0     </td><td>0.215     </td><td>0.154    </td><td>-0.0     </td><td>0.074     </td><td>0.468           </td><td>0.714        </td></tr>\n",
              "<tr><td>MSE   </td><td>1.497    </td><td>1.176     </td><td>1.266    </td><td>1.497    </td><td>1.387     </td><td>0.796           </td><td>0.429        </td></tr>\n",
              "<tr><td>RMSE  </td><td>1.224    </td><td>1.084     </td><td>1.125    </td><td>1.224    </td><td>1.178     </td><td>0.892           </td><td>0.655        </td></tr>\n",
              "<tr><td>MAE   </td><td>0.974    </td><td>0.819     </td><td>0.872    </td><td>0.974    </td><td>0.929     </td><td>0.574           </td><td>0.434        </td></tr>\n",
              "</tbody>\n",
              "</table>"
            ]
          },
          "metadata": {}
        }
      ]
    },
    {
      "cell_type": "markdown",
      "source": [
        "## **Classification Model Summary.**"
      ],
      "metadata": {
        "id": "7hiv8biXy9AA"
      }
    },
    {
      "cell_type": "markdown",
      "source": [
        "### Classification Models with SELECT FEATURES."
      ],
      "metadata": {
        "id": "6AlYUpw_ROds"
      }
    },
    {
      "cell_type": "code",
      "source": [
        "metric = [['Metric','Logistic Regression', 'Nearest Neighbor', 'Random Forest'],\n",
        "          ['ROC AUC', '0.631', '0.976', '1.253'],\n",
        "          ['Total Accuracy', '69.8%', '60.6%', '68.8%'],\n",
        "          ['Mean Accuracy per Class', '26.3', '35.8%', '65.4%'],\n",
        "          ['Accuracy per class STD', '15.8%', '13.5%', '6.3%']]\n",
        "table = tabulate.tabulate(metric, tablefmt='html')\n",
        "\n",
        "display(HTML(table))"
      ],
      "metadata": {
        "colab": {
          "base_uri": "https://localhost:8080/",
          "height": 126
        },
        "outputId": "3441c42c-a155-4295-feb6-a25d3d83cfb1",
        "id": "u9ndfN33RIOr"
      },
      "execution_count": null,
      "outputs": [
        {
          "output_type": "display_data",
          "data": {
            "text/plain": [
              "<IPython.core.display.HTML object>"
            ],
            "text/html": [
              "<table>\n",
              "<tbody>\n",
              "<tr><td>Metric                 </td><td>Logistic Regression</td><td>Nearest Neighbor</td><td>Random Forest</td></tr>\n",
              "<tr><td>ROC AUC                </td><td>0.631              </td><td>0.976           </td><td>1.253        </td></tr>\n",
              "<tr><td>Total Accuracy         </td><td>69.8%              </td><td>60.6%           </td><td>68.8%        </td></tr>\n",
              "<tr><td>Mean Accuracy per Class</td><td>26.3               </td><td>35.8%           </td><td>65.4%        </td></tr>\n",
              "<tr><td>Accuracy per class STD </td><td>15.8%              </td><td>13.5%           </td><td>6.3%         </td></tr>\n",
              "</tbody>\n",
              "</table>"
            ]
          },
          "metadata": {}
        }
      ]
    },
    {
      "cell_type": "markdown",
      "source": [
        "### Classification Models with ALL FEATURES."
      ],
      "metadata": {
        "id": "-p6B9muaRJMt"
      }
    },
    {
      "cell_type": "code",
      "source": [
        "metric = [['Metric','Logistic Regression', 'Nearest Neighbor', 'Random Forest'],\n",
        "          ['ROC AUC', '0.844', '1.472', '1.72'],\n",
        "          ['Total Accuracy', '60.0%', '68.2%', '77.0%'],\n",
        "          ['Mean Accuracy per Class', '27.4%', '55.2%', '74.6%'],\n",
        "          ['Accuracy per class STD', '16.2%', '9.2%', '5.3%']]\n",
        "table = tabulate.tabulate(metric, tablefmt='html')\n",
        "\n",
        "display(HTML(table))"
      ],
      "metadata": {
        "colab": {
          "base_uri": "https://localhost:8080/",
          "height": 126
        },
        "id": "QRgjMpAbx50b",
        "outputId": "11d7f7ae-9610-4e90-cd7b-06c42b9d97fa"
      },
      "execution_count": null,
      "outputs": [
        {
          "output_type": "display_data",
          "data": {
            "text/plain": [
              "<IPython.core.display.HTML object>"
            ],
            "text/html": [
              "<table>\n",
              "<tbody>\n",
              "<tr><td>Metric                 </td><td>Logistic Regression</td><td>Nearest Neighbor</td><td>Random Forest</td></tr>\n",
              "<tr><td>ROC AUC                </td><td>0.844              </td><td>1.472           </td><td>1.72         </td></tr>\n",
              "<tr><td>Total Accuracy         </td><td>60.0%              </td><td>68.2%           </td><td>77.0%        </td></tr>\n",
              "<tr><td>Mean Accuracy per Class</td><td>27.4%              </td><td>55.2%           </td><td>74.6%        </td></tr>\n",
              "<tr><td>Accuracy per class STD </td><td>16.2%              </td><td>9.2%            </td><td>5.3%         </td></tr>\n",
              "</tbody>\n",
              "</table>"
            ]
          },
          "metadata": {}
        }
      ]
    },
    {
      "cell_type": "markdown",
      "source": [
        "## **Best Model: Random Forest (max_depth=100, n_estimators=300)  ALL FEATURES**"
      ],
      "metadata": {
        "id": "rzayoIyj1Zj2"
      }
    },
    {
      "cell_type": "code",
      "source": [
        "# Mean and STD of accuracy score.\n",
        "acc_list = [76.9, 77.0, 77.0, 76.9, 76.9]\n",
        "\n",
        "# Print Accuracy Score for each Random State\n",
        "# print(f'Accuracy List: {acc_list}')\n",
        "print(f'Total Accuracy Mean: {str(np.round(np.mean(acc_list), 3))}%')\n",
        "print(f'Total Accurcay Mean STD: {str(np.round(np.std(acc_list), 3))}%')"
      ],
      "metadata": {
        "colab": {
          "base_uri": "https://localhost:8080/"
        },
        "outputId": "96383935-c97a-47e1-9d86-6d984e4173ab",
        "id": "NYluOIMV1Zj4"
      },
      "execution_count": null,
      "outputs": [
        {
          "output_type": "stream",
          "name": "stdout",
          "text": [
            "Total Accuracy Mean: 76.94%\n",
            "Total Accurcay Mean STD: 0.049%\n"
          ]
        }
      ]
    },
    {
      "cell_type": "code",
      "source": [
        "# Accuracy for each Drought Score Category.\n",
        "metric = [['Class', 'Accuracy'],\n",
        "          ['0', '78.8%'],\n",
        "          ['1', '73.5%'],\n",
        "          ['2', '68.9%'],\n",
        "          ['3', '68.7%'],\n",
        "          ['4', '74.3%'],\n",
        "          ['5', '83.7%']]\n",
        "table = tabulate.tabulate(metric, tablefmt='html')\n",
        "\n",
        "display(HTML(table))"
      ],
      "metadata": {
        "colab": {
          "base_uri": "https://localhost:8080/",
          "height": 169
        },
        "id": "qYAmJVa17aIs",
        "outputId": "350a2330-89dc-40e2-a411-48d71fe50227"
      },
      "execution_count": null,
      "outputs": [
        {
          "output_type": "display_data",
          "data": {
            "text/plain": [
              "<IPython.core.display.HTML object>"
            ],
            "text/html": [
              "<table>\n",
              "<tbody>\n",
              "<tr><td>Class</td><td>Accuracy</td></tr>\n",
              "<tr><td>0    </td><td>78.8%   </td></tr>\n",
              "<tr><td>1    </td><td>73.5%   </td></tr>\n",
              "<tr><td>2    </td><td>68.9%   </td></tr>\n",
              "<tr><td>3    </td><td>68.7%   </td></tr>\n",
              "<tr><td>4    </td><td>74.3%   </td></tr>\n",
              "<tr><td>5    </td><td>83.7%   </td></tr>\n",
              "</tbody>\n",
              "</table>"
            ]
          },
          "metadata": {}
        }
      ]
    },
    {
      "cell_type": "markdown",
      "metadata": {
        "id": "UTdajjVRDKfC"
      },
      "source": [
        "**Conclusion:** \n",
        "The regression models do not give a good enough accuracy for practical implementation since the best Mean Absolute Error is 0.434 and a +/- of 0.434 does not give a good enough separation between the underlying Drought Score Categories.  Therefore, the modeling switched to classification.  The Random Forest Classification model gives a much more practical implementation for this project with an overall accuracy of 77% and a mean per class accuracy of 74.6 +/- 5.3%.\n",
        "\n",
        "All of the models were rerun with a selection of features instead of using all features due to several features being highly correlated.  A single feature was chosen to represent groups of features that had a correlation of higher than 0.92.  This was primarily done to determine the influence and impact of the variables on model performance, since this is not possible to determine when the variables are highly correlated.  There is some insight with the regression models on which variables are important for the model.  Unfortunately, Shapley values still could not be determined for the Random Forest model.  The models rerun with select features all preformed significantly worse and provided no insight into how the variables were influencing the best model - Random Forest."
      ]
    },
    {
      "cell_type": "code",
      "source": [],
      "metadata": {
        "id": "_R3oI93qVaJl"
      },
      "execution_count": null,
      "outputs": []
    }
  ],
  "metadata": {
    "accelerator": "GPU",
    "colab": {
      "machine_shape": "hm",
      "provenance": [],
      "toc_visible": true,
      "include_colab_link": true
    },
    "gpuClass": "standard",
    "kernelspec": {
      "display_name": "Python 3",
      "name": "python3"
    }
  },
  "nbformat": 4,
  "nbformat_minor": 0
}
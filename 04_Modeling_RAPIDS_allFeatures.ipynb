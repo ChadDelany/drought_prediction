{
  "cells": [
    {
      "cell_type": "markdown",
      "metadata": {
        "id": "view-in-github",
        "colab_type": "text"
      },
      "source": [
        "<a href=\"https://colab.research.google.com/github/ChadDelany/Drought_Prediction/blob/main/04_Modeling_RAPIDS_allFeatures.ipynb\" target=\"_parent\"><img src=\"https://colab.research.google.com/assets/colab-badge.svg\" alt=\"Open In Colab\"/></a>"
      ]
    },
    {
      "cell_type": "markdown",
      "source": [
        "# **Drought Prediction: Modeling**"
      ],
      "metadata": {
        "id": "9mR2bPvswIvt"
      }
    },
    {
      "cell_type": "markdown",
      "source": [
        "This notebook was run on Google Colab Pro+.  The RAPIDS system was used to access GPU processing.  Previous attempts to run the models using Pandas with CPUs took 24+ hours to run and often crashed due to exceeding existing resources.  The RAPIDS GPU processing allowed models to run usually within 5 minutes and at a maximum of 15 minutes.  Setting up RAPIDS to run on Google Colab Pro+ takes between 15 minutes to 1 hour depending on resource availability on Google Colab Pro+.\n",
        "\n",
        "ALL MODELS INITIALLY RUN WITH ALL AVAILABLE VARIABLES TO DETERMINE INITIAL MODEL PERFORMANCE."
      ],
      "metadata": {
        "id": "L8B6xerQwatO"
      }
    },
    {
      "cell_type": "markdown",
      "metadata": {
        "id": "qIS3fhPT8naz"
      },
      "source": [
        "# Environment Sanity Check #\n",
        "\n",
        "Click the _Runtime_ dropdown at the top of the page, then _Change Runtime Type_ and confirm the instance type is _GPU_.\n",
        "\n",
        "Check the output of `!nvidia-smi` to make sure you've been allocated a Tesla T4, P4, or P100."
      ]
    },
    {
      "cell_type": "code",
      "execution_count": null,
      "metadata": {
        "colab": {
          "base_uri": "https://localhost:8080/"
        },
        "id": "UTUcQ76Wb3NA",
        "outputId": "ef95f551-af3f-467f-9019-ec05fd0e6c1c"
      },
      "outputs": [
        {
          "output_type": "stream",
          "name": "stdout",
          "text": [
            "Wed Oct 26 22:30:30 2022       \n",
            "+-----------------------------------------------------------------------------+\n",
            "| NVIDIA-SMI 460.32.03    Driver Version: 460.32.03    CUDA Version: 11.2     |\n",
            "|-------------------------------+----------------------+----------------------+\n",
            "| GPU  Name        Persistence-M| Bus-Id        Disp.A | Volatile Uncorr. ECC |\n",
            "| Fan  Temp  Perf  Pwr:Usage/Cap|         Memory-Usage | GPU-Util  Compute M. |\n",
            "|                               |                      |               MIG M. |\n",
            "|===============================+======================+======================|\n",
            "|   0  A100-SXM4-40GB      Off  | 00000000:00:04.0 Off |                    0 |\n",
            "| N/A   30C    P0    45W / 400W |      0MiB / 40536MiB |      0%      Default |\n",
            "|                               |                      |             Disabled |\n",
            "+-------------------------------+----------------------+----------------------+\n",
            "                                                                               \n",
            "+-----------------------------------------------------------------------------+\n",
            "| Processes:                                                                  |\n",
            "|  GPU   GI   CI        PID   Type   Process name                  GPU Memory |\n",
            "|        ID   ID                                                   Usage      |\n",
            "|=============================================================================|\n",
            "|  No running processes found                                                 |\n",
            "+-----------------------------------------------------------------------------+\n"
          ]
        }
      ],
      "source": [
        "!nvidia-smi"
      ]
    },
    {
      "cell_type": "markdown",
      "metadata": {
        "id": "jfVoeLbP8iZp"
      },
      "source": [
        "#Setup:\n",
        "This notebook was built on RAPIDS 0.13 stable and is based on this [DataCamp Tutorial](https://www.datacamp.com/community/tutorials/xgboost-in-python).  tested and working on 0.19 stable.\n",
        "\n",
        "#Setup:\n",
        "Set up script installs\n",
        "1. Updates gcc in Colab\n",
        "1. Installs Conda\n",
        "1. Install RAPIDS' current stable version of its libraries, as well as some external libraries including:\n",
        "  1. cuDF\n",
        "  1. cuML\n",
        "  1. cuGraph\n",
        "  1. cuSpatial\n",
        "  1. cuSignal\n",
        "  1. BlazingSQL\n",
        "  1. xgboost\n",
        "1. Copy RAPIDS .so files into current working directory, a neccessary workaround for RAPIDS+Colab integration.\n"
      ]
    },
    {
      "cell_type": "code",
      "execution_count": null,
      "metadata": {
        "colab": {
          "base_uri": "https://localhost:8080/"
        },
        "id": "EH3gMCzX3siM",
        "outputId": "4bee295d-f667-4255-eeeb-242460e35cde"
      },
      "outputs": [
        {
          "output_type": "stream",
          "name": "stdout",
          "text": [
            "Looking in indexes: https://pypi.org/simple, https://us-python.pkg.dev/colab-wheels/public/simple/\n",
            "Collecting pynvml\n",
            "  Downloading pynvml-11.4.1-py3-none-any.whl (46 kB)\n",
            "\u001b[K     |████████████████████████████████| 46 kB 2.6 MB/s \n",
            "\u001b[?25hInstalling collected packages: pynvml\n",
            "Successfully installed pynvml-11.4.1\n",
            "Cloning into 'rapidsai-csp-utils'...\n",
            "remote: Enumerating objects: 300, done.\u001b[K\n",
            "remote: Counting objects: 100% (129/129), done.\u001b[K\n",
            "remote: Compressing objects: 100% (74/74), done.\u001b[K\n",
            "remote: Total 300 (delta 74), reused 99 (delta 55), pack-reused 171\u001b[K\n",
            "Receiving objects: 100% (300/300), 87.58 KiB | 3.65 MiB/s, done.\n",
            "Resolving deltas: 100% (136/136), done.\n",
            "***********************************************************************\n",
            "Woo! Your instance has the right kind of GPU, a A100-SXM4-40GB!\n",
            "***********************************************************************\n",
            "\n"
          ]
        }
      ],
      "source": [
        "!pip install pynvml\n",
        "\n",
        "# This get the RAPIDS-Colab install files and test check your GPU.  Run this and the next cell only.\n",
        "# Please read the output of this cell.  If your Colab Instance is not RAPIDS compatible, it will warn you and give you remediation steps.\n",
        "!git clone https://github.com/rapidsai/rapidsai-csp-utils.git\n",
        "!python rapidsai-csp-utils/colab/env-check.py"
      ]
    },
    {
      "cell_type": "code",
      "execution_count": null,
      "metadata": {
        "colab": {
          "base_uri": "https://localhost:8080/"
        },
        "id": "LNd6j0tPahdh",
        "outputId": "f3491c1d-7750-4cd6-e0bc-66978cc1001e"
      },
      "outputs": [
        {
          "output_type": "stream",
          "name": "stdout",
          "text": [
            "Updating your Colab environment.  This will restart your kernel.  Don't Panic!\n",
            "Get:1 http://security.ubuntu.com/ubuntu bionic-security InRelease [88.7 kB]\n",
            "Get:2 https://cloud.r-project.org/bin/linux/ubuntu bionic-cran40/ InRelease [3,626 B]\n",
            "Hit:3 http://archive.ubuntu.com/ubuntu bionic InRelease\n",
            "Ign:4 https://developer.download.nvidia.com/compute/machine-learning/repos/ubuntu1804/x86_64  InRelease\n",
            "Hit:5 https://developer.download.nvidia.com/compute/cuda/repos/ubuntu1804/x86_64  InRelease\n",
            "Get:6 http://archive.ubuntu.com/ubuntu bionic-updates InRelease [88.7 kB]\n",
            "Hit:7 https://developer.download.nvidia.com/compute/machine-learning/repos/ubuntu1804/x86_64  Release\n",
            "Get:8 http://archive.ubuntu.com/ubuntu bionic-backports InRelease [83.3 kB]\n",
            "Hit:9 http://ppa.launchpad.net/c2d4u.team/c2d4u4.0+/ubuntu bionic InRelease\n",
            "Hit:11 http://ppa.launchpad.net/cran/libgit2/ubuntu bionic InRelease\n",
            "Get:12 http://security.ubuntu.com/ubuntu bionic-security/restricted amd64 Packages [1,217 kB]\n",
            "Get:13 http://archive.ubuntu.com/ubuntu bionic-updates/restricted amd64 Packages [1,257 kB]\n",
            "Hit:14 http://ppa.launchpad.net/deadsnakes/ppa/ubuntu bionic InRelease\n",
            "Get:15 http://security.ubuntu.com/ubuntu bionic-security/main amd64 Packages [3,035 kB]\n",
            "Get:16 http://archive.ubuntu.com/ubuntu bionic-updates/universe amd64 Packages [2,332 kB]\n",
            "Hit:17 http://ppa.launchpad.net/graphics-drivers/ppa/ubuntu bionic InRelease\n",
            "Get:18 http://archive.ubuntu.com/ubuntu bionic-updates/multiverse amd64 Packages [37.1 kB]\n",
            "Get:19 http://archive.ubuntu.com/ubuntu bionic-updates/main amd64 Packages [3,467 kB]\n",
            "Get:20 http://archive.ubuntu.com/ubuntu bionic-backports/universe amd64 Packages [20.6 kB]\n",
            "Get:21 http://archive.ubuntu.com/ubuntu bionic-backports/main amd64 Packages [64.0 kB]\n",
            "Get:22 http://ppa.launchpad.net/ubuntu-toolchain-r/test/ubuntu bionic InRelease [20.8 kB]\n",
            "Get:23 http://ppa.launchpad.net/ubuntu-toolchain-r/test/ubuntu bionic/main amd64 Packages [50.4 kB]\n",
            "Fetched 11.8 MB in 2s (6,405 kB/s)\n",
            "Reading package lists... Done\n",
            "Added repo\n",
            "Hit:1 https://cloud.r-project.org/bin/linux/ubuntu bionic-cran40/ InRelease\n",
            "Hit:2 http://archive.ubuntu.com/ubuntu bionic InRelease\n",
            "Hit:3 http://archive.ubuntu.com/ubuntu bionic-updates InRelease\n",
            "Ign:4 https://developer.download.nvidia.com/compute/machine-learning/repos/ubuntu1804/x86_64  InRelease\n",
            "Hit:5 https://developer.download.nvidia.com/compute/cuda/repos/ubuntu1804/x86_64  InRelease\n",
            "Hit:6 https://developer.download.nvidia.com/compute/machine-learning/repos/ubuntu1804/x86_64  Release\n",
            "Hit:7 http://archive.ubuntu.com/ubuntu bionic-backports InRelease\n",
            "Hit:8 http://ppa.launchpad.net/c2d4u.team/c2d4u4.0+/ubuntu bionic InRelease\n",
            "Hit:9 http://security.ubuntu.com/ubuntu bionic-security InRelease\n",
            "Hit:10 http://ppa.launchpad.net/cran/libgit2/ubuntu bionic InRelease\n",
            "Hit:12 http://ppa.launchpad.net/deadsnakes/ppa/ubuntu bionic InRelease\n",
            "Hit:13 http://ppa.launchpad.net/graphics-drivers/ppa/ubuntu bionic InRelease\n",
            "Hit:14 http://ppa.launchpad.net/ubuntu-toolchain-r/test/ubuntu bionic InRelease\n",
            "Reading package lists... Done\n",
            "Installing libstdc++\n",
            "Reading package lists... Done\n",
            "Building dependency tree       \n",
            "Reading state information... Done\n",
            "Selected version '11.1.0-1ubuntu1~18.04.1' (Toolchain test builds:18.04/bionic [amd64]) for 'libstdc++6'\n",
            "The following package was automatically installed and is no longer required:\n",
            "  libnvidia-common-460\n",
            "Use 'sudo apt autoremove' to remove it.\n",
            "The following additional packages will be installed:\n",
            "  gcc-11-base libgcc-s1\n",
            "The following NEW packages will be installed:\n",
            "  gcc-11-base libgcc-s1\n",
            "The following packages will be upgraded:\n",
            "  libstdc++6\n",
            "1 upgraded, 2 newly installed, 0 to remove and 43 not upgraded.\n",
            "Need to get 641 kB of archives.\n",
            "After this operation, 981 kB of additional disk space will be used.\n",
            "Get:1 http://ppa.launchpad.net/ubuntu-toolchain-r/test/ubuntu bionic/main amd64 gcc-11-base amd64 11.1.0-1ubuntu1~18.04.1 [19.0 kB]\n",
            "Get:2 http://ppa.launchpad.net/ubuntu-toolchain-r/test/ubuntu bionic/main amd64 libgcc-s1 amd64 11.1.0-1ubuntu1~18.04.1 [41.8 kB]\n",
            "Get:3 http://ppa.launchpad.net/ubuntu-toolchain-r/test/ubuntu bionic/main amd64 libstdc++6 amd64 11.1.0-1ubuntu1~18.04.1 [580 kB]\n",
            "Fetched 641 kB in 1s (453 kB/s)\n",
            "debconf: unable to initialize frontend: Dialog\n",
            "debconf: (No usable dialog-like program is installed, so the dialog based frontend cannot be used. at /usr/share/perl5/Debconf/FrontEnd/Dialog.pm line 76, <> line 3.)\n",
            "debconf: falling back to frontend: Readline\n",
            "debconf: unable to initialize frontend: Readline\n",
            "debconf: (This frontend requires a controlling tty.)\n",
            "debconf: falling back to frontend: Teletype\n",
            "dpkg-preconfigure: unable to re-open stdin: \n",
            "Selecting previously unselected package gcc-11-base:amd64.\n",
            "(Reading database ... 123942 files and directories currently installed.)\n",
            "Preparing to unpack .../gcc-11-base_11.1.0-1ubuntu1~18.04.1_amd64.deb ...\n",
            "Unpacking gcc-11-base:amd64 (11.1.0-1ubuntu1~18.04.1) ...\n",
            "Setting up gcc-11-base:amd64 (11.1.0-1ubuntu1~18.04.1) ...\n",
            "Selecting previously unselected package libgcc-s1:amd64.\n",
            "(Reading database ... 123947 files and directories currently installed.)\n",
            "Preparing to unpack .../libgcc-s1_11.1.0-1ubuntu1~18.04.1_amd64.deb ...\n",
            "Unpacking libgcc-s1:amd64 (11.1.0-1ubuntu1~18.04.1) ...\n",
            "Replacing files in old package libgcc1:amd64 (1:8.4.0-1ubuntu1~18.04) ...\n",
            "Setting up libgcc-s1:amd64 (11.1.0-1ubuntu1~18.04.1) ...\n",
            "(Reading database ... 123949 files and directories currently installed.)\n",
            "Preparing to unpack .../libstdc++6_11.1.0-1ubuntu1~18.04.1_amd64.deb ...\n",
            "Unpacking libstdc++6:amd64 (11.1.0-1ubuntu1~18.04.1) over (8.4.0-1ubuntu1~18.04) ...\n",
            "Setting up libstdc++6:amd64 (11.1.0-1ubuntu1~18.04.1) ...\n",
            "Processing triggers for libc-bin (2.27-3ubuntu1.6) ...\n",
            "restarting Colab...\n"
          ]
        }
      ],
      "source": [
        "# This will update the Colab environment and restart the kernel.  Don't run the next cell until you see the session crash.\n",
        "!bash rapidsai-csp-utils/colab/update_gcc.sh\n",
        "import os\n",
        "os._exit(00)"
      ]
    },
    {
      "cell_type": "code",
      "execution_count": null,
      "metadata": {
        "colab": {
          "base_uri": "https://localhost:8080/"
        },
        "id": "Q_8QCkggahkH",
        "outputId": "8287b45a-ce7a-4c40-cd2f-63578575bd46"
      },
      "outputs": [
        {
          "output_type": "stream",
          "name": "stdout",
          "text": [
            "⏬ Downloading https://github.com/jaimergp/miniforge/releases/latest/download/Mambaforge-colab-Linux-x86_64.sh...\n",
            "📦 Installing...\n",
            "📌 Adjusting configuration...\n",
            "🩹 Patching environment...\n",
            "⏲ Done in 0:00:19\n",
            "🔁 Restarting kernel...\n"
          ]
        }
      ],
      "source": [
        "# This will install CondaColab.  This will restart your kernel one last time.  Run this cell by itself and only run the next cell once you see the session crash.\n",
        "import condacolab\n",
        "condacolab.install()"
      ]
    },
    {
      "cell_type": "code",
      "execution_count": null,
      "metadata": {
        "id": "ts_8oCWvahnN",
        "colab": {
          "base_uri": "https://localhost:8080/"
        },
        "outputId": "310358ae-dda9-4b38-ba21-5fe8f171415b"
      },
      "outputs": [
        {
          "output_type": "stream",
          "name": "stdout",
          "text": [
            "✨🍰✨ Everything looks OK!\n"
          ]
        }
      ],
      "source": [
        "# you can now run the rest of the cells as normal\n",
        "import condacolab\n",
        "condacolab.check()"
      ]
    },
    {
      "cell_type": "code",
      "execution_count": null,
      "metadata": {
        "id": "I-ZgdDIIahqr",
        "colab": {
          "base_uri": "https://localhost:8080/"
        },
        "outputId": "afbc949a-91a2-475f-e0ce-77334bf1666b"
      },
      "outputs": [
        {
          "output_type": "stream",
          "name": "stdout",
          "text": [
            "Found existing installation: cffi 1.15.1\n",
            "Uninstalling cffi-1.15.1:\n",
            "  Successfully uninstalled cffi-1.15.1\n",
            "WARNING: Running pip as the 'root' user can result in broken permissions and conflicting behaviour with the system package manager. It is recommended to use a virtual environment instead: https://pip.pypa.io/warnings/venv\n",
            "Found existing installation: cryptography 37.0.4\n",
            "Uninstalling cryptography-37.0.4:\n",
            "  Successfully uninstalled cryptography-37.0.4\n",
            "WARNING: Running pip as the 'root' user can result in broken permissions and conflicting behaviour with the system package manager. It is recommended to use a virtual environment instead: https://pip.pypa.io/warnings/venv\n",
            "Looking in indexes: https://pypi.org/simple, https://us-python.pkg.dev/colab-wheels/public/simple/\n",
            "Collecting cffi==1.15.0\n",
            "  Downloading cffi-1.15.0-cp37-cp37m-manylinux_2_12_x86_64.manylinux2010_x86_64.whl (427 kB)\n",
            "     ━━━━━━━━━━━━━━━━━━━━━━━━━━━━━━━━━━━━━━━ 427.1/427.1 kB 9.3 MB/s eta 0:00:00\n",
            "Requirement already satisfied: pycparser in /usr/local/lib/python3.7/site-packages (from cffi==1.15.0) (2.21)\n",
            "Installing collected packages: cffi\n",
            "Successfully installed cffi-1.15.0\n",
            "WARNING: Running pip as the 'root' user can result in broken permissions and conflicting behaviour with the system package manager. It is recommended to use a virtual environment instead: https://pip.pypa.io/warnings/venv\n",
            "Installing RAPIDS Stable 21.12\n",
            "Starting the RAPIDS install on Colab.  This will take about 15 minutes.\n",
            "Collecting package metadata (current_repodata.json): ...working... done\n",
            "Solving environment: ...working... failed with initial frozen solve. Retrying with flexible solve.\n",
            "Solving environment: ...working... failed with repodata from current_repodata.json, will retry with next repodata source.\n",
            "Collecting package metadata (repodata.json): ...working... done\n",
            "Solving environment: ...working... done\n",
            "\n",
            "## Package Plan ##\n",
            "\n",
            "  environment location: /usr/local\n",
            "\n",
            "  added / updated specs:\n",
            "    - cudatoolkit=11.2\n",
            "    - dask-sql\n",
            "    - gcsfs\n",
            "    - llvmlite\n",
            "    - openssl\n",
            "    - python=3.7\n",
            "    - rapids=21.12\n",
            "\n",
            "\n",
            "The following packages will be downloaded:\n",
            "\n",
            "    package                    |            build\n",
            "    ---------------------------|-----------------\n",
            "    abseil-cpp-20210324.2      |       h9c3ff4c_0        1010 KB  conda-forge\n",
            "    aiohttp-3.8.3              |   py37h540881e_0         432 KB  conda-forge\n",
            "    aiosignal-1.2.0            |     pyhd8ed1ab_0          12 KB  conda-forge\n",
            "    alsa-lib-1.2.3.2           |       h166bdaf_0         554 KB  conda-forge\n",
            "    anyio-3.6.2                |     pyhd8ed1ab_0          83 KB  conda-forge\n",
            "    appdirs-1.4.4              |     pyh9f0ad1d_0          13 KB  conda-forge\n",
            "    argon2-cffi-21.3.0         |     pyhd8ed1ab_0          15 KB  conda-forge\n",
            "    argon2-cffi-bindings-21.2.0|   py37h540881e_2          34 KB  conda-forge\n",
            "    arrow-cpp-5.0.0            |py37h6ab10f6_20_cuda        22.4 MB  conda-forge\n",
            "    arrow-cpp-proc-3.0.0       |             cuda          24 KB  conda-forge\n",
            "    async-timeout-4.0.2        |     pyhd8ed1ab_0           9 KB  conda-forge\n",
            "    asynctest-0.13.0           |             py_0          24 KB  conda-forge\n",
            "    attrs-22.1.0               |     pyh71513ae_1          48 KB  conda-forge\n",
            "    aws-c-auth-0.6.8           |       hadad3cd_1          94 KB  conda-forge\n",
            "    aws-c-cal-0.5.12           |       h70efedd_7          36 KB  conda-forge\n",
            "    aws-c-common-0.6.17        |       h7f98852_0         179 KB  conda-forge\n",
            "    aws-c-compression-0.2.14   |       h7c7754b_7          17 KB  conda-forge\n",
            "    aws-c-event-stream-0.2.7   |      hd2be095_32          47 KB  conda-forge\n",
            "    aws-c-http-0.6.10          |       h416565a_3         173 KB  conda-forge\n",
            "    aws-c-io-0.10.14           |       he836878_0         137 KB  conda-forge\n",
            "    aws-c-mqtt-0.7.10          |       h885097b_0          67 KB  conda-forge\n",
            "    aws-c-s3-0.1.29            |       h8d70ed6_0          49 KB  conda-forge\n",
            "    aws-c-sdkutils-0.1.1       |       h7c7754b_4          23 KB  conda-forge\n",
            "    aws-checksums-0.1.12       |       h7c7754b_6          50 KB  conda-forge\n",
            "    aws-crt-cpp-0.17.10        |       h6ab17b9_5         207 KB  conda-forge\n",
            "    aws-sdk-cpp-1.9.160        |       h36ff4c5_0         4.6 MB  conda-forge\n",
            "    backcall-0.2.0             |     pyh9f0ad1d_0          13 KB  conda-forge\n",
            "    backports-1.0              |             py_2           4 KB  conda-forge\n",
            "    backports.functools_lru_cache-1.6.4|     pyhd8ed1ab_0           9 KB  conda-forge\n",
            "    backports.zoneinfo-0.2.1   |   py37h540881e_5          47 KB  conda-forge\n",
            "    beautifulsoup4-4.11.1      |     pyha770c72_0          96 KB  conda-forge\n",
            "    bleach-5.0.1               |     pyhd8ed1ab_0         124 KB  conda-forge\n",
            "    blinker-1.5                |     pyhd8ed1ab_0          15 KB  conda-forge\n",
            "    blosc-1.21.1               |       h83bc5f7_3          47 KB  conda-forge\n",
            "    bokeh-2.4.0                |   py37h89c1867_0        13.5 MB  conda-forge\n",
            "    boost-1.74.0               |   py37h796e4cb_5         342 KB  conda-forge\n",
            "    boost-cpp-1.74.0           |       h312852a_4        16.3 MB  conda-forge\n",
            "    brotli-1.0.9               |       h166bdaf_8          18 KB  conda-forge\n",
            "    brotli-bin-1.0.9           |       h166bdaf_8          20 KB  conda-forge\n",
            "    brunsli-0.1                |       h9c3ff4c_0         200 KB  conda-forge\n",
            "    c-blosc2-2.4.3             |       h7a311fb_0         250 KB  conda-forge\n",
            "    ca-certificates-2022.9.24  |       ha878542_0         150 KB  conda-forge\n",
            "    cachetools-5.2.0           |     pyhd8ed1ab_0          13 KB  conda-forge\n",
            "    cairo-1.16.0               |    h6cf1ce9_1008         1.5 MB  conda-forge\n",
            "    certifi-2022.9.24          |     pyhd8ed1ab_0         155 KB  conda-forge\n",
            "    cfitsio-3.470              |       hb418390_7         1.3 MB  conda-forge\n",
            "    charls-2.2.0               |       h9c3ff4c_0         138 KB  conda-forge\n",
            "    click-8.0.4                |   py37h89c1867_0         145 KB  conda-forge\n",
            "    click-plugins-1.1.1        |             py_0           9 KB  conda-forge\n",
            "    cligj-0.7.2                |     pyhd8ed1ab_1          10 KB  conda-forge\n",
            "    cloudpickle-2.2.0          |     pyhd8ed1ab_0          25 KB  conda-forge\n",
            "    colorcet-3.0.1             |     pyhd8ed1ab_0         1.6 MB  conda-forge\n",
            "    cucim-21.12.00             |cuda_11_py37_g6d1f082_0         3.2 MB  rapidsai\n",
            "    cudatoolkit-11.2.72        |       h2bc3f7f_0       933.4 MB  nvidia\n",
            "    cudf-21.12.02              |cuda_11_py37_g06540b9b37_0        12.6 MB  rapidsai\n",
            "    cudf_kafka-21.12.02        |py37_g06540b9b37_0         1.8 MB  rapidsai\n",
            "    cugraph-21.12.00           |cuda11_py37_g3a43e9d0_0         7.2 MB  rapidsai\n",
            "    cuml-21.12.00              |cuda11_py37_g04c4927f3_0         9.4 MB  rapidsai\n",
            "    cupy-9.6.0                 |   py37h07c33ac_0        51.5 MB  conda-forge\n",
            "    curl-7.83.1                |       h7bff187_0          89 KB  conda-forge\n",
            "    cusignal-21.12.00          |  py37_g2bf865c_0         1.1 MB  rapidsai\n",
            "    cuspatial-21.12.00         |  py37_gab6748f_0        15.9 MB  rapidsai\n",
            "    custreamz-21.12.02         |py37_g06540b9b37_0          32 KB  rapidsai\n",
            "    cuxfilter-21.12.00         |  py37_g2e0fb5a_0         137 KB  rapidsai\n",
            "    cycler-0.11.0              |     pyhd8ed1ab_0          10 KB  conda-forge\n",
            "    cyrus-sasl-2.1.27          |       h230043b_5         228 KB  conda-forge\n",
            "    cytoolz-0.12.0             |   py37h540881e_0         380 KB  conda-forge\n",
            "    dask-2021.11.2             |     pyhd8ed1ab_0           5 KB  conda-forge\n",
            "    dask-core-2021.11.2        |     pyhd8ed1ab_0         783 KB  conda-forge\n",
            "    dask-cuda-21.12.00         |           py37_0         123 KB  rapidsai\n",
            "    dask-cudf-21.12.02         |cuda_11_py37_g06540b9b37_0         112 KB  rapidsai\n",
            "    dask-sql-2022.1.0          |   py37h89c1867_0        19.7 MB  conda-forge\n",
            "    datashader-0.11.1          |     pyh9f0ad1d_0        14.0 MB  conda-forge\n",
            "    datashape-0.5.4            |             py_1          49 KB  conda-forge\n",
            "    debugpy-1.6.3              |   py37hd23a5d3_0         2.0 MB  conda-forge\n",
            "    decorator-5.1.1            |     pyhd8ed1ab_0          12 KB  conda-forge\n",
            "    defusedxml-0.7.1           |     pyhd8ed1ab_0          23 KB  conda-forge\n",
            "    distributed-2021.11.2      |   py37h89c1867_0         1.1 MB  conda-forge\n",
            "    dlpack-0.5                 |       h9c3ff4c_0          12 KB  conda-forge\n",
            "    entrypoints-0.4            |     pyhd8ed1ab_0           9 KB  conda-forge\n",
            "    expat-2.5.0                |       h27087fc_0         189 KB  conda-forge\n",
            "    faiss-proc-1.0.0           |             cuda          24 KB  rapidsai\n",
            "    fastapi-0.85.1             |     pyhd8ed1ab_0          45 KB  conda-forge\n",
            "    fastavro-1.6.1             |   py37h540881e_0         464 KB  conda-forge\n",
            "    fastrlock-0.8              |   py37hd23a5d3_2          31 KB  conda-forge\n",
            "    fiona-1.8.20               |   py37hb7e2723_2         1.1 MB  conda-forge\n",
            "    flit-core-3.7.1            |     pyhd8ed1ab_0          44 KB  conda-forge\n",
            "    font-ttf-dejavu-sans-mono-2.37|       hab24e00_0         388 KB  conda-forge\n",
            "    font-ttf-inconsolata-3.000 |       h77eed37_0          94 KB  conda-forge\n",
            "    font-ttf-source-code-pro-2.038|       h77eed37_0         684 KB  conda-forge\n",
            "    font-ttf-ubuntu-0.83       |       hab24e00_0         1.9 MB  conda-forge\n",
            "    fontconfig-2.14.0          |       hc2a2eb6_1         318 KB  conda-forge\n",
            "    fonts-conda-ecosystem-1    |                0           4 KB  conda-forge\n",
            "    fonts-conda-forge-1        |                0           4 KB  conda-forge\n",
            "    fonttools-4.38.0           |   py37h540881e_0         1.9 MB  conda-forge\n",
            "    freetype-2.12.1            |       hca18f0e_0         884 KB  conda-forge\n",
            "    freexl-1.0.6               |       h166bdaf_1          48 KB  conda-forge\n",
            "    frozenlist-1.3.1           |   py37h540881e_0          44 KB  conda-forge\n",
            "    fsspec-2022.10.0           |     pyhd8ed1ab_0          95 KB  conda-forge\n",
            "    gcsfs-2022.10.0            |     pyhd8ed1ab_0          26 KB  conda-forge\n",
            "    gdal-3.3.2                 |   py37hd5a0ba4_3         1.7 MB  conda-forge\n",
            "    geopandas-0.9.0            |     pyhd8ed1ab_1           5 KB  conda-forge\n",
            "    geopandas-base-0.9.0       |     pyhd8ed1ab_1         950 KB  conda-forge\n",
            "    geos-3.9.1                 |       h9c3ff4c_2         1.1 MB  conda-forge\n",
            "    geotiff-1.7.0              |       h08e826d_2         296 KB  conda-forge\n",
            "    gettext-0.21.1             |       h27087fc_0         4.1 MB  conda-forge\n",
            "    gflags-2.2.2               |    he1b5a44_1004         114 KB  conda-forge\n",
            "    giflib-5.2.1               |       h36c2ea0_2          77 KB  conda-forge\n",
            "    glog-0.5.0                 |       h48cff8f_0         104 KB  conda-forge\n",
            "    google-api-core-2.10.0     |     pyhd8ed1ab_0          71 KB  conda-forge\n",
            "    google-auth-2.13.0         |     pyh1a96a4e_0          93 KB  conda-forge\n",
            "    google-auth-oauthlib-0.7.0 |     pyhd8ed1ab_0          21 KB  conda-forge\n",
            "    google-cloud-core-2.3.2    |     pyhd8ed1ab_0          28 KB  conda-forge\n",
            "    google-cloud-storage-2.5.0 |     pyh6c4a22f_0          74 KB  conda-forge\n",
            "    google-crc32c-1.1.2        |   py37h5d4fa31_3          24 KB  conda-forge\n",
            "    google-resumable-media-2.4.0|     pyhd8ed1ab_0          43 KB  conda-forge\n",
            "    googleapis-common-protos-1.56.4|   py37h89c1867_0         123 KB  conda-forge\n",
            "    graphite2-1.3.13           |    h58526e2_1001         102 KB  conda-forge\n",
            "    grpc-cpp-1.42.0            |       ha1441d3_1         4.0 MB  conda-forge\n",
            "    grpcio-1.46.3              |   py37he500948_0         2.5 MB  conda-forge\n",
            "    h11-0.14.0                 |     pyhd8ed1ab_0          47 KB  conda-forge\n",
            "    harfbuzz-2.9.1             |       h83ec7ef_1         2.0 MB  conda-forge\n",
            "    hdf4-4.2.15                |       h9772cbc_4         955 KB  conda-forge\n",
            "    hdf5-1.12.1                |nompi_h2386368_104         3.5 MB  conda-forge\n",
            "    heapdict-1.0.1             |             py_0           7 KB  conda-forge\n",
            "    icu-68.2                   |       h9c3ff4c_0        13.1 MB  conda-forge\n",
            "    imagecodecs-2021.8.26      |   py37hfe5a812_1         7.2 MB  conda-forge\n",
            "    imageio-2.22.0             |     pyhfa7a67d_0         3.2 MB  conda-forge\n",
            "    importlib-metadata-4.11.4  |   py37h89c1867_0          33 KB  conda-forge\n",
            "    importlib_metadata-4.11.4  |       hd8ed1ab_0           4 KB  conda-forge\n",
            "    importlib_resources-5.10.0 |     pyhd8ed1ab_0          29 KB  conda-forge\n",
            "    ipykernel-6.16.2           |     pyh210e3f2_0         100 KB  conda-forge\n",
            "    ipython-7.33.0             |   py37h89c1867_0         1.1 MB  conda-forge\n",
            "    ipywidgets-8.0.2           |     pyhd8ed1ab_1         109 KB  conda-forge\n",
            "    jbig-2.1                   |    h7f98852_2003          43 KB  conda-forge\n",
            "    jedi-0.18.1                |     pyhd8ed1ab_2         799 KB  conda-forge\n",
            "    jinja2-3.1.2               |     pyhd8ed1ab_1          99 KB  conda-forge\n",
            "    joblib-1.2.0               |     pyhd8ed1ab_0         205 KB  conda-forge\n",
            "    jpeg-9e                    |       h166bdaf_2         269 KB  conda-forge\n",
            "    jpype1-1.4.0               |   py37h7cecad7_0         495 KB  conda-forge\n",
            "    json-c-0.15                |       h98cffda_0         274 KB  conda-forge\n",
            "    jsonschema-4.16.0          |     pyhd8ed1ab_0          65 KB  conda-forge\n",
            "    jupyter-server-proxy-3.2.2 |     pyhd8ed1ab_0          30 KB  conda-forge\n",
            "    jupyter_client-7.3.4       |     pyhd8ed1ab_0          91 KB  conda-forge\n",
            "    jupyter_core-4.11.1        |   py37h89c1867_0          81 KB  conda-forge\n",
            "    jupyter_server-1.21.0      |     pyhd8ed1ab_0         239 KB  conda-forge\n",
            "    jupyterlab_pygments-0.2.2  |     pyhd8ed1ab_0          17 KB  conda-forge\n",
            "    jupyterlab_widgets-3.0.3   |     pyhd8ed1ab_0         222 KB  conda-forge\n",
            "    jxrlib-1.1                 |       h7f98852_2         235 KB  conda-forge\n",
            "    kealib-1.4.15              |       hfe1a663_0         188 KB  conda-forge\n",
            "    kiwisolver-1.4.4           |   py37h7cecad7_0          73 KB  conda-forge\n",
            "    lcms2-2.12                 |       hddcbb42_0         443 KB  conda-forge\n",
            "    lerc-3.0                   |       h9c3ff4c_0         216 KB  conda-forge\n",
            "    libaec-1.0.6               |       h9c3ff4c_0          45 KB  conda-forge\n",
            "    libarchive-3.5.2           |       hccf745f_1         1.6 MB  conda-forge\n",
            "    libblas-3.9.0              |16_linux64_openblas          13 KB  conda-forge\n",
            "    libbrotlicommon-1.0.9      |       h166bdaf_8          66 KB  conda-forge\n",
            "    libbrotlidec-1.0.9         |       h166bdaf_8          33 KB  conda-forge\n",
            "    libbrotlienc-1.0.9         |       h166bdaf_8         288 KB  conda-forge\n",
            "    libcblas-3.9.0             |16_linux64_openblas          13 KB  conda-forge\n",
            "    libcrc32c-1.1.2            |       h9c3ff4c_0          20 KB  conda-forge\n",
            "    libcucim-21.12.00          |cuda11_g6d1f082_0         2.8 MB  rapidsai\n",
            "    libcudf-21.12.02           |cuda11_g06540b9b37_0       288.2 MB  rapidsai\n",
            "    libcudf_kafka-21.12.02     |    g06540b9b37_0         126 KB  rapidsai\n",
            "    libcugraph-21.12.00        |cuda11_g3a43e9d0_0       259.4 MB  rapidsai\n",
            "    libcuml-21.12.00           |cuda11_g04c4927f3_0       222.9 MB  rapidsai\n",
            "    libcumlprims-21.12.00      |cuda11_g0a7f19f_0         3.7 MB  nvidia\n",
            "    libcusolver-11.4.1.48      |                0        96.5 MB  nvidia\n",
            "    libcuspatial-21.12.00      |cuda11_gab6748f_0         6.4 MB  rapidsai\n",
            "    libdap4-3.20.6             |       hd7c4107_2        11.3 MB  conda-forge\n",
            "    libdeflate-1.8             |       h7f98852_0          67 KB  conda-forge\n",
            "    libevent-2.1.10            |       h9b69904_4         1.1 MB  conda-forge\n",
            "    libfaiss-1.7.0             |cuda112h5bea7ad_8_cuda        98.5 MB  conda-forge\n",
            "    libgcrypt-1.10.1           |       h166bdaf_0         703 KB  conda-forge\n",
            "    libgdal-3.3.2              |       h6acdded_3        13.1 MB  conda-forge\n",
            "    libgfortran-ng-12.2.0      |      h69a702a_19          22 KB  conda-forge\n",
            "    libgfortran5-12.2.0        |      h337968e_19         1.8 MB  conda-forge\n",
            "    libglib-2.72.1             |       h2d90d5f_0         3.1 MB  conda-forge\n",
            "    libgpg-error-1.45          |       hc0c96e0_0         286 KB  conda-forge\n",
            "    libgsasl-1.10.0            |       h5b4c23d_0         179 KB  conda-forge\n",
            "    libhwloc-2.3.0             |       h5e5b7d1_1         2.7 MB  conda-forge\n",
            "    libkml-1.3.0               |    h238a007_1014         591 KB  conda-forge\n",
            "    liblapack-3.9.0            |16_linux64_openblas          13 KB  conda-forge\n",
            "    libllvm11-11.1.0           |       he0ac6c6_4        28.8 MB  conda-forge\n",
            "    libnetcdf-4.8.1            |nompi_h329d8a1_102         1.5 MB  conda-forge\n",
            "    libntlm-1.4                |    h7f98852_1002          32 KB  conda-forge\n",
            "    libopenblas-0.3.21         |pthreads_h78a6416_3        10.1 MB  conda-forge\n",
            "    libpng-1.6.38              |       h753d276_0         371 KB  conda-forge\n",
            "    libpq-13.5                 |       hd57d9b9_1         2.8 MB  conda-forge\n",
            "    libprotobuf-3.19.4         |       h780b84a_0         2.6 MB  conda-forge\n",
            "    librdkafka-1.6.1           |       hc49e61c_1        12.6 MB  conda-forge\n",
            "    librmm-21.12.00            |cuda11_g957ad04_0         688 KB  rapidsai\n",
            "    librttopo-1.1.0            |       h1185371_6         235 KB  conda-forge\n",
            "    libsodium-1.0.18           |       h36c2ea0_1         366 KB  conda-forge\n",
            "    libspatialindex-1.9.3      |       h9c3ff4c_4         4.6 MB  conda-forge\n",
            "    libspatialite-5.0.1        |       h5cf074c_8         4.4 MB  conda-forge\n",
            "    libthrift-0.15.0           |       he6d91bd_1         4.6 MB  conda-forge\n",
            "    libtiff-4.3.0              |       h6f004c6_2         614 KB  conda-forge\n",
            "    libutf8proc-2.7.0          |       h7f98852_0          98 KB  conda-forge\n",
            "    libuuid-2.32.1             |    h7f98852_1000          28 KB  conda-forge\n",
            "    libuv-1.43.0               |       h7f98852_0         1.0 MB  conda-forge\n",
            "    libwebp-1.2.2              |       h3452ae3_0          85 KB  conda-forge\n",
            "    libwebp-base-1.2.2         |       h7f98852_1         824 KB  conda-forge\n",
            "    libxcb-1.13                |    h7f98852_1004         391 KB  conda-forge\n",
            "    libxgboost-1.5.0dev.rapidsai21.12|       cuda11.2_0       128.2 MB  rapidsai\n",
            "    libxml2-2.9.12             |       h72842e0_0         772 KB  conda-forge\n",
            "    libzip-1.9.2               |       hc869a4a_1          97 KB  conda-forge\n",
            "    libzopfli-1.0.3            |       h9c3ff4c_0         164 KB  conda-forge\n",
            "    llvmlite-0.39.1            |   py37h0761922_0         2.5 MB  conda-forge\n",
            "    locket-1.0.0               |     pyhd8ed1ab_0           8 KB  conda-forge\n",
            "    mapclassify-2.4.3          |     pyhd8ed1ab_0          36 KB  conda-forge\n",
            "    markdown-3.4.1             |     pyhd8ed1ab_0          65 KB  conda-forge\n",
            "    markupsafe-2.1.1           |   py37h540881e_1          22 KB  conda-forge\n",
            "    matplotlib-base-3.5.3      |   py37hf395dca_2         7.3 MB  conda-forge\n",
            "    matplotlib-inline-0.1.6    |     pyhd8ed1ab_0          12 KB  conda-forge\n",
            "    mistune-2.0.4              |     pyhd8ed1ab_0          67 KB  conda-forge\n",
            "    msgpack-python-1.0.4       |   py37h7cecad7_0          90 KB  conda-forge\n",
            "    multidict-6.0.2            |   py37h540881e_1          49 KB  conda-forge\n",
            "    multipledispatch-0.6.0     |             py_0          12 KB  conda-forge\n",
            "    munch-2.5.0                |             py_0          12 KB  conda-forge\n",
            "    munkres-1.1.4              |     pyh9f0ad1d_0          12 KB  conda-forge\n",
            "    nbclient-0.7.0             |     pyhd8ed1ab_0          65 KB  conda-forge\n",
            "    nbconvert-core-7.2.2       |     pyhd8ed1ab_0         189 KB  conda-forge\n",
            "    nbformat-5.7.0             |     pyhd8ed1ab_0         106 KB  conda-forge\n",
            "    nccl-2.14.3.1              |       h0800d71_0       145.2 MB  conda-forge\n",
            "    nest-asyncio-1.5.6         |     pyhd8ed1ab_0          10 KB  conda-forge\n",
            "    networkx-2.7.1             |     pyhd8ed1ab_0         1.5 MB  conda-forge\n",
            "    nodejs-14.18.3             |       h92b4a50_1        15.6 MB  conda-forge\n",
            "    nspr-4.32                  |       h9c3ff4c_1         233 KB  conda-forge\n",
            "    nss-3.78                   |       h2350873_0         2.1 MB  conda-forge\n",
            "    numba-0.56.3               |   py37hf081915_0         4.0 MB  conda-forge\n",
            "    numpy-1.21.6               |   py37h976b520_0         6.1 MB  conda-forge\n",
            "    nvtx-0.2.3                 |   py37h5e8e339_1          55 KB  conda-forge\n",
            "    oauthlib-3.2.2             |     pyhd8ed1ab_0          90 KB  conda-forge\n",
            "    openjdk-11.0.9.1           |       h5cc2fde_1       173.5 MB  conda-forge\n",
            "    openjpeg-2.5.0             |       h7d73246_0         515 KB  conda-forge\n",
            "    openssl-1.1.1q             |       h166bdaf_1         2.1 MB  conda-forge\n",
            "    orc-1.7.1                  |       h1be678f_1         1.1 MB  conda-forge\n",
            "    packaging-21.3             |     pyhd8ed1ab_0          36 KB  conda-forge\n",
            "    pandas-1.3.5               |   py37he8f5f7f_0        12.7 MB  conda-forge\n",
            "    pandocfilters-1.5.0        |     pyhd8ed1ab_0          11 KB  conda-forge\n",
            "    panel-0.12.4               |     pyhd8ed1ab_0         9.8 MB  conda-forge\n",
            "    param-1.12.2               |     pyh6c4a22f_0          72 KB  conda-forge\n",
            "    parquet-cpp-1.5.1          |                2           3 KB  conda-forge\n",
            "    parso-0.8.3                |     pyhd8ed1ab_0          69 KB  conda-forge\n",
            "    partd-1.3.0                |     pyhd8ed1ab_0          18 KB  conda-forge\n",
            "    pcre-8.45                  |       h9c3ff4c_0         253 KB  conda-forge\n",
            "    pexpect-4.8.0              |     pyh9f0ad1d_2          47 KB  conda-forge\n",
            "    pickle5-0.0.12             |   py37h5e8e339_0         173 KB  conda-forge\n",
            "    pickleshare-0.7.5          |          py_1003           9 KB  conda-forge\n",
            "    pillow-9.1.1               |   py37h44f0d7a_1        44.6 MB  conda-forge\n",
            "    pixman-0.40.0              |       h36c2ea0_0         627 KB  conda-forge\n",
            "    pkgutil-resolve-name-1.3.10|     pyhd8ed1ab_0           9 KB  conda-forge\n",
            "    pooch-1.6.0                |     pyhd8ed1ab_0          44 KB  conda-forge\n",
            "    poppler-21.09.0            |       ha39eefc_3        17.1 MB  conda-forge\n",
            "    poppler-data-0.4.11        |       hd8ed1ab_0         3.6 MB  conda-forge\n",
            "    postgresql-13.5            |       h2510834_1         5.3 MB  conda-forge\n",
            "    proj-8.1.0                 |       h277dcde_1         2.9 MB  conda-forge\n",
            "    prometheus_client-0.15.0   |     pyhd8ed1ab_0          50 KB  conda-forge\n",
            "    prompt-toolkit-3.0.31      |     pyha770c72_0         254 KB  conda-forge\n",
            "    protobuf-3.19.4            |   py37hcd2ae1e_0         337 KB  conda-forge\n",
            "    psutil-5.9.3               |   py37h540881e_0         348 KB  conda-forge\n",
            "    pthread-stubs-0.4          |    h36c2ea0_1001           5 KB  conda-forge\n",
            "    ptxcompiler-0.7.0          |   py37h9ef1b40_0         5.7 MB  conda-forge\n",
            "    ptyprocess-0.7.0           |     pyhd3deb0d_0          16 KB  conda-forge\n",
            "    py-xgboost-1.5.0dev.rapidsai21.12|   cuda11.2py37_0         159 KB  rapidsai\n",
            "    pyarrow-5.0.0              |py37h63cede7_20_cuda         2.6 MB  conda-forge\n",
            "    pyasn1-0.4.8               |             py_0          53 KB  conda-forge\n",
            "    pyasn1-modules-0.2.7       |             py_0          60 KB  conda-forge\n",
            "    pyct-0.4.6                 |             py_0           3 KB  conda-forge\n",
            "    pyct-core-0.4.6            |             py_0          13 KB  conda-forge\n",
            "    pydantic-1.10.2            |   py37h540881e_0         2.4 MB  conda-forge\n",
            "    pydeck-0.5.0               |     pyh9f0ad1d_0         3.6 MB  conda-forge\n",
            "    pyee-8.1.0                 |     pyhd8ed1ab_0          14 KB  conda-forge\n",
            "    pygments-2.13.0            |     pyhd8ed1ab_0         821 KB  conda-forge\n",
            "    pyjwt-2.6.0                |     pyhd8ed1ab_0          21 KB  conda-forge\n",
            "    pynvml-11.4.1              |     pyhd8ed1ab_0          40 KB  conda-forge\n",
            "    pyparsing-3.0.9            |     pyhd8ed1ab_0          79 KB  conda-forge\n",
            "    pyppeteer-1.0.2            |     pyhd8ed1ab_0          63 KB  conda-forge\n",
            "    pyproj-3.1.0               |   py37hdf91f24_4         523 KB  conda-forge\n",
            "    pyrsistent-0.18.1          |   py37h540881e_1          91 KB  conda-forge\n",
            "    python-confluent-kafka-1.6.0|   py37h5e8e339_1         125 KB  conda-forge\n",
            "    python-dateutil-2.8.2      |     pyhd8ed1ab_0         240 KB  conda-forge\n",
            "    python-fastjsonschema-2.16.2|     pyhd8ed1ab_0         242 KB  conda-forge\n",
            "    python-tzdata-2022.5       |     pyhd8ed1ab_0         147 KB  conda-forge\n",
            "    pytz-2022.5                |     pyhd8ed1ab_0         238 KB  conda-forge\n",
            "    pytz-deprecation-shim-0.1.0.post0|   py37h89c1867_2          22 KB  conda-forge\n",
            "    pyu2f-0.1.5                |     pyhd8ed1ab_0          31 KB  conda-forge\n",
            "    pyviz_comms-2.2.1          |     pyhd8ed1ab_1          31 KB  conda-forge\n",
            "    pywavelets-1.3.0           |   py37hda87dfa_1         4.4 MB  conda-forge\n",
            "    pyyaml-6.0                 |   py37h540881e_4         178 KB  conda-forge\n",
            "    pyzmq-24.0.1               |   py37h0c0c2a8_0         500 KB  conda-forge\n",
            "    rapids-21.12.00            |cuda11.2_py37_gc46440c_94           5 KB  rapidsai\n",
            "    rapids-xgboost-21.12.00    |cuda11.2_py37_gc46440c_94           5 KB  rapidsai\n",
            "    re2-2021.11.01             |       h9c3ff4c_0         222 KB  conda-forge\n",
            "    requests-oauthlib-1.3.1    |     pyhd8ed1ab_0          22 KB  conda-forge\n",
            "    rmm-21.12.00               |cuda11_py37_g957ad04_0_has_cma         943 KB  rapidsai\n",
            "    rsa-4.9                    |     pyhd8ed1ab_0          29 KB  conda-forge\n",
            "    rtree-1.0.1                |   py37h0b55af0_0          49 KB  conda-forge\n",
            "    s2n-1.3.0                  |       h9b69904_0         483 KB  conda-forge\n",
            "    scikit-image-0.18.1        |   py37hdc94413_0        11.5 MB  conda-forge\n",
            "    scikit-learn-1.0.2         |   py37hf9e9bfc_0         7.8 MB  conda-forge\n",
            "    scipy-1.7.3                |   py37hf2a6cf1_0        21.8 MB  conda-forge\n",
            "    send2trash-1.8.0           |     pyhd8ed1ab_0          17 KB  conda-forge\n",
            "    setuptools-59.8.0          |   py37h89c1867_1         1.0 MB  conda-forge\n",
            "    shapely-1.8.0              |   py37h48c49eb_0         367 KB  conda-forge\n",
            "    simpervisor-0.4            |     pyhd8ed1ab_0           9 KB  conda-forge\n",
            "    snappy-1.1.9               |       hbd366e4_1          35 KB  conda-forge\n",
            "    sniffio-1.3.0              |     pyhd8ed1ab_0          14 KB  conda-forge\n",
            "    sortedcontainers-2.4.0     |     pyhd8ed1ab_0          26 KB  conda-forge\n",
            "    soupsieve-2.3.2.post1      |     pyhd8ed1ab_0          34 KB  conda-forge\n",
            "    spdlog-1.8.5               |       h4bd325d_1         352 KB  conda-forge\n",
            "    starlette-0.20.4           |     pyhd8ed1ab_1          48 KB  conda-forge\n",
            "    streamz-0.6.4              |     pyh6c4a22f_0          63 KB  conda-forge\n",
            "    tabulate-0.9.0             |     pyhd8ed1ab_1          35 KB  conda-forge\n",
            "    tblib-1.7.0                |     pyhd8ed1ab_0          15 KB  conda-forge\n",
            "    terminado-0.17.0           |     pyh41d4057_0          19 KB  conda-forge\n",
            "    threadpoolctl-3.1.0        |     pyh8a188c0_0          18 KB  conda-forge\n",
            "    tifffile-2021.11.2         |     pyhd8ed1ab_0         139 KB  conda-forge\n",
            "    tiledb-2.3.4               |       he87e0bf_0         4.1 MB  conda-forge\n",
            "    tinycss2-1.2.1             |     pyhd8ed1ab_0          23 KB  conda-forge\n",
            "    tornado-6.1                |   py37h540881e_3         646 KB  conda-forge\n",
            "    traitlets-5.5.0            |     pyhd8ed1ab_0          85 KB  conda-forge\n",
            "    treelite-2.1.0             |   py37h4b3d254_0         1.4 MB  conda-forge\n",
            "    typing-extensions-4.4.0    |       hd8ed1ab_0           8 KB  conda-forge\n",
            "    typing_extensions-4.4.0    |     pyha770c72_0          29 KB  conda-forge\n",
            "    tzcode-2022e               |       h166bdaf_0          71 KB  conda-forge\n",
            "    tzdata-2022e               |       h191b570_0         118 KB  conda-forge\n",
            "    tzlocal-4.2                |   py37h89c1867_1          31 KB  conda-forge\n",
            "    ucx-1.11.2+gef2bbcf        |       cuda11.2_0        11.9 MB  rapidsai\n",
            "    ucx-proc-1.0.0             |              gpu           9 KB  rapidsai\n",
            "    ucx-py-0.23.0              |  py37_gef2bbcf_0         353 KB  rapidsai\n",
            "    unicodedata2-14.0.0        |   py37h540881e_1         496 KB  conda-forge\n",
            "    uvicorn-0.19.0             |   py37h89c1867_0          82 KB  conda-forge\n",
            "    wcwidth-0.2.5              |     pyh9f0ad1d_2          33 KB  conda-forge\n",
            "    webencodings-0.5.1         |             py_1          12 KB  conda-forge\n",
            "    websocket-client-1.4.1     |     pyhd8ed1ab_0          42 KB  conda-forge\n",
            "    websockets-10.3            |   py37h540881e_0         122 KB  conda-forge\n",
            "    widgetsnbextension-4.0.3   |     pyhd8ed1ab_0         1.6 MB  conda-forge\n",
            "    xarray-0.20.2              |     pyhd8ed1ab_0         628 KB  conda-forge\n",
            "    xerces-c-3.2.3             |       h9d8b166_3         1.8 MB  conda-forge\n",
            "    xgboost-1.5.0dev.rapidsai21.12|   cuda11.2py37_0          17 KB  rapidsai\n",
            "    xorg-fixesproto-5.0        |    h7f98852_1002           9 KB  conda-forge\n",
            "    xorg-inputproto-2.3.2      |    h7f98852_1002          19 KB  conda-forge\n",
            "    xorg-kbproto-1.0.7         |    h7f98852_1002          27 KB  conda-forge\n",
            "    xorg-libice-1.0.10         |       h7f98852_0          58 KB  conda-forge\n",
            "    xorg-libsm-1.2.3           |    hd9c2040_1000          26 KB  conda-forge\n",
            "    xorg-libx11-1.7.2          |       h7f98852_0         941 KB  conda-forge\n",
            "    xorg-libxau-1.0.9          |       h7f98852_0          13 KB  conda-forge\n",
            "    xorg-libxdmcp-1.1.3        |       h7f98852_0          19 KB  conda-forge\n",
            "    xorg-libxext-1.3.4         |       h7f98852_1          54 KB  conda-forge\n",
            "    xorg-libxfixes-5.0.3       |    h7f98852_1004          18 KB  conda-forge\n",
            "    xorg-libxi-1.7.10          |       h7f98852_0          46 KB  conda-forge\n",
            "    xorg-libxrender-0.9.10     |    h7f98852_1003          32 KB  conda-forge\n",
            "    xorg-libxtst-1.2.3         |    h7f98852_1002          31 KB  conda-forge\n",
            "    xorg-recordproto-1.14.2    |    h7f98852_1002           8 KB  conda-forge\n",
            "    xorg-renderproto-0.11.1    |    h7f98852_1002           9 KB  conda-forge\n",
            "    xorg-xextproto-7.3.0       |    h7f98852_1002          28 KB  conda-forge\n",
            "    xorg-xproto-7.0.31         |    h7f98852_1007          73 KB  conda-forge\n",
            "    yarl-1.7.2                 |   py37h540881e_2         132 KB  conda-forge\n",
            "    zeromq-4.3.4               |       h9c3ff4c_1         351 KB  conda-forge\n",
            "    zfp-0.5.5                  |       h9c3ff4c_8         190 KB  conda-forge\n",
            "    zict-2.2.0                 |     pyhd8ed1ab_0          20 KB  conda-forge\n",
            "    zipp-3.10.0                |     pyhd8ed1ab_0          14 KB  conda-forge\n",
            "    zlib-1.2.12                |       h166bdaf_2          91 KB  conda-forge\n",
            "    zlib-ng-2.0.6              |       h166bdaf_0          96 KB  conda-forge\n",
            "    ------------------------------------------------------------\n",
            "                                           Total:        2.91 GB\n",
            "\n",
            "The following NEW packages will be INSTALLED:\n",
            "\n",
            "  abseil-cpp         conda-forge/linux-64::abseil-cpp-20210324.2-h9c3ff4c_0\n",
            "  aiohttp            conda-forge/linux-64::aiohttp-3.8.3-py37h540881e_0\n",
            "  aiosignal          conda-forge/noarch::aiosignal-1.2.0-pyhd8ed1ab_0\n",
            "  alsa-lib           conda-forge/linux-64::alsa-lib-1.2.3.2-h166bdaf_0\n",
            "  anyio              conda-forge/noarch::anyio-3.6.2-pyhd8ed1ab_0\n",
            "  appdirs            conda-forge/noarch::appdirs-1.4.4-pyh9f0ad1d_0\n",
            "  argon2-cffi        conda-forge/noarch::argon2-cffi-21.3.0-pyhd8ed1ab_0\n",
            "  argon2-cffi-bindi~ conda-forge/linux-64::argon2-cffi-bindings-21.2.0-py37h540881e_2\n",
            "  arrow-cpp          conda-forge/linux-64::arrow-cpp-5.0.0-py37h6ab10f6_20_cuda\n",
            "  arrow-cpp-proc     conda-forge/linux-64::arrow-cpp-proc-3.0.0-cuda\n",
            "  async-timeout      conda-forge/noarch::async-timeout-4.0.2-pyhd8ed1ab_0\n",
            "  asynctest          conda-forge/noarch::asynctest-0.13.0-py_0\n",
            "  attrs              conda-forge/noarch::attrs-22.1.0-pyh71513ae_1\n",
            "  aws-c-auth         conda-forge/linux-64::aws-c-auth-0.6.8-hadad3cd_1\n",
            "  aws-c-cal          conda-forge/linux-64::aws-c-cal-0.5.12-h70efedd_7\n",
            "  aws-c-common       conda-forge/linux-64::aws-c-common-0.6.17-h7f98852_0\n",
            "  aws-c-compression  conda-forge/linux-64::aws-c-compression-0.2.14-h7c7754b_7\n",
            "  aws-c-event-stream conda-forge/linux-64::aws-c-event-stream-0.2.7-hd2be095_32\n",
            "  aws-c-http         conda-forge/linux-64::aws-c-http-0.6.10-h416565a_3\n",
            "  aws-c-io           conda-forge/linux-64::aws-c-io-0.10.14-he836878_0\n",
            "  aws-c-mqtt         conda-forge/linux-64::aws-c-mqtt-0.7.10-h885097b_0\n",
            "  aws-c-s3           conda-forge/linux-64::aws-c-s3-0.1.29-h8d70ed6_0\n",
            "  aws-c-sdkutils     conda-forge/linux-64::aws-c-sdkutils-0.1.1-h7c7754b_4\n",
            "  aws-checksums      conda-forge/linux-64::aws-checksums-0.1.12-h7c7754b_6\n",
            "  aws-crt-cpp        conda-forge/linux-64::aws-crt-cpp-0.17.10-h6ab17b9_5\n",
            "  aws-sdk-cpp        conda-forge/linux-64::aws-sdk-cpp-1.9.160-h36ff4c5_0\n",
            "  backcall           conda-forge/noarch::backcall-0.2.0-pyh9f0ad1d_0\n",
            "  backports          conda-forge/noarch::backports-1.0-py_2\n",
            "  backports.functoo~ conda-forge/noarch::backports.functools_lru_cache-1.6.4-pyhd8ed1ab_0\n",
            "  backports.zoneinfo conda-forge/linux-64::backports.zoneinfo-0.2.1-py37h540881e_5\n",
            "  beautifulsoup4     conda-forge/noarch::beautifulsoup4-4.11.1-pyha770c72_0\n",
            "  bleach             conda-forge/noarch::bleach-5.0.1-pyhd8ed1ab_0\n",
            "  blinker            conda-forge/noarch::blinker-1.5-pyhd8ed1ab_0\n",
            "  blosc              conda-forge/linux-64::blosc-1.21.1-h83bc5f7_3\n",
            "  bokeh              conda-forge/linux-64::bokeh-2.4.0-py37h89c1867_0\n",
            "  boost              conda-forge/linux-64::boost-1.74.0-py37h796e4cb_5\n",
            "  boost-cpp          conda-forge/linux-64::boost-cpp-1.74.0-h312852a_4\n",
            "  brotli             conda-forge/linux-64::brotli-1.0.9-h166bdaf_8\n",
            "  brotli-bin         conda-forge/linux-64::brotli-bin-1.0.9-h166bdaf_8\n",
            "  brunsli            conda-forge/linux-64::brunsli-0.1-h9c3ff4c_0\n",
            "  c-blosc2           conda-forge/linux-64::c-blosc2-2.4.3-h7a311fb_0\n",
            "  cachetools         conda-forge/noarch::cachetools-5.2.0-pyhd8ed1ab_0\n",
            "  cairo              conda-forge/linux-64::cairo-1.16.0-h6cf1ce9_1008\n",
            "  cfitsio            conda-forge/linux-64::cfitsio-3.470-hb418390_7\n",
            "  charls             conda-forge/linux-64::charls-2.2.0-h9c3ff4c_0\n",
            "  click              conda-forge/linux-64::click-8.0.4-py37h89c1867_0\n",
            "  click-plugins      conda-forge/noarch::click-plugins-1.1.1-py_0\n",
            "  cligj              conda-forge/noarch::cligj-0.7.2-pyhd8ed1ab_1\n",
            "  cloudpickle        conda-forge/noarch::cloudpickle-2.2.0-pyhd8ed1ab_0\n",
            "  colorcet           conda-forge/noarch::colorcet-3.0.1-pyhd8ed1ab_0\n",
            "  cucim              rapidsai/linux-64::cucim-21.12.00-cuda_11_py37_g6d1f082_0\n",
            "  cudatoolkit        nvidia/linux-64::cudatoolkit-11.2.72-h2bc3f7f_0\n",
            "  cudf               rapidsai/linux-64::cudf-21.12.02-cuda_11_py37_g06540b9b37_0\n",
            "  cudf_kafka         rapidsai/linux-64::cudf_kafka-21.12.02-py37_g06540b9b37_0\n",
            "  cugraph            rapidsai/linux-64::cugraph-21.12.00-cuda11_py37_g3a43e9d0_0\n",
            "  cuml               rapidsai/linux-64::cuml-21.12.00-cuda11_py37_g04c4927f3_0\n",
            "  cupy               conda-forge/linux-64::cupy-9.6.0-py37h07c33ac_0\n",
            "  curl               conda-forge/linux-64::curl-7.83.1-h7bff187_0\n",
            "  cusignal           rapidsai/noarch::cusignal-21.12.00-py37_g2bf865c_0\n",
            "  cuspatial          rapidsai/linux-64::cuspatial-21.12.00-py37_gab6748f_0\n",
            "  custreamz          rapidsai/linux-64::custreamz-21.12.02-py37_g06540b9b37_0\n",
            "  cuxfilter          rapidsai/linux-64::cuxfilter-21.12.00-py37_g2e0fb5a_0\n",
            "  cycler             conda-forge/noarch::cycler-0.11.0-pyhd8ed1ab_0\n",
            "  cyrus-sasl         conda-forge/linux-64::cyrus-sasl-2.1.27-h230043b_5\n",
            "  cytoolz            conda-forge/linux-64::cytoolz-0.12.0-py37h540881e_0\n",
            "  dask               conda-forge/noarch::dask-2021.11.2-pyhd8ed1ab_0\n",
            "  dask-core          conda-forge/noarch::dask-core-2021.11.2-pyhd8ed1ab_0\n",
            "  dask-cuda          rapidsai/linux-64::dask-cuda-21.12.00-py37_0\n",
            "  dask-cudf          rapidsai/linux-64::dask-cudf-21.12.02-cuda_11_py37_g06540b9b37_0\n",
            "  dask-sql           conda-forge/linux-64::dask-sql-2022.1.0-py37h89c1867_0\n",
            "  datashader         conda-forge/noarch::datashader-0.11.1-pyh9f0ad1d_0\n",
            "  datashape          conda-forge/noarch::datashape-0.5.4-py_1\n",
            "  debugpy            conda-forge/linux-64::debugpy-1.6.3-py37hd23a5d3_0\n",
            "  decorator          conda-forge/noarch::decorator-5.1.1-pyhd8ed1ab_0\n",
            "  defusedxml         conda-forge/noarch::defusedxml-0.7.1-pyhd8ed1ab_0\n",
            "  distributed        conda-forge/linux-64::distributed-2021.11.2-py37h89c1867_0\n",
            "  dlpack             conda-forge/linux-64::dlpack-0.5-h9c3ff4c_0\n",
            "  entrypoints        conda-forge/noarch::entrypoints-0.4-pyhd8ed1ab_0\n",
            "  expat              conda-forge/linux-64::expat-2.5.0-h27087fc_0\n",
            "  faiss-proc         rapidsai/linux-64::faiss-proc-1.0.0-cuda\n",
            "  fastapi            conda-forge/noarch::fastapi-0.85.1-pyhd8ed1ab_0\n",
            "  fastavro           conda-forge/linux-64::fastavro-1.6.1-py37h540881e_0\n",
            "  fastrlock          conda-forge/linux-64::fastrlock-0.8-py37hd23a5d3_2\n",
            "  fiona              conda-forge/linux-64::fiona-1.8.20-py37hb7e2723_2\n",
            "  flit-core          conda-forge/noarch::flit-core-3.7.1-pyhd8ed1ab_0\n",
            "  font-ttf-dejavu-s~ conda-forge/noarch::font-ttf-dejavu-sans-mono-2.37-hab24e00_0\n",
            "  font-ttf-inconsol~ conda-forge/noarch::font-ttf-inconsolata-3.000-h77eed37_0\n",
            "  font-ttf-source-c~ conda-forge/noarch::font-ttf-source-code-pro-2.038-h77eed37_0\n",
            "  font-ttf-ubuntu    conda-forge/noarch::font-ttf-ubuntu-0.83-hab24e00_0\n",
            "  fontconfig         conda-forge/linux-64::fontconfig-2.14.0-hc2a2eb6_1\n",
            "  fonts-conda-ecosy~ conda-forge/noarch::fonts-conda-ecosystem-1-0\n",
            "  fonts-conda-forge  conda-forge/noarch::fonts-conda-forge-1-0\n",
            "  fonttools          conda-forge/linux-64::fonttools-4.38.0-py37h540881e_0\n",
            "  freetype           conda-forge/linux-64::freetype-2.12.1-hca18f0e_0\n",
            "  freexl             conda-forge/linux-64::freexl-1.0.6-h166bdaf_1\n",
            "  frozenlist         conda-forge/linux-64::frozenlist-1.3.1-py37h540881e_0\n",
            "  fsspec             conda-forge/noarch::fsspec-2022.10.0-pyhd8ed1ab_0\n",
            "  gcsfs              conda-forge/noarch::gcsfs-2022.10.0-pyhd8ed1ab_0\n",
            "  gdal               conda-forge/linux-64::gdal-3.3.2-py37hd5a0ba4_3\n",
            "  geopandas          conda-forge/noarch::geopandas-0.9.0-pyhd8ed1ab_1\n",
            "  geopandas-base     conda-forge/noarch::geopandas-base-0.9.0-pyhd8ed1ab_1\n",
            "  geos               conda-forge/linux-64::geos-3.9.1-h9c3ff4c_2\n",
            "  geotiff            conda-forge/linux-64::geotiff-1.7.0-h08e826d_2\n",
            "  gettext            conda-forge/linux-64::gettext-0.21.1-h27087fc_0\n",
            "  gflags             conda-forge/linux-64::gflags-2.2.2-he1b5a44_1004\n",
            "  giflib             conda-forge/linux-64::giflib-5.2.1-h36c2ea0_2\n",
            "  glog               conda-forge/linux-64::glog-0.5.0-h48cff8f_0\n",
            "  google-api-core    conda-forge/noarch::google-api-core-2.10.0-pyhd8ed1ab_0\n",
            "  google-auth        conda-forge/noarch::google-auth-2.13.0-pyh1a96a4e_0\n",
            "  google-auth-oauth~ conda-forge/noarch::google-auth-oauthlib-0.7.0-pyhd8ed1ab_0\n",
            "  google-cloud-core  conda-forge/noarch::google-cloud-core-2.3.2-pyhd8ed1ab_0\n",
            "  google-cloud-stor~ conda-forge/noarch::google-cloud-storage-2.5.0-pyh6c4a22f_0\n",
            "  google-crc32c      conda-forge/linux-64::google-crc32c-1.1.2-py37h5d4fa31_3\n",
            "  google-resumable-~ conda-forge/noarch::google-resumable-media-2.4.0-pyhd8ed1ab_0\n",
            "  googleapis-common~ conda-forge/linux-64::googleapis-common-protos-1.56.4-py37h89c1867_0\n",
            "  graphite2          conda-forge/linux-64::graphite2-1.3.13-h58526e2_1001\n",
            "  grpc-cpp           conda-forge/linux-64::grpc-cpp-1.42.0-ha1441d3_1\n",
            "  grpcio             conda-forge/linux-64::grpcio-1.46.3-py37he500948_0\n",
            "  h11                conda-forge/noarch::h11-0.14.0-pyhd8ed1ab_0\n",
            "  harfbuzz           conda-forge/linux-64::harfbuzz-2.9.1-h83ec7ef_1\n",
            "  hdf4               conda-forge/linux-64::hdf4-4.2.15-h9772cbc_4\n",
            "  hdf5               conda-forge/linux-64::hdf5-1.12.1-nompi_h2386368_104\n",
            "  heapdict           conda-forge/noarch::heapdict-1.0.1-py_0\n",
            "  imagecodecs        conda-forge/linux-64::imagecodecs-2021.8.26-py37hfe5a812_1\n",
            "  imageio            conda-forge/noarch::imageio-2.22.0-pyhfa7a67d_0\n",
            "  importlib-metadata conda-forge/linux-64::importlib-metadata-4.11.4-py37h89c1867_0\n",
            "  importlib_metadata conda-forge/noarch::importlib_metadata-4.11.4-hd8ed1ab_0\n",
            "  importlib_resourc~ conda-forge/noarch::importlib_resources-5.10.0-pyhd8ed1ab_0\n",
            "  ipykernel          conda-forge/noarch::ipykernel-6.16.2-pyh210e3f2_0\n",
            "  ipython            conda-forge/linux-64::ipython-7.33.0-py37h89c1867_0\n",
            "  ipywidgets         conda-forge/noarch::ipywidgets-8.0.2-pyhd8ed1ab_1\n",
            "  jbig               conda-forge/linux-64::jbig-2.1-h7f98852_2003\n",
            "  jedi               conda-forge/noarch::jedi-0.18.1-pyhd8ed1ab_2\n",
            "  jinja2             conda-forge/noarch::jinja2-3.1.2-pyhd8ed1ab_1\n",
            "  joblib             conda-forge/noarch::joblib-1.2.0-pyhd8ed1ab_0\n",
            "  jpeg               conda-forge/linux-64::jpeg-9e-h166bdaf_2\n",
            "  jpype1             conda-forge/linux-64::jpype1-1.4.0-py37h7cecad7_0\n",
            "  json-c             conda-forge/linux-64::json-c-0.15-h98cffda_0\n",
            "  jsonschema         conda-forge/noarch::jsonschema-4.16.0-pyhd8ed1ab_0\n",
            "  jupyter-server-pr~ conda-forge/noarch::jupyter-server-proxy-3.2.2-pyhd8ed1ab_0\n",
            "  jupyter_client     conda-forge/noarch::jupyter_client-7.3.4-pyhd8ed1ab_0\n",
            "  jupyter_core       conda-forge/linux-64::jupyter_core-4.11.1-py37h89c1867_0\n",
            "  jupyter_server     conda-forge/noarch::jupyter_server-1.21.0-pyhd8ed1ab_0\n",
            "  jupyterlab_pygmen~ conda-forge/noarch::jupyterlab_pygments-0.2.2-pyhd8ed1ab_0\n",
            "  jupyterlab_widgets conda-forge/noarch::jupyterlab_widgets-3.0.3-pyhd8ed1ab_0\n",
            "  jxrlib             conda-forge/linux-64::jxrlib-1.1-h7f98852_2\n",
            "  kealib             conda-forge/linux-64::kealib-1.4.15-hfe1a663_0\n",
            "  kiwisolver         conda-forge/linux-64::kiwisolver-1.4.4-py37h7cecad7_0\n",
            "  lcms2              conda-forge/linux-64::lcms2-2.12-hddcbb42_0\n",
            "  lerc               conda-forge/linux-64::lerc-3.0-h9c3ff4c_0\n",
            "  libaec             conda-forge/linux-64::libaec-1.0.6-h9c3ff4c_0\n",
            "  libblas            conda-forge/linux-64::libblas-3.9.0-16_linux64_openblas\n",
            "  libbrotlicommon    conda-forge/linux-64::libbrotlicommon-1.0.9-h166bdaf_8\n",
            "  libbrotlidec       conda-forge/linux-64::libbrotlidec-1.0.9-h166bdaf_8\n",
            "  libbrotlienc       conda-forge/linux-64::libbrotlienc-1.0.9-h166bdaf_8\n",
            "  libcblas           conda-forge/linux-64::libcblas-3.9.0-16_linux64_openblas\n",
            "  libcrc32c          conda-forge/linux-64::libcrc32c-1.1.2-h9c3ff4c_0\n",
            "  libcucim           rapidsai/linux-64::libcucim-21.12.00-cuda11_g6d1f082_0\n",
            "  libcudf            rapidsai/linux-64::libcudf-21.12.02-cuda11_g06540b9b37_0\n",
            "  libcudf_kafka      rapidsai/linux-64::libcudf_kafka-21.12.02-g06540b9b37_0\n",
            "  libcugraph         rapidsai/linux-64::libcugraph-21.12.00-cuda11_g3a43e9d0_0\n",
            "  libcuml            rapidsai/linux-64::libcuml-21.12.00-cuda11_g04c4927f3_0\n",
            "  libcumlprims       nvidia/linux-64::libcumlprims-21.12.00-cuda11_g0a7f19f_0\n",
            "  libcusolver        nvidia/linux-64::libcusolver-11.4.1.48-0\n",
            "  libcuspatial       rapidsai/linux-64::libcuspatial-21.12.00-cuda11_gab6748f_0\n",
            "  libdap4            conda-forge/linux-64::libdap4-3.20.6-hd7c4107_2\n",
            "  libdeflate         conda-forge/linux-64::libdeflate-1.8-h7f98852_0\n",
            "  libevent           conda-forge/linux-64::libevent-2.1.10-h9b69904_4\n",
            "  libfaiss           conda-forge/linux-64::libfaiss-1.7.0-cuda112h5bea7ad_8_cuda\n",
            "  libgcrypt          conda-forge/linux-64::libgcrypt-1.10.1-h166bdaf_0\n",
            "  libgdal            conda-forge/linux-64::libgdal-3.3.2-h6acdded_3\n",
            "  libgfortran-ng     conda-forge/linux-64::libgfortran-ng-12.2.0-h69a702a_19\n",
            "  libgfortran5       conda-forge/linux-64::libgfortran5-12.2.0-h337968e_19\n",
            "  libglib            conda-forge/linux-64::libglib-2.72.1-h2d90d5f_0\n",
            "  libgpg-error       conda-forge/linux-64::libgpg-error-1.45-hc0c96e0_0\n",
            "  libgsasl           conda-forge/linux-64::libgsasl-1.10.0-h5b4c23d_0\n",
            "  libhwloc           conda-forge/linux-64::libhwloc-2.3.0-h5e5b7d1_1\n",
            "  libkml             conda-forge/linux-64::libkml-1.3.0-h238a007_1014\n",
            "  liblapack          conda-forge/linux-64::liblapack-3.9.0-16_linux64_openblas\n",
            "  libllvm11          conda-forge/linux-64::libllvm11-11.1.0-he0ac6c6_4\n",
            "  libnetcdf          conda-forge/linux-64::libnetcdf-4.8.1-nompi_h329d8a1_102\n",
            "  libntlm            conda-forge/linux-64::libntlm-1.4-h7f98852_1002\n",
            "  libopenblas        conda-forge/linux-64::libopenblas-0.3.21-pthreads_h78a6416_3\n",
            "  libpng             conda-forge/linux-64::libpng-1.6.38-h753d276_0\n",
            "  libpq              conda-forge/linux-64::libpq-13.5-hd57d9b9_1\n",
            "  libprotobuf        conda-forge/linux-64::libprotobuf-3.19.4-h780b84a_0\n",
            "  librdkafka         conda-forge/linux-64::librdkafka-1.6.1-hc49e61c_1\n",
            "  librmm             rapidsai/linux-64::librmm-21.12.00-cuda11_g957ad04_0\n",
            "  librttopo          conda-forge/linux-64::librttopo-1.1.0-h1185371_6\n",
            "  libsodium          conda-forge/linux-64::libsodium-1.0.18-h36c2ea0_1\n",
            "  libspatialindex    conda-forge/linux-64::libspatialindex-1.9.3-h9c3ff4c_4\n",
            "  libspatialite      conda-forge/linux-64::libspatialite-5.0.1-h5cf074c_8\n",
            "  libthrift          conda-forge/linux-64::libthrift-0.15.0-he6d91bd_1\n",
            "  libtiff            conda-forge/linux-64::libtiff-4.3.0-h6f004c6_2\n",
            "  libutf8proc        conda-forge/linux-64::libutf8proc-2.7.0-h7f98852_0\n",
            "  libuuid            conda-forge/linux-64::libuuid-2.32.1-h7f98852_1000\n",
            "  libuv              conda-forge/linux-64::libuv-1.43.0-h7f98852_0\n",
            "  libwebp            conda-forge/linux-64::libwebp-1.2.2-h3452ae3_0\n",
            "  libwebp-base       conda-forge/linux-64::libwebp-base-1.2.2-h7f98852_1\n",
            "  libxcb             conda-forge/linux-64::libxcb-1.13-h7f98852_1004\n",
            "  libxgboost         rapidsai/linux-64::libxgboost-1.5.0dev.rapidsai21.12-cuda11.2_0\n",
            "  libzip             conda-forge/linux-64::libzip-1.9.2-hc869a4a_1\n",
            "  libzopfli          conda-forge/linux-64::libzopfli-1.0.3-h9c3ff4c_0\n",
            "  llvmlite           conda-forge/linux-64::llvmlite-0.39.1-py37h0761922_0\n",
            "  locket             conda-forge/noarch::locket-1.0.0-pyhd8ed1ab_0\n",
            "  mapclassify        conda-forge/noarch::mapclassify-2.4.3-pyhd8ed1ab_0\n",
            "  markdown           conda-forge/noarch::markdown-3.4.1-pyhd8ed1ab_0\n",
            "  markupsafe         conda-forge/linux-64::markupsafe-2.1.1-py37h540881e_1\n",
            "  matplotlib-base    conda-forge/linux-64::matplotlib-base-3.5.3-py37hf395dca_2\n",
            "  matplotlib-inline  conda-forge/noarch::matplotlib-inline-0.1.6-pyhd8ed1ab_0\n",
            "  mistune            conda-forge/noarch::mistune-2.0.4-pyhd8ed1ab_0\n",
            "  msgpack-python     conda-forge/linux-64::msgpack-python-1.0.4-py37h7cecad7_0\n",
            "  multidict          conda-forge/linux-64::multidict-6.0.2-py37h540881e_1\n",
            "  multipledispatch   conda-forge/noarch::multipledispatch-0.6.0-py_0\n",
            "  munch              conda-forge/noarch::munch-2.5.0-py_0\n",
            "  munkres            conda-forge/noarch::munkres-1.1.4-pyh9f0ad1d_0\n",
            "  nbclient           conda-forge/noarch::nbclient-0.7.0-pyhd8ed1ab_0\n",
            "  nbconvert-core     conda-forge/noarch::nbconvert-core-7.2.2-pyhd8ed1ab_0\n",
            "  nbformat           conda-forge/noarch::nbformat-5.7.0-pyhd8ed1ab_0\n",
            "  nccl               conda-forge/linux-64::nccl-2.14.3.1-h0800d71_0\n",
            "  nest-asyncio       conda-forge/noarch::nest-asyncio-1.5.6-pyhd8ed1ab_0\n",
            "  networkx           conda-forge/noarch::networkx-2.7.1-pyhd8ed1ab_0\n",
            "  nodejs             conda-forge/linux-64::nodejs-14.18.3-h92b4a50_1\n",
            "  nspr               conda-forge/linux-64::nspr-4.32-h9c3ff4c_1\n",
            "  nss                conda-forge/linux-64::nss-3.78-h2350873_0\n",
            "  numba              conda-forge/linux-64::numba-0.56.3-py37hf081915_0\n",
            "  numpy              conda-forge/linux-64::numpy-1.21.6-py37h976b520_0\n",
            "  nvtx               conda-forge/linux-64::nvtx-0.2.3-py37h5e8e339_1\n",
            "  oauthlib           conda-forge/noarch::oauthlib-3.2.2-pyhd8ed1ab_0\n",
            "  openjdk            conda-forge/linux-64::openjdk-11.0.9.1-h5cc2fde_1\n",
            "  openjpeg           conda-forge/linux-64::openjpeg-2.5.0-h7d73246_0\n",
            "  orc                conda-forge/linux-64::orc-1.7.1-h1be678f_1\n",
            "  packaging          conda-forge/noarch::packaging-21.3-pyhd8ed1ab_0\n",
            "  pandas             conda-forge/linux-64::pandas-1.3.5-py37he8f5f7f_0\n",
            "  pandocfilters      conda-forge/noarch::pandocfilters-1.5.0-pyhd8ed1ab_0\n",
            "  panel              conda-forge/noarch::panel-0.12.4-pyhd8ed1ab_0\n",
            "  param              conda-forge/noarch::param-1.12.2-pyh6c4a22f_0\n",
            "  parquet-cpp        conda-forge/noarch::parquet-cpp-1.5.1-2\n",
            "  parso              conda-forge/noarch::parso-0.8.3-pyhd8ed1ab_0\n",
            "  partd              conda-forge/noarch::partd-1.3.0-pyhd8ed1ab_0\n",
            "  pcre               conda-forge/linux-64::pcre-8.45-h9c3ff4c_0\n",
            "  pexpect            conda-forge/noarch::pexpect-4.8.0-pyh9f0ad1d_2\n",
            "  pickle5            conda-forge/linux-64::pickle5-0.0.12-py37h5e8e339_0\n",
            "  pickleshare        conda-forge/noarch::pickleshare-0.7.5-py_1003\n",
            "  pillow             conda-forge/linux-64::pillow-9.1.1-py37h44f0d7a_1\n",
            "  pixman             conda-forge/linux-64::pixman-0.40.0-h36c2ea0_0\n",
            "  pkgutil-resolve-n~ conda-forge/noarch::pkgutil-resolve-name-1.3.10-pyhd8ed1ab_0\n",
            "  pooch              conda-forge/noarch::pooch-1.6.0-pyhd8ed1ab_0\n",
            "  poppler            conda-forge/linux-64::poppler-21.09.0-ha39eefc_3\n",
            "  poppler-data       conda-forge/noarch::poppler-data-0.4.11-hd8ed1ab_0\n",
            "  postgresql         conda-forge/linux-64::postgresql-13.5-h2510834_1\n",
            "  proj               conda-forge/linux-64::proj-8.1.0-h277dcde_1\n",
            "  prometheus_client  conda-forge/noarch::prometheus_client-0.15.0-pyhd8ed1ab_0\n",
            "  prompt-toolkit     conda-forge/noarch::prompt-toolkit-3.0.31-pyha770c72_0\n",
            "  protobuf           conda-forge/linux-64::protobuf-3.19.4-py37hcd2ae1e_0\n",
            "  psutil             conda-forge/linux-64::psutil-5.9.3-py37h540881e_0\n",
            "  pthread-stubs      conda-forge/linux-64::pthread-stubs-0.4-h36c2ea0_1001\n",
            "  ptxcompiler        conda-forge/linux-64::ptxcompiler-0.7.0-py37h9ef1b40_0\n",
            "  ptyprocess         conda-forge/noarch::ptyprocess-0.7.0-pyhd3deb0d_0\n",
            "  py-xgboost         rapidsai/linux-64::py-xgboost-1.5.0dev.rapidsai21.12-cuda11.2py37_0\n",
            "  pyarrow            conda-forge/linux-64::pyarrow-5.0.0-py37h63cede7_20_cuda\n",
            "  pyasn1             conda-forge/noarch::pyasn1-0.4.8-py_0\n",
            "  pyasn1-modules     conda-forge/noarch::pyasn1-modules-0.2.7-py_0\n",
            "  pyct               conda-forge/noarch::pyct-0.4.6-py_0\n",
            "  pyct-core          conda-forge/noarch::pyct-core-0.4.6-py_0\n",
            "  pydantic           conda-forge/linux-64::pydantic-1.10.2-py37h540881e_0\n",
            "  pydeck             conda-forge/noarch::pydeck-0.5.0-pyh9f0ad1d_0\n",
            "  pyee               conda-forge/noarch::pyee-8.1.0-pyhd8ed1ab_0\n",
            "  pygments           conda-forge/noarch::pygments-2.13.0-pyhd8ed1ab_0\n",
            "  pyjwt              conda-forge/noarch::pyjwt-2.6.0-pyhd8ed1ab_0\n",
            "  pynvml             conda-forge/noarch::pynvml-11.4.1-pyhd8ed1ab_0\n",
            "  pyparsing          conda-forge/noarch::pyparsing-3.0.9-pyhd8ed1ab_0\n",
            "  pyppeteer          conda-forge/noarch::pyppeteer-1.0.2-pyhd8ed1ab_0\n",
            "  pyproj             conda-forge/linux-64::pyproj-3.1.0-py37hdf91f24_4\n",
            "  pyrsistent         conda-forge/linux-64::pyrsistent-0.18.1-py37h540881e_1\n",
            "  python-confluent-~ conda-forge/linux-64::python-confluent-kafka-1.6.0-py37h5e8e339_1\n",
            "  python-dateutil    conda-forge/noarch::python-dateutil-2.8.2-pyhd8ed1ab_0\n",
            "  python-fastjsonsc~ conda-forge/noarch::python-fastjsonschema-2.16.2-pyhd8ed1ab_0\n",
            "  python-tzdata      conda-forge/noarch::python-tzdata-2022.5-pyhd8ed1ab_0\n",
            "  pytz               conda-forge/noarch::pytz-2022.5-pyhd8ed1ab_0\n",
            "  pytz-deprecation-~ conda-forge/linux-64::pytz-deprecation-shim-0.1.0.post0-py37h89c1867_2\n",
            "  pyu2f              conda-forge/noarch::pyu2f-0.1.5-pyhd8ed1ab_0\n",
            "  pyviz_comms        conda-forge/noarch::pyviz_comms-2.2.1-pyhd8ed1ab_1\n",
            "  pywavelets         conda-forge/linux-64::pywavelets-1.3.0-py37hda87dfa_1\n",
            "  pyyaml             conda-forge/linux-64::pyyaml-6.0-py37h540881e_4\n",
            "  pyzmq              conda-forge/linux-64::pyzmq-24.0.1-py37h0c0c2a8_0\n",
            "  rapids             rapidsai/linux-64::rapids-21.12.00-cuda11.2_py37_gc46440c_94\n",
            "  rapids-xgboost     rapidsai/linux-64::rapids-xgboost-21.12.00-cuda11.2_py37_gc46440c_94\n",
            "  re2                conda-forge/linux-64::re2-2021.11.01-h9c3ff4c_0\n",
            "  requests-oauthlib  conda-forge/noarch::requests-oauthlib-1.3.1-pyhd8ed1ab_0\n",
            "  rmm                rapidsai/linux-64::rmm-21.12.00-cuda11_py37_g957ad04_0_has_cma\n",
            "  rsa                conda-forge/noarch::rsa-4.9-pyhd8ed1ab_0\n",
            "  rtree              conda-forge/linux-64::rtree-1.0.1-py37h0b55af0_0\n",
            "  s2n                conda-forge/linux-64::s2n-1.3.0-h9b69904_0\n",
            "  scikit-image       conda-forge/linux-64::scikit-image-0.18.1-py37hdc94413_0\n",
            "  scikit-learn       conda-forge/linux-64::scikit-learn-1.0.2-py37hf9e9bfc_0\n",
            "  scipy              conda-forge/linux-64::scipy-1.7.3-py37hf2a6cf1_0\n",
            "  send2trash         conda-forge/noarch::send2trash-1.8.0-pyhd8ed1ab_0\n",
            "  shapely            conda-forge/linux-64::shapely-1.8.0-py37h48c49eb_0\n",
            "  simpervisor        conda-forge/noarch::simpervisor-0.4-pyhd8ed1ab_0\n",
            "  snappy             conda-forge/linux-64::snappy-1.1.9-hbd366e4_1\n",
            "  sniffio            conda-forge/noarch::sniffio-1.3.0-pyhd8ed1ab_0\n",
            "  sortedcontainers   conda-forge/noarch::sortedcontainers-2.4.0-pyhd8ed1ab_0\n",
            "  soupsieve          conda-forge/noarch::soupsieve-2.3.2.post1-pyhd8ed1ab_0\n",
            "  spdlog             conda-forge/linux-64::spdlog-1.8.5-h4bd325d_1\n",
            "  starlette          conda-forge/noarch::starlette-0.20.4-pyhd8ed1ab_1\n",
            "  streamz            conda-forge/noarch::streamz-0.6.4-pyh6c4a22f_0\n",
            "  tabulate           conda-forge/noarch::tabulate-0.9.0-pyhd8ed1ab_1\n",
            "  tblib              conda-forge/noarch::tblib-1.7.0-pyhd8ed1ab_0\n",
            "  terminado          conda-forge/noarch::terminado-0.17.0-pyh41d4057_0\n",
            "  threadpoolctl      conda-forge/noarch::threadpoolctl-3.1.0-pyh8a188c0_0\n",
            "  tifffile           conda-forge/noarch::tifffile-2021.11.2-pyhd8ed1ab_0\n",
            "  tiledb             conda-forge/linux-64::tiledb-2.3.4-he87e0bf_0\n",
            "  tinycss2           conda-forge/noarch::tinycss2-1.2.1-pyhd8ed1ab_0\n",
            "  tornado            conda-forge/linux-64::tornado-6.1-py37h540881e_3\n",
            "  traitlets          conda-forge/noarch::traitlets-5.5.0-pyhd8ed1ab_0\n",
            "  treelite           conda-forge/linux-64::treelite-2.1.0-py37h4b3d254_0\n",
            "  typing-extensions  conda-forge/noarch::typing-extensions-4.4.0-hd8ed1ab_0\n",
            "  typing_extensions  conda-forge/noarch::typing_extensions-4.4.0-pyha770c72_0\n",
            "  tzcode             conda-forge/linux-64::tzcode-2022e-h166bdaf_0\n",
            "  tzdata             conda-forge/noarch::tzdata-2022e-h191b570_0\n",
            "  tzlocal            conda-forge/linux-64::tzlocal-4.2-py37h89c1867_1\n",
            "  ucx                rapidsai/linux-64::ucx-1.11.2+gef2bbcf-cuda11.2_0\n",
            "  ucx-proc           rapidsai/linux-64::ucx-proc-1.0.0-gpu\n",
            "  ucx-py             rapidsai/linux-64::ucx-py-0.23.0-py37_gef2bbcf_0\n",
            "  unicodedata2       conda-forge/linux-64::unicodedata2-14.0.0-py37h540881e_1\n",
            "  uvicorn            conda-forge/linux-64::uvicorn-0.19.0-py37h89c1867_0\n",
            "  wcwidth            conda-forge/noarch::wcwidth-0.2.5-pyh9f0ad1d_2\n",
            "  webencodings       conda-forge/noarch::webencodings-0.5.1-py_1\n",
            "  websocket-client   conda-forge/noarch::websocket-client-1.4.1-pyhd8ed1ab_0\n",
            "  websockets         conda-forge/linux-64::websockets-10.3-py37h540881e_0\n",
            "  widgetsnbextension conda-forge/noarch::widgetsnbextension-4.0.3-pyhd8ed1ab_0\n",
            "  xarray             conda-forge/noarch::xarray-0.20.2-pyhd8ed1ab_0\n",
            "  xerces-c           conda-forge/linux-64::xerces-c-3.2.3-h9d8b166_3\n",
            "  xgboost            rapidsai/linux-64::xgboost-1.5.0dev.rapidsai21.12-cuda11.2py37_0\n",
            "  xorg-fixesproto    conda-forge/linux-64::xorg-fixesproto-5.0-h7f98852_1002\n",
            "  xorg-inputproto    conda-forge/linux-64::xorg-inputproto-2.3.2-h7f98852_1002\n",
            "  xorg-kbproto       conda-forge/linux-64::xorg-kbproto-1.0.7-h7f98852_1002\n",
            "  xorg-libice        conda-forge/linux-64::xorg-libice-1.0.10-h7f98852_0\n",
            "  xorg-libsm         conda-forge/linux-64::xorg-libsm-1.2.3-hd9c2040_1000\n",
            "  xorg-libx11        conda-forge/linux-64::xorg-libx11-1.7.2-h7f98852_0\n",
            "  xorg-libxau        conda-forge/linux-64::xorg-libxau-1.0.9-h7f98852_0\n",
            "  xorg-libxdmcp      conda-forge/linux-64::xorg-libxdmcp-1.1.3-h7f98852_0\n",
            "  xorg-libxext       conda-forge/linux-64::xorg-libxext-1.3.4-h7f98852_1\n",
            "  xorg-libxfixes     conda-forge/linux-64::xorg-libxfixes-5.0.3-h7f98852_1004\n",
            "  xorg-libxi         conda-forge/linux-64::xorg-libxi-1.7.10-h7f98852_0\n",
            "  xorg-libxrender    conda-forge/linux-64::xorg-libxrender-0.9.10-h7f98852_1003\n",
            "  xorg-libxtst       conda-forge/linux-64::xorg-libxtst-1.2.3-h7f98852_1002\n",
            "  xorg-recordproto   conda-forge/linux-64::xorg-recordproto-1.14.2-h7f98852_1002\n",
            "  xorg-renderproto   conda-forge/linux-64::xorg-renderproto-0.11.1-h7f98852_1002\n",
            "  xorg-xextproto     conda-forge/linux-64::xorg-xextproto-7.3.0-h7f98852_1002\n",
            "  xorg-xproto        conda-forge/linux-64::xorg-xproto-7.0.31-h7f98852_1007\n",
            "  yarl               conda-forge/linux-64::yarl-1.7.2-py37h540881e_2\n",
            "  zeromq             conda-forge/linux-64::zeromq-4.3.4-h9c3ff4c_1\n",
            "  zfp                conda-forge/linux-64::zfp-0.5.5-h9c3ff4c_8\n",
            "  zict               conda-forge/noarch::zict-2.2.0-pyhd8ed1ab_0\n",
            "  zipp               conda-forge/noarch::zipp-3.10.0-pyhd8ed1ab_0\n",
            "  zlib               conda-forge/linux-64::zlib-1.2.12-h166bdaf_2\n",
            "  zlib-ng            conda-forge/linux-64::zlib-ng-2.0.6-h166bdaf_0\n",
            "\n",
            "The following packages will be UPDATED:\n",
            "\n",
            "  ca-certificates                      2022.6.15-ha878542_0 --> 2022.9.24-ha878542_0\n",
            "  certifi            conda-forge/linux-64::certifi-2022.6.~ --> conda-forge/noarch::certifi-2022.9.24-pyhd8ed1ab_0\n",
            "  openssl                                 1.1.1q-h166bdaf_0 --> 1.1.1q-h166bdaf_1\n",
            "\n",
            "The following packages will be DOWNGRADED:\n",
            "\n",
            "  icu                                       70.1-h27087fc_0 --> 68.2-h9c3ff4c_0\n",
            "  libarchive                               3.5.2-hb890918_3 --> 3.5.2-hccf745f_1\n",
            "  libxml2                                 2.9.14-h22db469_4 --> 2.9.12-h72842e0_0\n",
            "  setuptools                          65.3.0-py37h89c1867_0 --> 59.8.0-py37h89c1867_1\n",
            "\n",
            "\n",
            "\n",
            "Downloading and Extracting Packages\n",
            "\n",
            "backports.functools_ | 9 KB      |            |   0%\n",
            "backports.functools_ | 9 KB      | ########## | 100%\n",
            "backports.functools_ | 9 KB      | ########## | 100%\n",
            "\n",
            "re2-2021.11.01       | 222 KB    |            |   0%\n",
            "re2-2021.11.01       | 222 KB    | ########## | 100%\n",
            "re2-2021.11.01       | 222 KB    | ########## | 100%\n",
            "\n",
            "pyct-0.4.6           | 3 KB      |            |   0%\n",
            "pyct-0.4.6           | 3 KB      | ########## | 100%\n",
            "\n",
            "freexl-1.0.6         | 48 KB     |            |   0%\n",
            "freexl-1.0.6         | 48 KB     | ########## | 100%\n",
            "\n",
            "cuxfilter-21.12.00   | 137 KB    |            |   0%\n",
            "cuxfilter-21.12.00   | 137 KB    | #1         |  12%\n",
            "cuxfilter-21.12.00   | 137 KB    | ########## | 100%\n",
            "cuxfilter-21.12.00   | 137 KB    | ########## | 100%\n",
            "\n",
            "aws-c-compression-0. | 17 KB     |            |   0%\n",
            "aws-c-compression-0. | 17 KB     | ########## | 100%\n",
            "\n",
            "libthrift-0.15.0     | 4.6 MB    |            |   0%\n",
            "libthrift-0.15.0     | 4.6 MB    | ########3  |  83%\n",
            "libthrift-0.15.0     | 4.6 MB    | ########## | 100%\n",
            "\n",
            "heapdict-1.0.1       | 7 KB      |            |   0%\n",
            "heapdict-1.0.1       | 7 KB      | ########## | 100%\n",
            "\n",
            "protobuf-3.19.4      | 337 KB    |            |   0%\n",
            "protobuf-3.19.4      | 337 KB    | ########## | 100%\n",
            "protobuf-3.19.4      | 337 KB    | ########## | 100%\n",
            "\n",
            "xorg-libxau-1.0.9    | 13 KB     |            |   0%\n",
            "xorg-libxau-1.0.9    | 13 KB     | ########## | 100%\n",
            "\n",
            "grpcio-1.46.3        | 2.5 MB    |            |   0%\n",
            "grpcio-1.46.3        | 2.5 MB    | ########## | 100%\n",
            "grpcio-1.46.3        | 2.5 MB    | ########## | 100%\n",
            "\n",
            "xorg-libxdmcp-1.1.3  | 19 KB     |            |   0%\n",
            "xorg-libxdmcp-1.1.3  | 19 KB     | ########## | 100%\n",
            "\n",
            "ucx-proc-1.0.0       | 9 KB      |            |   0%\n",
            "ucx-proc-1.0.0       | 9 KB      | ########## | 100%\n",
            "ucx-proc-1.0.0       | 9 KB      | ########## | 100%\n",
            "\n",
            "click-plugins-1.1.1  | 9 KB      |            |   0%\n",
            "click-plugins-1.1.1  | 9 KB      | ########## | 100%\n",
            "\n",
            "xorg-fixesproto-5.0  | 9 KB      |            |   0%\n",
            "xorg-fixesproto-5.0  | 9 KB      | ########## | 100%\n",
            "\n",
            "pandas-1.3.5         | 12.7 MB   |            |   0%\n",
            "pandas-1.3.5         | 12.7 MB   | ####6      |  46%\n",
            "pandas-1.3.5         | 12.7 MB   | ########## | 100%\n",
            "pandas-1.3.5         | 12.7 MB   | ########## | 100%\n",
            "\n",
            "flit-core-3.7.1      | 44 KB     |            |   0%\n",
            "flit-core-3.7.1      | 44 KB     | ########## | 100%\n",
            "\n",
            "pyasn1-0.4.8         | 53 KB     |            |   0%\n",
            "pyasn1-0.4.8         | 53 KB     | ########## | 100%\n",
            "\n",
            "poppler-21.09.0      | 17.1 MB   |            |   0%\n",
            "poppler-21.09.0      | 17.1 MB   | ####5      |  45%\n",
            "poppler-21.09.0      | 17.1 MB   | #########9 | 100%\n",
            "poppler-21.09.0      | 17.1 MB   | ########## | 100%\n",
            "\n",
            "font-ttf-inconsolata | 94 KB     |            |   0%\n",
            "font-ttf-inconsolata | 94 KB     | ########## | 100%\n",
            "\n",
            "jupyter_server-1.21. | 239 KB    |            |   0%\n",
            "jupyter_server-1.21. | 239 KB    | ########## | 100%\n",
            "jupyter_server-1.21. | 239 KB    | ########## | 100%\n",
            "\n",
            "libbrotlicommon-1.0. | 66 KB     |            |   0%\n",
            "libbrotlicommon-1.0. | 66 KB     | ########## | 100%\n",
            "\n",
            "xorg-libice-1.0.10   | 58 KB     |            |   0%\n",
            "xorg-libice-1.0.10   | 58 KB     | ########## | 100%\n",
            "\n",
            "libgfortran5-12.2.0  | 1.8 MB    |            |   0%\n",
            "libgfortran5-12.2.0  | 1.8 MB    | ########## | 100%\n",
            "libgfortran5-12.2.0  | 1.8 MB    | ########## | 100%\n",
            "\n",
            "geopandas-base-0.9.0 | 950 KB    |            |   0%\n",
            "geopandas-base-0.9.0 | 950 KB    | ########## | 100%\n",
            "geopandas-base-0.9.0 | 950 KB    | ########## | 100%\n",
            "\n",
            "libevent-2.1.10      | 1.1 MB    |            |   0%\n",
            "libevent-2.1.10      | 1.1 MB    | ########## | 100%\n",
            "libevent-2.1.10      | 1.1 MB    | ########## | 100%\n",
            "\n",
            "grpc-cpp-1.42.0      | 4.0 MB    |            |   0%\n",
            "grpc-cpp-1.42.0      | 4.0 MB    | ########## | 100%\n",
            "grpc-cpp-1.42.0      | 4.0 MB    | ########## | 100%\n",
            "\n",
            "cudf_kafka-21.12.02  | 1.8 MB    |            |   0%\n",
            "cudf_kafka-21.12.02  | 1.8 MB    |            |   1%\n",
            "cudf_kafka-21.12.02  | 1.8 MB    | #3         |  14%\n",
            "cudf_kafka-21.12.02  | 1.8 MB    | ########## | 100%\n",
            "cudf_kafka-21.12.02  | 1.8 MB    | ########## | 100%\n",
            "\n",
            "json-c-0.15          | 274 KB    |            |   0%\n",
            "json-c-0.15          | 274 KB    | ########## | 100%\n",
            "\n",
            "rapids-xgboost-21.12 | 5 KB      |            |   0%\n",
            "rapids-xgboost-21.12 | 5 KB      | ########## | 100%\n",
            "rapids-xgboost-21.12 | 5 KB      | ########## | 100%\n",
            "\n",
            "multipledispatch-0.6 | 12 KB     |            |   0%\n",
            "multipledispatch-0.6 | 12 KB     | ########## | 100%\n",
            "\n",
            "pandocfilters-1.5.0  | 11 KB     |            |   0%\n",
            "pandocfilters-1.5.0  | 11 KB     | ########## | 100%\n",
            "\n",
            "jupyter-server-proxy | 30 KB     |            |   0%\n",
            "jupyter-server-proxy | 30 KB     | ########## | 100%\n",
            "\n",
            "jbig-2.1             | 43 KB     |            |   0%\n",
            "jbig-2.1             | 43 KB     | ########## | 100%\n",
            "\n",
            "openjdk-11.0.9.1     | 173.5 MB  |            |   0%\n",
            "openjdk-11.0.9.1     | 173.5 MB  | 1          |   1%\n",
            "openjdk-11.0.9.1     | 173.5 MB  | 5          |   5%\n",
            "openjdk-11.0.9.1     | 173.5 MB  | #1         |  12%\n",
            "openjdk-11.0.9.1     | 173.5 MB  | #6         |  17%\n",
            "openjdk-11.0.9.1     | 173.5 MB  | ##1        |  21%\n",
            "openjdk-11.0.9.1     | 173.5 MB  | ##5        |  26%\n",
            "openjdk-11.0.9.1     | 173.5 MB  | ###1       |  31%\n",
            "openjdk-11.0.9.1     | 173.5 MB  | ###5       |  36%\n",
            "openjdk-11.0.9.1     | 173.5 MB  | ####2      |  43%\n",
            "openjdk-11.0.9.1     | 173.5 MB  | ####7      |  48%\n",
            "openjdk-11.0.9.1     | 173.5 MB  | #####2     |  53%\n",
            "openjdk-11.0.9.1     | 173.5 MB  | #####7     |  58%\n",
            "openjdk-11.0.9.1     | 173.5 MB  | ######3    |  64%\n",
            "openjdk-11.0.9.1     | 173.5 MB  | ######8    |  68%\n",
            "openjdk-11.0.9.1     | 173.5 MB  | #######4   |  74%\n",
            "openjdk-11.0.9.1     | 173.5 MB  | ########   |  80%\n",
            "openjdk-11.0.9.1     | 173.5 MB  | ########5  |  86%\n",
            "openjdk-11.0.9.1     | 173.5 MB  | #########  |  91%\n",
            "openjdk-11.0.9.1     | 173.5 MB  | #########5 |  96%\n",
            "openjdk-11.0.9.1     | 173.5 MB  | ########## | 100%\n",
            "\n",
            "tifffile-2021.11.2   | 139 KB    |            |   0%\n",
            "tifffile-2021.11.2   | 139 KB    | ########## | 100%\n",
            "\n",
            "jedi-0.18.1          | 799 KB    |            |   0%\n",
            "jedi-0.18.1          | 799 KB    | ########## | 100%\n",
            "jedi-0.18.1          | 799 KB    | ########## | 100%\n",
            "\n",
            "font-ttf-dejavu-sans | 388 KB    |            |   0%\n",
            "font-ttf-dejavu-sans | 388 KB    | ########## | 100%\n",
            "\n",
            "fonts-conda-forge-1  | 4 KB      |            |   0%\n",
            "fonts-conda-forge-1  | 4 KB      | ########## | 100%\n",
            "\n",
            "prometheus_client-0. | 50 KB     |            |   0%\n",
            "prometheus_client-0. | 50 KB     | ########## | 100%\n",
            "\n",
            "pyzmq-24.0.1         | 500 KB    |            |   0%\n",
            "pyzmq-24.0.1         | 500 KB    | ########## | 100%\n",
            "pyzmq-24.0.1         | 500 KB    | ########## | 100%\n",
            "\n",
            "nbconvert-core-7.2.2 | 189 KB    |            |   0%\n",
            "nbconvert-core-7.2.2 | 189 KB    | ########## | 100%\n",
            "\n",
            "cudf-21.12.02        | 12.6 MB   |            |   0%\n",
            "cudf-21.12.02        | 12.6 MB   |            |   0%\n",
            "cudf-21.12.02        | 12.6 MB   | 1          |   2%\n",
            "cudf-21.12.02        | 12.6 MB   | ##8        |  28%\n",
            "cudf-21.12.02        | 12.6 MB   | #########4 |  94%\n",
            "cudf-21.12.02        | 12.6 MB   | ########## | 100%\n",
            "\n",
            "libblas-3.9.0        | 13 KB     |            |   0%\n",
            "libblas-3.9.0        | 13 KB     | ########## | 100%\n",
            "\n",
            "libuv-1.43.0         | 1.0 MB    |            |   0%\n",
            "libuv-1.43.0         | 1.0 MB    | ########## | 100%\n",
            "libuv-1.43.0         | 1.0 MB    | ########## | 100%\n",
            "\n",
            "pyppeteer-1.0.2      | 63 KB     |            |   0%\n",
            "pyppeteer-1.0.2      | 63 KB     | ########## | 100%\n",
            "\n",
            "kiwisolver-1.4.4     | 73 KB     |            |   0%\n",
            "kiwisolver-1.4.4     | 73 KB     | ########## | 100%\n",
            "\n",
            "dask-cudf-21.12.02   | 112 KB    |            |   0%\n",
            "dask-cudf-21.12.02   | 112 KB    | #4         |  14%\n",
            "dask-cudf-21.12.02   | 112 KB    | ########## | 100%\n",
            "\n",
            "argon2-cffi-21.3.0   | 15 KB     |            |   0%\n",
            "argon2-cffi-21.3.0   | 15 KB     | ########## | 100%\n",
            "\n",
            "expat-2.5.0          | 189 KB    |            |   0%\n",
            "expat-2.5.0          | 189 KB    | ########## | 100%\n",
            "\n",
            "ipython-7.33.0       | 1.1 MB    |            |   0%\n",
            "ipython-7.33.0       | 1.1 MB    | ########## | 100%\n",
            "ipython-7.33.0       | 1.1 MB    | ########## | 100%\n",
            "\n",
            "ucx-1.11.2+gef2bbcf  | 11.9 MB   |            |   0%\n",
            "ucx-1.11.2+gef2bbcf  | 11.9 MB   |            |   0%\n",
            "ucx-1.11.2+gef2bbcf  | 11.9 MB   | ########   |  80%\n",
            "ucx-1.11.2+gef2bbcf  | 11.9 MB   | ########## | 100%\n",
            "\n",
            "aws-sdk-cpp-1.9.160  | 4.6 MB    |            |   0%\n",
            "aws-sdk-cpp-1.9.160  | 4.6 MB    | ########## | 100%\n",
            "aws-sdk-cpp-1.9.160  | 4.6 MB    | ########## | 100%\n",
            "\n",
            "brotli-bin-1.0.9     | 20 KB     |            |   0%\n",
            "brotli-bin-1.0.9     | 20 KB     | ########## | 100%\n",
            "\n",
            "pyee-8.1.0           | 14 KB     |            |   0%\n",
            "pyee-8.1.0           | 14 KB     | ########## | 100%\n",
            "\n",
            "pytz-deprecation-shi | 22 KB     |            |   0%\n",
            "pytz-deprecation-shi | 22 KB     | ########## | 100%\n",
            "\n",
            "bleach-5.0.1         | 124 KB    |            |   0%\n",
            "bleach-5.0.1         | 124 KB    | ########## | 100%\n",
            "\n",
            "pygments-2.13.0      | 821 KB    |            |   0%\n",
            "pygments-2.13.0      | 821 KB    | ########## | 100%\n",
            "pygments-2.13.0      | 821 KB    | ########## | 100%\n",
            "\n",
            "xarray-0.20.2        | 628 KB    |            |   0%\n",
            "xarray-0.20.2        | 628 KB    | ########## | 100%\n",
            "xarray-0.20.2        | 628 KB    | ########## | 100%\n",
            "\n",
            "libxml2-2.9.12       | 772 KB    |            |   0%\n",
            "libxml2-2.9.12       | 772 KB    | ########## | 100%\n",
            "libxml2-2.9.12       | 772 KB    | ########## | 100%\n",
            "\n",
            "libsodium-1.0.18     | 366 KB    |            |   0%\n",
            "libsodium-1.0.18     | 366 KB    | ########## | 100%\n",
            "libsodium-1.0.18     | 366 KB    | ########## | 100%\n",
            "\n",
            "librttopo-1.1.0      | 235 KB    |            |   0%\n",
            "librttopo-1.1.0      | 235 KB    | ########## | 100%\n",
            "librttopo-1.1.0      | 235 KB    | ########## | 100%\n",
            "\n",
            "wcwidth-0.2.5        | 33 KB     |            |   0%\n",
            "wcwidth-0.2.5        | 33 KB     | ########## | 100%\n",
            "\n",
            "libhwloc-2.3.0       | 2.7 MB    |            |   0%\n",
            "libhwloc-2.3.0       | 2.7 MB    | ########## | 100%\n",
            "libhwloc-2.3.0       | 2.7 MB    | ########## | 100%\n",
            "\n",
            "distributed-2021.11. | 1.1 MB    |            |   0%\n",
            "distributed-2021.11. | 1.1 MB    | ########## | 100%\n",
            "distributed-2021.11. | 1.1 MB    | ########## | 100%\n",
            "\n",
            "networkx-2.7.1       | 1.5 MB    |            |   0%\n",
            "networkx-2.7.1       | 1.5 MB    | ########## | 100%\n",
            "networkx-2.7.1       | 1.5 MB    | ########## | 100%\n",
            "\n",
            "importlib_metadata-4 | 4 KB      |            |   0%\n",
            "importlib_metadata-4 | 4 KB      | ########## | 100%\n",
            "\n",
            "libcudf_kafka-21.12. | 126 KB    |            |   0%\n",
            "libcudf_kafka-21.12. | 126 KB    | #2         |  13%\n",
            "libcudf_kafka-21.12. | 126 KB    | ########## | 100%\n",
            "\n",
            "libuuid-2.32.1       | 28 KB     |            |   0%\n",
            "libuuid-2.32.1       | 28 KB     | ########## | 100%\n",
            "\n",
            "fontconfig-2.14.0    | 318 KB    |            |   0%\n",
            "fontconfig-2.14.0    | 318 KB    | ########## | 100%\n",
            "fontconfig-2.14.0    | 318 KB    | ########## | 100%\n",
            "\n",
            "markupsafe-2.1.1     | 22 KB     |            |   0%\n",
            "markupsafe-2.1.1     | 22 KB     | ########## | 100%\n",
            "\n",
            "imagecodecs-2021.8.2 | 7.2 MB    |            |   0%\n",
            "imagecodecs-2021.8.2 | 7.2 MB    | 7          |   8%\n",
            "imagecodecs-2021.8.2 | 7.2 MB    | ######6    |  66%\n",
            "imagecodecs-2021.8.2 | 7.2 MB    | ########## | 100%\n",
            "\n",
            "tzdata-2022e         | 118 KB    |            |   0%\n",
            "tzdata-2022e         | 118 KB    | ########## | 100%\n",
            "tzdata-2022e         | 118 KB    | ########## | 100%\n",
            "\n",
            "dlpack-0.5           | 12 KB     |            |   0%\n",
            "dlpack-0.5           | 12 KB     | ########## | 100%\n",
            "\n",
            "dask-sql-2022.1.0    | 19.7 MB   |            |   0%\n",
            "dask-sql-2022.1.0    | 19.7 MB   |            |   1%\n",
            "dask-sql-2022.1.0    | 19.7 MB   | ##8        |  29%\n",
            "dask-sql-2022.1.0    | 19.7 MB   | #####5     |  55%\n",
            "dask-sql-2022.1.0    | 19.7 MB   | ########## | 100%\n",
            "dask-sql-2022.1.0    | 19.7 MB   | ########## | 100%\n",
            "\n",
            "jpype1-1.4.0         | 495 KB    |            |   0%\n",
            "jpype1-1.4.0         | 495 KB    | ########## | 100%\n",
            "jpype1-1.4.0         | 495 KB    | ########## | 100%\n",
            "\n",
            "param-1.12.2         | 72 KB     |            |   0%\n",
            "param-1.12.2         | 72 KB     | ########## | 100%\n",
            "\n",
            "libglib-2.72.1       | 3.1 MB    |            |   0%\n",
            "libglib-2.72.1       | 3.1 MB    | ########## | 100%\n",
            "libglib-2.72.1       | 3.1 MB    | ########## | 100%\n",
            "\n",
            "nbclient-0.7.0       | 65 KB     |            |   0%\n",
            "nbclient-0.7.0       | 65 KB     | ########## | 100%\n",
            "\n",
            "msgpack-python-1.0.4 | 90 KB     |            |   0%\n",
            "msgpack-python-1.0.4 | 90 KB     | ########## | 100%\n",
            "\n",
            "ipykernel-6.16.2     | 100 KB    |            |   0%\n",
            "ipykernel-6.16.2     | 100 KB    | ########## | 100%\n",
            "\n",
            "pyviz_comms-2.2.1    | 31 KB     |            |   0%\n",
            "pyviz_comms-2.2.1    | 31 KB     | ########## | 100%\n",
            "\n",
            "lerc-3.0             | 216 KB    |            |   0%\n",
            "lerc-3.0             | 216 KB    | ########## | 100%\n",
            "\n",
            "libgfortran-ng-12.2. | 22 KB     |            |   0%\n",
            "libgfortran-ng-12.2. | 22 KB     | ########## | 100%\n",
            "\n",
            "libcucim-21.12.00    | 2.8 MB    |            |   0%\n",
            "libcucim-21.12.00    | 2.8 MB    |            |   1%\n",
            "libcucim-21.12.00    | 2.8 MB    | #######5   |  75%\n",
            "libcucim-21.12.00    | 2.8 MB    | ########## | 100%\n",
            "libcucim-21.12.00    | 2.8 MB    | ########## | 100%\n",
            "\n",
            "pyrsistent-0.18.1    | 91 KB     |            |   0%\n",
            "pyrsistent-0.18.1    | 91 KB     | ########## | 100%\n",
            "\n",
            "libkml-1.3.0         | 591 KB    |            |   0%\n",
            "libkml-1.3.0         | 591 KB    | ########## | 100%\n",
            "libkml-1.3.0         | 591 KB    | ########## | 100%\n",
            "\n",
            "libxcb-1.13          | 391 KB    |            |   0%\n",
            "libxcb-1.13          | 391 KB    | ########## | 100%\n",
            "libxcb-1.13          | 391 KB    | ########## | 100%\n",
            "\n",
            "cupy-9.6.0           | 51.5 MB   |            |   0%\n",
            "cupy-9.6.0           | 51.5 MB   |            |   1%\n",
            "cupy-9.6.0           | 51.5 MB   | 7          |   7%\n",
            "cupy-9.6.0           | 51.5 MB   | #5         |  15%\n",
            "cupy-9.6.0           | 51.5 MB   | ##4        |  25%\n",
            "cupy-9.6.0           | 51.5 MB   | ###4       |  35%\n",
            "cupy-9.6.0           | 51.5 MB   | ####2      |  43%\n",
            "cupy-9.6.0           | 51.5 MB   | #####3     |  54%\n",
            "cupy-9.6.0           | 51.5 MB   | ######4    |  64%\n",
            "cupy-9.6.0           | 51.5 MB   | #######7   |  77%\n",
            "cupy-9.6.0           | 51.5 MB   | #########3 |  93%\n",
            "cupy-9.6.0           | 51.5 MB   | ########## | 100%\n",
            "\n",
            "aws-c-cal-0.5.12     | 36 KB     |            |   0%\n",
            "aws-c-cal-0.5.12     | 36 KB     | ########## | 100%\n",
            "\n",
            "tblib-1.7.0          | 15 KB     |            |   0%\n",
            "tblib-1.7.0          | 15 KB     | ########## | 100%\n",
            "\n",
            "oauthlib-3.2.2       | 90 KB     |            |   0%\n",
            "oauthlib-3.2.2       | 90 KB     | ########## | 100%\n",
            "\n",
            "ucx-py-0.23.0        | 353 KB    |            |   0%\n",
            "ucx-py-0.23.0        | 353 KB    | 4          |   5%\n",
            "ucx-py-0.23.0        | 353 KB    | #######2   |  73%\n",
            "ucx-py-0.23.0        | 353 KB    | ########## | 100%\n",
            "\n",
            "giflib-5.2.1         | 77 KB     |            |   0%\n",
            "giflib-5.2.1         | 77 KB     | ########## | 100%\n",
            "\n",
            "imageio-2.22.0       | 3.2 MB    |            |   0%\n",
            "imageio-2.22.0       | 3.2 MB    | ########## | 100%\n",
            "imageio-2.22.0       | 3.2 MB    | ########## | 100%\n",
            "\n",
            "xorg-renderproto-0.1 | 9 KB      |            |   0%\n",
            "xorg-renderproto-0.1 | 9 KB      | ########## | 100%\n",
            "\n",
            "blinker-1.5          | 15 KB     |            |   0%\n",
            "blinker-1.5          | 15 KB     | ########## | 100%\n",
            "\n",
            "pickle5-0.0.12       | 173 KB    |            |   0%\n",
            "pickle5-0.0.12       | 173 KB    | ########## | 100%\n",
            "pickle5-0.0.12       | 173 KB    | ########## | 100%\n",
            "\n",
            "liblapack-3.9.0      | 13 KB     |            |   0%\n",
            "liblapack-3.9.0      | 13 KB     | ########## | 100%\n",
            "\n",
            "xorg-libxrender-0.9. | 32 KB     |            |   0%\n",
            "xorg-libxrender-0.9. | 32 KB     | ########## | 100%\n",
            "\n",
            "font-ttf-ubuntu-0.83 | 1.9 MB    |            |   0%\n",
            "font-ttf-ubuntu-0.83 | 1.9 MB    | ########## | 100%\n",
            "font-ttf-ubuntu-0.83 | 1.9 MB    | ########## | 100%\n",
            "\n",
            "sortedcontainers-2.4 | 26 KB     |            |   0%\n",
            "sortedcontainers-2.4 | 26 KB     | ########## | 100%\n",
            "\n",
            "rapids-21.12.00      | 5 KB      |            |   0%\n",
            "rapids-21.12.00      | 5 KB      | ########## | 100%\n",
            "rapids-21.12.00      | 5 KB      | ########## | 100%\n",
            "\n",
            "xorg-libxfixes-5.0.3 | 18 KB     |            |   0%\n",
            "xorg-libxfixes-5.0.3 | 18 KB     | ########## | 100%\n",
            "\n",
            "libpng-1.6.38        | 371 KB    |            |   0%\n",
            "libpng-1.6.38        | 371 KB    | ########## | 100%\n",
            "libpng-1.6.38        | 371 KB    | ########## | 100%\n",
            "\n",
            "tornado-6.1          | 646 KB    |            |   0%\n",
            "tornado-6.1          | 646 KB    | ########## | 100%\n",
            "tornado-6.1          | 646 KB    | ########## | 100%\n",
            "\n",
            "blosc-1.21.1         | 47 KB     |            |   0%\n",
            "blosc-1.21.1         | 47 KB     | ########## | 100%\n",
            "\n",
            "pyu2f-0.1.5          | 31 KB     |            |   0%\n",
            "pyu2f-0.1.5          | 31 KB     | ########## | 100%\n",
            "\n",
            "typing-extensions-4. | 8 KB      |            |   0%\n",
            "typing-extensions-4. | 8 KB      | ########## | 100%\n",
            "\n",
            "libgdal-3.3.2        | 13.1 MB   |            |   0%\n",
            "libgdal-3.3.2        | 13.1 MB   | #7         |  18%\n",
            "libgdal-3.3.2        | 13.1 MB   | ########2  |  83%\n",
            "libgdal-3.3.2        | 13.1 MB   | ########## | 100%\n",
            "\n",
            "panel-0.12.4         | 9.8 MB    |            |   0%\n",
            "panel-0.12.4         | 9.8 MB    | ########9  |  90%\n",
            "panel-0.12.4         | 9.8 MB    | ########## | 100%\n",
            "\n",
            "custreamz-21.12.02   | 32 KB     |            |   0%\n",
            "custreamz-21.12.02   | 32 KB     | ####9      |  50%\n",
            "custreamz-21.12.02   | 32 KB     | ########## | 100%\n",
            "\n",
            "fsspec-2022.10.0     | 95 KB     |            |   0%\n",
            "fsspec-2022.10.0     | 95 KB     | ########## | 100%\n",
            "\n",
            "arrow-cpp-proc-3.0.0 | 24 KB     |            |   0%\n",
            "arrow-cpp-proc-3.0.0 | 24 KB     | ########## | 100%\n",
            "\n",
            "orc-1.7.1            | 1.1 MB    |            |   0%\n",
            "orc-1.7.1            | 1.1 MB    | ########## | 100%\n",
            "orc-1.7.1            | 1.1 MB    | ########## | 100%\n",
            "\n",
            "libdeflate-1.8       | 67 KB     |            |   0%\n",
            "libdeflate-1.8       | 67 KB     | ########## | 100%\n",
            "\n",
            "libbrotlidec-1.0.9   | 33 KB     |            |   0%\n",
            "libbrotlidec-1.0.9   | 33 KB     | ########## | 100%\n",
            "\n",
            "scikit-image-0.18.1  | 11.5 MB   |            |   0%\n",
            "scikit-image-0.18.1  | 11.5 MB   |            |   0%\n",
            "scikit-image-0.18.1  | 11.5 MB   | ##1        |  21%\n",
            "scikit-image-0.18.1  | 11.5 MB   | ########2  |  82%\n",
            "scikit-image-0.18.1  | 11.5 MB   | ########## | 100%\n",
            "\n",
            "cycler-0.11.0        | 10 KB     |            |   0%\n",
            "cycler-0.11.0        | 10 KB     | ########## | 100%\n",
            "\n",
            "typing_extensions-4. | 29 KB     |            |   0%\n",
            "typing_extensions-4. | 29 KB     | ########## | 100%\n",
            "\n",
            "aws-c-io-0.10.14     | 137 KB    |            |   0%\n",
            "aws-c-io-0.10.14     | 137 KB    | ########## | 100%\n",
            "\n",
            "simpervisor-0.4      | 9 KB      |            |   0%\n",
            "simpervisor-0.4      | 9 KB      | ########## | 100%\n",
            "\n",
            "cudatoolkit-11.2.72  | 933.4 MB  |            |   0%\n",
            "cudatoolkit-11.2.72  | 933.4 MB  | ########## | 100%\n",
            "cudatoolkit-11.2.72  | 933.4 MB  | ########## | 100%\n",
            "\n",
            "nspr-4.32            | 233 KB    |            |   0%\n",
            "nspr-4.32            | 233 KB    | ########## | 100%\n",
            "nspr-4.32            | 233 KB    | ########## | 100%\n",
            "\n",
            "libzopfli-1.0.3      | 164 KB    |            |   0%\n",
            "libzopfli-1.0.3      | 164 KB    | ########## | 100%\n",
            "\n",
            "xorg-libxext-1.3.4   | 54 KB     |            |   0%\n",
            "xorg-libxext-1.3.4   | 54 KB     | ########## | 100%\n",
            "\n",
            "cugraph-21.12.00     | 7.2 MB    |            |   0%\n",
            "cugraph-21.12.00     | 7.2 MB    |            |   0%\n",
            "cugraph-21.12.00     | 7.2 MB    | 3          |   3%\n",
            "cugraph-21.12.00     | 7.2 MB    | #####9     |  60%\n",
            "cugraph-21.12.00     | 7.2 MB    | ########## | 100%\n",
            "cugraph-21.12.00     | 7.2 MB    | ########## | 100%\n",
            "\n",
            "h11-0.14.0           | 47 KB     |            |   0%\n",
            "h11-0.14.0           | 47 KB     | ########## | 100%\n",
            "\n",
            "rmm-21.12.00         | 943 KB    |            |   0%\n",
            "rmm-21.12.00         | 943 KB    | 1          |   2%\n",
            "rmm-21.12.00         | 943 KB    | ########## | 100%\n",
            "rmm-21.12.00         | 943 KB    | ########## | 100%\n",
            "\n",
            "aws-checksums-0.1.12 | 50 KB     |            |   0%\n",
            "aws-checksums-0.1.12 | 50 KB     | ########## | 100%\n",
            "\n",
            "libxgboost-1.5.0dev. | 128.2 MB  |            |   0%\n",
            "libxgboost-1.5.0dev. | 128.2 MB  |            |   0%\n",
            "libxgboost-1.5.0dev. | 128.2 MB  | 7          |   7%\n",
            "libxgboost-1.5.0dev. | 128.2 MB  | #4         |  14%\n",
            "libxgboost-1.5.0dev. | 128.2 MB  | ##         |  20%\n",
            "libxgboost-1.5.0dev. | 128.2 MB  | ##6        |  26%\n",
            "libxgboost-1.5.0dev. | 128.2 MB  | ###1       |  31%\n",
            "libxgboost-1.5.0dev. | 128.2 MB  | ###5       |  35%\n",
            "libxgboost-1.5.0dev. | 128.2 MB  | ####       |  40%\n",
            "libxgboost-1.5.0dev. | 128.2 MB  | ####4      |  45%\n",
            "libxgboost-1.5.0dev. | 128.2 MB  | #####1     |  52%\n",
            "libxgboost-1.5.0dev. | 128.2 MB  | #####6     |  57%\n",
            "libxgboost-1.5.0dev. | 128.2 MB  | ######1    |  61%\n",
            "libxgboost-1.5.0dev. | 128.2 MB  | ######8    |  68%\n",
            "libxgboost-1.5.0dev. | 128.2 MB  | #######4   |  74%\n",
            "libxgboost-1.5.0dev. | 128.2 MB  | ########1  |  81%\n",
            "libxgboost-1.5.0dev. | 128.2 MB  | ########7  |  87%\n",
            "libxgboost-1.5.0dev. | 128.2 MB  | #########2 |  92%\n",
            "libxgboost-1.5.0dev. | 128.2 MB  | #########7 |  97%\n",
            "libxgboost-1.5.0dev. | 128.2 MB  | ########## | 100%\n",
            "\n",
            "setuptools-59.8.0    | 1.0 MB    |            |   0%\n",
            "setuptools-59.8.0    | 1.0 MB    | ########## | 100%\n",
            "setuptools-59.8.0    | 1.0 MB    | ########## | 100%\n",
            "\n",
            "argon2-cffi-bindings | 34 KB     |            |   0%\n",
            "argon2-cffi-bindings | 34 KB     | ########## | 100%\n",
            "\n",
            "google-crc32c-1.1.2  | 24 KB     |            |   0%\n",
            "google-crc32c-1.1.2  | 24 KB     | ########## | 100%\n",
            "google-crc32c-1.1.2  | 24 KB     | ########## | 100%\n",
            "\n",
            "aws-c-http-0.6.10    | 173 KB    |            |   0%\n",
            "aws-c-http-0.6.10    | 173 KB    | ########## | 100%\n",
            "\n",
            "geos-3.9.1           | 1.1 MB    |            |   0%\n",
            "geos-3.9.1           | 1.1 MB    | ########## | 100%\n",
            "geos-3.9.1           | 1.1 MB    | ########## | 100%\n",
            "\n",
            "certifi-2022.9.24    | 155 KB    |            |   0%\n",
            "certifi-2022.9.24    | 155 KB    | ########## | 100%\n",
            "\n",
            "xorg-libxtst-1.2.3   | 31 KB     |            |   0%\n",
            "xorg-libxtst-1.2.3   | 31 KB     | ########## | 100%\n",
            "\n",
            "googleapis-common-pr | 123 KB    |            |   0%\n",
            "googleapis-common-pr | 123 KB    | ########## | 100%\n",
            "googleapis-common-pr | 123 KB    | ########## | 100%\n",
            "\n",
            "libgpg-error-1.45    | 286 KB    |            |   0%\n",
            "libgpg-error-1.45    | 286 KB    | ########## | 100%\n",
            "libgpg-error-1.45    | 286 KB    | ########## | 100%\n",
            "\n",
            "terminado-0.17.0     | 19 KB     |            |   0%\n",
            "terminado-0.17.0     | 19 KB     | ########## | 100%\n",
            "\n",
            "libaec-1.0.6         | 45 KB     |            |   0%\n",
            "libaec-1.0.6         | 45 KB     | ########## | 100%\n",
            "\n",
            "unicodedata2-14.0.0  | 496 KB    |            |   0%\n",
            "unicodedata2-14.0.0  | 496 KB    | ########## | 100%\n",
            "unicodedata2-14.0.0  | 496 KB    | ########## | 100%\n",
            "\n",
            "geotiff-1.7.0        | 296 KB    |            |   0%\n",
            "geotiff-1.7.0        | 296 KB    | ########## | 100%\n",
            "geotiff-1.7.0        | 296 KB    | ########## | 100%\n",
            "\n",
            "appdirs-1.4.4        | 13 KB     |            |   0%\n",
            "appdirs-1.4.4        | 13 KB     | ########## | 100%\n",
            "\n",
            "ptyprocess-0.7.0     | 16 KB     |            |   0%\n",
            "ptyprocess-0.7.0     | 16 KB     | ########## | 100%\n",
            "\n",
            "libutf8proc-2.7.0    | 98 KB     |            |   0%\n",
            "libutf8proc-2.7.0    | 98 KB     | ########## | 100%\n",
            "\n",
            "attrs-22.1.0         | 48 KB     |            |   0%\n",
            "attrs-22.1.0         | 48 KB     | ########## | 100%\n",
            "\n",
            "pywavelets-1.3.0     | 4.4 MB    |            |   0%\n",
            "pywavelets-1.3.0     | 4.4 MB    | #########9 | 100%\n",
            "pywavelets-1.3.0     | 4.4 MB    | ########## | 100%\n",
            "\n",
            "pyyaml-6.0           | 178 KB    |            |   0%\n",
            "pyyaml-6.0           | 178 KB    | ########## | 100%\n",
            "\n",
            "nccl-2.14.3.1        | 145.2 MB  |            |   0%\n",
            "nccl-2.14.3.1        | 145.2 MB  | 3          |   3%\n",
            "nccl-2.14.3.1        | 145.2 MB  | 8          |   9%\n",
            "nccl-2.14.3.1        | 145.2 MB  | #3         |  13%\n",
            "nccl-2.14.3.1        | 145.2 MB  | #9         |  19%\n",
            "nccl-2.14.3.1        | 145.2 MB  | ##5        |  26%\n",
            "nccl-2.14.3.1        | 145.2 MB  | ###1       |  31%\n",
            "nccl-2.14.3.1        | 145.2 MB  | ###6       |  37%\n",
            "nccl-2.14.3.1        | 145.2 MB  | ####2      |  42%\n",
            "nccl-2.14.3.1        | 145.2 MB  | ####7      |  48%\n",
            "nccl-2.14.3.1        | 145.2 MB  | #####4     |  55%\n",
            "nccl-2.14.3.1        | 145.2 MB  | ######     |  61%\n",
            "nccl-2.14.3.1        | 145.2 MB  | ######5    |  65%\n",
            "nccl-2.14.3.1        | 145.2 MB  | ######9    |  70%\n",
            "nccl-2.14.3.1        | 145.2 MB  | #######6   |  77%\n",
            "nccl-2.14.3.1        | 145.2 MB  | ########1  |  81%\n",
            "nccl-2.14.3.1        | 145.2 MB  | ########7  |  87%\n",
            "nccl-2.14.3.1        | 145.2 MB  | #########2 |  92%\n",
            "nccl-2.14.3.1        | 145.2 MB  | #########7 |  97%\n",
            "nccl-2.14.3.1        | 145.2 MB  | ########## | 100%\n",
            "\n",
            "numba-0.56.3         | 4.0 MB    |            |   0%\n",
            "numba-0.56.3         | 4.0 MB    | ####4      |  44%\n",
            "numba-0.56.3         | 4.0 MB    | ########## | 100%\n",
            "numba-0.56.3         | 4.0 MB    | ########## | 100%\n",
            "\n",
            "pyarrow-5.0.0        | 2.6 MB    |            |   0%\n",
            "pyarrow-5.0.0        | 2.6 MB    | 7          |   8%\n",
            "pyarrow-5.0.0        | 2.6 MB    | ####7      |  47%\n",
            "pyarrow-5.0.0        | 2.6 MB    | #########  |  91%\n",
            "pyarrow-5.0.0        | 2.6 MB    | ########## | 100%\n",
            "\n",
            "traitlets-5.5.0      | 85 KB     |            |   0%\n",
            "traitlets-5.5.0      | 85 KB     | ########## | 100%\n",
            "\n",
            "treelite-2.1.0       | 1.4 MB    |            |   0%\n",
            "treelite-2.1.0       | 1.4 MB    | ##5        |  26%\n",
            "treelite-2.1.0       | 1.4 MB    | ########## | 100%\n",
            "treelite-2.1.0       | 1.4 MB    | ########## | 100%\n",
            "\n",
            "libcudf-21.12.02     | 288.2 MB  |            |   0%\n",
            "libcudf-21.12.02     | 288.2 MB  |            |   0%\n",
            "libcudf-21.12.02     | 288.2 MB  |            |   0%\n",
            "libcudf-21.12.02     | 288.2 MB  | 2          |   2%\n",
            "libcudf-21.12.02     | 288.2 MB  | 5          |   5%\n",
            "libcudf-21.12.02     | 288.2 MB  | 8          |   8%\n",
            "libcudf-21.12.02     | 288.2 MB  | #1         |  11%\n",
            "libcudf-21.12.02     | 288.2 MB  | #4         |  14%\n",
            "libcudf-21.12.02     | 288.2 MB  | #6         |  17%\n",
            "libcudf-21.12.02     | 288.2 MB  | #9         |  19%\n",
            "libcudf-21.12.02     | 288.2 MB  | ##1        |  21%\n",
            "libcudf-21.12.02     | 288.2 MB  | ##4        |  24%\n",
            "libcudf-21.12.02     | 288.2 MB  | ##6        |  27%\n",
            "libcudf-21.12.02     | 288.2 MB  | ##9        |  29%\n",
            "libcudf-21.12.02     | 288.2 MB  | ###1       |  31%\n",
            "libcudf-21.12.02     | 288.2 MB  | ###4       |  34%\n",
            "libcudf-21.12.02     | 288.2 MB  | ###6       |  36%\n",
            "libcudf-21.12.02     | 288.2 MB  | ###9       |  39%\n",
            "libcudf-21.12.02     | 288.2 MB  | ####2      |  42%\n",
            "libcudf-21.12.02     | 288.2 MB  | ####4      |  44%\n",
            "libcudf-21.12.02     | 288.2 MB  | ####6      |  46%\n",
            "libcudf-21.12.02     | 288.2 MB  | ####8      |  48%\n",
            "libcudf-21.12.02     | 288.2 MB  | #####      |  50%\n",
            "libcudf-21.12.02     | 288.2 MB  | #####2     |  52%\n",
            "libcudf-21.12.02     | 288.2 MB  | #####4     |  54%\n",
            "libcudf-21.12.02     | 288.2 MB  | #####6     |  57%\n",
            "libcudf-21.12.02     | 288.2 MB  | ######     |  60%\n",
            "libcudf-21.12.02     | 288.2 MB  | ######3    |  63%\n",
            "libcudf-21.12.02     | 288.2 MB  | ######6    |  67%\n",
            "libcudf-21.12.02     | 288.2 MB  | #######    |  70%\n",
            "libcudf-21.12.02     | 288.2 MB  | #######3   |  73%\n",
            "libcudf-21.12.02     | 288.2 MB  | #######6   |  77%\n",
            "libcudf-21.12.02     | 288.2 MB  | #######9   |  80%\n",
            "libcudf-21.12.02     | 288.2 MB  | ########2  |  82%\n",
            "libcudf-21.12.02     | 288.2 MB  | ########4  |  85%\n",
            "libcudf-21.12.02     | 288.2 MB  | ########7  |  88%\n",
            "libcudf-21.12.02     | 288.2 MB  | #########  |  91%\n",
            "libcudf-21.12.02     | 288.2 MB  | #########4 |  94%\n",
            "libcudf-21.12.02     | 288.2 MB  | #########7 |  98%\n",
            "libcudf-21.12.02     | 288.2 MB  | ########## | 100%\n",
            "\n",
            "libcrc32c-1.1.2      | 20 KB     |            |   0%\n",
            "libcrc32c-1.1.2      | 20 KB     | ########## | 100%\n",
            "\n",
            "graphite2-1.3.13     | 102 KB    |            |   0%\n",
            "graphite2-1.3.13     | 102 KB    | ########## | 100%\n",
            "\n",
            "libgsasl-1.10.0      | 179 KB    |            |   0%\n",
            "libgsasl-1.10.0      | 179 KB    | ########## | 100%\n",
            "\n",
            "ipywidgets-8.0.2     | 109 KB    |            |   0%\n",
            "ipywidgets-8.0.2     | 109 KB    | ########## | 100%\n",
            "\n",
            "ca-certificates-2022 | 150 KB    |            |   0%\n",
            "ca-certificates-2022 | 150 KB    | ########## | 100%\n",
            "\n",
            "google-cloud-storage | 74 KB     |            |   0%\n",
            "google-cloud-storage | 74 KB     | ########## | 100%\n",
            "\n",
            "xorg-libxi-1.7.10    | 46 KB     |            |   0%\n",
            "xorg-libxi-1.7.10    | 46 KB     | ########## | 100%\n",
            "\n",
            "pyasn1-modules-0.2.7 | 60 KB     |            |   0%\n",
            "pyasn1-modules-0.2.7 | 60 KB     | ########## | 100%\n",
            "\n",
            "tzlocal-4.2          | 31 KB     |            |   0%\n",
            "tzlocal-4.2          | 31 KB     | ########## | 100%\n",
            "\n",
            "pyproj-3.1.0         | 523 KB    |            |   0%\n",
            "pyproj-3.1.0         | 523 KB    | #######3   |  73%\n",
            "pyproj-3.1.0         | 523 KB    | ########## | 100%\n",
            "\n",
            "decorator-5.1.1      | 12 KB     |            |   0%\n",
            "decorator-5.1.1      | 12 KB     | ########## | 100%\n",
            "\n",
            "send2trash-1.8.0     | 17 KB     |            |   0%\n",
            "send2trash-1.8.0     | 17 KB     | ########## | 100%\n",
            "\n",
            "librmm-21.12.00      | 688 KB    |            |   0%\n",
            "librmm-21.12.00      | 688 KB    | 2          |   2%\n",
            "librmm-21.12.00      | 688 KB    | ########1  |  81%\n",
            "librmm-21.12.00      | 688 KB    | ########## | 100%\n",
            "\n",
            "sniffio-1.3.0        | 14 KB     |            |   0%\n",
            "sniffio-1.3.0        | 14 KB     | ########## | 100%\n",
            "\n",
            "jxrlib-1.1           | 235 KB    |            |   0%\n",
            "jxrlib-1.1           | 235 KB    | ########## | 100%\n",
            "\n",
            "aws-c-common-0.6.17  | 179 KB    |            |   0%\n",
            "aws-c-common-0.6.17  | 179 KB    | ########## | 100%\n",
            "\n",
            "fonttools-4.38.0     | 1.9 MB    |            |   0%\n",
            "fonttools-4.38.0     | 1.9 MB    | ########## | 100%\n",
            "fonttools-4.38.0     | 1.9 MB    | ########## | 100%\n",
            "\n",
            "widgetsnbextension-4 | 1.6 MB    |            |   0%\n",
            "widgetsnbextension-4 | 1.6 MB    | ########## | 100%\n",
            "widgetsnbextension-4 | 1.6 MB    | ########## | 100%\n",
            "\n",
            "xorg-recordproto-1.1 | 8 KB      |            |   0%\n",
            "xorg-recordproto-1.1 | 8 KB      | ########## | 100%\n",
            "\n",
            "libcugraph-21.12.00  | 259.4 MB  |            |   0%\n",
            "libcugraph-21.12.00  | 259.4 MB  |            |   0%\n",
            "libcugraph-21.12.00  | 259.4 MB  | 2          |   2%\n",
            "libcugraph-21.12.00  | 259.4 MB  | 3          |   4%\n",
            "libcugraph-21.12.00  | 259.4 MB  | 6          |   7%\n",
            "libcugraph-21.12.00  | 259.4 MB  | 8          |   9%\n",
            "libcugraph-21.12.00  | 259.4 MB  | #          |  11%\n",
            "libcugraph-21.12.00  | 259.4 MB  | #2         |  13%\n",
            "libcugraph-21.12.00  | 259.4 MB  | #4         |  14%\n",
            "libcugraph-21.12.00  | 259.4 MB  | #7         |  18%\n",
            "libcugraph-21.12.00  | 259.4 MB  | ##         |  21%\n",
            "libcugraph-21.12.00  | 259.4 MB  | ##3        |  23%\n",
            "libcugraph-21.12.00  | 259.4 MB  | ##6        |  27%\n",
            "libcugraph-21.12.00  | 259.4 MB  | ##9        |  29%\n",
            "libcugraph-21.12.00  | 259.4 MB  | ###2       |  33%\n",
            "libcugraph-21.12.00  | 259.4 MB  | ###5       |  36%\n",
            "libcugraph-21.12.00  | 259.4 MB  | ###9       |  40%\n",
            "libcugraph-21.12.00  | 259.4 MB  | ####2      |  43%\n",
            "libcugraph-21.12.00  | 259.4 MB  | ####5      |  45%\n",
            "libcugraph-21.12.00  | 259.4 MB  | ####8      |  49%\n",
            "libcugraph-21.12.00  | 259.4 MB  | #####2     |  52%\n",
            "libcugraph-21.12.00  | 259.4 MB  | #####5     |  55%\n",
            "libcugraph-21.12.00  | 259.4 MB  | #####7     |  58%\n",
            "libcugraph-21.12.00  | 259.4 MB  | ######     |  61%\n",
            "libcugraph-21.12.00  | 259.4 MB  | ######3    |  64%\n",
            "libcugraph-21.12.00  | 259.4 MB  | ######7    |  67%\n",
            "libcugraph-21.12.00  | 259.4 MB  | #######    |  71%\n",
            "libcugraph-21.12.00  | 259.4 MB  | #######4   |  75%\n",
            "libcugraph-21.12.00  | 259.4 MB  | #######8   |  78%\n",
            "libcugraph-21.12.00  | 259.4 MB  | ########1  |  82%\n",
            "libcugraph-21.12.00  | 259.4 MB  | ########4  |  85%\n",
            "libcugraph-21.12.00  | 259.4 MB  | ########8  |  89%\n",
            "libcugraph-21.12.00  | 259.4 MB  | #########1 |  92%\n",
            "libcugraph-21.12.00  | 259.4 MB  | #########5 |  95%\n",
            "libcugraph-21.12.00  | 259.4 MB  | #########8 |  98%\n",
            "libcugraph-21.12.00  | 259.4 MB  | ########## | 100%\n",
            "\n",
            "rsa-4.9              | 29 KB     |            |   0%\n",
            "rsa-4.9              | 29 KB     | ########## | 100%\n",
            "\n",
            "gdal-3.3.2           | 1.7 MB    |            |   0%\n",
            "gdal-3.3.2           | 1.7 MB    | ########4  |  84%\n",
            "gdal-3.3.2           | 1.7 MB    | ########## | 100%\n",
            "\n",
            "arrow-cpp-5.0.0      | 22.4 MB   |            |   0%\n",
            "arrow-cpp-5.0.0      | 22.4 MB   |            |   0%\n",
            "arrow-cpp-5.0.0      | 22.4 MB   | 8          |   8%\n",
            "arrow-cpp-5.0.0      | 22.4 MB   | ##3        |  23%\n",
            "arrow-cpp-5.0.0      | 22.4 MB   | ###6       |  37%\n",
            "arrow-cpp-5.0.0      | 22.4 MB   | #####1     |  52%\n",
            "arrow-cpp-5.0.0      | 22.4 MB   | ######3    |  64%\n",
            "arrow-cpp-5.0.0      | 22.4 MB   | #######6   |  76%\n",
            "arrow-cpp-5.0.0      | 22.4 MB   | #########1 |  91%\n",
            "arrow-cpp-5.0.0      | 22.4 MB   | ########## | 100%\n",
            "\n",
            "boost-cpp-1.74.0     | 16.3 MB   |            |   0%\n",
            "boost-cpp-1.74.0     | 16.3 MB   | #5         |  16%\n",
            "boost-cpp-1.74.0     | 16.3 MB   | #####4     |  55%\n",
            "boost-cpp-1.74.0     | 16.3 MB   | ########## | 100%\n",
            "boost-cpp-1.74.0     | 16.3 MB   | ########## | 100%\n",
            "\n",
            "s2n-1.3.0            | 483 KB    |            |   0%\n",
            "s2n-1.3.0            | 483 KB    | ########## | 100%\n",
            "s2n-1.3.0            | 483 KB    | ########## | 100%\n",
            "\n",
            "webencodings-0.5.1   | 12 KB     |            |   0%\n",
            "webencodings-0.5.1   | 12 KB     | ########## | 100%\n",
            "\n",
            "libnetcdf-4.8.1      | 1.5 MB    |            |   0%\n",
            "libnetcdf-4.8.1      | 1.5 MB    | ########## | 100%\n",
            "libnetcdf-4.8.1      | 1.5 MB    | ########## | 100%\n",
            "\n",
            "google-auth-oauthlib | 21 KB     |            |   0%\n",
            "google-auth-oauthlib | 21 KB     | ########## | 100%\n",
            "\n",
            "websockets-10.3      | 122 KB    |            |   0%\n",
            "websockets-10.3      | 122 KB    | ########## | 100%\n",
            "\n",
            "dask-cuda-21.12.00   | 123 KB    |            |   0%\n",
            "dask-cuda-21.12.00   | 123 KB    | #2         |  13%\n",
            "dask-cuda-21.12.00   | 123 KB    | ########## | 100%\n",
            "dask-cuda-21.12.00   | 123 KB    | ########## | 100%\n",
            "\n",
            "py-xgboost-1.5.0dev. | 159 KB    |            |   0%\n",
            "py-xgboost-1.5.0dev. | 159 KB    | #          |  10%\n",
            "py-xgboost-1.5.0dev. | 159 KB    | ########## | 100%\n",
            "\n",
            "abseil-cpp-20210324. | 1010 KB   |            |   0%\n",
            "abseil-cpp-20210324. | 1010 KB   | ########## | 100%\n",
            "abseil-cpp-20210324. | 1010 KB   | ########## | 100%\n",
            "\n",
            "websocket-client-1.4 | 42 KB     |            |   0%\n",
            "websocket-client-1.4 | 42 KB     | ########## | 100%\n",
            "\n",
            "openjpeg-2.5.0       | 515 KB    |            |   0%\n",
            "openjpeg-2.5.0       | 515 KB    | ########## | 100%\n",
            "openjpeg-2.5.0       | 515 KB    | ########## | 100%\n",
            "\n",
            "harfbuzz-2.9.1       | 2.0 MB    |            |   0%\n",
            "harfbuzz-2.9.1       | 2.0 MB    | ########## | 100%\n",
            "harfbuzz-2.9.1       | 2.0 MB    | ########## | 100%\n",
            "\n",
            "jupyter_client-7.3.4 | 91 KB     |            |   0%\n",
            "jupyter_client-7.3.4 | 91 KB     | ########## | 100%\n",
            "\n",
            "spdlog-1.8.5         | 352 KB    |            |   0%\n",
            "spdlog-1.8.5         | 352 KB    | ########## | 100%\n",
            "spdlog-1.8.5         | 352 KB    | ########## | 100%\n",
            "\n",
            "xorg-libx11-1.7.2    | 941 KB    |            |   0%\n",
            "xorg-libx11-1.7.2    | 941 KB    | ########## | 100%\n",
            "xorg-libx11-1.7.2    | 941 KB    | ########## | 100%\n",
            "\n",
            "zfp-0.5.5            | 190 KB    |            |   0%\n",
            "zfp-0.5.5            | 190 KB    | ########## | 100%\n",
            "\n",
            "python-tzdata-2022.5 | 147 KB    |            |   0%\n",
            "python-tzdata-2022.5 | 147 KB    | ########## | 100%\n",
            "python-tzdata-2022.5 | 147 KB    | ########## | 100%\n",
            "\n",
            "importlib-metadata-4 | 33 KB     |            |   0%\n",
            "importlib-metadata-4 | 33 KB     | ########## | 100%\n",
            "\n",
            "fastavro-1.6.1       | 464 KB    |            |   0%\n",
            "fastavro-1.6.1       | 464 KB    | ########## | 100%\n",
            "fastavro-1.6.1       | 464 KB    | ########## | 100%\n",
            "\n",
            "icu-68.2             | 13.1 MB   |            |   0%\n",
            "icu-68.2             | 13.1 MB   | ##8        |  29%\n",
            "icu-68.2             | 13.1 MB   | #########  |  91%\n",
            "icu-68.2             | 13.1 MB   | ########## | 100%\n",
            "\n",
            "libfaiss-1.7.0       | 98.5 MB   |            |   0%\n",
            "libfaiss-1.7.0       | 98.5 MB   | 5          |   5%\n",
            "libfaiss-1.7.0       | 98.5 MB   | #5         |  15%\n",
            "libfaiss-1.7.0       | 98.5 MB   | ##3        |  23%\n",
            "libfaiss-1.7.0       | 98.5 MB   | ###        |  31%\n",
            "libfaiss-1.7.0       | 98.5 MB   | ###8       |  39%\n",
            "libfaiss-1.7.0       | 98.5 MB   | ####6      |  46%\n",
            "libfaiss-1.7.0       | 98.5 MB   | #####3     |  53%\n",
            "libfaiss-1.7.0       | 98.5 MB   | #####8     |  59%\n",
            "libfaiss-1.7.0       | 98.5 MB   | ######3    |  64%\n",
            "libfaiss-1.7.0       | 98.5 MB   | #######3   |  74%\n",
            "libfaiss-1.7.0       | 98.5 MB   | ########   |  80%\n",
            "libfaiss-1.7.0       | 98.5 MB   | ########6  |  87%\n",
            "libfaiss-1.7.0       | 98.5 MB   | #########6 |  97%\n",
            "libfaiss-1.7.0       | 98.5 MB   | ########## | 100%\n",
            "\n",
            "aiosignal-1.2.0      | 12 KB     |            |   0%\n",
            "aiosignal-1.2.0      | 12 KB     | ########## | 100%\n",
            "\n",
            "jupyterlab_widgets-3 | 222 KB    |            |   0%\n",
            "jupyterlab_widgets-3 | 222 KB    | ########## | 100%\n",
            "jupyterlab_widgets-3 | 222 KB    | ########## | 100%\n",
            "\n",
            "aws-crt-cpp-0.17.10  | 207 KB    |            |   0%\n",
            "aws-crt-cpp-0.17.10  | 207 KB    | ########## | 100%\n",
            "\n",
            "xorg-xextproto-7.3.0 | 28 KB     |            |   0%\n",
            "xorg-xextproto-7.3.0 | 28 KB     | ########## | 100%\n",
            "\n",
            "soupsieve-2.3.2.post | 34 KB     |            |   0%\n",
            "soupsieve-2.3.2.post | 34 KB     | ########## | 100%\n",
            "\n",
            "xerces-c-3.2.3       | 1.8 MB    |            |   0%\n",
            "xerces-c-3.2.3       | 1.8 MB    | #########8 |  98%\n",
            "xerces-c-3.2.3       | 1.8 MB    | ########## | 100%\n",
            "\n",
            "font-ttf-source-code | 684 KB    |            |   0%\n",
            "font-ttf-source-code | 684 KB    | ########## | 100%\n",
            "font-ttf-source-code | 684 KB    | ########## | 100%\n",
            "\n",
            "pixman-0.40.0        | 627 KB    |            |   0%\n",
            "pixman-0.40.0        | 627 KB    | ########## | 100%\n",
            "pixman-0.40.0        | 627 KB    | ########## | 100%\n",
            "\n",
            "openssl-1.1.1q       | 2.1 MB    |            |   0%\n",
            "openssl-1.1.1q       | 2.1 MB    | ########## | 100%\n",
            "openssl-1.1.1q       | 2.1 MB    | ########## | 100%\n",
            "\n",
            "python-confluent-kaf | 125 KB    |            |   0%\n",
            "python-confluent-kaf | 125 KB    | ########## | 100%\n",
            "\n",
            "libprotobuf-3.19.4   | 2.6 MB    |            |   0%\n",
            "libprotobuf-3.19.4   | 2.6 MB    | ########## | 100%\n",
            "libprotobuf-3.19.4   | 2.6 MB    | ########## | 100%\n",
            "\n",
            "libntlm-1.4          | 32 KB     |            |   0%\n",
            "libntlm-1.4          | 32 KB     | ########## | 100%\n",
            "\n",
            "threadpoolctl-3.1.0  | 18 KB     |            |   0%\n",
            "threadpoolctl-3.1.0  | 18 KB     | ########## | 100%\n",
            "\n",
            "snappy-1.1.9         | 35 KB     |            |   0%\n",
            "snappy-1.1.9         | 35 KB     | ########## | 100%\n",
            "\n",
            "tiledb-2.3.4         | 4.1 MB    |            |   0%\n",
            "tiledb-2.3.4         | 4.1 MB    | ########## | 100%\n",
            "tiledb-2.3.4         | 4.1 MB    | ########## | 100%\n",
            "\n",
            "tabulate-0.9.0       | 35 KB     |            |   0%\n",
            "tabulate-0.9.0       | 35 KB     | ########## | 100%\n",
            "\n",
            "google-auth-2.13.0   | 93 KB     |            |   0%\n",
            "google-auth-2.13.0   | 93 KB     | ########## | 100%\n",
            "\n",
            "psutil-5.9.3         | 348 KB    |            |   0%\n",
            "psutil-5.9.3         | 348 KB    | ########## | 100%\n",
            "psutil-5.9.3         | 348 KB    | ########## | 100%\n",
            "\n",
            "google-resumable-med | 43 KB     |            |   0%\n",
            "google-resumable-med | 43 KB     | ########## | 100%\n",
            "\n",
            "rtree-1.0.1          | 49 KB     |            |   0%\n",
            "rtree-1.0.1          | 49 KB     | ########## | 100%\n",
            "\n",
            "cytoolz-0.12.0       | 380 KB    |            |   0%\n",
            "cytoolz-0.12.0       | 380 KB    | ########## | 100%\n",
            "cytoolz-0.12.0       | 380 KB    | ########## | 100%\n",
            "\n",
            "nest-asyncio-1.5.6   | 10 KB     |            |   0%\n",
            "nest-asyncio-1.5.6   | 10 KB     | ########## | 100%\n",
            "\n",
            "shapely-1.8.0        | 367 KB    |            |   0%\n",
            "shapely-1.8.0        | 367 KB    | ########## | 100%\n",
            "shapely-1.8.0        | 367 KB    | ########## | 100%\n",
            "\n",
            "packaging-21.3       | 36 KB     |            |   0%\n",
            "packaging-21.3       | 36 KB     | ########## | 100%\n",
            "\n",
            "google-api-core-2.10 | 71 KB     |            |   0%\n",
            "google-api-core-2.10 | 71 KB     | ########## | 100%\n",
            "\n",
            "uvicorn-0.19.0       | 82 KB     |            |   0%\n",
            "uvicorn-0.19.0       | 82 KB     | ########## | 100%\n",
            "\n",
            "munch-2.5.0          | 12 KB     |            |   0%\n",
            "munch-2.5.0          | 12 KB     | ########## | 100%\n",
            "\n",
            "zlib-ng-2.0.6        | 96 KB     |            |   0%\n",
            "zlib-ng-2.0.6        | 96 KB     | ########## | 100%\n",
            "\n",
            "libcblas-3.9.0       | 13 KB     |            |   0%\n",
            "libcblas-3.9.0       | 13 KB     | ########## | 100%\n",
            "\n",
            "libpq-13.5           | 2.8 MB    |            |   0%\n",
            "libpq-13.5           | 2.8 MB    | ########6  |  86%\n",
            "libpq-13.5           | 2.8 MB    | ########## | 100%\n",
            "\n",
            "fastrlock-0.8        | 31 KB     |            |   0%\n",
            "fastrlock-0.8        | 31 KB     | ########## | 100%\n",
            "\n",
            "cairo-1.16.0         | 1.5 MB    |            |   0%\n",
            "cairo-1.16.0         | 1.5 MB    | ########## | 100%\n",
            "cairo-1.16.0         | 1.5 MB    | ########## | 100%\n",
            "\n",
            "libwebp-base-1.2.2   | 824 KB    |            |   0%\n",
            "libwebp-base-1.2.2   | 824 KB    | ########## | 100%\n",
            "libwebp-base-1.2.2   | 824 KB    | ########## | 100%\n",
            "\n",
            "joblib-1.2.0         | 205 KB    |            |   0%\n",
            "joblib-1.2.0         | 205 KB    | ########## | 100%\n",
            "\n",
            "streamz-0.6.4        | 63 KB     |            |   0%\n",
            "streamz-0.6.4        | 63 KB     | ########## | 100%\n",
            "\n",
            "cachetools-5.2.0     | 13 KB     |            |   0%\n",
            "cachetools-5.2.0     | 13 KB     | ########## | 100%\n",
            "\n",
            "fastapi-0.85.1       | 45 KB     |            |   0%\n",
            "fastapi-0.85.1       | 45 KB     | ########## | 100%\n",
            "\n",
            "glog-0.5.0           | 104 KB    |            |   0%\n",
            "glog-0.5.0           | 104 KB    | ########## | 100%\n",
            "\n",
            "jpeg-9e              | 269 KB    |            |   0%\n",
            "jpeg-9e              | 269 KB    | ########## | 100%\n",
            "\n",
            "munkres-1.1.4        | 12 KB     |            |   0%\n",
            "munkres-1.1.4        | 12 KB     | ########## | 100%\n",
            "\n",
            "backcall-0.2.0       | 13 KB     |            |   0%\n",
            "backcall-0.2.0       | 13 KB     | ########## | 100%\n",
            "\n",
            "jinja2-3.1.2         | 99 KB     |            |   0%\n",
            "jinja2-3.1.2         | 99 KB     | ########## | 100%\n",
            "\n",
            "libgcrypt-1.10.1     | 703 KB    |            |   0%\n",
            "libgcrypt-1.10.1     | 703 KB    | ########## | 100%\n",
            "libgcrypt-1.10.1     | 703 KB    | ########## | 100%\n",
            "\n",
            "google-cloud-core-2. | 28 KB     |            |   0%\n",
            "google-cloud-core-2. | 28 KB     | ########## | 100%\n",
            "\n",
            "libopenblas-0.3.21   | 10.1 MB   |            |   0%\n",
            "libopenblas-0.3.21   | 10.1 MB   | #########4 |  94%\n",
            "libopenblas-0.3.21   | 10.1 MB   | ########## | 100%\n",
            "\n",
            "jupyter_core-4.11.1  | 81 KB     |            |   0%\n",
            "jupyter_core-4.11.1  | 81 KB     | ########## | 100%\n",
            "\n",
            "scikit-learn-1.0.2   | 7.8 MB    |            |   0%\n",
            "scikit-learn-1.0.2   | 7.8 MB    | #######8   |  79%\n",
            "scikit-learn-1.0.2   | 7.8 MB    | ########## | 100%\n",
            "\n",
            "aws-c-auth-0.6.8     | 94 KB     |            |   0%\n",
            "aws-c-auth-0.6.8     | 94 KB     | ########## | 100%\n",
            "\n",
            "importlib_resources- | 29 KB     |            |   0%\n",
            "importlib_resources- | 29 KB     | ########## | 100%\n",
            "\n",
            "freetype-2.12.1      | 884 KB    |            |   0%\n",
            "freetype-2.12.1      | 884 KB    | ########## | 100%\n",
            "freetype-2.12.1      | 884 KB    | ########## | 100%\n",
            "\n",
            "scipy-1.7.3          | 21.8 MB   |            |   0%\n",
            "scipy-1.7.3          | 21.8 MB   | ##5        |  25%\n",
            "scipy-1.7.3          | 21.8 MB   | #####1     |  52%\n",
            "scipy-1.7.3          | 21.8 MB   | #######5   |  76%\n",
            "scipy-1.7.3          | 21.8 MB   | #########8 |  98%\n",
            "scipy-1.7.3          | 21.8 MB   | ########## | 100%\n",
            "\n",
            "xorg-libsm-1.2.3     | 26 KB     |            |   0%\n",
            "xorg-libsm-1.2.3     | 26 KB     | ########## | 100%\n",
            "\n",
            "python-dateutil-2.8. | 240 KB    |            |   0%\n",
            "python-dateutil-2.8. | 240 KB    | ########## | 100%\n",
            "\n",
            "pyjwt-2.6.0          | 21 KB     |            |   0%\n",
            "pyjwt-2.6.0          | 21 KB     | ########## | 100%\n",
            "\n",
            "requests-oauthlib-1. | 22 KB     |            |   0%\n",
            "requests-oauthlib-1. | 22 KB     | ########## | 100%\n",
            "\n",
            "pyparsing-3.0.9      | 79 KB     |            |   0%\n",
            "pyparsing-3.0.9      | 79 KB     | ########## | 100%\n",
            "\n",
            "libtiff-4.3.0        | 614 KB    |            |   0%\n",
            "libtiff-4.3.0        | 614 KB    | ########## | 100%\n",
            "libtiff-4.3.0        | 614 KB    | ########## | 100%\n",
            "\n",
            "asynctest-0.13.0     | 24 KB     |            |   0%\n",
            "asynctest-0.13.0     | 24 KB     | ########## | 100%\n",
            "\n",
            "bokeh-2.4.0          | 13.5 MB   |            |   0%\n",
            "bokeh-2.4.0          | 13.5 MB   | 8          |   8%\n",
            "bokeh-2.4.0          | 13.5 MB   | #####      |  50%\n",
            "bokeh-2.4.0          | 13.5 MB   | ########## | 100%\n",
            "bokeh-2.4.0          | 13.5 MB   | ########## | 100%\n",
            "\n",
            "cyrus-sasl-2.1.27    | 228 KB    |            |   0%\n",
            "cyrus-sasl-2.1.27    | 228 KB    | ########## | 100%\n",
            "\n",
            "xorg-xproto-7.0.31   | 73 KB     |            |   0%\n",
            "xorg-xproto-7.0.31   | 73 KB     | ########## | 100%\n",
            "\n",
            "faiss-proc-1.0.0     | 24 KB     |            |   0%\n",
            "faiss-proc-1.0.0     | 24 KB     | ######7    |  68%\n",
            "faiss-proc-1.0.0     | 24 KB     | ########## | 100%\n",
            "\n",
            "matplotlib-base-3.5. | 7.3 MB    |            |   0%\n",
            "matplotlib-base-3.5. | 7.3 MB    | ########2  |  83%\n",
            "matplotlib-base-3.5. | 7.3 MB    | ########## | 100%\n",
            "\n",
            "mistune-2.0.4        | 67 KB     |            |   0%\n",
            "mistune-2.0.4        | 67 KB     | ########## | 100%\n",
            "\n",
            "cuml-21.12.00        | 9.4 MB    |            |   0%\n",
            "cuml-21.12.00        | 9.4 MB    |            |   0%\n",
            "cuml-21.12.00        | 9.4 MB    | 5          |   6%\n",
            "cuml-21.12.00        | 9.4 MB    | ######8    |  69%\n",
            "cuml-21.12.00        | 9.4 MB    | ########## | 100%\n",
            "cuml-21.12.00        | 9.4 MB    | ########## | 100%\n",
            "\n",
            "charls-2.2.0         | 138 KB    |            |   0%\n",
            "charls-2.2.0         | 138 KB    | ########## | 100%\n",
            "\n",
            "pillow-9.1.1         | 44.6 MB   |            |   0%\n",
            "pillow-9.1.1         | 44.6 MB   |            |   0%\n",
            "pillow-9.1.1         | 44.6 MB   | 7          |   7%\n",
            "pillow-9.1.1         | 44.6 MB   | #7         |  17%\n",
            "pillow-9.1.1         | 44.6 MB   | ##4        |  24%\n",
            "pillow-9.1.1         | 44.6 MB   | ###2       |  32%\n",
            "pillow-9.1.1         | 44.6 MB   | ###9       |  39%\n",
            "pillow-9.1.1         | 44.6 MB   | ####5      |  45%\n",
            "pillow-9.1.1         | 44.6 MB   | #####3     |  54%\n",
            "pillow-9.1.1         | 44.6 MB   | #######    |  70%\n",
            "pillow-9.1.1         | 44.6 MB   | ########6  |  87%\n",
            "pillow-9.1.1         | 44.6 MB   | #########8 |  98%\n",
            "pillow-9.1.1         | 44.6 MB   | ########## | 100%\n",
            "\n",
            "aiohttp-3.8.3        | 432 KB    |            |   0%\n",
            "aiohttp-3.8.3        | 432 KB    | ########## | 100%\n",
            "aiohttp-3.8.3        | 432 KB    | ########## | 100%\n",
            "\n",
            "fonts-conda-ecosyste | 4 KB      |            |   0%\n",
            "fonts-conda-ecosyste | 4 KB      | ########## | 100%\n",
            "fonts-conda-ecosyste | 4 KB      | ########## | 100%\n",
            "\n",
            "matplotlib-inline-0. | 12 KB     |            |   0%\n",
            "matplotlib-inline-0. | 12 KB     | ########## | 100%\n",
            "\n",
            "cucim-21.12.00       | 3.2 MB    |            |   0%\n",
            "cucim-21.12.00       | 3.2 MB    |            |   0%\n",
            "cucim-21.12.00       | 3.2 MB    | 7          |   8%\n",
            "cucim-21.12.00       | 3.2 MB    | ########6  |  87%\n",
            "cucim-21.12.00       | 3.2 MB    | ########## | 100%\n",
            "\n",
            "pydeck-0.5.0         | 3.6 MB    |            |   0%\n",
            "pydeck-0.5.0         | 3.6 MB    | ########## | 100%\n",
            "pydeck-0.5.0         | 3.6 MB    | ########## | 100%\n",
            "\n",
            "fiona-1.8.20         | 1.1 MB    |            |   0%\n",
            "fiona-1.8.20         | 1.1 MB    | ########## | 100%\n",
            "fiona-1.8.20         | 1.1 MB    | ########## | 100%\n",
            "\n",
            "jupyterlab_pygments- | 17 KB     |            |   0%\n",
            "jupyterlab_pygments- | 17 KB     | ########## | 100%\n",
            "\n",
            "nvtx-0.2.3           | 55 KB     |            |   0%\n",
            "nvtx-0.2.3           | 55 KB     | ########## | 100%\n",
            "\n",
            "libcuspatial-21.12.0 | 6.4 MB    |            |   0%\n",
            "libcuspatial-21.12.0 | 6.4 MB    |            |   0%\n",
            "libcuspatial-21.12.0 | 6.4 MB    | ########7  |  88%\n",
            "libcuspatial-21.12.0 | 6.4 MB    | ########## | 100%\n",
            "\n",
            "libspatialite-5.0.1  | 4.4 MB    |            |   0%\n",
            "libspatialite-5.0.1  | 4.4 MB    | ########## | 100%\n",
            "libspatialite-5.0.1  | 4.4 MB    | ########## | 100%\n",
            "\n",
            "proj-8.1.0           | 2.9 MB    |            |   0%\n",
            "proj-8.1.0           | 2.9 MB    | ########## | 100%\n",
            "proj-8.1.0           | 2.9 MB    | ########## | 100%\n",
            "\n",
            "parquet-cpp-1.5.1    | 3 KB      |            |   0%\n",
            "parquet-cpp-1.5.1    | 3 KB      | ########## | 100%\n",
            "\n",
            "zeromq-4.3.4         | 351 KB    |            |   0%\n",
            "zeromq-4.3.4         | 351 KB    | ########## | 100%\n",
            "zeromq-4.3.4         | 351 KB    | ########## | 100%\n",
            "\n",
            "libzip-1.9.2         | 97 KB     |            |   0%\n",
            "libzip-1.9.2         | 97 KB     | ########## | 100%\n",
            "\n",
            "cuspatial-21.12.00   | 15.9 MB   |            |   0%\n",
            "cuspatial-21.12.00   | 15.9 MB   |            |   0%\n",
            "cuspatial-21.12.00   | 15.9 MB   | #####3     |  53%\n",
            "cuspatial-21.12.00   | 15.9 MB   | #########3 |  93%\n",
            "cuspatial-21.12.00   | 15.9 MB   | ########## | 100%\n",
            "\n",
            "pydantic-1.10.2      | 2.4 MB    |            |   0%\n",
            "pydantic-1.10.2      | 2.4 MB    | #####8     |  59%\n",
            "pydantic-1.10.2      | 2.4 MB    | ########## | 100%\n",
            "\n",
            "aws-c-sdkutils-0.1.1 | 23 KB     |            |   0%\n",
            "aws-c-sdkutils-0.1.1 | 23 KB     | ########## | 100%\n",
            "\n",
            "backports-1.0        | 4 KB      |            |   0%\n",
            "backports-1.0        | 4 KB      | ########## | 100%\n",
            "\n",
            "kealib-1.4.15        | 188 KB    |            |   0%\n",
            "kealib-1.4.15        | 188 KB    | ########## | 100%\n",
            "kealib-1.4.15        | 188 KB    | ########## | 100%\n",
            "\n",
            "pyct-core-0.4.6      | 13 KB     |            |   0%\n",
            "pyct-core-0.4.6      | 13 KB     | ########## | 100%\n",
            "\n",
            "cusignal-21.12.00    | 1.1 MB    |            |   0%\n",
            "cusignal-21.12.00    | 1.1 MB    | 1          |   1%\n",
            "cusignal-21.12.00    | 1.1 MB    | ########## | 100%\n",
            "cusignal-21.12.00    | 1.1 MB    | ########## | 100%\n",
            "\n",
            "frozenlist-1.3.1     | 44 KB     |            |   0%\n",
            "frozenlist-1.3.1     | 44 KB     | ########## | 100%\n",
            "\n",
            "nss-3.78             | 2.1 MB    |            |   0%\n",
            "nss-3.78             | 2.1 MB    | ########## | 100%\n",
            "nss-3.78             | 2.1 MB    | ########## | 100%\n",
            "\n",
            "zipp-3.10.0          | 14 KB     |            |   0%\n",
            "zipp-3.10.0          | 14 KB     | ########## | 100%\n",
            "\n",
            "pcre-8.45            | 253 KB    |            |   0%\n",
            "pcre-8.45            | 253 KB    | ########## | 100%\n",
            "\n",
            "cligj-0.7.2          | 10 KB     |            |   0%\n",
            "cligj-0.7.2          | 10 KB     | ########## | 100%\n",
            "\n",
            "async-timeout-4.0.2  | 9 KB      |            |   0%\n",
            "async-timeout-4.0.2  | 9 KB      | ########## | 100%\n",
            "\n",
            "pkgutil-resolve-name | 9 KB      |            |   0%\n",
            "pkgutil-resolve-name | 9 KB      | ########## | 100%\n",
            "\n",
            "libcumlprims-21.12.0 | 3.7 MB    |            |   0%\n",
            "libcumlprims-21.12.0 | 3.7 MB    | ########## | 100%\n",
            "libcumlprims-21.12.0 | 3.7 MB    | ########## | 100%\n",
            "\n",
            "libwebp-1.2.2        | 85 KB     |            |   0%\n",
            "libwebp-1.2.2        | 85 KB     | ########## | 100%\n",
            "\n",
            "parso-0.8.3          | 69 KB     |            |   0%\n",
            "parso-0.8.3          | 69 KB     | ########## | 100%\n",
            "\n",
            "debugpy-1.6.3        | 2.0 MB    |            |   0%\n",
            "debugpy-1.6.3        | 2.0 MB    | ########## | 100%\n",
            "debugpy-1.6.3        | 2.0 MB    | ########## | 100%\n",
            "\n",
            "gflags-2.2.2         | 114 KB    |            |   0%\n",
            "gflags-2.2.2         | 114 KB    | ########## | 100%\n",
            "\n",
            "yarl-1.7.2           | 132 KB    |            |   0%\n",
            "yarl-1.7.2           | 132 KB    | ########## | 100%\n",
            "\n",
            "locket-1.0.0         | 8 KB      |            |   0%\n",
            "locket-1.0.0         | 8 KB      | ########## | 100%\n",
            "\n",
            "ptxcompiler-0.7.0    | 5.7 MB    |            |   0%\n",
            "ptxcompiler-0.7.0    | 5.7 MB    | 1          |   1%\n",
            "ptxcompiler-0.7.0    | 5.7 MB    | #8         |  19%\n",
            "ptxcompiler-0.7.0    | 5.7 MB    | ###9       |  39%\n",
            "ptxcompiler-0.7.0    | 5.7 MB    | #####9     |  60%\n",
            "ptxcompiler-0.7.0    | 5.7 MB    | #######8   |  79%\n",
            "ptxcompiler-0.7.0    | 5.7 MB    | #########7 |  98%\n",
            "ptxcompiler-0.7.0    | 5.7 MB    | ########## | 100%\n",
            "\n",
            "entrypoints-0.4      | 9 KB      |            |   0%\n",
            "entrypoints-0.4      | 9 KB      | ########## | 100%\n",
            "\n",
            "pooch-1.6.0          | 44 KB     |            |   0%\n",
            "pooch-1.6.0          | 44 KB     | ########## | 100%\n",
            "\n",
            "pexpect-4.8.0        | 47 KB     |            |   0%\n",
            "pexpect-4.8.0        | 47 KB     | ########## | 100%\n",
            "\n",
            "gcsfs-2022.10.0      | 26 KB     |            |   0%\n",
            "gcsfs-2022.10.0      | 26 KB     | ########## | 100%\n",
            "gcsfs-2022.10.0      | 26 KB     | ########## | 100%\n",
            "\n",
            "beautifulsoup4-4.11. | 96 KB     |            |   0%\n",
            "beautifulsoup4-4.11. | 96 KB     | ########## | 100%\n",
            "\n",
            "tzcode-2022e         | 71 KB     |            |   0%\n",
            "tzcode-2022e         | 71 KB     | ########## | 100%\n",
            "\n",
            "libdap4-3.20.6       | 11.3 MB   |            |   0%\n",
            "libdap4-3.20.6       | 11.3 MB   | #######5   |  76%\n",
            "libdap4-3.20.6       | 11.3 MB   | ########## | 100%\n",
            "\n",
            "numpy-1.21.6         | 6.1 MB    |            |   0%\n",
            "numpy-1.21.6         | 6.1 MB    | #########2 |  93%\n",
            "numpy-1.21.6         | 6.1 MB    | ########## | 100%\n",
            "\n",
            "dask-core-2021.11.2  | 783 KB    |            |   0%\n",
            "dask-core-2021.11.2  | 783 KB    | 2          |   2%\n",
            "dask-core-2021.11.2  | 783 KB    | ########## | 100%\n",
            "dask-core-2021.11.2  | 783 KB    | ########## | 100%\n",
            "\n",
            "zict-2.2.0           | 20 KB     |            |   0%\n",
            "zict-2.2.0           | 20 KB     | ########## | 100%\n",
            "\n",
            "libllvm11-11.1.0     | 28.8 MB   |            |   0%\n",
            "libllvm11-11.1.0     | 28.8 MB   | 1          |   1%\n",
            "libllvm11-11.1.0     | 28.8 MB   | #7         |  18%\n",
            "libllvm11-11.1.0     | 28.8 MB   | ##7        |  28%\n",
            "libllvm11-11.1.0     | 28.8 MB   | ####8      |  49%\n",
            "libllvm11-11.1.0     | 28.8 MB   | ######2    |  63%\n",
            "libllvm11-11.1.0     | 28.8 MB   | #########6 |  96%\n",
            "libllvm11-11.1.0     | 28.8 MB   | ########## | 100%\n",
            "\n",
            "pthread-stubs-0.4    | 5 KB      |            |   0%\n",
            "pthread-stubs-0.4    | 5 KB      | ########## | 100%\n",
            "\n",
            "mapclassify-2.4.3    | 36 KB     |            |   0%\n",
            "mapclassify-2.4.3    | 36 KB     | ########## | 100%\n",
            "\n",
            "aws-c-event-stream-0 | 47 KB     |            |   0%\n",
            "aws-c-event-stream-0 | 47 KB     | ########## | 100%\n",
            "\n",
            "boost-1.74.0         | 342 KB    |            |   0%\n",
            "boost-1.74.0         | 342 KB    | ########## | 100%\n",
            "boost-1.74.0         | 342 KB    | ########## | 100%\n",
            "\n",
            "nodejs-14.18.3       | 15.6 MB   |            |   0%\n",
            "nodejs-14.18.3       | 15.6 MB   | ####2      |  43%\n",
            "nodejs-14.18.3       | 15.6 MB   | ########## | 100%\n",
            "nodejs-14.18.3       | 15.6 MB   | ########## | 100%\n",
            "\n",
            "cloudpickle-2.2.0    | 25 KB     |            |   0%\n",
            "cloudpickle-2.2.0    | 25 KB     | ########## | 100%\n",
            "\n",
            "zlib-1.2.12          | 91 KB     |            |   0%\n",
            "zlib-1.2.12          | 91 KB     | ########## | 100%\n",
            "\n",
            "nbformat-5.7.0       | 106 KB    |            |   0%\n",
            "nbformat-5.7.0       | 106 KB    | ########## | 100%\n",
            "\n",
            "alsa-lib-1.2.3.2     | 554 KB    |            |   0%\n",
            "alsa-lib-1.2.3.2     | 554 KB    | ########## | 100%\n",
            "alsa-lib-1.2.3.2     | 554 KB    | ########## | 100%\n",
            "\n",
            "libcuml-21.12.00     | 222.9 MB  |            |   0%\n",
            "libcuml-21.12.00     | 222.9 MB  |            |   0%\n",
            "libcuml-21.12.00     | 222.9 MB  |            |   0%\n",
            "libcuml-21.12.00     | 222.9 MB  | 2          |   3%\n",
            "libcuml-21.12.00     | 222.9 MB  | 6          |   7%\n",
            "libcuml-21.12.00     | 222.9 MB  | 8          |   9%\n",
            "libcuml-21.12.00     | 222.9 MB  | #2         |  12%\n",
            "libcuml-21.12.00     | 222.9 MB  | #5         |  15%\n",
            "libcuml-21.12.00     | 222.9 MB  | #9         |  19%\n",
            "libcuml-21.12.00     | 222.9 MB  | ##2        |  23%\n",
            "libcuml-21.12.00     | 222.9 MB  | ##6        |  27%\n",
            "libcuml-21.12.00     | 222.9 MB  | ###        |  30%\n",
            "libcuml-21.12.00     | 222.9 MB  | ###4       |  35%\n",
            "libcuml-21.12.00     | 222.9 MB  | ###8       |  38%\n",
            "libcuml-21.12.00     | 222.9 MB  | ####2      |  42%\n",
            "libcuml-21.12.00     | 222.9 MB  | ####6      |  46%\n",
            "libcuml-21.12.00     | 222.9 MB  | #####      |  51%\n",
            "libcuml-21.12.00     | 222.9 MB  | #####4     |  54%\n",
            "libcuml-21.12.00     | 222.9 MB  | #####7     |  58%\n",
            "libcuml-21.12.00     | 222.9 MB  | ######1    |  61%\n",
            "libcuml-21.12.00     | 222.9 MB  | ######5    |  65%\n",
            "libcuml-21.12.00     | 222.9 MB  | ######8    |  69%\n",
            "libcuml-21.12.00     | 222.9 MB  | #######1   |  72%\n",
            "libcuml-21.12.00     | 222.9 MB  | #######4   |  74%\n",
            "libcuml-21.12.00     | 222.9 MB  | #######7   |  77%\n",
            "libcuml-21.12.00     | 222.9 MB  | #######9   |  79%\n",
            "libcuml-21.12.00     | 222.9 MB  | ########2  |  83%\n",
            "libcuml-21.12.00     | 222.9 MB  | ########5  |  86%\n",
            "libcuml-21.12.00     | 222.9 MB  | ########8  |  89%\n",
            "libcuml-21.12.00     | 222.9 MB  | #########1 |  92%\n",
            "libcuml-21.12.00     | 222.9 MB  | #########5 |  95%\n",
            "libcuml-21.12.00     | 222.9 MB  | #########9 |  99%\n",
            "libcuml-21.12.00     | 222.9 MB  | ########## | 100%\n",
            "\n",
            "gettext-0.21.1       | 4.1 MB    |            |   0%\n",
            "gettext-0.21.1       | 4.1 MB    | ########## | 100%\n",
            "gettext-0.21.1       | 4.1 MB    | ########## | 100%\n",
            "\n",
            "backports.zoneinfo-0 | 47 KB     |            |   0%\n",
            "backports.zoneinfo-0 | 47 KB     | ########## | 100%\n",
            "\n",
            "hdf4-4.2.15          | 955 KB    |            |   0%\n",
            "hdf4-4.2.15          | 955 KB    | ########## | 100%\n",
            "hdf4-4.2.15          | 955 KB    | ########## | 100%\n",
            "\n",
            "hdf5-1.12.1          | 3.5 MB    |            |   0%\n",
            "hdf5-1.12.1          | 3.5 MB    | ########## | 100%\n",
            "hdf5-1.12.1          | 3.5 MB    | ########## | 100%\n",
            "\n",
            "datashape-0.5.4      | 49 KB     |            |   0%\n",
            "datashape-0.5.4      | 49 KB     | ########## | 100%\n",
            "\n",
            "datashader-0.11.1    | 14.0 MB   |            |   0%\n",
            "datashader-0.11.1    | 14.0 MB   | ##2        |  23%\n",
            "datashader-0.11.1    | 14.0 MB   | #####2     |  53%\n",
            "datashader-0.11.1    | 14.0 MB   | ########## | 100%\n",
            "datashader-0.11.1    | 14.0 MB   | ########## | 100%\n",
            "\n",
            "prompt-toolkit-3.0.3 | 254 KB    |            |   0%\n",
            "prompt-toolkit-3.0.3 | 254 KB    | ########## | 100%\n",
            "prompt-toolkit-3.0.3 | 254 KB    | ########## | 100%\n",
            "\n",
            "brotli-1.0.9         | 18 KB     |            |   0%\n",
            "brotli-1.0.9         | 18 KB     | ########## | 100%\n",
            "\n",
            "libcusolver-11.4.1.4 | 96.5 MB   |            |   0%\n",
            "libcusolver-11.4.1.4 | 96.5 MB   | ########## | 100%\n",
            "libcusolver-11.4.1.4 | 96.5 MB   | ########## | 100%\n",
            "\n",
            "libarchive-3.5.2     | 1.6 MB    |            |   0%\n",
            "libarchive-3.5.2     | 1.6 MB    | ########## | 100%\n",
            "libarchive-3.5.2     | 1.6 MB    | ########## | 100%\n",
            "\n",
            "curl-7.83.1          | 89 KB     |            |   0%\n",
            "curl-7.83.1          | 89 KB     | ########## | 100%\n",
            "\n",
            "xorg-kbproto-1.0.7   | 27 KB     |            |   0%\n",
            "xorg-kbproto-1.0.7   | 27 KB     | ########## | 100%\n",
            "\n",
            "click-8.0.4          | 145 KB    |            |   0%\n",
            "click-8.0.4          | 145 KB    | ########## | 100%\n",
            "\n",
            "xgboost-1.5.0dev.rap | 17 KB     |            |   0%\n",
            "xgboost-1.5.0dev.rap | 17 KB     | #########2 |  93%\n",
            "xgboost-1.5.0dev.rap | 17 KB     | ########## | 100%\n",
            "\n",
            "markdown-3.4.1       | 65 KB     |            |   0%\n",
            "markdown-3.4.1       | 65 KB     | ########## | 100%\n",
            "\n",
            "poppler-data-0.4.11  | 3.6 MB    |            |   0%\n",
            "poppler-data-0.4.11  | 3.6 MB    | ########## | 100%\n",
            "poppler-data-0.4.11  | 3.6 MB    | ########## | 100%\n",
            "\n",
            "defusedxml-0.7.1     | 23 KB     |            |   0%\n",
            "defusedxml-0.7.1     | 23 KB     | ########## | 100%\n",
            "\n",
            "python-fastjsonschem | 242 KB    |            |   0%\n",
            "python-fastjsonschem | 242 KB    | ########## | 100%\n",
            "python-fastjsonschem | 242 KB    | ########## | 100%\n",
            "\n",
            "pytz-2022.5          | 238 KB    |            |   0%\n",
            "pytz-2022.5          | 238 KB    | ########## | 100%\n",
            "pytz-2022.5          | 238 KB    | ########## | 100%\n",
            "\n",
            "c-blosc2-2.4.3       | 250 KB    |            |   0%\n",
            "c-blosc2-2.4.3       | 250 KB    | ########## | 100%\n",
            "\n",
            "librdkafka-1.6.1     | 12.6 MB   |            |   0%\n",
            "librdkafka-1.6.1     | 12.6 MB   | 8          |   8%\n",
            "librdkafka-1.6.1     | 12.6 MB   | #####3     |  53%\n",
            "librdkafka-1.6.1     | 12.6 MB   | ########## | 100%\n",
            "librdkafka-1.6.1     | 12.6 MB   | ########## | 100%\n",
            "\n",
            "libspatialindex-1.9. | 4.6 MB    |            |   0%\n",
            "libspatialindex-1.9. | 4.6 MB    | ########## | 100%\n",
            "libspatialindex-1.9. | 4.6 MB    | ########## | 100%\n",
            "\n",
            "lcms2-2.12           | 443 KB    |            |   0%\n",
            "lcms2-2.12           | 443 KB    | ########## | 100%\n",
            "lcms2-2.12           | 443 KB    | ########## | 100%\n",
            "\n",
            "jsonschema-4.16.0    | 65 KB     |            |   0%\n",
            "jsonschema-4.16.0    | 65 KB     | ########## | 100%\n",
            "\n",
            "pickleshare-0.7.5    | 9 KB      |            |   0%\n",
            "pickleshare-0.7.5    | 9 KB      | ########## | 100%\n",
            "\n",
            "anyio-3.6.2          | 83 KB     |            |   0%\n",
            "anyio-3.6.2          | 83 KB     | ########## | 100%\n",
            "\n",
            "multidict-6.0.2      | 49 KB     |            |   0%\n",
            "multidict-6.0.2      | 49 KB     | ########## | 100%\n",
            "\n",
            "dask-2021.11.2       | 5 KB      |            |   0%\n",
            "dask-2021.11.2       | 5 KB      | ########## | 100%\n",
            "\n",
            "tinycss2-1.2.1       | 23 KB     |            |   0%\n",
            "tinycss2-1.2.1       | 23 KB     | ########## | 100%\n",
            "\n",
            "aws-c-s3-0.1.29      | 49 KB     |            |   0%\n",
            "aws-c-s3-0.1.29      | 49 KB     | ########## | 100%\n",
            "\n",
            "libbrotlienc-1.0.9   | 288 KB    |            |   0%\n",
            "libbrotlienc-1.0.9   | 288 KB    | ########## | 100%\n",
            "libbrotlienc-1.0.9   | 288 KB    | ########## | 100%\n",
            "\n",
            "brunsli-0.1          | 200 KB    |            |   0%\n",
            "brunsli-0.1          | 200 KB    | ########## | 100%\n",
            "brunsli-0.1          | 200 KB    | ########## | 100%\n",
            "\n",
            "aws-c-mqtt-0.7.10    | 67 KB     |            |   0%\n",
            "aws-c-mqtt-0.7.10    | 67 KB     | ########## | 100%\n",
            "\n",
            "pynvml-11.4.1        | 40 KB     |            |   0%\n",
            "pynvml-11.4.1        | 40 KB     | ########## | 100%\n",
            "\n",
            "llvmlite-0.39.1      | 2.5 MB    |            |   0%\n",
            "llvmlite-0.39.1      | 2.5 MB    | ########## | 100%\n",
            "llvmlite-0.39.1      | 2.5 MB    | ########## | 100%\n",
            "\n",
            "postgresql-13.5      | 5.3 MB    |            |   0%\n",
            "postgresql-13.5      | 5.3 MB    | ##5        |  25%\n",
            "postgresql-13.5      | 5.3 MB    | ########## | 100%\n",
            "postgresql-13.5      | 5.3 MB    | ########## | 100%\n",
            "\n",
            "cfitsio-3.470        | 1.3 MB    |            |   0%\n",
            "cfitsio-3.470        | 1.3 MB    | ########## | 100%\n",
            "cfitsio-3.470        | 1.3 MB    | ########## | 100%\n",
            "\n",
            "colorcet-3.0.1       | 1.6 MB    |            |   0%\n",
            "colorcet-3.0.1       | 1.6 MB    | ########## | 100%\n",
            "colorcet-3.0.1       | 1.6 MB    | ########## | 100%\n",
            "\n",
            "geopandas-0.9.0      | 5 KB      |            |   0%\n",
            "geopandas-0.9.0      | 5 KB      | ########## | 100%\n",
            "\n",
            "xorg-inputproto-2.3. | 19 KB     |            |   0%\n",
            "xorg-inputproto-2.3. | 19 KB     | ########## | 100%\n",
            "\n",
            "partd-1.3.0          | 18 KB     |            |   0%\n",
            "partd-1.3.0          | 18 KB     | ########## | 100%\n",
            "\n",
            "starlette-0.20.4     | 48 KB     |            |   0%\n",
            "starlette-0.20.4     | 48 KB     | ########## | 100%\n",
            "Preparing transaction: ...working... done\n",
            "Verifying transaction: ...working... done\n",
            "Executing transaction: ...working... By downloading and using the CUDA Toolkit conda packages, you accept the terms and conditions of the CUDA End User License Agreement (EULA): https://docs.nvidia.com/cuda/eula/index.html\n",
            "\n",
            "done\n",
            "Retrieving notices: ...working... done\n",
            "\n",
            "\n",
            "==> WARNING: A newer version of conda exists. <==\n",
            "  current version: 4.14.0\n",
            "  latest version: 22.9.0\n",
            "\n",
            "Please update conda by running\n",
            "\n",
            "    $ conda update -n base -c conda-forge conda\n",
            "\n",
            "\n",
            "RAPIDS conda installation complete.  Updating Colab's libraries...\n",
            "Copying /usr/local/lib/libcudf.so to /usr/lib/libcudf.so\n",
            "Copying /usr/local/lib/libnccl.so to /usr/lib/libnccl.so\n",
            "Copying /usr/local/lib/libcuml.so to /usr/lib/libcuml.so\n",
            "Copying /usr/local/lib/libcugraph.so to /usr/lib/libcugraph.so\n",
            "Copying /usr/local/lib/libxgboost.so to /usr/lib/libxgboost.so\n",
            "Copying /usr/local/lib/libcuspatial.so to /usr/lib/libcuspatial.so\n",
            "Copying /usr/local/lib/libgeos.so to /usr/lib/libgeos.so\n",
            "Copying /usr/local/lib/libgeos_c.so to /usr/lib/libgeos_c.so\n"
          ]
        }
      ],
      "source": [
        "# Installing RAPIDS is now 'python rapidsai-csp-utils/colab/install_rapids.py <release> <packages>'\n",
        "# The <release> options are 'stable' and 'nightly'.  Leaving it blank or adding any other words will default to stable.\n",
        "!python rapidsai-csp-utils/colab/install_rapids.py stable\n",
        "import os\n",
        "os.environ['NUMBAPRO_NVVM'] = '/usr/local/cuda/nvvm/lib64/libnvvm.so'\n",
        "os.environ['NUMBAPRO_LIBDEVICE'] = '/usr/local/cuda/nvvm/libdevice/'\n",
        "os.environ['CONDA_PREFIX'] = '/usr/local'"
      ]
    },
    {
      "cell_type": "markdown",
      "source": [
        "## Load RAPIDS libraries"
      ],
      "metadata": {
        "id": "aekPmRDLVPHi"
      }
    },
    {
      "cell_type": "code",
      "execution_count": null,
      "metadata": {
        "id": "GzdJ7SnJ4QDD"
      },
      "outputs": [],
      "source": [
        "# RAPIDS libraries for accessing GPU processing for running models.  Instead of taking 24+ hours to run models, it only takes 15 minutes or less.\n",
        "import cudf\n",
        "import cuml\n",
        "import cupy\n",
        "\n",
        "import pandas as pd\n",
        "\n",
        "import pynvml\n",
        "import numpy as np\n"
      ]
    },
    {
      "cell_type": "markdown",
      "metadata": {
        "id": "a28212ae"
      },
      "source": [
        "## Load additional Libraries."
      ]
    },
    {
      "cell_type": "code",
      "execution_count": null,
      "metadata": {
        "id": "034d9b70"
      },
      "outputs": [],
      "source": [
        "# Import Sklearn metrics.  The RAPIDS metrics currently appeared bugged.\n",
        "from sklearn.metrics import r2_score, mean_squared_error, mean_absolute_error\n",
        "from sklearn.dummy import DummyRegressor\n",
        "from sklearn.model_selection import cross_val_score, StratifiedKFold\n",
        "\n",
        "# For displaying model metrics in an easily readable table form.\n",
        "from IPython.display import HTML, display\n",
        "import tabulate"
      ]
    },
    {
      "cell_type": "markdown",
      "source": [
        "# Functions"
      ],
      "metadata": {
        "id": "3Smb2w30p9fg"
      }
    },
    {
      "cell_type": "markdown",
      "source": [
        "## Model Accuracy Assessment for Regression."
      ],
      "metadata": {
        "id": "B_hg_788vzLf"
      }
    },
    {
      "cell_type": "code",
      "source": [
        "# Function for Model Accuracy Assessment for Regression.  Input is in Pandas because RAPIDS metrics currently appeared to be bugged.\n",
        "def reg_metric(y_test, y_pred):\n",
        "  # Calculation of metrics\n",
        "  r2 = str(round(r2_score(y_test, y_pred), 3))\n",
        "  mse = str(round(mean_squared_error(y_test, y_pred), 3))\n",
        "  rmse = str(round(np.sqrt(mean_squared_error(y_test, y_pred)), 3))\n",
        "  mae = str(round(mean_absolute_error(y_test, y_pred), 3))\n",
        "\n",
        "  #create table for display\n",
        "  metric = [['Metric', 'Value'],\n",
        "            ['R**2:', r2],\n",
        "            ['MSE:', mse],\n",
        "            ['RMSE:', rmse],\n",
        "            ['MAE:', mae]]\n",
        "  table = tabulate.tabulate(metric, tablefmt='html')\n",
        "  display(HTML(table))\n",
        "\n",
        "  # Return metric values as strings for later display.\n",
        "  return(r2, mse, rmse, mae)"
      ],
      "metadata": {
        "id": "Ap_uwkW0V54y"
      },
      "execution_count": null,
      "outputs": []
    },
    {
      "cell_type": "markdown",
      "source": [
        "## Coefficients from Regression Models."
      ],
      "metadata": {
        "id": "pVdRLSfFv4EG"
      }
    },
    {
      "cell_type": "code",
      "source": [
        "# Function to pull coefficients for regression models.\n",
        "def reg_coefs(model):\n",
        "  # get coefficients from RAPIDS model\n",
        "  coefs = model.coef_\n",
        "  coefs = coefs.to_pandas()\n",
        "\n",
        "  # associate variable names with coefficients\n",
        "  features = X_train.columns\n",
        "  \n",
        "  # Create Pandas Series with appropriate labels\n",
        "  coefs = coefs.set_axis(features)\n",
        "\n",
        "  return(coefs)"
      ],
      "metadata": {
        "id": "3V9E3-Yqwy2J"
      },
      "execution_count": null,
      "outputs": []
    },
    {
      "cell_type": "markdown",
      "source": [
        "## Model Accuracy Assessment for Classification."
      ],
      "metadata": {
        "id": "pNPpcAM8eoWF"
      }
    },
    {
      "cell_type": "code",
      "source": [
        "# Function for calculating Classification Metrics\n",
        "def class_metric(ycat_test, y_pred):\n",
        "  #Calculation of metrics\n",
        "  accuracy = str(np.round(cuml.metrics.accuracy.accuracy_score(ycat_test, y_pred), 3) * 100)\n",
        "  roc_auc = str(np.round(cuml.metrics.roc_auc_score(ycat_test, y_pred), 3))\n",
        "\n",
        "  cp = np.round(cuml.metrics.confusion_matrix(ycat_test, y_pred, normalize='pred'), 3) * 100\n",
        "  pred_perclass = [cp[0][0].get(), cp[1][1].get(), cp[2][2].get(), cp[3][3].get(), cp[4][4].get(), cp[5][5].get()]\n",
        "\n",
        "  cp_mean = str(np.round(np.mean(pred_perclass), 1))\n",
        "  cp_std = str(np.round(np.std(pred_perclass), 1))\n",
        "\n",
        "  print(f'Accuracy Score: {accuracy}%')\n",
        "  print(f'ROC AUC: {roc_auc}')\n",
        "  print(f'Mean Accuracy per Class & Standard Deviation: {cp_mean}% +/- {cp_std}%')\n",
        "  print(cp)\n",
        "\n",
        "  return(accuracy, roc_auc, cp, cp_mean, cp_std)"
      ],
      "metadata": {
        "id": "LaRm3k8HZ1ju"
      },
      "execution_count": null,
      "outputs": []
    },
    {
      "cell_type": "markdown",
      "source": [
        "# Load Dataset."
      ],
      "metadata": {
        "id": "WEb2mxsqptdQ"
      }
    },
    {
      "cell_type": "code",
      "execution_count": null,
      "metadata": {
        "id": "GL8rpsnFj-2Y"
      },
      "outputs": [],
      "source": [
        "# Local location of the data\n",
        "\n",
        "# Location on Windows\n",
        "# local_data = 'D:\\\\Data_Science\\\\DroughtProject\\\\Data\\\\' \n",
        "\n",
        "# Location on Linux\n",
        "# local_data = '/home/chad/Data/Drought_Prediction/' \n",
        "\n",
        "# Load local data into Google Colab\n",
        "# from google.colab import files\n",
        "# files = files.upload()"
      ]
    },
    {
      "cell_type": "code",
      "execution_count": null,
      "metadata": {
        "colab": {
          "base_uri": "https://localhost:8080/"
        },
        "id": "gqo-yIYjoyMj",
        "outputId": "dea404cc-8f2f-434f-d23a-47e0f7e6c5b3"
      },
      "outputs": [
        {
          "output_type": "stream",
          "name": "stdout",
          "text": [
            "Mounted at /content/drive\n"
          ]
        }
      ],
      "source": [
        "# Accessing Google Drive by mounting it locally\n",
        "# https://towardsdatascience.com/7-ways-to-load-external-data-into-google-colab-7ba73e7d5fc7\n",
        "from google.colab import drive\n",
        "drive.mount('/content/drive')"
      ]
    },
    {
      "cell_type": "code",
      "execution_count": null,
      "metadata": {
        "id": "A9b4ObRMp5f-"
      },
      "outputs": [],
      "source": [
        "# Location on Google Drive\n",
        "local_data = '/content/drive/MyDrive/Colab Notebooks/'"
      ]
    },
    {
      "cell_type": "code",
      "execution_count": null,
      "metadata": {
        "id": "6d643f7f"
      },
      "outputs": [],
      "source": [
        "# Load the dataset that contains training (meteorological variables) resampled weekly with mean, max, min\n",
        "# and the soil variables that have been merged on the county 'fips' value\n",
        "# This version of the file has already been scaled for the mean equal to zero and the variance to a standard deviation via StandardScaler.\n",
        "\n",
        "tsm = cudf.read_csv(local_data + 'train_soil_stats_scaled.csv',\n",
        "                        parse_dates=['date'],\n",
        "                        index_col=['index'],\n",
        "                        header=0)"
      ]
    },
    {
      "cell_type": "code",
      "execution_count": null,
      "metadata": {
        "id": "sv1gUz_npT0p"
      },
      "outputs": [],
      "source": [
        "# Unmount Google Drive.\n",
        "drive.flush_and_unmount()"
      ]
    },
    {
      "cell_type": "markdown",
      "metadata": {
        "id": "c7572e92"
      },
      "source": [
        "## Select Features and Target for Models"
      ]
    },
    {
      "cell_type": "code",
      "execution_count": null,
      "metadata": {
        "id": "5a1be6d5"
      },
      "outputs": [],
      "source": [
        "# Breaking out independent numerical variables from target variable, categorical variable ('fips'), and date.\n",
        "cols = tsm.columns.tolist()\n",
        "features = cols[3:]\n",
        "\n",
        "# Separating out the features\n",
        "X = tsm[features]\n",
        "\n",
        "# Separating out the target\n",
        "y = tsm[['score']]"
      ]
    },
    {
      "cell_type": "code",
      "execution_count": null,
      "metadata": {
        "id": "feb24f09"
      },
      "outputs": [],
      "source": [
        "# Converting 'y' from Panda Dataframe to Panda Series to avoid conflicts with type when running RAPIDS models.\n",
        "y = y['score']\n",
        "\n",
        "# Convert X from float64 to float32 in order to utilize GPU processing instead of CPU processing.  RAPIDS currently does not support float64.\n",
        "X = X.astype('float32')\n",
        "\n",
        "# Convert y from float64 to float32 in order to utilize GPU processing instead of CPU processing.\n",
        "y = y.astype('float32')\n",
        "\n",
        "# Create target for classication models.  Drought Score was originally an integer class ranging 0 - 5.\n",
        "y_cat = np.round(y,0)\n",
        "y_cat = y_cat.astype(int)"
      ]
    },
    {
      "cell_type": "markdown",
      "source": [
        "## Train / Test Split, Random_State=42"
      ],
      "metadata": {
        "id": "Nm7TsN0dLq5R"
      }
    },
    {
      "cell_type": "code",
      "source": [
        "# Create first train/test split for regression.  Automated folds from cross-validation are consuming too many resources and taking too long to process.\n",
        "# The datset is significantly skewed with many examples near 0 and few examples near 5.  The Train/Test split is therefore stratified to account for this.\n",
        "X_train, X_test, y_train, y_test = cuml.model_selection.train_test_split(X, y, test_size=0.2, shuffle=True, random_state=42, stratify=y_cat)"
      ],
      "metadata": {
        "id": "oW5uqpO9Tk_X"
      },
      "execution_count": null,
      "outputs": []
    },
    {
      "cell_type": "markdown",
      "source": [
        "# Not-Even-A-Model"
      ],
      "metadata": {
        "id": "E3Do9e37_PZi"
      }
    },
    {
      "cell_type": "code",
      "source": [
        "# Using sklearn requires Pandas & not RAPIDS cudf\n",
        "X_train = X_train.to_pandas()\n",
        "X_test = X_test.to_pandas()\n",
        "y_train = y_train.to_pandas()\n",
        "y_test = y_test.to_pandas()\n",
        "\n",
        "# Dummy Regressor to establish a baseline.\n",
        "Dumb_reg = DummyRegressor(strategy='mean')\n",
        "Dumb_reg.fit(X_train, y_train)\n",
        "y_pred = Dumb_reg.predict(X_test)"
      ],
      "metadata": {
        "id": "hnzN3tgi_UxQ"
      },
      "execution_count": null,
      "outputs": []
    },
    {
      "cell_type": "code",
      "source": [
        "# Dummy Regresion Model assessment: R-squared, Mean Squared Error, Root MSE, Mean Absolute Error.\n",
        "Dum_r2, Dum_mse, Dum_rmse, Dum_mae = reg_metric(y_test, y_pred)"
      ],
      "metadata": {
        "colab": {
          "base_uri": "https://localhost:8080/",
          "height": 126
        },
        "outputId": "59af5cd6-d72a-4034-a49e-e188ca170579",
        "id": "QY5A7OMU_0uf"
      },
      "execution_count": null,
      "outputs": [
        {
          "output_type": "display_data",
          "data": {
            "text/plain": [
              "<IPython.core.display.HTML object>"
            ],
            "text/html": [
              "<table>\n",
              "<tbody>\n",
              "<tr><td>Metric</td><td>Value</td></tr>\n",
              "<tr><td>R**2: </td><td>-0.0 </td></tr>\n",
              "<tr><td>MSE:  </td><td>1.497</td></tr>\n",
              "<tr><td>RMSE: </td><td>1.224</td></tr>\n",
              "<tr><td>MAE:  </td><td>0.974</td></tr>\n",
              "</tbody>\n",
              "</table>"
            ]
          },
          "metadata": {}
        }
      ]
    },
    {
      "cell_type": "code",
      "source": [
        "# There is a bug in RAPIDS for converting Pandas Series back into cudf Series, so just rerunning the Test / Train split with the same random state.\n",
        "X_train, X_test, y_train, y_test = cuml.model_selection.train_test_split(X, y, test_size=0.2, shuffle=True, random_state=42, stratify=y_cat)\n",
        "y_test = y_test.to_pandas()"
      ],
      "metadata": {
        "id": "3yaiD7MXEOXL"
      },
      "execution_count": null,
      "outputs": []
    },
    {
      "cell_type": "markdown",
      "source": [
        "# Regression Models"
      ],
      "metadata": {
        "id": "n7vcu5PFrPCE"
      }
    },
    {
      "cell_type": "markdown",
      "source": [
        "## Linear Regression"
      ],
      "metadata": {
        "id": "jVoNFvh5g13W"
      }
    },
    {
      "cell_type": "code",
      "source": [
        "# Linear Regression \n",
        "Lin_model = cuml.LinearRegression(fit_intercept=True, normalize=True)\n",
        "Lin_model.fit(X_train, y_train)\n",
        "y_pred = Lin_model.predict(X_test)"
      ],
      "metadata": {
        "id": "xCvR8doCS7jD"
      },
      "execution_count": null,
      "outputs": []
    },
    {
      "cell_type": "code",
      "source": [
        "# Convert RAPIDS to Pandas for Regression Metrics Calculations.\n",
        "y_pred = y_pred.to_pandas()"
      ],
      "metadata": {
        "id": "6feBpjcndHXb"
      },
      "execution_count": null,
      "outputs": []
    },
    {
      "cell_type": "code",
      "source": [
        "# Linear Regresion Model assessment: R-squared, Mean Squared Error, Root MSE, Mean Absolute Error.\n",
        "Lin_r2, Lin_mse, Lin_rmse, Lin_mae = reg_metric(y_test, y_pred)"
      ],
      "metadata": {
        "colab": {
          "base_uri": "https://localhost:8080/",
          "height": 126
        },
        "id": "DyX1Xf2RbGk2",
        "outputId": "28fe0342-77f5-4d54-d2ed-f8e518d9f8c3"
      },
      "execution_count": null,
      "outputs": [
        {
          "output_type": "display_data",
          "data": {
            "text/plain": [
              "<IPython.core.display.HTML object>"
            ],
            "text/html": [
              "<table>\n",
              "<tbody>\n",
              "<tr><td>Metric</td><td>Value</td></tr>\n",
              "<tr><td>R**2: </td><td>0.215</td></tr>\n",
              "<tr><td>MSE:  </td><td>1.176</td></tr>\n",
              "<tr><td>RMSE: </td><td>1.084</td></tr>\n",
              "<tr><td>MAE:  </td><td>0.819</td></tr>\n",
              "</tbody>\n",
              "</table>"
            ]
          },
          "metadata": {}
        }
      ]
    },
    {
      "cell_type": "code",
      "source": [
        "# Looking at coefficients for the regression model to determine importance of variables within the model.  \n",
        "# These results are only preliminary and need to assessed when there is less correlation between input variables.\n",
        "\n",
        "# Function call to pull coefficients.\n",
        "coefs = reg_coefs(Lin_model)\n",
        "\n",
        "# Display sorted values of coefficients.\n",
        "coefs.sort_values(ascending=False)"
      ],
      "metadata": {
        "colab": {
          "base_uri": "https://localhost:8080/"
        },
        "id": "SbRYHif2fXE2",
        "outputId": "42ec9bce-1798-462e-93d6-f4ec62ae0eda"
      },
      "execution_count": null,
      "outputs": [
        {
          "output_type": "execute_result",
          "data": {
            "text/plain": [
              "T2MDEW_mean         15.251828\n",
              "T2MWET_max          13.392090\n",
              "WS50M_MAX_mean      11.275458\n",
              "aspectUnknown        8.904612\n",
              "T2M_MAX_mean         6.267947\n",
              "                      ...    \n",
              "WS50M_MIN_mean      -6.379287\n",
              "slope2              -7.124270\n",
              "WS50M_RANGE_mean    -7.522495\n",
              "T2MDEW_max         -13.325664\n",
              "T2MWET_mean        -16.505831\n",
              "Length: 85, dtype: float32"
            ]
          },
          "metadata": {},
          "execution_count": 38
        }
      ]
    },
    {
      "cell_type": "code",
      "source": [
        "# Displaying all coefficient values to understand range and variability.\n",
        "# Sorted absolute values to understand total influence on model.\n",
        "with pd.option_context('display.max_rows', None, 'display.max_columns', None): \n",
        "    display(abs(coefs).sort_values(ascending=False))"
      ],
      "metadata": {
        "colab": {
          "base_uri": "https://localhost:8080/",
          "height": 1000
        },
        "id": "ZzqhR5YSxUuZ",
        "outputId": "c0fa7181-711a-4c5c-a9ac-cac1f7484cd5"
      },
      "execution_count": null,
      "outputs": [
        {
          "output_type": "display_data",
          "data": {
            "text/plain": [
              "T2MWET_mean         16.505831\n",
              "T2MDEW_mean         15.251828\n",
              "T2MWET_max          13.392090\n",
              "T2MDEW_max          13.325664\n",
              "WS50M_MAX_mean      11.275458\n",
              "aspectUnknown        8.904612\n",
              "WS50M_RANGE_mean     7.522495\n",
              "slope2               7.124270\n",
              "WS50M_MIN_mean       6.379287\n",
              "T2M_MAX_mean         6.267947\n",
              "T2MDEW_min           5.877740\n",
              "T2MWET_min           5.603858\n",
              "T2M_mean             3.599877\n",
              "slope1               2.928799\n",
              "T2M_MIN_mean         1.949099\n",
              "WS10M_MAX_mean       1.752050\n",
              "TS_min               1.284496\n",
              "WS10M_RANGE_mean     1.275383\n",
              "T2M_min              1.206666\n",
              "T2M_RANGE_mean       1.119282\n",
              "TS_max               0.813282\n",
              "TS_mean              0.810729\n",
              "T2M_max              0.748197\n",
              "WS10M_MIN_mean       0.730025\n",
              "PS_mean              0.716312\n",
              "PS_min               0.681556\n",
              "WS10M_mean           0.413662\n",
              "CULT_LAND            0.386309\n",
              "WS50M_mean           0.367662\n",
              "QV2M_mean            0.345696\n",
              "CULTRF_LAND          0.308219\n",
              "SQ1                  0.140983\n",
              "slope5               0.137277\n",
              "QV2M_max             0.134290\n",
              "slope3               0.120299\n",
              "CULTIR_LAND          0.114161\n",
              "QV2M_min             0.113249\n",
              "SQ7                  0.102809\n",
              "T2M_MAX_min          0.100130\n",
              "slope6               0.099533\n",
              "SQ3                  0.099222\n",
              "WS50M_MAX_max        0.090208\n",
              "lat                  0.089840\n",
              "T2M_MAX_max          0.089509\n",
              "NVG_LAND             0.088111\n",
              "FOR_LAND             0.077825\n",
              "WS10M_MAX_max        0.077486\n",
              "PRECTOT_max          0.075503\n",
              "SQ5                  0.074762\n",
              "slope4               0.073722\n",
              "T2M_RANGE_min        0.070680\n",
              "PRECTOT_mean         0.067155\n",
              "aspectS              0.067066\n",
              "GRS_LAND             0.064769\n",
              "lon                  0.057859\n",
              "aspectE              0.056879\n",
              "aspectW              0.054586\n",
              "WS50M_min            0.049404\n",
              "WS10M_MIN_max        0.049097\n",
              "elevation            0.045596\n",
              "slope8               0.043462\n",
              "aspectN              0.041612\n",
              "SQ6                  0.037948\n",
              "WS10M_min            0.035594\n",
              "slope7               0.035457\n",
              "URB_LAND             0.035103\n",
              "WS10M_RANGE_max      0.028772\n",
              "WS10M_MIN_min        0.028151\n",
              "WS50M_MIN_max        0.024353\n",
              "T2M_MIN_min          0.023700\n",
              "WS10M_MAX_min        0.023386\n",
              "WS50M_MIN_min        0.023096\n",
              "WS50M_MAX_min        0.021464\n",
              "WS50M_RANGE_max      0.021316\n",
              "T2M_RANGE_max        0.020865\n",
              "WS10M_max            0.013843\n",
              "WS50M_max            0.009288\n",
              "WS10M_RANGE_min      0.008511\n",
              "PRECTOT_min          0.008301\n",
              "SQ2                  0.004469\n",
              "T2M_MIN_max          0.004029\n",
              "WS50M_RANGE_min      0.003822\n",
              "WAT_LAND             0.003392\n",
              "SQ4                  0.002247\n",
              "PS_max               0.001412\n",
              "dtype: float32"
            ]
          },
          "metadata": {}
        }
      ]
    },
    {
      "cell_type": "code",
      "source": [
        "# The variables with the largest coefficients from the simple linear regresssion.\n",
        "top_features = abs(coefs).sort_values(ascending=False)\n",
        "top_features[:15]"
      ],
      "metadata": {
        "colab": {
          "base_uri": "https://localhost:8080/"
        },
        "id": "1gil76yb5jAB",
        "outputId": "35e8eed3-0eae-400d-bc6b-e72bbc16c5a9"
      },
      "execution_count": null,
      "outputs": [
        {
          "output_type": "execute_result",
          "data": {
            "text/plain": [
              "T2MWET_mean         16.505831\n",
              "T2MDEW_mean         15.251828\n",
              "T2MWET_max          13.392090\n",
              "T2MDEW_max          13.325664\n",
              "WS50M_MAX_mean      11.275458\n",
              "aspectUnknown        8.904612\n",
              "WS50M_RANGE_mean     7.522495\n",
              "slope2               7.124270\n",
              "WS50M_MIN_mean       6.379287\n",
              "T2M_MAX_mean         6.267947\n",
              "T2MDEW_min           5.877740\n",
              "T2MWET_min           5.603858\n",
              "T2M_mean             3.599877\n",
              "slope1               2.928799\n",
              "T2M_MIN_mean         1.949099\n",
              "dtype: float32"
            ]
          },
          "metadata": {},
          "execution_count": 40
        }
      ]
    },
    {
      "cell_type": "markdown",
      "source": [
        "### Ridge Regresssion"
      ],
      "metadata": {
        "id": "_yv084CL-6ra"
      }
    },
    {
      "cell_type": "code",
      "source": [
        "# Ridge Regression - L2 regularization\n",
        "Ridge_model = cuml.Ridge(fit_intercept=True, normalize=True)\n",
        "Ridge_model.fit(X_train, y_train)\n",
        "y_pred = Ridge_model.predict(X_test)"
      ],
      "metadata": {
        "id": "HE3eCg0X-57k"
      },
      "execution_count": null,
      "outputs": []
    },
    {
      "cell_type": "code",
      "source": [
        "# Convert y_pred to Pandas for metrics calc.\n",
        "y_pred = y_pred.to_pandas()"
      ],
      "metadata": {
        "id": "mOrtveVmd1jv"
      },
      "execution_count": null,
      "outputs": []
    },
    {
      "cell_type": "code",
      "source": [
        "# Regresion Model assessment: R-squared, Mean Squared Error, Root MSE, Mean Absolute Error.\n",
        "Ridge_r2, Ridge_mse, Ridge_rmse, Ridge_mae = reg_metric(y_test, y_pred)"
      ],
      "metadata": {
        "colab": {
          "base_uri": "https://localhost:8080/",
          "height": 126
        },
        "id": "gCXHLpdyeFOe",
        "outputId": "8478f604-091c-4b11-d0cb-9de3e6e20537"
      },
      "execution_count": null,
      "outputs": [
        {
          "output_type": "display_data",
          "data": {
            "text/plain": [
              "<IPython.core.display.HTML object>"
            ],
            "text/html": [
              "<table>\n",
              "<tbody>\n",
              "<tr><td>Metric</td><td>Value</td></tr>\n",
              "<tr><td>R**2: </td><td>0.154</td></tr>\n",
              "<tr><td>MSE:  </td><td>1.266</td></tr>\n",
              "<tr><td>RMSE: </td><td>1.125</td></tr>\n",
              "<tr><td>MAE:  </td><td>0.872</td></tr>\n",
              "</tbody>\n",
              "</table>"
            ]
          },
          "metadata": {}
        }
      ]
    },
    {
      "cell_type": "code",
      "source": [
        "# Pulling coefficients from the model.\n",
        "coefs = reg_coefs(Ridge_model)\n",
        "coefs.sort_values(ascending=False)"
      ],
      "metadata": {
        "colab": {
          "base_uri": "https://localhost:8080/"
        },
        "outputId": "84be3af7-6856-4a48-ad74-d4afa3001b52",
        "id": "Z5_y8jGFLTCi"
      },
      "execution_count": null,
      "outputs": [
        {
          "output_type": "execute_result",
          "data": {
            "text/plain": [
              "T2M_RANGE_mean    0.054816\n",
              "T2M_RANGE_max     0.047383\n",
              "T2M_MAX_max       0.042160\n",
              "GRS_LAND          0.036442\n",
              "T2M_MAX_mean      0.035399\n",
              "                    ...   \n",
              "T2MDEW_mean      -0.038325\n",
              "T2MWET_min       -0.040171\n",
              "T2MDEW_min       -0.041343\n",
              "lon              -0.048592\n",
              "lat              -0.071717\n",
              "Length: 85, dtype: float32"
            ]
          },
          "metadata": {},
          "execution_count": 44
        }
      ]
    },
    {
      "cell_type": "code",
      "source": [
        "# The variables with the largest coefficients from the Ridge regresssion.\n",
        "top_features = abs(coefs).sort_values(ascending=False)\n",
        "top_features[:15]"
      ],
      "metadata": {
        "colab": {
          "base_uri": "https://localhost:8080/"
        },
        "outputId": "8616f8a8-47a6-40f9-ae7b-b34805f6455a",
        "id": "TJHNkK4tLXt-"
      },
      "execution_count": null,
      "outputs": [
        {
          "output_type": "execute_result",
          "data": {
            "text/plain": [
              "lat               0.071717\n",
              "T2M_RANGE_mean    0.054816\n",
              "lon               0.048592\n",
              "T2M_RANGE_max     0.047383\n",
              "T2M_MAX_max       0.042160\n",
              "T2MDEW_min        0.041343\n",
              "T2MWET_min        0.040171\n",
              "T2MDEW_mean       0.038325\n",
              "T2MWET_mean       0.037785\n",
              "GRS_LAND          0.036442\n",
              "T2M_MAX_mean      0.035399\n",
              "T2MDEW_max        0.035090\n",
              "T2MWET_max        0.034974\n",
              "T2M_RANGE_min     0.032373\n",
              "PRECTOT_max       0.031478\n",
              "dtype: float32"
            ]
          },
          "metadata": {},
          "execution_count": 45
        }
      ]
    },
    {
      "cell_type": "markdown",
      "source": [
        "### Lasso Regression"
      ],
      "metadata": {
        "id": "WZWX6w8Og6C0"
      }
    },
    {
      "cell_type": "code",
      "source": [
        "# Lasso Regression - L1 regularization\n",
        "Lasso_model = cuml.Lasso(fit_intercept=True, normalize=True)\n",
        "Lasso_model.fit(X_train, y_train)\n",
        "y_pred = Lasso_model.predict(X_test)"
      ],
      "metadata": {
        "id": "J2D-r1mXS-Iv"
      },
      "execution_count": null,
      "outputs": []
    },
    {
      "cell_type": "code",
      "source": [
        "# Convert y_pred to Pandas for metrics calc.\n",
        "y_pred = y_pred.to_pandas()"
      ],
      "metadata": {
        "id": "huEfgtl0gR91"
      },
      "execution_count": null,
      "outputs": []
    },
    {
      "cell_type": "code",
      "source": [
        "# Regresion Model assessment: R-squared, Mean Squared Error, Root MSE, Mean Absolute Error.\n",
        "Lasso_r2, Lasso_mse, Lasso_rmse, Lasso_mae = reg_metric(y_test, y_pred)"
      ],
      "metadata": {
        "colab": {
          "base_uri": "https://localhost:8080/",
          "height": 126
        },
        "outputId": "f5480566-8217-4675-b743-3ff2544c9b65",
        "id": "Tm-qiVrygR91"
      },
      "execution_count": null,
      "outputs": [
        {
          "output_type": "display_data",
          "data": {
            "text/plain": [
              "<IPython.core.display.HTML object>"
            ],
            "text/html": [
              "<table>\n",
              "<tbody>\n",
              "<tr><td>Metric</td><td>Value</td></tr>\n",
              "<tr><td>R**2: </td><td>-0.0 </td></tr>\n",
              "<tr><td>MSE:  </td><td>1.497</td></tr>\n",
              "<tr><td>RMSE: </td><td>1.224</td></tr>\n",
              "<tr><td>MAE:  </td><td>0.974</td></tr>\n",
              "</tbody>\n",
              "</table>"
            ]
          },
          "metadata": {}
        }
      ]
    },
    {
      "cell_type": "code",
      "source": [
        "# Pulling coefficients from the model.\n",
        "coefs = reg_coefs(Lasso_model)\n",
        "coefs.sort_values(ascending=False)"
      ],
      "metadata": {
        "colab": {
          "base_uri": "https://localhost:8080/"
        },
        "outputId": "6c23a0f4-1873-4412-8102-07d87ac7bf72",
        "id": "keKzR8tfgR92"
      },
      "execution_count": null,
      "outputs": [
        {
          "output_type": "execute_result",
          "data": {
            "text/plain": [
              "PRECTOT_mean     0.0\n",
              "lat              0.0\n",
              "slope6           0.0\n",
              "slope5           0.0\n",
              "slope4           0.0\n",
              "                ... \n",
              "TS_max           0.0\n",
              "T2M_RANGE_max    0.0\n",
              "T2M_MIN_max      0.0\n",
              "T2M_MAX_max      0.0\n",
              "SQ7              0.0\n",
              "Length: 85, dtype: float32"
            ]
          },
          "metadata": {},
          "execution_count": 49
        }
      ]
    },
    {
      "cell_type": "code",
      "source": [
        "# The variables with the largest coefficients from the simple linear regresssion.\n",
        "top_features = abs(coefs).sort_values(ascending=False)\n",
        "top_features[:15]"
      ],
      "metadata": {
        "colab": {
          "base_uri": "https://localhost:8080/"
        },
        "outputId": "208108d5-6283-48f7-d22b-25cbe71058ab",
        "id": "SFreoKQvgR92"
      },
      "execution_count": null,
      "outputs": [
        {
          "output_type": "execute_result",
          "data": {
            "text/plain": [
              "PRECTOT_mean       0.0\n",
              "lat                0.0\n",
              "slope6             0.0\n",
              "slope5             0.0\n",
              "slope4             0.0\n",
              "slope3             0.0\n",
              "slope2             0.0\n",
              "slope1             0.0\n",
              "elevation          0.0\n",
              "lon                0.0\n",
              "WS50M_RANGE_min    0.0\n",
              "T2M_MIN_min        0.0\n",
              "WS50M_MIN_min      0.0\n",
              "WS50M_MAX_min      0.0\n",
              "WS50M_min          0.0\n",
              "dtype: float32"
            ]
          },
          "metadata": {},
          "execution_count": 50
        }
      ]
    },
    {
      "cell_type": "markdown",
      "source": [
        "### ElasticNet Regression"
      ],
      "metadata": {
        "id": "wJuJyWasAjWC"
      }
    },
    {
      "cell_type": "code",
      "source": [
        "# ElasticNet Regression - combination of L1 and L2 regularization\n",
        "EN_model = cuml.ElasticNet(alpha=0.33)\n",
        "EN_model.fit(X_train, y_train)\n",
        "y_pred = EN_model.predict(X_test)"
      ],
      "metadata": {
        "id": "tj47sCZ3At1e"
      },
      "execution_count": null,
      "outputs": []
    },
    {
      "cell_type": "code",
      "source": [
        "# Convert y_pred to Pandas for metrics calc.\n",
        "y_pred = y_pred.to_pandas()"
      ],
      "metadata": {
        "id": "iqVWdBKNhrPX"
      },
      "execution_count": null,
      "outputs": []
    },
    {
      "cell_type": "code",
      "source": [
        "# Regresion Model assessment: R-squared, Mean Squared Error, Root MSE, Mean Absolute Error.\n",
        "EN_r2, EN_mse, EN_rmse, EN_mae = reg_metric(y_test, y_pred)"
      ],
      "metadata": {
        "colab": {
          "base_uri": "https://localhost:8080/",
          "height": 126
        },
        "outputId": "e1d8a89d-6f25-4801-8271-fb756c6e48e5",
        "id": "cj-3_NschrPX"
      },
      "execution_count": null,
      "outputs": [
        {
          "output_type": "display_data",
          "data": {
            "text/plain": [
              "<IPython.core.display.HTML object>"
            ],
            "text/html": [
              "<table>\n",
              "<tbody>\n",
              "<tr><td>Metric</td><td>Value</td></tr>\n",
              "<tr><td>R**2: </td><td>0.074</td></tr>\n",
              "<tr><td>MSE:  </td><td>1.387</td></tr>\n",
              "<tr><td>RMSE: </td><td>1.178</td></tr>\n",
              "<tr><td>MAE:  </td><td>0.929</td></tr>\n",
              "</tbody>\n",
              "</table>"
            ]
          },
          "metadata": {}
        }
      ]
    },
    {
      "cell_type": "code",
      "source": [
        "# Pulling coefficients from the model.\n",
        "coefs = reg_coefs(EN_model)\n",
        "coefs.sort_values(ascending=False)"
      ],
      "metadata": {
        "colab": {
          "base_uri": "https://localhost:8080/"
        },
        "outputId": "dd29a559-cf5d-4e47-b573-e4fbdc5ec1e9",
        "id": "nKpgaRAIhrPX"
      },
      "execution_count": null,
      "outputs": [
        {
          "output_type": "execute_result",
          "data": {
            "text/plain": [
              "T2M_RANGE_mean    0.145191\n",
              "GRS_LAND          0.037953\n",
              "PRECTOT_mean      0.000000\n",
              "lat               0.000000\n",
              "slope6            0.000000\n",
              "                    ...   \n",
              "TS_max            0.000000\n",
              "T2M_RANGE_max     0.000000\n",
              "T2M_MIN_max       0.000000\n",
              "SQ7               0.000000\n",
              "lon              -0.033884\n",
              "Length: 85, dtype: float32"
            ]
          },
          "metadata": {},
          "execution_count": 54
        }
      ]
    },
    {
      "cell_type": "code",
      "source": [
        "# The variables with the largest coefficients from the simple linear regresssion.\n",
        "top_features = abs(coefs).sort_values(ascending=False)\n",
        "top_features[:15]"
      ],
      "metadata": {
        "colab": {
          "base_uri": "https://localhost:8080/"
        },
        "outputId": "bc0c80cb-bded-43bf-f927-cae8f6d6874f",
        "id": "7LPegD6NhrPX"
      },
      "execution_count": null,
      "outputs": [
        {
          "output_type": "execute_result",
          "data": {
            "text/plain": [
              "T2M_RANGE_mean     0.145191\n",
              "GRS_LAND           0.037953\n",
              "lon                0.033884\n",
              "PRECTOT_mean       0.000000\n",
              "lat                0.000000\n",
              "slope5             0.000000\n",
              "slope4             0.000000\n",
              "slope3             0.000000\n",
              "slope2             0.000000\n",
              "slope1             0.000000\n",
              "elevation          0.000000\n",
              "WS50M_RANGE_min    0.000000\n",
              "slope7             0.000000\n",
              "WS50M_MIN_min      0.000000\n",
              "WS50M_MAX_min      0.000000\n",
              "dtype: float32"
            ]
          },
          "metadata": {},
          "execution_count": 55
        }
      ]
    },
    {
      "cell_type": "markdown",
      "source": [
        "## Nearest Neighbors Regresssion"
      ],
      "metadata": {
        "id": "ebN_P6e0ppNR"
      }
    },
    {
      "cell_type": "code",
      "source": [
        "NNreg_model = cuml.neighbors.KNeighborsRegressor()\n",
        "NNreg_model.fit(X_train, y_train)\n",
        "y_pred = NNreg_model.predict(X_test)"
      ],
      "metadata": {
        "id": "QafjCmvVps46"
      },
      "execution_count": null,
      "outputs": []
    },
    {
      "cell_type": "code",
      "source": [
        "# Convert y_pred to Pandas for metrics calc.\n",
        "y_pred = y_pred.to_pandas()"
      ],
      "metadata": {
        "id": "bkGwuF9Nh_Yf"
      },
      "execution_count": null,
      "outputs": []
    },
    {
      "cell_type": "code",
      "source": [
        "# Regresion Model assessment: R-squared, Mean Squared Error, Root MSE, Mean Absolute Error.\n",
        "NN_r2, NN_mse, NN_rmse, NN_mae = reg_metric(y_test, y_pred)"
      ],
      "metadata": {
        "colab": {
          "base_uri": "https://localhost:8080/",
          "height": 126
        },
        "outputId": "c71a6e59-526a-4b7f-efb3-aaf9aa6a808b",
        "id": "jTnbqd5Kh_Yf"
      },
      "execution_count": null,
      "outputs": [
        {
          "output_type": "display_data",
          "data": {
            "text/plain": [
              "<IPython.core.display.HTML object>"
            ],
            "text/html": [
              "<table>\n",
              "<tbody>\n",
              "<tr><td>Metric</td><td>Value</td></tr>\n",
              "<tr><td>R**2: </td><td>0.468</td></tr>\n",
              "<tr><td>MSE:  </td><td>0.796</td></tr>\n",
              "<tr><td>RMSE: </td><td>0.892</td></tr>\n",
              "<tr><td>MAE:  </td><td>0.574</td></tr>\n",
              "</tbody>\n",
              "</table>"
            ]
          },
          "metadata": {}
        }
      ]
    },
    {
      "cell_type": "markdown",
      "source": [
        "### Nearest Neighbor Hyperparameter Search"
      ],
      "metadata": {
        "id": "x4DnQ-Svjteb"
      }
    },
    {
      "cell_type": "code",
      "source": [
        "# Convert y_test to pandas if it has not already been converted.\n",
        "y_test = y_test.to_pandas()"
      ],
      "metadata": {
        "id": "czTeKJs4nFEp"
      },
      "execution_count": null,
      "outputs": []
    },
    {
      "cell_type": "code",
      "source": [
        "# Search for best n_neighbors hyperparameter.  Model parameters are not causing the system to crash.\n",
        "r2_list=[]\n",
        "mse_list=[]\n",
        "rmse_list=[]\n",
        "mae_list=[]\n",
        "\n",
        "# Searching nearest neighbors from 2 to 9.\n",
        "for i in range(8):\n",
        "  NNreg_model = cuml.neighbors.KNeighborsRegressor(n_neighbors=(i+2))\n",
        "  NNreg_model.fit(X_train, y_train)\n",
        "  y_pred = NNreg_model.predict(X_test)\n",
        "\n",
        "  # Convert y_pred to Pandas for metrics calc.\n",
        "  y_pred = y_pred.to_pandas()\n",
        "\n",
        "  # Call custom metric function\n",
        "  print(f'Nearest Neighbor: {i+2}')\n",
        "  NN_r2, NN_mse, NN_rmse, NN_mae = reg_metric(y_test, y_pred)\n",
        "\n",
        "  r2_list.append(NN_r2)\n",
        "  mse_list.append(NN_mse)\n",
        "  rmse_list.append(NN_rmse)\n",
        "  mae_list.append(NN_mae)"
      ],
      "metadata": {
        "colab": {
          "base_uri": "https://localhost:8080/",
          "height": 1000
        },
        "id": "w2X56WEcjted",
        "outputId": "66d8de94-892b-4d80-8d7f-ce6ff9ecee95"
      },
      "execution_count": null,
      "outputs": [
        {
          "output_type": "stream",
          "name": "stdout",
          "text": [
            "Nearest Neighbor: 2\n"
          ]
        },
        {
          "output_type": "display_data",
          "data": {
            "text/plain": [
              "<IPython.core.display.HTML object>"
            ],
            "text/html": [
              "<table>\n",
              "<tbody>\n",
              "<tr><td>Metric</td><td>Value</td></tr>\n",
              "<tr><td>R**2: </td><td>0.386</td></tr>\n",
              "<tr><td>MSE:  </td><td>0.92 </td></tr>\n",
              "<tr><td>RMSE: </td><td>0.959</td></tr>\n",
              "<tr><td>MAE:  </td><td>0.554</td></tr>\n",
              "</tbody>\n",
              "</table>"
            ]
          },
          "metadata": {}
        },
        {
          "output_type": "stream",
          "name": "stdout",
          "text": [
            "Nearest Neighbor: 3\n"
          ]
        },
        {
          "output_type": "display_data",
          "data": {
            "text/plain": [
              "<IPython.core.display.HTML object>"
            ],
            "text/html": [
              "<table>\n",
              "<tbody>\n",
              "<tr><td>Metric</td><td>Value</td></tr>\n",
              "<tr><td>R**2: </td><td>0.439</td></tr>\n",
              "<tr><td>MSE:  </td><td>0.84 </td></tr>\n",
              "<tr><td>RMSE: </td><td>0.917</td></tr>\n",
              "<tr><td>MAE:  </td><td>0.558</td></tr>\n",
              "</tbody>\n",
              "</table>"
            ]
          },
          "metadata": {}
        },
        {
          "output_type": "stream",
          "name": "stdout",
          "text": [
            "Nearest Neighbor: 4\n"
          ]
        },
        {
          "output_type": "display_data",
          "data": {
            "text/plain": [
              "<IPython.core.display.HTML object>"
            ],
            "text/html": [
              "<table>\n",
              "<tbody>\n",
              "<tr><td>Metric</td><td>Value</td></tr>\n",
              "<tr><td>R**2: </td><td>0.459</td></tr>\n",
              "<tr><td>MSE:  </td><td>0.809</td></tr>\n",
              "<tr><td>RMSE: </td><td>0.9  </td></tr>\n",
              "<tr><td>MAE:  </td><td>0.566</td></tr>\n",
              "</tbody>\n",
              "</table>"
            ]
          },
          "metadata": {}
        },
        {
          "output_type": "stream",
          "name": "stdout",
          "text": [
            "Nearest Neighbor: 5\n"
          ]
        },
        {
          "output_type": "display_data",
          "data": {
            "text/plain": [
              "<IPython.core.display.HTML object>"
            ],
            "text/html": [
              "<table>\n",
              "<tbody>\n",
              "<tr><td>Metric</td><td>Value</td></tr>\n",
              "<tr><td>R**2: </td><td>0.468</td></tr>\n",
              "<tr><td>MSE:  </td><td>0.796</td></tr>\n",
              "<tr><td>RMSE: </td><td>0.892</td></tr>\n",
              "<tr><td>MAE:  </td><td>0.574</td></tr>\n",
              "</tbody>\n",
              "</table>"
            ]
          },
          "metadata": {}
        },
        {
          "output_type": "stream",
          "name": "stdout",
          "text": [
            "Nearest Neighbor: 6\n"
          ]
        },
        {
          "output_type": "display_data",
          "data": {
            "text/plain": [
              "<IPython.core.display.HTML object>"
            ],
            "text/html": [
              "<table>\n",
              "<tbody>\n",
              "<tr><td>Metric</td><td>Value</td></tr>\n",
              "<tr><td>R**2: </td><td>0.471</td></tr>\n",
              "<tr><td>MSE:  </td><td>0.792</td></tr>\n",
              "<tr><td>RMSE: </td><td>0.89 </td></tr>\n",
              "<tr><td>MAE:  </td><td>0.583</td></tr>\n",
              "</tbody>\n",
              "</table>"
            ]
          },
          "metadata": {}
        },
        {
          "output_type": "stream",
          "name": "stdout",
          "text": [
            "Nearest Neighbor: 7\n"
          ]
        },
        {
          "output_type": "display_data",
          "data": {
            "text/plain": [
              "<IPython.core.display.HTML object>"
            ],
            "text/html": [
              "<table>\n",
              "<tbody>\n",
              "<tr><td>Metric</td><td>Value</td></tr>\n",
              "<tr><td>R**2: </td><td>0.47 </td></tr>\n",
              "<tr><td>MSE:  </td><td>0.793</td></tr>\n",
              "<tr><td>RMSE: </td><td>0.891</td></tr>\n",
              "<tr><td>MAE:  </td><td>0.591</td></tr>\n",
              "</tbody>\n",
              "</table>"
            ]
          },
          "metadata": {}
        },
        {
          "output_type": "stream",
          "name": "stdout",
          "text": [
            "Nearest Neighbor: 8\n"
          ]
        },
        {
          "output_type": "display_data",
          "data": {
            "text/plain": [
              "<IPython.core.display.HTML object>"
            ],
            "text/html": [
              "<table>\n",
              "<tbody>\n",
              "<tr><td>Metric</td><td>Value</td></tr>\n",
              "<tr><td>R**2: </td><td>0.468</td></tr>\n",
              "<tr><td>MSE:  </td><td>0.796</td></tr>\n",
              "<tr><td>RMSE: </td><td>0.892</td></tr>\n",
              "<tr><td>MAE:  </td><td>0.6  </td></tr>\n",
              "</tbody>\n",
              "</table>"
            ]
          },
          "metadata": {}
        },
        {
          "output_type": "stream",
          "name": "stdout",
          "text": [
            "Nearest Neighbor: 9\n"
          ]
        },
        {
          "output_type": "display_data",
          "data": {
            "text/plain": [
              "<IPython.core.display.HTML object>"
            ],
            "text/html": [
              "<table>\n",
              "<tbody>\n",
              "<tr><td>Metric</td><td>Value</td></tr>\n",
              "<tr><td>R**2: </td><td>0.465</td></tr>\n",
              "<tr><td>MSE:  </td><td>0.8  </td></tr>\n",
              "<tr><td>RMSE: </td><td>0.895</td></tr>\n",
              "<tr><td>MAE:  </td><td>0.607</td></tr>\n",
              "</tbody>\n",
              "</table>"
            ]
          },
          "metadata": {}
        }
      ]
    },
    {
      "cell_type": "code",
      "source": [
        "# Print Accuracy Score for each n_neighbors\n",
        "for i in range(8):\n",
        "  print(f'n_neighbors={(i+2)}, Mean Absolute Error: {mae_list[i]}')"
      ],
      "metadata": {
        "colab": {
          "base_uri": "https://localhost:8080/"
        },
        "outputId": "c1d3f8ec-92d2-49e6-e3ef-4b2cff564405",
        "id": "j79pAucEjtee"
      },
      "execution_count": null,
      "outputs": [
        {
          "output_type": "stream",
          "name": "stdout",
          "text": [
            "n_neighbors=2, Mean Absolute Error: 0.554\n",
            "n_neighbors=3, Mean Absolute Error: 0.558\n",
            "n_neighbors=4, Mean Absolute Error: 0.566\n",
            "n_neighbors=5, Mean Absolute Error: 0.574\n",
            "n_neighbors=6, Mean Absolute Error: 0.583\n",
            "n_neighbors=7, Mean Absolute Error: 0.591\n",
            "n_neighbors=8, Mean Absolute Error: 0.6\n",
            "n_neighbors=9, Mean Absolute Error: 0.607\n"
          ]
        }
      ]
    },
    {
      "cell_type": "markdown",
      "source": [
        "The Mean Absolute Error never goes below 0.5.  Since each integer value correlates to a Drought Score Category, having an error that exceeds 0.5 is not practically useful."
      ],
      "metadata": {
        "id": "O1FJGFt4pyqS"
      }
    },
    {
      "cell_type": "markdown",
      "source": [
        "## Random Forest Regression Model"
      ],
      "metadata": {
        "id": "i9HyaTwShacV"
      }
    },
    {
      "cell_type": "code",
      "source": [
        "# Random Forest Regression model, default max_depth=16, default n_estimators=100.\n",
        "RFreg_model = cuml.ensemble.RandomForestRegressor()\n",
        "RFreg_model.fit(X_train, y_train)\n",
        "y_pred = RFreg_model.predict(X_test)"
      ],
      "metadata": {
        "id": "AcpcChjS29a-"
      },
      "execution_count": null,
      "outputs": []
    },
    {
      "cell_type": "code",
      "source": [
        "# Convert y_pred to Pandas for metrics calc.\n",
        "y_pred = y_pred.to_pandas()"
      ],
      "metadata": {
        "id": "A2hH2XWTidS3"
      },
      "execution_count": null,
      "outputs": []
    },
    {
      "cell_type": "code",
      "source": [
        "# Regresion Model assessment: R-squared, Mean Squared Error, Root MSE, Mean Absolute Error.\n",
        "RF_r2, RF_mse, RF_rmse, RF_mae = reg_metric(y_test, y_pred)"
      ],
      "metadata": {
        "colab": {
          "base_uri": "https://localhost:8080/",
          "height": 126
        },
        "outputId": "b5acdcbd-bf89-41f8-b539-bc9c24f90617",
        "id": "DrLorZz7idS3"
      },
      "execution_count": null,
      "outputs": [
        {
          "output_type": "display_data",
          "data": {
            "text/plain": [
              "<IPython.core.display.HTML object>"
            ],
            "text/html": [
              "<table>\n",
              "<tbody>\n",
              "<tr><td>Metric</td><td>Value</td></tr>\n",
              "<tr><td>R**2: </td><td>0.486</td></tr>\n",
              "<tr><td>MSE:  </td><td>0.769</td></tr>\n",
              "<tr><td>RMSE: </td><td>0.877</td></tr>\n",
              "<tr><td>MAE:  </td><td>0.648</td></tr>\n",
              "</tbody>\n",
              "</table>"
            ]
          },
          "metadata": {}
        }
      ]
    },
    {
      "cell_type": "markdown",
      "source": [
        "### Random Forest Regression, max_depth = 100"
      ],
      "metadata": {
        "id": "k6sVf2EJwVNb"
      }
    },
    {
      "cell_type": "code",
      "source": [
        "# Random Forest Regression model: MAX DEPTH = 100.\n",
        "RFreg_model = cuml.ensemble.RandomForestRegressor(max_depth=100)\n",
        "RFreg_model.fit(X_train, y_train)\n",
        "y_pred = RFreg_model.predict(X_test)"
      ],
      "metadata": {
        "id": "bkn6XVWjr-EY"
      },
      "execution_count": null,
      "outputs": []
    },
    {
      "cell_type": "code",
      "source": [
        "# Convert y_pred to Pandas for metrics calc.\n",
        "y_pred = y_pred.to_pandas()"
      ],
      "metadata": {
        "id": "iGBePjyBjrwp"
      },
      "execution_count": null,
      "outputs": []
    },
    {
      "cell_type": "code",
      "source": [
        "# Regresion Model assessment: R-squared, Mean Squared Error, Root MSE, Mean Absolute Error.\n",
        "RF_r2, RF_mse, RF_rmse, RF_mae = reg_metric(y_test, y_pred)"
      ],
      "metadata": {
        "colab": {
          "base_uri": "https://localhost:8080/",
          "height": 126
        },
        "outputId": "1ca993a8-1a44-4d4e-fad0-634525eaadf0",
        "id": "mGjdc6_kjrwp"
      },
      "execution_count": null,
      "outputs": [
        {
          "output_type": "display_data",
          "data": {
            "text/plain": [
              "<IPython.core.display.HTML object>"
            ],
            "text/html": [
              "<table>\n",
              "<tbody>\n",
              "<tr><td>Metric</td><td>Value</td></tr>\n",
              "<tr><td>R**2: </td><td>0.71 </td></tr>\n",
              "<tr><td>MSE:  </td><td>0.434</td></tr>\n",
              "<tr><td>RMSE: </td><td>0.659</td></tr>\n",
              "<tr><td>MAE:  </td><td>0.436</td></tr>\n",
              "</tbody>\n",
              "</table>"
            ]
          },
          "metadata": {}
        }
      ]
    },
    {
      "cell_type": "markdown",
      "source": [
        "### Random Forest Regression, max_depth=100, n_estimators=300"
      ],
      "metadata": {
        "id": "CU9EAv7lQeWz"
      }
    },
    {
      "cell_type": "code",
      "source": [
        "# Random Forest Regression model: MAX DEPTH = 100.\n",
        "RFreg_model = cuml.ensemble.RandomForestRegressor(max_depth=100, n_estimators=300)\n",
        "RFreg_model.fit(X_train, y_train)\n",
        "y_pred = RFreg_model.predict(X_test)"
      ],
      "metadata": {
        "id": "Dx6p2cg5Qy7q"
      },
      "execution_count": null,
      "outputs": []
    },
    {
      "cell_type": "code",
      "source": [
        "# Convert y_pred to Pandas for metrics calc.\n",
        "y_pred = y_pred.to_pandas()"
      ],
      "metadata": {
        "id": "8gr4lhFTl3Rr"
      },
      "execution_count": null,
      "outputs": []
    },
    {
      "cell_type": "code",
      "source": [
        "# Regresion Model assessment: R-squared, Mean Squared Error, Root MSE, Mean Absolute Error.\n",
        "RF_r2, RF_mse, RF_rmse, RF_mae = reg_metric(y_test, y_pred)"
      ],
      "metadata": {
        "colab": {
          "base_uri": "https://localhost:8080/",
          "height": 126
        },
        "outputId": "720b3db6-4686-4f89-8ca5-0409aaeb59da",
        "id": "RloDo3lrl3Rr"
      },
      "execution_count": null,
      "outputs": [
        {
          "output_type": "display_data",
          "data": {
            "text/plain": [
              "<IPython.core.display.HTML object>"
            ],
            "text/html": [
              "<table>\n",
              "<tbody>\n",
              "<tr><td>Metric</td><td>Value</td></tr>\n",
              "<tr><td>R**2: </td><td>0.714</td></tr>\n",
              "<tr><td>MSE:  </td><td>0.429</td></tr>\n",
              "<tr><td>RMSE: </td><td>0.655</td></tr>\n",
              "<tr><td>MAE:  </td><td>0.434</td></tr>\n",
              "</tbody>\n",
              "</table>"
            ]
          },
          "metadata": {}
        }
      ]
    },
    {
      "cell_type": "markdown",
      "source": [
        "# **Regression Model Summary**."
      ],
      "metadata": {
        "id": "kaY0ETJ-tLSo"
      }
    },
    {
      "cell_type": "code",
      "source": [
        "# Table Summarizing metrics from the different regression models.\n",
        "metric = [['Metric', 'Dummy Reg', 'Linear Reg', 'Ridge Reg', 'Lasso Reg', 'ElasticNet', 'Nearest Neighbor', 'Random Forest'],\n",
        "         ['R**2', Dum_r2, Lin_r2, Ridge_r2, Lasso_r2, EN_r2, NN_r2, RF_r2],\n",
        "         ['MSE', Dum_mse, Lin_mse, Ridge_mse, Lasso_mse, EN_mse, NN_mse, RF_mse],\n",
        "         ['RMSE', Dum_rmse, Lin_rmse, Ridge_rmse, Lasso_rmse, EN_rmse, NN_rmse, RF_rmse],\n",
        "         ['MAE', Dum_mae, Lin_mae, Ridge_mae, Lasso_mae, EN_mae, NN_mae, RF_mae]]\n",
        "table = tabulate.tabulate(metric, tablefmt='html')\n",
        "\n",
        "display(HTML(table))"
      ],
      "metadata": {
        "colab": {
          "base_uri": "https://localhost:8080/",
          "height": 126
        },
        "id": "oedwix3BzodU",
        "outputId": "c7a505ea-fbea-4e5e-e528-f34fa04f3eac"
      },
      "execution_count": null,
      "outputs": [
        {
          "output_type": "display_data",
          "data": {
            "text/plain": [
              "<IPython.core.display.HTML object>"
            ],
            "text/html": [
              "<table>\n",
              "<tbody>\n",
              "<tr><td>Metric</td><td>Dummy Reg</td><td>Linear Reg</td><td>Ridge Reg</td><td>Lasso Reg</td><td>ElasticNet</td><td>Nearest Neighbor</td><td>Random Forest</td></tr>\n",
              "<tr><td>R**2  </td><td>-0.0     </td><td>0.215     </td><td>0.154    </td><td>-0.0     </td><td>0.074     </td><td>0.468           </td><td>0.714        </td></tr>\n",
              "<tr><td>MSE   </td><td>1.497    </td><td>1.176     </td><td>1.266    </td><td>1.497    </td><td>1.387     </td><td>0.796           </td><td>0.429        </td></tr>\n",
              "<tr><td>RMSE  </td><td>1.224    </td><td>1.084     </td><td>1.125    </td><td>1.224    </td><td>1.178     </td><td>0.892           </td><td>0.655        </td></tr>\n",
              "<tr><td>MAE   </td><td>0.974    </td><td>0.819     </td><td>0.872    </td><td>0.974    </td><td>0.929     </td><td>0.574           </td><td>0.434        </td></tr>\n",
              "</tbody>\n",
              "</table>"
            ]
          },
          "metadata": {}
        }
      ]
    },
    {
      "cell_type": "markdown",
      "source": [
        "Attempts to derive feature importance or understand variable contribution for Random Forest and Nearest Neighbor failed due to exceeding available resources: cuML KernelExplainer, cuML PermutationExplainer, sklearn .feature_importances_, and cuML .get_detailed_text().  So, while Random Forest appears to be the most accurate model for regression, it is not possible with the currently available resources to understand and rank feature importance.\n",
        "\n",
        "The default values for Lasso Regression (L1 regularization) create a model that appears to simply follow the mean values.  \n",
        "\n",
        "The errors from the regression models appear to exceed practical usefulness.  Converting to a classification problem will more likely yeild results that are more useful."
      ],
      "metadata": {
        "id": "GJZyIJvR8OkN"
      }
    },
    {
      "cell_type": "markdown",
      "source": [
        "# Classification Models"
      ],
      "metadata": {
        "id": "ChUcmcLR24WV"
      }
    },
    {
      "cell_type": "code",
      "source": [
        "# Create first train/test split for classification.  Automated folds from cross-validation are consuming too many resources and taking too long to process.\n",
        "Xcat_train, Xcat_test, ycat_train, ycat_test = cuml.model_selection.train_test_split(X, y_cat, test_size=0.2, shuffle=True, random_state=42, stratify=y_cat)"
      ],
      "metadata": {
        "id": "DDIRL_-ARh9y"
      },
      "execution_count": null,
      "outputs": []
    },
    {
      "cell_type": "markdown",
      "source": [
        "## Logistic Regression Classification Model"
      ],
      "metadata": {
        "id": "uaNnD7z7lzaa"
      }
    },
    {
      "cell_type": "code",
      "source": [
        "# Logistic Regression does not converge with default values.\n",
        "# Logistic Regression (defaults are: fit_intercept=True, C=1, penalty='l2', max_iter=1000, tol=1e-4).\n",
        "Log_model = cuml.LogisticRegression(fit_intercept=True, C=1, penalty='none', max_iter=10000, tol=5e-4)\n",
        "Log_model.fit(Xcat_train, ycat_train)\n",
        "y_pred = Log_model.predict(Xcat_test)"
      ],
      "metadata": {
        "id": "yqgITLU_SLqw"
      },
      "execution_count": null,
      "outputs": []
    },
    {
      "cell_type": "code",
      "source": [
        "Log_acc, Log_roc, Log_cp, Log_cpMean, Log_cpSTD = class_metric(ycat_test, y_pred)"
      ],
      "metadata": {
        "colab": {
          "base_uri": "https://localhost:8080/"
        },
        "id": "YkiUXi08cHGu",
        "outputId": "63e1a593-8c7e-4835-9037-0e10ec66dbaf"
      },
      "execution_count": null,
      "outputs": [
        {
          "output_type": "stream",
          "name": "stdout",
          "text": [
            "Accuracy Score: 60.0%\n",
            "ROC AUC: 0.844\n",
            "Mean Accuracy per Class & Standard Deviation: 27.4% +/- 16.2%\n",
            "[[63.3 24.  19.9 19.3 15.2 13.5]\n",
            " [16.8 22.3 17.3 16.8 16.6 12.3]\n",
            " [ 9.9 19.7 21.2 19.3 19.5 17. ]\n",
            " [ 6.  17.5 19.5 22.3 20.9 22.3]\n",
            " [ 3.  12.2 14.  14.4 17.4 17.2]\n",
            " [ 1.   4.2  8.1  7.9 10.4 17.7]]\n"
          ]
        }
      ]
    },
    {
      "cell_type": "markdown",
      "source": [
        "## Nearest Neighbors Classification Model"
      ],
      "metadata": {
        "id": "YhMXdI-vpEKU"
      }
    },
    {
      "cell_type": "code",
      "source": [
        "# Nearest Neighbors Classifier with default values: n_neighbors=5\n",
        "NNclass_model = cuml.neighbors.KNeighborsClassifier()\n",
        "NNclass_model.fit(Xcat_train, ycat_train)\n",
        "y_pred = NNclass_model.predict(Xcat_test)"
      ],
      "metadata": {
        "id": "nPurHSqXpJe2"
      },
      "execution_count": null,
      "outputs": []
    },
    {
      "cell_type": "code",
      "source": [
        "NN_acc, NN_roc, NN_cp, NN_cpMean, NN_cpSTD = class_metric(ycat_test, y_pred)"
      ],
      "metadata": {
        "colab": {
          "base_uri": "https://localhost:8080/"
        },
        "outputId": "cfdd271e-b6f1-489f-93cd-7a955795becd",
        "id": "c178RT7apviG"
      },
      "execution_count": null,
      "outputs": [
        {
          "output_type": "stream",
          "name": "stdout",
          "text": [
            "Accuracy Score: 68.2%\n",
            "ROC AUC: 1.472\n",
            "Mean Accuracy per Class & Standard Deviation: 55.2% +/- 9.2%\n",
            "[[74.6 24.2 12.6 10.5  9.4  6.6]\n",
            " [12.6 49.2 15.6  8.4  6.7  5.1]\n",
            " [ 6.4 15.4 48.9 15.9  7.5  6.3]\n",
            " [ 3.8  6.6 15.6 50.1 16.6  6.7]\n",
            " [ 1.9  3.4  5.3 12.4 50.7 17.5]\n",
            " [ 0.6  1.2  1.9  2.6  9.2 57.7]]\n"
          ]
        }
      ]
    },
    {
      "cell_type": "markdown",
      "source": [
        "### Nearest Neighbor Classification, n_neighbors=10"
      ],
      "metadata": {
        "id": "tBZ2xlk-qeCv"
      }
    },
    {
      "cell_type": "code",
      "source": [
        "# Nearest Neighbors Classifier, n_neighbors=10\n",
        "NNclass_model = cuml.neighbors.KNeighborsClassifier(n_neighbors=10)\n",
        "NNclass_model.fit(Xcat_train, ycat_train)\n",
        "y_pred = NNclass_model.predict(Xcat_test)"
      ],
      "metadata": {
        "id": "Fsx532Lsqnuf"
      },
      "execution_count": null,
      "outputs": []
    },
    {
      "cell_type": "code",
      "source": [
        "NN_acc, NN_roc, NN_cp, NN_cpMean, NN_cpSTD = class_metric(ycat_test, y_pred)"
      ],
      "metadata": {
        "colab": {
          "base_uri": "https://localhost:8080/"
        },
        "outputId": "f7e66753-19ef-4501-fc28-a7d11841c3e1",
        "id": "jNFvwwbDqnuf"
      },
      "execution_count": null,
      "outputs": [
        {
          "output_type": "stream",
          "name": "stdout",
          "text": [
            "Accuracy Score: 67.5%\n",
            "ROC AUC: 1.351\n",
            "Mean Accuracy per Class & Standard Deviation: 56.5% +/- 8.1%\n",
            "[[72.  19.7 10.9  9.2  7.1  4.7]\n",
            " [13.8 50.  15.8  8.   5.2  4.2]\n",
            " [ 7.1 16.7 49.3 16.   7.5  5.7]\n",
            " [ 4.3  7.8 16.  51.3 16.6  6.8]\n",
            " [ 2.2  4.3  5.9 12.6 54.4 16.7]\n",
            " [ 0.7  1.5  2.1  2.9  9.2 61.9]]\n"
          ]
        }
      ]
    },
    {
      "cell_type": "markdown",
      "source": [
        "### Nearest Neighbor Hyperparameter Search"
      ],
      "metadata": {
        "id": "Ts78l_5ZtPQD"
      }
    },
    {
      "cell_type": "code",
      "source": [
        "# Search for best n_neighbors hyperparameter.  Model parameters are not causing the system to crash.\n",
        "accuracy_list=[]\n",
        "\n",
        "# Searching Nearest Neighbors from 2 to 9.\n",
        "for i in range(8):\n",
        "  NNclass_model = cuml.neighbors.KNeighborsClassifier(n_neighbors=(i+2))\n",
        "  NNclass_model.fit(Xcat_train, ycat_train)\n",
        "  y_pred = NNclass_model.predict(Xcat_test)\n",
        "  score = str(np.round(cuml.metrics.accuracy.accuracy_score(ycat_test, y_pred), 3) * 100)\n",
        "  accuracy_list.append(score)"
      ],
      "metadata": {
        "id": "Mk2y4UmTq6Ws"
      },
      "execution_count": null,
      "outputs": []
    },
    {
      "cell_type": "code",
      "source": [
        "# Print Accuracy Score for each n_neighbors\n",
        "for i in range(8):\n",
        "  print(f'n_neighbors={(i+2)}, accuracy score: {accuracy_list[i]}%')"
      ],
      "metadata": {
        "id": "np3Zxb9neAxP",
        "colab": {
          "base_uri": "https://localhost:8080/"
        },
        "outputId": "68cc4598-e1ed-4b58-ce29-a9714ddb92cc"
      },
      "execution_count": null,
      "outputs": [
        {
          "output_type": "stream",
          "name": "stdout",
          "text": [
            "n_neighbors=2, accuracy score: 67.7%\n",
            "n_neighbors=3, accuracy score: 67.80000000000001%\n",
            "n_neighbors=4, accuracy score: 68.2%\n",
            "n_neighbors=5, accuracy score: 68.2%\n",
            "n_neighbors=6, accuracy score: 68.10000000000001%\n",
            "n_neighbors=7, accuracy score: 68.0%\n",
            "n_neighbors=8, accuracy score: 67.80000000000001%\n",
            "n_neighbors=9, accuracy score: 67.7%\n"
          ]
        }
      ]
    },
    {
      "cell_type": "markdown",
      "source": [
        "**SUMMARY** of NN: In a survey of n_neighbors from 2 to 10, the accuracy score peaked at n_neighbors=5 (default) with an overeall accuracy score of 68.3%."
      ],
      "metadata": {
        "id": "tEZrEslmw8f6"
      }
    },
    {
      "cell_type": "markdown",
      "source": [
        "## Random Forest Classification Model"
      ],
      "metadata": {
        "id": "xY_Z7eu6m5RW"
      }
    },
    {
      "cell_type": "code",
      "source": [
        "# Default RF model: n_estimators=100, max_depth=16\n",
        "RFclass_model = cuml.ensemble.RandomForestClassifier()\n",
        "RFclass_model.fit(Xcat_train, ycat_train)\n",
        "y_pred = RFclass_model.predict(Xcat_test)\n",
        "y_pred = y_pred.astype(int)"
      ],
      "metadata": {
        "id": "IXeWJOQCm9Vu"
      },
      "execution_count": null,
      "outputs": []
    },
    {
      "cell_type": "code",
      "source": [
        "# Accuracy Assessment for Classification Model.\n",
        "RF_acc, RF_roc, RF_cp, RF_cpMean, RF_cpSTD = class_metric(ycat_test, y_pred)"
      ],
      "metadata": {
        "colab": {
          "base_uri": "https://localhost:8080/"
        },
        "outputId": "810d9138-91fd-498a-9c08-acd0ededc4f2",
        "id": "o9qhlEryfhEM"
      },
      "execution_count": null,
      "outputs": [
        {
          "output_type": "stream",
          "name": "stdout",
          "text": [
            "Accuracy Score: 64.7%\n",
            "ROC AUC: 0.963\n",
            "Mean Accuracy per Class & Standard Deviation: 65.0% +/- 9.1%\n",
            "[[65.2  8.7  5.   4.5  0.8  0.5]\n",
            " [16.  60.1 11.8  6.1  1.2  1.4]\n",
            " [ 9.3 16.8 55.9 14.   2.7  2.3]\n",
            " [ 5.8  7.3 17.4 55.6 10.9  3.4]\n",
            " [ 2.9  4.8  7.1 16.3 72.2 11.5]\n",
            " [ 0.9  2.3  2.8  3.4 12.1 80.8]]\n"
          ]
        }
      ]
    },
    {
      "cell_type": "code",
      "source": [
        "# Random Forest Classifier Model, MAX_DEPTH = 100\n",
        "RFclass_model = cuml.ensemble.RandomForestClassifier(max_depth=100)\n",
        "RFclass_model.fit(Xcat_train, ycat_train)\n",
        "y_pred = RFclass_model.predict(Xcat_test)\n",
        "y_pred = y_pred.astype(int)"
      ],
      "metadata": {
        "id": "BrkVhHDOBLsE"
      },
      "execution_count": null,
      "outputs": []
    },
    {
      "cell_type": "code",
      "source": [
        "# Accuracy Assessment for Classification Model.\n",
        "RF_acc, RF_roc, RF_cp, RF_cpMean, RF_cpSTD = class_metric(ycat_test, y_pred)"
      ],
      "metadata": {
        "colab": {
          "base_uri": "https://localhost:8080/"
        },
        "outputId": "555356ce-0dcb-4de4-eef8-7465793a1613",
        "id": "OwNC8JX5gGFr"
      },
      "execution_count": null,
      "outputs": [
        {
          "output_type": "stream",
          "name": "stdout",
          "text": [
            "Accuracy Score: 76.7%\n",
            "ROC AUC: 1.718\n",
            "Mean Accuracy per Class & Standard Deviation: 73.9% +/- 5.6%\n",
            "[[78.8 10.4  2.9  2.5  0.9  0.3]\n",
            " [10.8 71.9 12.7  3.1  0.9  0.4]\n",
            " [ 5.1 12.7 68.1 14.1  1.9  0.8]\n",
            " [ 3.1  3.  13.1 67.9 14.4  1.6]\n",
            " [ 1.6  1.6  2.5 11.1 73.4 13.5]\n",
            " [ 0.5  0.5  0.7  1.3  8.4 83.5]]\n"
          ]
        }
      ]
    },
    {
      "cell_type": "markdown",
      "source": [
        "#### Random Forest Classifier, max_depth=100, n_estimators=200"
      ],
      "metadata": {
        "id": "GmxmXtsiOdG8"
      }
    },
    {
      "cell_type": "code",
      "source": [
        "# Random Forest Classifier Model, MAX_DEPTH = 100, n_estimators = 200\n",
        "RFclass_model = cuml.ensemble.RandomForestClassifier(max_depth=100, n_estimators=200)\n",
        "RFclass_model.fit(Xcat_train, ycat_train)\n",
        "y_pred = RFclass_model.predict(Xcat_test)\n",
        "y_pred = y_pred.astype(int)"
      ],
      "metadata": {
        "id": "VRL3AmbgFm1x"
      },
      "execution_count": null,
      "outputs": []
    },
    {
      "cell_type": "code",
      "source": [
        "# Accuracy Assessment for Classification Model.\n",
        "RF_acc, RF_roc, RF_cp, RF_cpMean, RF_cpSTD = class_metric(ycat_test, y_pred)"
      ],
      "metadata": {
        "colab": {
          "base_uri": "https://localhost:8080/"
        },
        "outputId": "6eaa78a6-d12b-465c-8b6b-2e738bc9dd9a",
        "id": "p3h2rh4wgkTj"
      },
      "execution_count": null,
      "outputs": [
        {
          "output_type": "stream",
          "name": "stdout",
          "text": [
            "Accuracy Score: 76.9%\n",
            "ROC AUC: 1.72\n",
            "Mean Accuracy per Class & Standard Deviation: 74.4% +/- 5.4%\n",
            "[[78.8 10.   2.7  2.3  0.7  0.3]\n",
            " [10.8 73.  12.7  3.1  0.9  0.3]\n",
            " [ 5.1 12.4 68.6 13.9  1.9  0.8]\n",
            " [ 3.2  2.7 12.9 68.4 14.   1.7]\n",
            " [ 1.6  1.4  2.4 11.2 74.  13.5]\n",
            " [ 0.5  0.4  0.7  1.1  8.5 83.4]]\n"
          ]
        }
      ]
    },
    {
      "cell_type": "markdown",
      "source": [
        "#### Random Forest Classifier, max_depth=100, n_estimators=50"
      ],
      "metadata": {
        "id": "ugk5ib9sOuOG"
      }
    },
    {
      "cell_type": "code",
      "source": [
        "# Random Forest Classifier Model, MAX_DEPTH = 100, n_estimators = 50\n",
        "RFclass_model = cuml.ensemble.RandomForestClassifier(max_depth=100, n_estimators=50)\n",
        "RFclass_model.fit(Xcat_train, ycat_train)\n",
        "y_pred = RFclass_model.predict(Xcat_test)\n",
        "y_pred = y_pred.astype(int)"
      ],
      "metadata": {
        "id": "aIG0fSVwOuOH"
      },
      "execution_count": null,
      "outputs": []
    },
    {
      "cell_type": "code",
      "source": [
        "# Accuracy Assessment for Classification Model.\n",
        "RF_acc, RF_roc, RF_cp, RF_cpMean, RF_cpSTD = class_metric(ycat_test, y_pred)"
      ],
      "metadata": {
        "colab": {
          "base_uri": "https://localhost:8080/"
        },
        "id": "H-28KRBlg02M",
        "outputId": "ae1e8d47-acaa-49c6-a665-bda46390e8f8"
      },
      "execution_count": null,
      "outputs": [
        {
          "output_type": "stream",
          "name": "stdout",
          "text": [
            "Accuracy Score: 76.3%\n",
            "ROC AUC: 1.72\n",
            "Mean Accuracy per Class & Standard Deviation: 72.9% +/- 6.0%\n",
            "[[78.9 11.1  3.3  2.7  1.1  0.4]\n",
            " [10.9 69.8 13.1  3.5  1.1  0.5]\n",
            " [ 5.1 13.1 66.5 14.4  2.3  0.8]\n",
            " [ 3.1  3.5 13.3 66.9 14.4  1.9]\n",
            " [ 1.6  1.9  2.8 11.2 72.7 13.9]\n",
            " [ 0.5  0.6  0.9  1.3  8.4 82.4]]\n"
          ]
        }
      ]
    },
    {
      "cell_type": "markdown",
      "source": [
        "#### Random Forest Classifier, max_depth=16(default), n_estimators=300"
      ],
      "metadata": {
        "id": "dw-olVnfT2sk"
      }
    },
    {
      "cell_type": "code",
      "source": [
        "# Random Forest Classifier Model, MAX_DEPTH = 16, n_estimators = 300\n",
        "RFclass_model = cuml.ensemble.RandomForestClassifier(max_depth=16, n_estimators=300)\n",
        "RFclass_model.fit(Xcat_train, ycat_train)\n",
        "y_pred = RFclass_model.predict(Xcat_test)\n",
        "y_pred = y_pred.astype(int)"
      ],
      "metadata": {
        "id": "TrbHRv9QT2sl"
      },
      "execution_count": null,
      "outputs": []
    },
    {
      "cell_type": "code",
      "source": [
        "# Accuracy Assessment for Classification Model.\n",
        "RF_acc, RF_roc, RF_cp, RF_cpMean, RF_cpSTD = class_metric(ycat_test, y_pred)"
      ],
      "metadata": {
        "colab": {
          "base_uri": "https://localhost:8080/"
        },
        "id": "GxVOGZV6g1Mk",
        "outputId": "7f4555b9-c9e1-4693-da99-b2245a54d7cc"
      },
      "execution_count": null,
      "outputs": [
        {
          "output_type": "stream",
          "name": "stdout",
          "text": [
            "Accuracy Score: 64.8%\n",
            "ROC AUC: 0.957\n",
            "Mean Accuracy per Class & Standard Deviation: 66.0% +/- 9.0%\n",
            "[[65.1  8.4  4.4  4.3  0.7  0.4]\n",
            " [16.  61.8 11.5  5.7  1.1  1.3]\n",
            " [ 9.3 16.4 57.5 13.8  2.1  2.1]\n",
            " [ 5.8  6.6 17.1 56.5 10.7  2.8]\n",
            " [ 2.9  4.6  6.8 16.5 72.8 11.3]\n",
            " [ 0.9  2.2  2.6  3.3 12.5 82.1]]\n"
          ]
        }
      ]
    },
    {
      "cell_type": "markdown",
      "source": [
        "#### Random Forest Classifier, max_depth=100, n_estimators=300"
      ],
      "metadata": {
        "id": "0c0O4VzJbREs"
      }
    },
    {
      "cell_type": "code",
      "source": [
        "# Random Forest Classifier Model, MAX_DEPTH = 100, n_estimators = 300\n",
        "RFclass_model = cuml.ensemble.RandomForestClassifier(max_depth=100, n_estimators=300)\n",
        "RFclass_model.fit(Xcat_train, ycat_train)\n",
        "y_pred = RFclass_model.predict(Xcat_test)\n",
        "y_pred = y_pred.astype(int)"
      ],
      "metadata": {
        "id": "6n6dEVC8bREx"
      },
      "execution_count": null,
      "outputs": []
    },
    {
      "cell_type": "code",
      "source": [
        "# Accuracy Assessment for Classification Model.\n",
        "RF_acc, RF_roc, RF_cp, RF_cpMean, RF_cpSTD = class_metric(ycat_test, y_pred)"
      ],
      "metadata": {
        "colab": {
          "base_uri": "https://localhost:8080/"
        },
        "id": "r6ZCD50Xg1hz",
        "outputId": "3a701584-ae4d-4c7a-c20c-b1ffb88b128b"
      },
      "execution_count": null,
      "outputs": [
        {
          "output_type": "stream",
          "name": "stdout",
          "text": [
            "Accuracy Score: 77.0%\n",
            "ROC AUC: 1.72\n",
            "Mean Accuracy per Class & Standard Deviation: 74.6% +/- 5.3%\n",
            "[[78.8  9.9  2.6  2.2  0.7  0.3]\n",
            " [10.8 73.5 12.7  3.   0.8  0.3]\n",
            " [ 5.1 12.3 68.9 13.8  1.8  0.8]\n",
            " [ 3.2  2.6 12.8 68.7 13.9  1.6]\n",
            " [ 1.6  1.3  2.3 11.1 74.3 13.3]\n",
            " [ 0.5  0.4  0.7  1.1  8.4 83.7]]\n"
          ]
        }
      ]
    },
    {
      "cell_type": "markdown",
      "source": [
        "#### Random Forest Classifier, max_depth=100, n_estimators=350"
      ],
      "metadata": {
        "id": "E8hl9h05cIc-"
      }
    },
    {
      "cell_type": "code",
      "source": [
        "# Random Forest Classifier Model, MAX_DEPTH = 100, n_estimators = 350\n",
        "RFclass_model = cuml.ensemble.RandomForestClassifier(max_depth=100, n_estimators=350)\n",
        "RFclass_model.fit(Xcat_train, ycat_train)\n",
        "y_pred = RFclass_model.predict(Xcat_test)\n",
        "y_pred = y_pred.astype(int)"
      ],
      "metadata": {
        "id": "7UeSgQ9scIdD"
      },
      "execution_count": null,
      "outputs": []
    },
    {
      "cell_type": "code",
      "source": [
        "# Accuracy Assessment for Classification Model.\n",
        "RF_acc, RF_roc, RF_cp, RF_cpMean, RF_cpSTD = class_metric(ycat_test, y_pred)"
      ],
      "metadata": {
        "colab": {
          "base_uri": "https://localhost:8080/"
        },
        "id": "JGflWglag2rs",
        "outputId": "bb64b9fe-d3ae-4581-c4ed-1bf4cf0b3a0f"
      },
      "execution_count": null,
      "outputs": [
        {
          "output_type": "stream",
          "name": "stdout",
          "text": [
            "Accuracy Score: 77.0%\n",
            "ROC AUC: 1.719\n",
            "Mean Accuracy per Class & Standard Deviation: 74.7% +/- 5.3%\n",
            "[[78.8  9.9  2.5  2.2  0.7  0.3]\n",
            " [10.8 73.6 12.6  3.   0.8  0.3]\n",
            " [ 5.1 12.2 69.1 13.9  1.7  0.8]\n",
            " [ 3.2  2.5 12.7 68.7 13.9  1.6]\n",
            " [ 1.6  1.3  2.3 11.2 74.4 13.2]\n",
            " [ 0.5  0.4  0.7  1.1  8.5 83.8]]\n"
          ]
        }
      ]
    },
    {
      "cell_type": "markdown",
      "source": [
        "#### Random Forest Classifier, max_depth=150, n_estimators=300"
      ],
      "metadata": {
        "id": "DjchlGfyewUk"
      }
    },
    {
      "cell_type": "code",
      "source": [
        "# Random Forest Classifier Model, MAX_DEPTH = 150, n_estimators = 300\n",
        "RFclass_model = cuml.ensemble.RandomForestClassifier(max_depth=150, n_estimators=300)\n",
        "RFclass_model.fit(Xcat_train, ycat_train)\n",
        "y_pred = RFclass_model.predict(Xcat_test)\n",
        "y_pred = y_pred.astype(int)"
      ],
      "metadata": {
        "id": "C8ouKLIzewUk"
      },
      "execution_count": null,
      "outputs": []
    },
    {
      "cell_type": "code",
      "source": [
        "# Accuracy Assessment for Classification Model.\n",
        "RF_acc, RF_roc, RF_cp, RF_cpMean, RF_cpSTD = class_metric(ycat_test, y_pred)"
      ],
      "metadata": {
        "colab": {
          "base_uri": "https://localhost:8080/"
        },
        "id": "Qo_5caqSg3DL",
        "outputId": "2effd5e0-86cf-4137-ee87-4805642112f2"
      },
      "execution_count": null,
      "outputs": [
        {
          "output_type": "stream",
          "name": "stdout",
          "text": [
            "Accuracy Score: 77.0%\n",
            "ROC AUC: 1.72\n",
            "Mean Accuracy per Class & Standard Deviation: 74.6% +/- 5.3%\n",
            "[[78.8  9.9  2.6  2.2  0.7  0.3]\n",
            " [10.8 73.5 12.7  3.   0.8  0.3]\n",
            " [ 5.1 12.3 68.9 13.8  1.8  0.8]\n",
            " [ 3.2  2.6 12.8 68.7 13.9  1.6]\n",
            " [ 1.6  1.3  2.3 11.1 74.3 13.3]\n",
            " [ 0.5  0.4  0.7  1.1  8.4 83.7]]\n"
          ]
        }
      ]
    },
    {
      "cell_type": "markdown",
      "source": [
        "#### Random Forest Classifier: max_depth=200, n_estimators=300, split_criterion=gini(default)"
      ],
      "metadata": {
        "id": "TMoYMqPLnMKC"
      }
    },
    {
      "cell_type": "code",
      "source": [
        "# Random Forest model: split_criterion=entropy\n",
        "RFclass_model = cuml.ensemble.RandomForestClassifier(max_depth=200, n_estimators=300, split_criterion=1)\n",
        "RFclass_model.fit(Xcat_train, ycat_train)\n",
        "y_pred = RFclass_model.predict(Xcat_test)\n",
        "y_pred = y_pred.astype(int)"
      ],
      "metadata": {
        "id": "Hq8dVAAYndno"
      },
      "execution_count": null,
      "outputs": []
    },
    {
      "cell_type": "code",
      "source": [
        "# Accuracy Assessment for Classification Model.\n",
        "RF_acc, RF_roc, RF_cp, RF_cpMean, RF_cpSTD = class_metric(ycat_test, y_pred)"
      ],
      "metadata": {
        "colab": {
          "base_uri": "https://localhost:8080/"
        },
        "outputId": "cc8700c2-2154-4e58-a450-79ef317f55b7",
        "id": "3Iuo36p5nfNG"
      },
      "execution_count": null,
      "outputs": [
        {
          "output_type": "stream",
          "name": "stdout",
          "text": [
            "Accuracy Score: 76.9%\n",
            "ROC AUC: 1.716\n",
            "Mean Accuracy per Class & Standard Deviation: 74.8% +/- 5.1%\n",
            "[[78.5  9.7  2.6  2.3  0.9  0.3]\n",
            " [11.  74.1 12.7  2.9  1.   0.4]\n",
            " [ 5.2 12.  69.6 13.8  1.9  0.8]\n",
            " [ 3.2  2.5 12.4 68.9 13.7  1.6]\n",
            " [ 1.6  1.2  2.2 11.1 74.2 13.4]\n",
            " [ 0.4  0.3  0.6  1.   8.2 83.6]]\n"
          ]
        }
      ]
    },
    {
      "cell_type": "markdown",
      "source": [
        "#### Random Forest Classifier, max_depth=200, n_estimators=300, split_criterion=entropy"
      ],
      "metadata": {
        "id": "LCDPwzawmA9H"
      }
    },
    {
      "cell_type": "code",
      "source": [
        "# Random Forest model: split_criterion=entropy\n",
        "RFclass_model = cuml.ensemble.RandomForestClassifier(max_depth=200, n_estimators=300, split_criterion=1)\n",
        "RFclass_model.fit(Xcat_train, ycat_train)\n",
        "y_pred = RFclass_model.predict(Xcat_test)\n",
        "y_pred = y_pred.astype(int)"
      ],
      "metadata": {
        "id": "VNK5YRuGmQ3n"
      },
      "execution_count": null,
      "outputs": []
    },
    {
      "cell_type": "code",
      "source": [
        "# Accuracy Assessment for Classification Model.\n",
        "RF_acc, RF_roc, RF_cp, RF_cpMean, RF_cpSTD = class_metric(ycat_test, y_pred)"
      ],
      "metadata": {
        "colab": {
          "base_uri": "https://localhost:8080/"
        },
        "outputId": "8bd8d1ee-71f8-4f6c-a7d9-38fd8043b93a",
        "id": "_o6DGVHMngGG"
      },
      "execution_count": null,
      "outputs": [
        {
          "output_type": "stream",
          "name": "stdout",
          "text": [
            "Accuracy Score: 76.9%\n",
            "ROC AUC: 1.716\n",
            "Mean Accuracy per Class & Standard Deviation: 74.8% +/- 5.1%\n",
            "[[78.5  9.7  2.6  2.3  0.9  0.3]\n",
            " [11.  74.1 12.7  2.9  1.   0.4]\n",
            " [ 5.2 12.  69.6 13.8  1.9  0.8]\n",
            " [ 3.2  2.5 12.4 68.9 13.7  1.6]\n",
            " [ 1.6  1.2  2.2 11.1 74.2 13.4]\n",
            " [ 0.4  0.3  0.6  1.   8.2 83.6]]\n"
          ]
        }
      ]
    },
    {
      "cell_type": "markdown",
      "source": [
        "# Cross Validation of Optimized Random Forest Model."
      ],
      "metadata": {
        "id": "CxKNXVyPznLi"
      }
    },
    {
      "cell_type": "markdown",
      "source": [
        "## Multiple Random States Validation\n"
      ],
      "metadata": {
        "id": "HMbAqCNdkEUx"
      }
    },
    {
      "cell_type": "code",
      "source": [
        "# CRASHING SYSTEM ON THIRD ITERATION - EXCEEDS AVAILABLE RAM.\n",
        "\n",
        "# Optimal Random Forest model within the processing and resource constraints is max_depth=100, n_estimators=300\n",
        "# Confirming results through multiple iterations of different random_states.\n",
        "\n",
        "random = [47, 103, 333, 253, 66, 31]\n",
        "\n",
        "acc_list = []\n",
        "# roc_list = []\n",
        "# cp_list = []\n",
        "# cpMean_list = []\n",
        "# cpSTD_list = []\n",
        "\n",
        "# Run through the random numbers.\n",
        "for state in random:\n",
        "  \n",
        "  # Create the Train/Test Split for each random number.\n",
        "  Xcat_train, Xcat_test, ycat_train, ycat_test = cuml.model_selection.train_test_split(X, y_cat, test_size=0.2, shuffle=True, random_state=state, stratify=y_cat)\n",
        "\n",
        "  RFclass_model = cuml.ensemble.RandomForestClassifier(max_depth=100, n_estimators=300, split_criterion=1)\n",
        "  RFclass_model.fit(Xcat_train, ycat_train)\n",
        "  y_pred = RFclass_model.predict(Xcat_test)\n",
        "  y_pred = y_pred.astype(int)\n",
        "\n",
        "#   RF_acc, RF_roc, RF_cp, RF_cpMean, RF_cpSTD = class_metric(ycat_test, y_pred)\n",
        "\n",
        "  accuracy = str(np.round(cuml.metrics.accuracy.accuracy_score(ycat_test, y_pred), 3) * 100)\n",
        "  print(f'Random State: {state}, Accuracy: {accuracy}%')\n",
        "\n",
        "  acc_list.append(accuracy)\n",
        "#   roc_list.append(RF_roc)\n",
        "#   cp_list.append(RF_cp)\n",
        "#   cpMean_list.append(RF_cpMean)\n",
        "#   cpSTD_list.append(RF_cpSTD)\n",
        "\n",
        "  del RFclass_model"
      ],
      "metadata": {
        "colab": {
          "base_uri": "https://localhost:8080/"
        },
        "id": "6DqvryG8lNFy",
        "outputId": "fdf1f5bf-cf4d-4dd8-9f59-ff164dd88024"
      },
      "execution_count": null,
      "outputs": [
        {
          "output_type": "stream",
          "name": "stdout",
          "text": [
            "Random State: 47, Accuracy: 76.8%\n"
          ]
        }
      ]
    },
    {
      "cell_type": "code",
      "source": [
        "# Print Accuracy Score for each Random State\n",
        "print(f'Accuracy List: {acc_list}')\n",
        "print(f'Accuracy Mean: {np.mean(acc_list)}')\n",
        "print(f'Accurcay Mean STD: {np.std(acc_list)}')"
      ],
      "metadata": {
        "id": "o1TusH_IsT-P"
      },
      "execution_count": null,
      "outputs": []
    },
    {
      "cell_type": "markdown",
      "source": [
        "### Random Forest Classifier, max_depth=100, n_estimators=300, Train/Test Split random=47"
      ],
      "metadata": {
        "id": "Hkb5WOBjh9wg"
      }
    },
    {
      "cell_type": "code",
      "source": [
        "# Create first train/test split for classification.  Automated folds from cross-validation are consuming too many resources and taking too long to process.\n",
        "Xcat_train, Xcat_test, ycat_train, ycat_test = cuml.model_selection.train_test_split(X, y_cat, test_size=0.2, shuffle=True, random_state=47, stratify=y_cat)"
      ],
      "metadata": {
        "id": "jaWkai-ah3Fi"
      },
      "execution_count": null,
      "outputs": []
    },
    {
      "cell_type": "code",
      "source": [
        "RFclass_model = cuml.ensemble.RandomForestClassifier(max_depth=100, n_estimators=300)\n",
        "RFclass_model.fit(Xcat_train, ycat_train)\n",
        "y_pred = RFclass_model.predict(Xcat_test)\n",
        "y_pred = y_pred.astype(int)"
      ],
      "metadata": {
        "id": "TqAGnalPh9wg"
      },
      "execution_count": null,
      "outputs": []
    },
    {
      "cell_type": "code",
      "source": [
        "# Accuracy Assessment for Classification Model.\n",
        "RF_acc, RF_roc, RF_cp, RF_cpMean, RF_cpSTD = class_metric(ycat_test, y_pred)"
      ],
      "metadata": {
        "colab": {
          "base_uri": "https://localhost:8080/"
        },
        "id": "G8XVItu2_8Kh",
        "outputId": "fe358a69-9851-45cb-a724-236ff8e5a807"
      },
      "execution_count": null,
      "outputs": [
        {
          "output_type": "stream",
          "name": "stdout",
          "text": [
            "Accuracy Score: 76.9%\n",
            "ROC AUC: 1.715\n",
            "Mean Accuracy per Class & Standard Deviation: 74.2% +/- 5.1%\n",
            "[[78.8 10.1  2.6  2.2  0.9  0.4]\n",
            " [10.8 72.9 13.1  2.9  0.8  0.4]\n",
            " [ 5.1 12.4 68.9 14.2  1.8  0.7]\n",
            " [ 3.2  2.7 12.5 68.2 14.   1.6]\n",
            " [ 1.6  1.4  2.2 11.4 74.1 14.2]\n",
            " [ 0.5  0.4  0.7  1.1  8.4 82.5]]\n"
          ]
        }
      ]
    },
    {
      "cell_type": "markdown",
      "source": [
        "### Random Forest Classifier, max_depth=100, n_estimators=300, Train/Test Split random=103"
      ],
      "metadata": {
        "id": "mf58-UXJk5Pv"
      }
    },
    {
      "cell_type": "code",
      "source": [
        "# Create first train/test split for classification.  Automated folds from cross-validation are consuming too many resources and taking too long to process.\n",
        "Xcat_train, Xcat_test, ycat_train, ycat_test = cuml.model_selection.train_test_split(X, y_cat, test_size=0.2, shuffle=True, random_state=103, stratify=y_cat)"
      ],
      "metadata": {
        "id": "haFynBFak5Pv"
      },
      "execution_count": null,
      "outputs": []
    },
    {
      "cell_type": "code",
      "source": [
        "RFclass_model = cuml.ensemble.RandomForestClassifier(max_depth=100, n_estimators=300)\n",
        "RFclass_model.fit(Xcat_train, ycat_train)\n",
        "y_pred = RFclass_model.predict(Xcat_test)\n",
        "y_pred = y_pred.astype(int)"
      ],
      "metadata": {
        "id": "XCWd_kY-k5Pw"
      },
      "execution_count": null,
      "outputs": []
    },
    {
      "cell_type": "code",
      "source": [
        "# Accuracy Assessment for Classification Model.\n",
        "RF_acc, RF_roc, RF_cp, RF_cpMean, RF_cpSTD = class_metric(ycat_test, y_pred)"
      ],
      "metadata": {
        "colab": {
          "base_uri": "https://localhost:8080/"
        },
        "outputId": "19f01e29-e341-43a7-eeb1-24cdf5eb8066",
        "id": "1RPZbZnsAfrm"
      },
      "execution_count": null,
      "outputs": [
        {
          "output_type": "stream",
          "name": "stdout",
          "text": [
            "Accuracy Score: 77.0%\n",
            "ROC AUC: 1.718\n",
            "Mean Accuracy per Class & Standard Deviation: 74.6% +/- 4.9%\n",
            "[[78.8  9.6  2.6  2.1  0.8  0.5]\n",
            " [10.8 73.7 12.8  2.9  0.9  0.3]\n",
            " [ 5.1 12.3 69.2 13.9  1.6  0.9]\n",
            " [ 3.2  2.6 12.4 68.8 14.1  1.8]\n",
            " [ 1.6  1.4  2.3 11.3 74.5 13.8]\n",
            " [ 0.5  0.4  0.7  1.   8.1 82.7]]\n"
          ]
        }
      ]
    },
    {
      "cell_type": "markdown",
      "source": [
        "### Random Forest Classifier, max_depth=100, n_estimators=300, Train/Test Split random=33"
      ],
      "metadata": {
        "id": "mPFSakpSl45w"
      }
    },
    {
      "cell_type": "code",
      "source": [
        "# Create first train/test split for classification.  Automated folds from cross-validation are consuming too many resources and taking too long to process.\n",
        "Xcat_train, Xcat_test, ycat_train, ycat_test = cuml.model_selection.train_test_split(X, y_cat, test_size=0.2, shuffle=True, random_state=33, stratify=y_cat)"
      ],
      "metadata": {
        "id": "JpMUk-zcl45v"
      },
      "execution_count": null,
      "outputs": []
    },
    {
      "cell_type": "code",
      "source": [
        "RFclass_model = cuml.ensemble.RandomForestClassifier(max_depth=100, n_estimators=300)\n",
        "RFclass_model.fit(Xcat_train, ycat_train)\n",
        "y_pred = RFclass_model.predict(Xcat_test)\n",
        "y_pred = y_pred.astype(int)"
      ],
      "metadata": {
        "id": "DxEIoLHSl45w"
      },
      "execution_count": null,
      "outputs": []
    },
    {
      "cell_type": "code",
      "source": [
        "# Accuracy Assessment for Classification Model.\n",
        "RF_acc, RF_roc, RF_cp, RF_cpMean, RF_cpSTD = class_metric(ycat_test, y_pred)"
      ],
      "metadata": {
        "colab": {
          "base_uri": "https://localhost:8080/"
        },
        "id": "e3zvVr2uAtGa",
        "outputId": "6c3d2461-f70a-421e-cdf6-7613dd256d00"
      },
      "execution_count": null,
      "outputs": [
        {
          "output_type": "stream",
          "name": "stdout",
          "text": [
            "Accuracy Score: 77.0%\n",
            "ROC AUC: 1.718\n",
            "Mean Accuracy per Class & Standard Deviation: 74.7% +/- 5.3%\n",
            "[[78.8  9.9  2.4  2.   0.9  0.3]\n",
            " [10.9 73.4 13.   2.9  0.7  0.3]\n",
            " [ 5.1 12.3 69.  14.1  1.8  0.4]\n",
            " [ 3.2  2.6 12.7 68.9 14.1  1.7]\n",
            " [ 1.6  1.3  2.3 11.2 74.2 13.3]\n",
            " [ 0.5  0.4  0.6  1.   8.3 84. ]]\n"
          ]
        }
      ]
    },
    {
      "cell_type": "markdown",
      "source": [
        "### Random Forest Classifier, max_depth=100, n_estimators=300, Train/Test Split random=253"
      ],
      "metadata": {
        "id": "IIl7O3q1m3pY"
      }
    },
    {
      "cell_type": "code",
      "source": [
        "# Create first train/test split for classification.  Automated folds from cross-validation are consuming too many resources and taking too long to process.\n",
        "Xcat_train, Xcat_test, ycat_train, ycat_test = cuml.model_selection.train_test_split(X, y_cat, test_size=0.2, shuffle=True, random_state=253, stratify=y_cat)"
      ],
      "metadata": {
        "id": "0rfdHyeHm3pY"
      },
      "execution_count": null,
      "outputs": []
    },
    {
      "cell_type": "code",
      "source": [
        "RFclass_model = cuml.ensemble.RandomForestClassifier(max_depth=100, n_estimators=300)\n",
        "RFclass_model.fit(Xcat_train, ycat_train)\n",
        "y_pred = RFclass_model.predict(Xcat_test)\n",
        "y_pred = y_pred.astype(int)"
      ],
      "metadata": {
        "id": "mVMXHVYjm3pY"
      },
      "execution_count": null,
      "outputs": []
    },
    {
      "cell_type": "code",
      "source": [
        "# Accuracy Assessment for Classification Model.\n",
        "RF_acc, RF_roc, RF_cp, RF_cpMean, RF_cpSTD = class_metric(ycat_test, y_pred)"
      ],
      "metadata": {
        "colab": {
          "base_uri": "https://localhost:8080/"
        },
        "id": "ss0FusxHAwiR",
        "outputId": "540888b1-71f9-448d-af89-5ed3cfe937ce"
      },
      "execution_count": null,
      "outputs": [
        {
          "output_type": "stream",
          "name": "stdout",
          "text": [
            "Accuracy Score: 76.9%\n",
            "ROC AUC: 1.715\n",
            "Mean Accuracy per Class & Standard Deviation: 74.5% +/- 5.2%\n",
            "[[78.8  9.8  2.6  2.1  1.   0.3]\n",
            " [10.9 73.4 12.9  2.7  0.9  0.3]\n",
            " [ 5.1 12.4 69.1 14.4  1.9  0.5]\n",
            " [ 3.2  2.6 12.6 68.4 13.6  1.5]\n",
            " [ 1.6  1.4  2.1 11.3 74.3 14.2]\n",
            " [ 0.5  0.4  0.7  1.   8.2 83.2]]\n"
          ]
        }
      ]
    },
    {
      "cell_type": "markdown",
      "source": [
        "### Random Forest Classifier, max_depth=100, n_estimators=300, Train/Test Split random=66"
      ],
      "metadata": {
        "id": "bZFiwVJUpVf1"
      }
    },
    {
      "cell_type": "code",
      "source": [
        "# Create first train/test split for classification.  Automated folds from cross-validation are consuming too many resources and taking too long to process.\n",
        "Xcat_train, Xcat_test, ycat_train, ycat_test = cuml.model_selection.train_test_split(X, y_cat, test_size=0.2, shuffle=True, random_state=66, stratify=y_cat)"
      ],
      "metadata": {
        "id": "6COUJj4kpwUL"
      },
      "execution_count": null,
      "outputs": []
    },
    {
      "cell_type": "code",
      "source": [
        "RFclass_model = cuml.ensemble.RandomForestClassifier(max_depth=100, n_estimators=300)\n",
        "RFclass_model.fit(Xcat_train, ycat_train)\n",
        "y_pred = RFclass_model.predict(Xcat_test)\n",
        "y_pred = y_pred.astype(int)"
      ],
      "metadata": {
        "id": "yES_-0hxpVf1"
      },
      "execution_count": null,
      "outputs": []
    },
    {
      "cell_type": "code",
      "source": [
        "# Accuracy Assessment for Classification Model.\n",
        "RF_acc, RF_roc, RF_cp, RF_cpMean, RF_cpSTD = class_metric(ycat_test, y_pred)"
      ],
      "metadata": {
        "colab": {
          "base_uri": "https://localhost:8080/"
        },
        "id": "1_9m3yEPAzLj",
        "outputId": "098734d2-7ce4-41c1-bf8c-498b1131ad0d"
      },
      "execution_count": null,
      "outputs": [
        {
          "output_type": "stream",
          "name": "stdout",
          "text": [
            "Accuracy Score: 76.9%\n",
            "ROC AUC: 1.713\n",
            "Mean Accuracy per Class & Standard Deviation: 74.3% +/- 5.0%\n",
            "[[78.7 10.   2.7  2.3  1.   0.4]\n",
            " [10.9 73.3 12.7  2.7  0.8  0.4]\n",
            " [ 5.1 12.4 69.2 14.1  1.7  0.6]\n",
            " [ 3.2  2.5 12.5 68.4 14.1  1.4]\n",
            " [ 1.6  1.3  2.2 11.5 73.8 14.7]\n",
            " [ 0.5  0.4  0.7  1.1  8.6 82.4]]\n"
          ]
        }
      ]
    },
    {
      "cell_type": "markdown",
      "source": [
        "### Random Forest Classifier, split_criterion=entropy, max_depth=100, n_estimators=300, Train/Test Split random=66"
      ],
      "metadata": {
        "id": "4JB4d9ZMlmDB"
      }
    },
    {
      "cell_type": "code",
      "source": [
        "RFclass_model = cuml.ensemble.RandomForestClassifier(max_depth=100, n_estimators=300, split_criterion=1)\n",
        "RFclass_model.fit(Xcat_train, ycat_train)\n",
        "y_pred = RFclass_model.predict(Xcat_test)\n",
        "y_pred = y_pred.astype(int)"
      ],
      "metadata": {
        "id": "ZguX2GW9lmDB"
      },
      "execution_count": null,
      "outputs": []
    },
    {
      "cell_type": "code",
      "source": [
        "# Accuracy Assessment for Classification Model.\n",
        "RF_acc, RF_roc, RF_cp, RF_cpMean, RF_cpSTD = class_metric(ycat_test, y_pred)"
      ],
      "metadata": {
        "colab": {
          "base_uri": "https://localhost:8080/"
        },
        "id": "BoBACHTXA1Zu",
        "outputId": "bc3577c9-5b18-41cf-ec42-1d935e434990"
      },
      "execution_count": null,
      "outputs": [
        {
          "output_type": "stream",
          "name": "stdout",
          "text": [
            "Accuracy Score: 76.8%\n",
            "ROC AUC: 1.711\n",
            "Mean Accuracy per Class & Standard Deviation: 74.4% +/- 4.7%\n",
            "[[78.4  9.8  2.7  2.3  1.   0.4]\n",
            " [11.1 74.  12.6  2.9  1.1  0.5]\n",
            " [ 5.2 12.2 69.7 14.   2.1  0.6]\n",
            " [ 3.2  2.4 12.2 68.6 14.   1.6]\n",
            " [ 1.6  1.2  2.1 11.3 73.4 14.6]\n",
            " [ 0.5  0.3  0.6  1.   8.4 82.3]]\n"
          ]
        }
      ]
    },
    {
      "cell_type": "markdown",
      "source": [
        "### Random Forest Classifier, split_criterion=entropy, max_depth=100, n_estimators=300, Train/Test Split random=33"
      ],
      "metadata": {
        "id": "xioqXr6Uuy5f"
      }
    },
    {
      "cell_type": "code",
      "source": [
        "# Create first train/test split for classification.  Automated folds from cross-validation are consuming too many resources and taking too long to process.\n",
        "Xcat_train, Xcat_test, ycat_train, ycat_test = cuml.model_selection.train_test_split(X, y_cat, test_size=0.2, shuffle=True, random_state=33, stratify=y_cat)"
      ],
      "metadata": {
        "id": "Nr02K8wRu5g0"
      },
      "execution_count": null,
      "outputs": []
    },
    {
      "cell_type": "code",
      "source": [
        "RFclass_model = cuml.ensemble.RandomForestClassifier(max_depth=200, n_estimators=300, split_criterion=1)\n",
        "RFclass_model.fit(Xcat_train, ycat_train)\n",
        "y_pred = RFclass_model.predict(Xcat_test)\n",
        "y_pred = y_pred.astype(int)"
      ],
      "metadata": {
        "id": "mEFANZVZuy5h"
      },
      "execution_count": null,
      "outputs": []
    },
    {
      "cell_type": "code",
      "source": [
        "# Accuracy Assessment for Classification Model.\n",
        "RF_acc, RF_roc, RF_cp, RF_cpMean, RF_cpSTD = class_metric(ycat_test, y_pred)"
      ],
      "metadata": {
        "colab": {
          "base_uri": "https://localhost:8080/"
        },
        "id": "zWrqnDhpA4IE",
        "outputId": "a0c0470b-9124-4e20-ae7b-b2245ed773e9"
      },
      "execution_count": null,
      "outputs": [
        {
          "output_type": "stream",
          "name": "stdout",
          "text": [
            "Accuracy Score: 76.8%\n",
            "ROC AUC: 1.714\n",
            "Mean Accuracy per Class & Standard Deviation: 74.8% +/- 5.0%\n",
            "[[78.5  9.9  2.5  2.2  0.9  0.3]\n",
            " [11.1 73.9 12.9  2.9  0.9  0.4]\n",
            " [ 5.2 12.1 69.5 13.8  1.9  0.5]\n",
            " [ 3.2  2.4 12.4 69.  14.1  1.6]\n",
            " [ 1.6  1.3  2.1 11.2 74.1 13.6]\n",
            " [ 0.4  0.4  0.6  0.9  8.1 83.5]]\n"
          ]
        }
      ]
    },
    {
      "cell_type": "markdown",
      "source": [
        "Changing the split_critereon from the default gini to entropy does not appear to increase accuracy in a signficant manner."
      ],
      "metadata": {
        "id": "Akzp0g49aKRD"
      }
    },
    {
      "cell_type": "markdown",
      "source": [
        "## **Summary of Validation.**"
      ],
      "metadata": {
        "id": "bdRQAiW9ZyCw"
      }
    },
    {
      "cell_type": "code",
      "source": [
        "# Mean and STD of accuracy score.\n",
        "acc_list = [76.9, 77.0, 77.0, 76.9, 76.9]\n",
        "\n",
        "# Print Accuracy Score for each Random State\n",
        "# print(f'Accuracy List: {acc_list}')\n",
        "print(f'Accuracy Mean: {str(np.round(np.mean(acc_list), 3))}%')\n",
        "print(f'Accurcay Mean STD: {str(np.round(np.std(acc_list), 3))}%')"
      ],
      "metadata": {
        "colab": {
          "base_uri": "https://localhost:8080/"
        },
        "id": "fP-tG_1faEYA",
        "outputId": "01451192-d296-4d90-dcf5-4e2c5c08af72"
      },
      "execution_count": null,
      "outputs": [
        {
          "output_type": "stream",
          "name": "stdout",
          "text": [
            "Accuracy Mean: 76.94%\n",
            "Accurcay Mean STD: 0.049%\n"
          ]
        }
      ]
    },
    {
      "cell_type": "markdown",
      "source": [
        "## KFold Cross Validation"
      ],
      "metadata": {
        "id": "5XjHOELAtq1p"
      }
    },
    {
      "cell_type": "code",
      "source": [
        "# CRASHES SYSTEM DUE TO EXCEEDING AVAILABLE RAM.\n",
        "\n",
        "# KFold Stratified Cross validation.  Need to convert to Numpy array in order to use cross_val_score.\n",
        "X = X.to_numpy()\n",
        "y_cat = y_cat.to_numpy()\n",
        "\n",
        "# Create 5-folds for cross validation\n",
        "cv_fold = StratifiedKFold(n_splits=5, shuffle=True, random_state=33)\n",
        "\n",
        "# Run the model with the appropriate data types.\n",
        "RFclass_model = cuml.ensemble.RandomForestClassifier(max_depth=100, n_estimators=300, output_type='numpy')\n",
        "cv_acc = cross_val_score(RFclass_model, X, y_cat, cv=cv_fold)\n",
        "print(f'RFclass_model: CV accuracy = {cv_acc.mean()} (std={cv_acc.std()})')"
      ],
      "metadata": {
        "id": "rSgTrseomO76"
      },
      "execution_count": null,
      "outputs": []
    },
    {
      "cell_type": "markdown",
      "source": [
        "# Shapley Values"
      ],
      "metadata": {
        "id": "latffQ-OoAJA"
      }
    },
    {
      "cell_type": "code",
      "source": [
        "# Create train/test split for model explainability.\n",
        "Xcat_train, Xcat_test, ycat_train, ycat_test = cuml.model_selection.train_test_split(X, y_cat, test_size=0.2, shuffle=True, random_state=33, stratify=y_cat)"
      ],
      "metadata": {
        "id": "cbzMNkRoshow"
      },
      "execution_count": null,
      "outputs": []
    },
    {
      "cell_type": "code",
      "source": [
        "# CRASHES SYSTEM DUE TO EXCEEDING AVAILABLE RAM.\n",
        "\n",
        "# RAPIDS SHAP model explainability. \n",
        "RFclass_model = cuml.ensemble.RandomForestClassifier(max_depth=200, n_estimators=300)\n",
        "RFclass_model.fit(Xcat_train, ycat_train)\n",
        "\n",
        "cu_explainer = cuml.explainer.KernelExplainer(\n",
        "    model=RFclass_model.predict,\n",
        "    data=Xcat_train,\n",
        "    is_gpu_model=True,\n",
        "    random_state=33,\n",
        "    dtype=np.float32,\n",
        "    output_type='cupy')\n",
        "\n",
        "cu_shap_values = cu_explainer.shap_values(Xcat_test)\n",
        "cu_shap_values  "
      ],
      "metadata": {
        "id": "Ftf20mduzXYS"
      },
      "execution_count": null,
      "outputs": []
    },
    {
      "cell_type": "markdown",
      "metadata": {
        "id": "BuruO_yUDInC"
      },
      "source": [
        "# **Conclusions**"
      ]
    },
    {
      "cell_type": "markdown",
      "source": [
        "## **Regression Model Summary**."
      ],
      "metadata": {
        "id": "p4EI6AwNxvty"
      }
    },
    {
      "cell_type": "code",
      "source": [
        "# Table Summarizing metrics from the different regression models.\n",
        "metric = [['Metric', 'Dummy Reg', 'Linear Reg', 'Ridge Reg', 'Lasso Reg', 'ElasticNet', 'Nearest Neighbor', 'Random Forest'],\n",
        "         ['R**2', Dum_r2, Lin_r2, Ridge_r2, Lasso_r2, EN_r2, NN_r2, RF_r2],\n",
        "         ['MSE', Dum_mse, Lin_mse, Ridge_mse, Lasso_mse, EN_mse, NN_mse, RF_mse],\n",
        "         ['RMSE', Dum_rmse, Lin_rmse, Ridge_rmse, Lasso_rmse, EN_rmse, NN_rmse, RF_rmse],\n",
        "         ['MAE', Dum_mae, Lin_mae, Ridge_mae, Lasso_mae, EN_mae, NN_mae, RF_mae]]\n",
        "table = tabulate.tabulate(metric, tablefmt='html')\n",
        "\n",
        "display(HTML(table))"
      ],
      "metadata": {
        "colab": {
          "base_uri": "https://localhost:8080/",
          "height": 126
        },
        "outputId": "c7a505ea-fbea-4e5e-e528-f34fa04f3eac",
        "id": "FroAm_XLxvt0"
      },
      "execution_count": null,
      "outputs": [
        {
          "output_type": "display_data",
          "data": {
            "text/plain": [
              "<IPython.core.display.HTML object>"
            ],
            "text/html": [
              "<table>\n",
              "<tbody>\n",
              "<tr><td>Metric</td><td>Dummy Reg</td><td>Linear Reg</td><td>Ridge Reg</td><td>Lasso Reg</td><td>ElasticNet</td><td>Nearest Neighbor</td><td>Random Forest</td></tr>\n",
              "<tr><td>R**2  </td><td>-0.0     </td><td>0.215     </td><td>0.154    </td><td>-0.0     </td><td>0.074     </td><td>0.468           </td><td>0.714        </td></tr>\n",
              "<tr><td>MSE   </td><td>1.497    </td><td>1.176     </td><td>1.266    </td><td>1.497    </td><td>1.387     </td><td>0.796           </td><td>0.429        </td></tr>\n",
              "<tr><td>RMSE  </td><td>1.224    </td><td>1.084     </td><td>1.125    </td><td>1.224    </td><td>1.178     </td><td>0.892           </td><td>0.655        </td></tr>\n",
              "<tr><td>MAE   </td><td>0.974    </td><td>0.819     </td><td>0.872    </td><td>0.974    </td><td>0.929     </td><td>0.574           </td><td>0.434        </td></tr>\n",
              "</tbody>\n",
              "</table>"
            ]
          },
          "metadata": {}
        }
      ]
    },
    {
      "cell_type": "markdown",
      "source": [
        "## **Classification Model Summary.**"
      ],
      "metadata": {
        "id": "7hiv8biXy9AA"
      }
    },
    {
      "cell_type": "code",
      "source": [
        "metric = [['Metric','Logistic Regression', 'Nearest Neighbor', 'Random Forest'],\n",
        "          ['ROC AUC', '0.844', '1.472', '1.72'],\n",
        "          ['Total Accuracy', '60.0%', '68.2%', '77.0%'],\n",
        "          ['Mean Accuracy per Class', '27.4%', '55.2%', '74.6%'],\n",
        "          ['Accuracy per class STD', '16.2%', '9.2%', '5.3%']]\n",
        "table = tabulate.tabulate(metric, tablefmt='html')\n",
        "\n",
        "display(HTML(table))"
      ],
      "metadata": {
        "colab": {
          "base_uri": "https://localhost:8080/",
          "height": 126
        },
        "id": "QRgjMpAbx50b",
        "outputId": "11d7f7ae-9610-4e90-cd7b-06c42b9d97fa"
      },
      "execution_count": null,
      "outputs": [
        {
          "output_type": "display_data",
          "data": {
            "text/plain": [
              "<IPython.core.display.HTML object>"
            ],
            "text/html": [
              "<table>\n",
              "<tbody>\n",
              "<tr><td>Metric                 </td><td>Logistic Regression</td><td>Nearest Neighbor</td><td>Random Forest</td></tr>\n",
              "<tr><td>ROC AUC                </td><td>0.844              </td><td>1.472           </td><td>1.72         </td></tr>\n",
              "<tr><td>Total Accuracy         </td><td>60.0%              </td><td>68.2%           </td><td>77.0%        </td></tr>\n",
              "<tr><td>Mean Accuracy per Class</td><td>27.4%              </td><td>55.2%           </td><td>74.6%        </td></tr>\n",
              "<tr><td>Accuracy per class STD </td><td>16.2%              </td><td>9.2%            </td><td>5.3%         </td></tr>\n",
              "</tbody>\n",
              "</table>"
            ]
          },
          "metadata": {}
        }
      ]
    },
    {
      "cell_type": "markdown",
      "source": [
        "## **Best Model: Random Forest (max_depth=100, n_estimators=300)**"
      ],
      "metadata": {
        "id": "rzayoIyj1Zj2"
      }
    },
    {
      "cell_type": "code",
      "source": [
        "# Mean and STD of accuracy score.\n",
        "acc_list = [76.9, 77.0, 77.0, 76.9, 76.9]\n",
        "\n",
        "# Print Accuracy Score for each Random State\n",
        "# print(f'Accuracy List: {acc_list}')\n",
        "print(f'Total Accuracy Mean: {str(np.round(np.mean(acc_list), 3))}%')\n",
        "print(f'Total Accurcay Mean STD: {str(np.round(np.std(acc_list), 3))}%')"
      ],
      "metadata": {
        "colab": {
          "base_uri": "https://localhost:8080/"
        },
        "outputId": "96383935-c97a-47e1-9d86-6d984e4173ab",
        "id": "NYluOIMV1Zj4"
      },
      "execution_count": null,
      "outputs": [
        {
          "output_type": "stream",
          "name": "stdout",
          "text": [
            "Total Accuracy Mean: 76.94%\n",
            "Total Accurcay Mean STD: 0.049%\n"
          ]
        }
      ]
    },
    {
      "cell_type": "code",
      "source": [
        "# Accuracy for each Drought Score Category.\n",
        "metric = [['Class', 'Accuracy'],\n",
        "          ['0', '78.8%'],\n",
        "          ['1', '73.5%'],\n",
        "          ['2', '68.9%'],\n",
        "          ['3', '68.7%'],\n",
        "          ['4', '74.3%'],\n",
        "          ['5', '83.7%']]\n",
        "table = tabulate.tabulate(metric, tablefmt='html')\n",
        "\n",
        "display(HTML(table))"
      ],
      "metadata": {
        "colab": {
          "base_uri": "https://localhost:8080/",
          "height": 169
        },
        "id": "qYAmJVa17aIs",
        "outputId": "cd2c1eb9-4f6f-486b-f085-ef85ea09509d"
      },
      "execution_count": null,
      "outputs": [
        {
          "output_type": "display_data",
          "data": {
            "text/plain": [
              "<IPython.core.display.HTML object>"
            ],
            "text/html": [
              "<table>\n",
              "<tbody>\n",
              "<tr><td>Class</td><td>Accuracy</td></tr>\n",
              "<tr><td>0    </td><td>78.8%   </td></tr>\n",
              "<tr><td>1    </td><td>73.5%   </td></tr>\n",
              "<tr><td>2    </td><td>68.9%   </td></tr>\n",
              "<tr><td>3    </td><td>68.7%   </td></tr>\n",
              "<tr><td>4    </td><td>74.3%   </td></tr>\n",
              "<tr><td>5    </td><td>83.7%   </td></tr>\n",
              "</tbody>\n",
              "</table>"
            ]
          },
          "metadata": {}
        }
      ]
    },
    {
      "cell_type": "markdown",
      "metadata": {
        "id": "UTdajjVRDKfC"
      },
      "source": [
        "**Conclusion:** The regression models do not give a good enough accuracy for practical implementation since the best Mean Absolute Error is 0.434 and a +/- of 0.434 does not give a good enough separation between the underlying Drought Score Categories.  Therefore, the modeling switched to classification.  The Random Forest Classification model gives a much more practical implementation for this project with an overall accuracy of 77% and a mean per class accuracy of 74.6 +/- 5.3%."
      ]
    }
  ],
  "metadata": {
    "accelerator": "GPU",
    "colab": {
      "machine_shape": "hm",
      "provenance": [],
      "toc_visible": true,
      "include_colab_link": true
    },
    "gpuClass": "premium",
    "kernelspec": {
      "display_name": "Python 3",
      "name": "python3"
    }
  },
  "nbformat": 4,
  "nbformat_minor": 0
}
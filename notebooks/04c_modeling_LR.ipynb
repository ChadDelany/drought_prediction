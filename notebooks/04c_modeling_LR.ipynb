{
 "cells": [
  {
   "cell_type": "markdown",
   "id": "ad95a566",
   "metadata": {},
   "source": [
    "# Drought Prediction: Modeling"
   ]
  },
  {
   "cell_type": "markdown",
   "id": "a28212ae",
   "metadata": {},
   "source": [
    "#### Load Libraries and dataset (non-standardized)."
   ]
  },
  {
   "cell_type": "code",
   "execution_count": 1,
   "id": "034d9b70",
   "metadata": {},
   "outputs": [],
   "source": [
    "#Import pandas, numpy, and StandardScaler\n",
    "import pandas as pd\n",
    "import numpy as np\n",
    "import matplotlib.pyplot as plt\n",
    "import seaborn as sns\n",
    "\n",
    "from sklearn.model_selection import train_test_split, cross_validate, GridSearchCV, learning_curve\n",
    "from sklearn.dummy import DummyRegressor\n",
    "from sklearn.preprocessing import StandardScaler, MinMaxScaler\n",
    "from sklearn.linear_model import LinearRegression\n",
    "from sklearn.ensemble import RandomForestRegressor\n",
    "from sklearn.metrics import r2_score, mean_squared_error, mean_absolute_error\n",
    "from sklearn.pipeline import make_pipeline\n",
    "from sklearn.impute import SimpleImputer\n",
    "from sklearn.feature_selection import SelectKBest, f_regression"
   ]
  },
  {
   "cell_type": "code",
   "execution_count": 2,
   "id": "6d643f7f",
   "metadata": {},
   "outputs": [],
   "source": [
    "# Local location of the data\n",
    "# local_data = 'D:\\\\Data_Science\\\\DroughtProject\\\\Data\\\\' # Location on Windows\n",
    "local_data = '/home/chad/Data/Drought_Prediction/' # Location on Linux\n",
    "\n",
    "# Load the dataset that contains training (meteorological variables) resampled weekly with mean, max, min\n",
    "# and the soil variables that have been merged on the county 'fips' value\n",
    "tsm = pd.read_csv(local_data + 'train_soil_stats_scaled.csv',\n",
    "                        parse_dates=['date'],\n",
    "                        index_col=['index'],\n",
    "                        header=0)"
   ]
  },
  {
   "cell_type": "code",
   "execution_count": 3,
   "id": "c5ceaca8",
   "metadata": {},
   "outputs": [
    {
     "data": {
      "text/html": [
       "<div>\n",
       "<style scoped>\n",
       "    .dataframe tbody tr th:only-of-type {\n",
       "        vertical-align: middle;\n",
       "    }\n",
       "\n",
       "    .dataframe tbody tr th {\n",
       "        vertical-align: top;\n",
       "    }\n",
       "\n",
       "    .dataframe thead th {\n",
       "        text-align: right;\n",
       "    }\n",
       "</style>\n",
       "<table border=\"1\" class=\"dataframe\">\n",
       "  <thead>\n",
       "    <tr style=\"text-align: right;\">\n",
       "      <th></th>\n",
       "      <th>fips</th>\n",
       "      <th>date</th>\n",
       "      <th>score</th>\n",
       "      <th>PRECTOT_mean</th>\n",
       "      <th>PS_mean</th>\n",
       "      <th>QV2M_mean</th>\n",
       "      <th>T2M_mean</th>\n",
       "      <th>T2MDEW_mean</th>\n",
       "      <th>T2MWET_mean</th>\n",
       "      <th>T2M_MAX_mean</th>\n",
       "      <th>...</th>\n",
       "      <th>CULTRF_LAND</th>\n",
       "      <th>CULTIR_LAND</th>\n",
       "      <th>CULT_LAND</th>\n",
       "      <th>SQ1</th>\n",
       "      <th>SQ2</th>\n",
       "      <th>SQ3</th>\n",
       "      <th>SQ4</th>\n",
       "      <th>SQ5</th>\n",
       "      <th>SQ6</th>\n",
       "      <th>SQ7</th>\n",
       "    </tr>\n",
       "    <tr>\n",
       "      <th>index</th>\n",
       "      <th></th>\n",
       "      <th></th>\n",
       "      <th></th>\n",
       "      <th></th>\n",
       "      <th></th>\n",
       "      <th></th>\n",
       "      <th></th>\n",
       "      <th></th>\n",
       "      <th></th>\n",
       "      <th></th>\n",
       "      <th></th>\n",
       "      <th></th>\n",
       "      <th></th>\n",
       "      <th></th>\n",
       "      <th></th>\n",
       "      <th></th>\n",
       "      <th></th>\n",
       "      <th></th>\n",
       "      <th></th>\n",
       "      <th></th>\n",
       "      <th></th>\n",
       "    </tr>\n",
       "  </thead>\n",
       "  <tbody>\n",
       "    <tr>\n",
       "      <th>0</th>\n",
       "      <td>1001</td>\n",
       "      <td>2000-01-04</td>\n",
       "      <td>1.0</td>\n",
       "      <td>0.774991</td>\n",
       "      <td>0.685097</td>\n",
       "      <td>0.399348</td>\n",
       "      <td>0.240823</td>\n",
       "      <td>0.607255</td>\n",
       "      <td>0.606663</td>\n",
       "      <td>0.224313</td>\n",
       "      <td>...</td>\n",
       "      <td>0.872910</td>\n",
       "      <td>-0.242063</td>\n",
       "      <td>0.764426</td>\n",
       "      <td>-0.696872</td>\n",
       "      <td>-0.542166</td>\n",
       "      <td>-0.281171</td>\n",
       "      <td>-0.347023</td>\n",
       "      <td>-0.159427</td>\n",
       "      <td>-0.14777</td>\n",
       "      <td>0.703030</td>\n",
       "    </tr>\n",
       "    <tr>\n",
       "      <th>1</th>\n",
       "      <td>1001</td>\n",
       "      <td>2000-01-11</td>\n",
       "      <td>2.0</td>\n",
       "      <td>0.997975</td>\n",
       "      <td>0.738647</td>\n",
       "      <td>-0.425000</td>\n",
       "      <td>-0.341722</td>\n",
       "      <td>-0.214522</td>\n",
       "      <td>-0.216637</td>\n",
       "      <td>-0.266621</td>\n",
       "      <td>...</td>\n",
       "      <td>0.872910</td>\n",
       "      <td>-0.242063</td>\n",
       "      <td>0.764426</td>\n",
       "      <td>-0.696872</td>\n",
       "      <td>-0.542166</td>\n",
       "      <td>-0.281171</td>\n",
       "      <td>-0.347023</td>\n",
       "      <td>-0.159427</td>\n",
       "      <td>-0.14777</td>\n",
       "      <td>0.703030</td>\n",
       "    </tr>\n",
       "    <tr>\n",
       "      <th>2</th>\n",
       "      <td>1001</td>\n",
       "      <td>2000-01-18</td>\n",
       "      <td>2.0</td>\n",
       "      <td>-0.594568</td>\n",
       "      <td>0.851009</td>\n",
       "      <td>-0.255744</td>\n",
       "      <td>-0.253852</td>\n",
       "      <td>-0.024554</td>\n",
       "      <td>-0.025900</td>\n",
       "      <td>-0.157899</td>\n",
       "      <td>...</td>\n",
       "      <td>0.872910</td>\n",
       "      <td>-0.242063</td>\n",
       "      <td>0.764426</td>\n",
       "      <td>-0.696872</td>\n",
       "      <td>-0.542166</td>\n",
       "      <td>-0.281171</td>\n",
       "      <td>-0.347023</td>\n",
       "      <td>-0.159427</td>\n",
       "      <td>-0.14777</td>\n",
       "      <td>0.703030</td>\n",
       "    </tr>\n",
       "    <tr>\n",
       "      <th>3</th>\n",
       "      <td>1001</td>\n",
       "      <td>2000-01-25</td>\n",
       "      <td>2.0</td>\n",
       "      <td>0.327381</td>\n",
       "      <td>0.650493</td>\n",
       "      <td>-0.820257</td>\n",
       "      <td>-0.791107</td>\n",
       "      <td>-0.755375</td>\n",
       "      <td>-0.753150</td>\n",
       "      <td>-0.766951</td>\n",
       "      <td>...</td>\n",
       "      <td>0.872910</td>\n",
       "      <td>-0.242063</td>\n",
       "      <td>0.764426</td>\n",
       "      <td>-0.696872</td>\n",
       "      <td>-0.542166</td>\n",
       "      <td>-0.281171</td>\n",
       "      <td>-0.347023</td>\n",
       "      <td>-0.159427</td>\n",
       "      <td>-0.14777</td>\n",
       "      <td>0.703030</td>\n",
       "    </tr>\n",
       "    <tr>\n",
       "      <th>4</th>\n",
       "      <td>1001</td>\n",
       "      <td>2000-02-01</td>\n",
       "      <td>1.0</td>\n",
       "      <td>0.319409</td>\n",
       "      <td>0.798907</td>\n",
       "      <td>-1.057998</td>\n",
       "      <td>-1.141773</td>\n",
       "      <td>-1.025876</td>\n",
       "      <td>-1.026474</td>\n",
       "      <td>-1.124477</td>\n",
       "      <td>...</td>\n",
       "      <td>0.872910</td>\n",
       "      <td>-0.242063</td>\n",
       "      <td>0.764426</td>\n",
       "      <td>-0.696872</td>\n",
       "      <td>-0.542166</td>\n",
       "      <td>-0.281171</td>\n",
       "      <td>-0.347023</td>\n",
       "      <td>-0.159427</td>\n",
       "      <td>-0.14777</td>\n",
       "      <td>0.703030</td>\n",
       "    </tr>\n",
       "    <tr>\n",
       "      <th>...</th>\n",
       "      <td>...</td>\n",
       "      <td>...</td>\n",
       "      <td>...</td>\n",
       "      <td>...</td>\n",
       "      <td>...</td>\n",
       "      <td>...</td>\n",
       "      <td>...</td>\n",
       "      <td>...</td>\n",
       "      <td>...</td>\n",
       "      <td>...</td>\n",
       "      <td>...</td>\n",
       "      <td>...</td>\n",
       "      <td>...</td>\n",
       "      <td>...</td>\n",
       "      <td>...</td>\n",
       "      <td>...</td>\n",
       "      <td>...</td>\n",
       "      <td>...</td>\n",
       "      <td>...</td>\n",
       "      <td>...</td>\n",
       "      <td>...</td>\n",
       "    </tr>\n",
       "    <tr>\n",
       "      <th>2759899</th>\n",
       "      <td>56043</td>\n",
       "      <td>2016-12-06</td>\n",
       "      <td>0.0</td>\n",
       "      <td>-0.713212</td>\n",
       "      <td>-2.576446</td>\n",
       "      <td>-1.329003</td>\n",
       "      <td>-1.719301</td>\n",
       "      <td>-1.897441</td>\n",
       "      <td>-1.883959</td>\n",
       "      <td>-1.732103</td>\n",
       "      <td>...</td>\n",
       "      <td>-0.895355</td>\n",
       "      <td>-0.340677</td>\n",
       "      <td>-0.967218</td>\n",
       "      <td>-0.696872</td>\n",
       "      <td>-0.542166</td>\n",
       "      <td>-0.281171</td>\n",
       "      <td>-0.347023</td>\n",
       "      <td>-0.159427</td>\n",
       "      <td>-0.14777</td>\n",
       "      <td>-0.279884</td>\n",
       "    </tr>\n",
       "    <tr>\n",
       "      <th>2759900</th>\n",
       "      <td>56043</td>\n",
       "      <td>2016-12-13</td>\n",
       "      <td>0.0</td>\n",
       "      <td>-0.753072</td>\n",
       "      <td>-2.540132</td>\n",
       "      <td>-1.353462</td>\n",
       "      <td>-1.937756</td>\n",
       "      <td>-2.019370</td>\n",
       "      <td>-2.005570</td>\n",
       "      <td>-1.923501</td>\n",
       "      <td>...</td>\n",
       "      <td>-0.895355</td>\n",
       "      <td>-0.340677</td>\n",
       "      <td>-0.967218</td>\n",
       "      <td>-0.696872</td>\n",
       "      <td>-0.542166</td>\n",
       "      <td>-0.281171</td>\n",
       "      <td>-0.347023</td>\n",
       "      <td>-0.159427</td>\n",
       "      <td>-0.14777</td>\n",
       "      <td>-0.279884</td>\n",
       "    </tr>\n",
       "    <tr>\n",
       "      <th>2759901</th>\n",
       "      <td>56043</td>\n",
       "      <td>2016-12-20</td>\n",
       "      <td>0.0</td>\n",
       "      <td>-0.601133</td>\n",
       "      <td>-2.560920</td>\n",
       "      <td>-1.382487</td>\n",
       "      <td>-2.133972</td>\n",
       "      <td>-2.183447</td>\n",
       "      <td>-2.154560</td>\n",
       "      <td>-2.038961</td>\n",
       "      <td>...</td>\n",
       "      <td>-0.895355</td>\n",
       "      <td>-0.340677</td>\n",
       "      <td>-0.967218</td>\n",
       "      <td>-0.696872</td>\n",
       "      <td>-0.542166</td>\n",
       "      <td>-0.281171</td>\n",
       "      <td>-0.347023</td>\n",
       "      <td>-0.159427</td>\n",
       "      <td>-0.14777</td>\n",
       "      <td>-0.279884</td>\n",
       "    </tr>\n",
       "    <tr>\n",
       "      <th>2759902</th>\n",
       "      <td>56043</td>\n",
       "      <td>2016-12-27</td>\n",
       "      <td>0.0</td>\n",
       "      <td>-0.621298</td>\n",
       "      <td>-2.576709</td>\n",
       "      <td>-1.321828</td>\n",
       "      <td>-1.834563</td>\n",
       "      <td>-1.890968</td>\n",
       "      <td>-1.879118</td>\n",
       "      <td>-1.668865</td>\n",
       "      <td>...</td>\n",
       "      <td>-0.895355</td>\n",
       "      <td>-0.340677</td>\n",
       "      <td>-0.967218</td>\n",
       "      <td>-0.696872</td>\n",
       "      <td>-0.542166</td>\n",
       "      <td>-0.281171</td>\n",
       "      <td>-0.347023</td>\n",
       "      <td>-0.159427</td>\n",
       "      <td>-0.14777</td>\n",
       "      <td>-0.279884</td>\n",
       "    </tr>\n",
       "    <tr>\n",
       "      <th>2759903</th>\n",
       "      <td>56043</td>\n",
       "      <td>2017-01-03</td>\n",
       "      <td>0.0</td>\n",
       "      <td>-0.730094</td>\n",
       "      <td>-2.526448</td>\n",
       "      <td>-1.362430</td>\n",
       "      <td>-1.859073</td>\n",
       "      <td>-1.964050</td>\n",
       "      <td>-1.957243</td>\n",
       "      <td>-1.676964</td>\n",
       "      <td>...</td>\n",
       "      <td>-0.895355</td>\n",
       "      <td>-0.340677</td>\n",
       "      <td>-0.967218</td>\n",
       "      <td>-0.696872</td>\n",
       "      <td>-0.542166</td>\n",
       "      <td>-0.281171</td>\n",
       "      <td>-0.347023</td>\n",
       "      <td>-0.159427</td>\n",
       "      <td>-0.14777</td>\n",
       "      <td>-0.279884</td>\n",
       "    </tr>\n",
       "  </tbody>\n",
       "</table>\n",
       "<p>2759904 rows × 88 columns</p>\n",
       "</div>"
      ],
      "text/plain": [
       "          fips       date  score  PRECTOT_mean   PS_mean  QV2M_mean  T2M_mean  \\\n",
       "index                                                                           \n",
       "0         1001 2000-01-04    1.0      0.774991  0.685097   0.399348  0.240823   \n",
       "1         1001 2000-01-11    2.0      0.997975  0.738647  -0.425000 -0.341722   \n",
       "2         1001 2000-01-18    2.0     -0.594568  0.851009  -0.255744 -0.253852   \n",
       "3         1001 2000-01-25    2.0      0.327381  0.650493  -0.820257 -0.791107   \n",
       "4         1001 2000-02-01    1.0      0.319409  0.798907  -1.057998 -1.141773   \n",
       "...        ...        ...    ...           ...       ...        ...       ...   \n",
       "2759899  56043 2016-12-06    0.0     -0.713212 -2.576446  -1.329003 -1.719301   \n",
       "2759900  56043 2016-12-13    0.0     -0.753072 -2.540132  -1.353462 -1.937756   \n",
       "2759901  56043 2016-12-20    0.0     -0.601133 -2.560920  -1.382487 -2.133972   \n",
       "2759902  56043 2016-12-27    0.0     -0.621298 -2.576709  -1.321828 -1.834563   \n",
       "2759903  56043 2017-01-03    0.0     -0.730094 -2.526448  -1.362430 -1.859073   \n",
       "\n",
       "         T2MDEW_mean  T2MWET_mean  T2M_MAX_mean  ...  CULTRF_LAND  \\\n",
       "index                                            ...                \n",
       "0           0.607255     0.606663      0.224313  ...     0.872910   \n",
       "1          -0.214522    -0.216637     -0.266621  ...     0.872910   \n",
       "2          -0.024554    -0.025900     -0.157899  ...     0.872910   \n",
       "3          -0.755375    -0.753150     -0.766951  ...     0.872910   \n",
       "4          -1.025876    -1.026474     -1.124477  ...     0.872910   \n",
       "...              ...          ...           ...  ...          ...   \n",
       "2759899    -1.897441    -1.883959     -1.732103  ...    -0.895355   \n",
       "2759900    -2.019370    -2.005570     -1.923501  ...    -0.895355   \n",
       "2759901    -2.183447    -2.154560     -2.038961  ...    -0.895355   \n",
       "2759902    -1.890968    -1.879118     -1.668865  ...    -0.895355   \n",
       "2759903    -1.964050    -1.957243     -1.676964  ...    -0.895355   \n",
       "\n",
       "         CULTIR_LAND  CULT_LAND       SQ1       SQ2       SQ3       SQ4  \\\n",
       "index                                                                     \n",
       "0          -0.242063   0.764426 -0.696872 -0.542166 -0.281171 -0.347023   \n",
       "1          -0.242063   0.764426 -0.696872 -0.542166 -0.281171 -0.347023   \n",
       "2          -0.242063   0.764426 -0.696872 -0.542166 -0.281171 -0.347023   \n",
       "3          -0.242063   0.764426 -0.696872 -0.542166 -0.281171 -0.347023   \n",
       "4          -0.242063   0.764426 -0.696872 -0.542166 -0.281171 -0.347023   \n",
       "...              ...        ...       ...       ...       ...       ...   \n",
       "2759899    -0.340677  -0.967218 -0.696872 -0.542166 -0.281171 -0.347023   \n",
       "2759900    -0.340677  -0.967218 -0.696872 -0.542166 -0.281171 -0.347023   \n",
       "2759901    -0.340677  -0.967218 -0.696872 -0.542166 -0.281171 -0.347023   \n",
       "2759902    -0.340677  -0.967218 -0.696872 -0.542166 -0.281171 -0.347023   \n",
       "2759903    -0.340677  -0.967218 -0.696872 -0.542166 -0.281171 -0.347023   \n",
       "\n",
       "              SQ5      SQ6       SQ7  \n",
       "index                                 \n",
       "0       -0.159427 -0.14777  0.703030  \n",
       "1       -0.159427 -0.14777  0.703030  \n",
       "2       -0.159427 -0.14777  0.703030  \n",
       "3       -0.159427 -0.14777  0.703030  \n",
       "4       -0.159427 -0.14777  0.703030  \n",
       "...           ...      ...       ...  \n",
       "2759899 -0.159427 -0.14777 -0.279884  \n",
       "2759900 -0.159427 -0.14777 -0.279884  \n",
       "2759901 -0.159427 -0.14777 -0.279884  \n",
       "2759902 -0.159427 -0.14777 -0.279884  \n",
       "2759903 -0.159427 -0.14777 -0.279884  \n",
       "\n",
       "[2759904 rows x 88 columns]"
      ]
     },
     "execution_count": 3,
     "metadata": {},
     "output_type": "execute_result"
    }
   ],
   "source": [
    "# Confirm dataset loaded properly.\n",
    "tsm"
   ]
  },
  {
   "cell_type": "code",
   "execution_count": 4,
   "id": "d5560a04",
   "metadata": {},
   "outputs": [
    {
     "name": "stdout",
     "output_type": "stream",
     "text": [
      "<class 'pandas.core.frame.DataFrame'>\n",
      "Int64Index: 2759904 entries, 0 to 2759903\n",
      "Data columns (total 88 columns):\n",
      " #   Column            Dtype         \n",
      "---  ------            -----         \n",
      " 0   fips              int64         \n",
      " 1   date              datetime64[ns]\n",
      " 2   score             float64       \n",
      " 3   PRECTOT_mean      float64       \n",
      " 4   PS_mean           float64       \n",
      " 5   QV2M_mean         float64       \n",
      " 6   T2M_mean          float64       \n",
      " 7   T2MDEW_mean       float64       \n",
      " 8   T2MWET_mean       float64       \n",
      " 9   T2M_MAX_mean      float64       \n",
      " 10  T2M_MIN_mean      float64       \n",
      " 11  T2M_RANGE_mean    float64       \n",
      " 12  TS_mean           float64       \n",
      " 13  WS10M_mean        float64       \n",
      " 14  WS10M_MAX_mean    float64       \n",
      " 15  WS10M_MIN_mean    float64       \n",
      " 16  WS10M_RANGE_mean  float64       \n",
      " 17  WS50M_mean        float64       \n",
      " 18  WS50M_MAX_mean    float64       \n",
      " 19  WS50M_MIN_mean    float64       \n",
      " 20  WS50M_RANGE_mean  float64       \n",
      " 21  PRECTOT_max       float64       \n",
      " 22  PS_max            float64       \n",
      " 23  QV2M_max          float64       \n",
      " 24  T2M_max           float64       \n",
      " 25  T2MDEW_max        float64       \n",
      " 26  T2MWET_max        float64       \n",
      " 27  T2M_MAX_max       float64       \n",
      " 28  T2M_MIN_max       float64       \n",
      " 29  T2M_RANGE_max     float64       \n",
      " 30  TS_max            float64       \n",
      " 31  WS10M_max         float64       \n",
      " 32  WS10M_MAX_max     float64       \n",
      " 33  WS10M_MIN_max     float64       \n",
      " 34  WS10M_RANGE_max   float64       \n",
      " 35  WS50M_max         float64       \n",
      " 36  WS50M_MAX_max     float64       \n",
      " 37  WS50M_MIN_max     float64       \n",
      " 38  WS50M_RANGE_max   float64       \n",
      " 39  PRECTOT_min       float64       \n",
      " 40  PS_min            float64       \n",
      " 41  QV2M_min          float64       \n",
      " 42  T2M_min           float64       \n",
      " 43  T2MDEW_min        float64       \n",
      " 44  T2MWET_min        float64       \n",
      " 45  T2M_MAX_min       float64       \n",
      " 46  T2M_MIN_min       float64       \n",
      " 47  T2M_RANGE_min     float64       \n",
      " 48  TS_min            float64       \n",
      " 49  WS10M_min         float64       \n",
      " 50  WS10M_MAX_min     float64       \n",
      " 51  WS10M_MIN_min     float64       \n",
      " 52  WS10M_RANGE_min   float64       \n",
      " 53  WS50M_min         float64       \n",
      " 54  WS50M_MAX_min     float64       \n",
      " 55  WS50M_MIN_min     float64       \n",
      " 56  WS50M_RANGE_min   float64       \n",
      " 57  lat               float64       \n",
      " 58  lon               float64       \n",
      " 59  elevation         float64       \n",
      " 60  slope1            float64       \n",
      " 61  slope2            float64       \n",
      " 62  slope3            float64       \n",
      " 63  slope4            float64       \n",
      " 64  slope5            float64       \n",
      " 65  slope6            float64       \n",
      " 66  slope7            float64       \n",
      " 67  slope8            float64       \n",
      " 68  aspectN           float64       \n",
      " 69  aspectE           float64       \n",
      " 70  aspectS           float64       \n",
      " 71  aspectW           float64       \n",
      " 72  aspectUnknown     float64       \n",
      " 73  WAT_LAND          float64       \n",
      " 74  NVG_LAND          float64       \n",
      " 75  URB_LAND          float64       \n",
      " 76  GRS_LAND          float64       \n",
      " 77  FOR_LAND          float64       \n",
      " 78  CULTRF_LAND       float64       \n",
      " 79  CULTIR_LAND       float64       \n",
      " 80  CULT_LAND         float64       \n",
      " 81  SQ1               float64       \n",
      " 82  SQ2               float64       \n",
      " 83  SQ3               float64       \n",
      " 84  SQ4               float64       \n",
      " 85  SQ5               float64       \n",
      " 86  SQ6               float64       \n",
      " 87  SQ7               float64       \n",
      "dtypes: datetime64[ns](1), float64(86), int64(1)\n",
      "memory usage: 1.8 GB\n"
     ]
    }
   ],
   "source": [
    "# Confirming expected datatypes.\n",
    "tsm.info()"
   ]
  },
  {
   "cell_type": "markdown",
   "id": "c7572e92",
   "metadata": {},
   "source": [
    "### Create Pipeline"
   ]
  },
  {
   "cell_type": "code",
   "execution_count": 4,
   "id": "5a1be6d5",
   "metadata": {},
   "outputs": [],
   "source": [
    "# Breaking out independent numerical variables from target variable, categorical variable ('fips'), and date.\n",
    "cols = tsm.columns.tolist()\n",
    "features = cols[3:]\n",
    "\n",
    "# Separating out the features\n",
    "X = tsm.loc[:, features].values\n",
    "\n",
    "# Separating out the target\n",
    "y = tsm.loc[:,['score']].values\n",
    "\n",
    "# Split dataset into preliminary training set and initial test set for model selection.\n",
    "X_train, X_test, y_train, y_test = train_test_split(X, y, \n",
    "                                                    test_size=0.3, \n",
    "                                                    random_state=42)"
   ]
  },
  {
   "cell_type": "code",
   "execution_count": 5,
   "id": "2afc2bce",
   "metadata": {},
   "outputs": [
    {
     "data": {
      "text/plain": [
       "numpy.ndarray"
      ]
     },
     "execution_count": 5,
     "metadata": {},
     "output_type": "execute_result"
    }
   ],
   "source": [
    "type(X_train)"
   ]
  },
  {
   "cell_type": "code",
   "execution_count": 6,
   "id": "af06c4ef",
   "metadata": {},
   "outputs": [],
   "source": [
    "# Create pipeline for Linear Regression\n",
    "# lr = LinearRegression()\n",
    "pipe = make_pipeline(\n",
    "    SimpleImputer(strategy='median'), \n",
    "    StandardScaler(),\n",
    "    SelectKBest(f_regression),\n",
    "    LinearRegression()\n",
    ")"
   ]
  },
  {
   "cell_type": "code",
   "execution_count": 7,
   "id": "bdcb9b4e",
   "metadata": {},
   "outputs": [
    {
     "name": "stderr",
     "output_type": "stream",
     "text": [
      "/home/chad/anaconda3/lib/python3.9/site-packages/sklearn/utils/validation.py:993: DataConversionWarning: A column-vector y was passed when a 1d array was expected. Please change the shape of y to (n_samples, ), for example using ravel().\n",
      "  y = column_or_1d(y, warn=True)\n"
     ]
    },
    {
     "data": {
      "text/plain": [
       "Pipeline(steps=[('simpleimputer', SimpleImputer(strategy='median')),\n",
       "                ('standardscaler', StandardScaler()),\n",
       "                ('selectkbest',\n",
       "                 SelectKBest(score_func=<function f_regression at 0x7fe60ddc2670>)),\n",
       "                ('linearregression', LinearRegression())])"
      ]
     },
     "execution_count": 7,
     "metadata": {},
     "output_type": "execute_result"
    }
   ],
   "source": [
    "pipe.fit(X_train, y_train)"
   ]
  },
  {
   "cell_type": "code",
   "execution_count": 8,
   "id": "1d98d652",
   "metadata": {},
   "outputs": [],
   "source": [
    "y_tr_pred = pipe.predict(X_train)\n",
    "y_te_pred = pipe.predict(X_test)"
   ]
  },
  {
   "cell_type": "code",
   "execution_count": 9,
   "id": "3cf239de",
   "metadata": {},
   "outputs": [
    {
     "data": {
      "text/plain": [
       "(0.11659248987548099, 0.11685947402155683)"
      ]
     },
     "execution_count": 9,
     "metadata": {},
     "output_type": "execute_result"
    }
   ],
   "source": [
    "r2_score(y_train, y_tr_pred), r2_score(y_test, y_te_pred)"
   ]
  },
  {
   "cell_type": "code",
   "execution_count": 10,
   "id": "4c5f76ca",
   "metadata": {},
   "outputs": [
    {
     "data": {
      "text/plain": [
       "(0.8865398306786988, 0.8857586142381453)"
      ]
     },
     "execution_count": 10,
     "metadata": {},
     "output_type": "execute_result"
    }
   ],
   "source": [
    "mean_absolute_error(y_train, y_tr_pred), mean_absolute_error(y_test, y_te_pred)"
   ]
  },
  {
   "cell_type": "markdown",
   "id": "f686735f",
   "metadata": {},
   "source": [
    "### Create Cross-validation"
   ]
  },
  {
   "cell_type": "code",
   "execution_count": 11,
   "id": "e65d03a4",
   "metadata": {},
   "outputs": [
    {
     "name": "stderr",
     "output_type": "stream",
     "text": [
      "/home/chad/anaconda3/lib/python3.9/site-packages/sklearn/utils/validation.py:993: DataConversionWarning: A column-vector y was passed when a 1d array was expected. Please change the shape of y to (n_samples, ), for example using ravel().\n",
      "  y = column_or_1d(y, warn=True)\n",
      "/home/chad/anaconda3/lib/python3.9/site-packages/sklearn/utils/validation.py:993: DataConversionWarning: A column-vector y was passed when a 1d array was expected. Please change the shape of y to (n_samples, ), for example using ravel().\n",
      "  y = column_or_1d(y, warn=True)\n",
      "/home/chad/anaconda3/lib/python3.9/site-packages/sklearn/utils/validation.py:993: DataConversionWarning: A column-vector y was passed when a 1d array was expected. Please change the shape of y to (n_samples, ), for example using ravel().\n",
      "  y = column_or_1d(y, warn=True)\n",
      "/home/chad/anaconda3/lib/python3.9/site-packages/sklearn/utils/validation.py:993: DataConversionWarning: A column-vector y was passed when a 1d array was expected. Please change the shape of y to (n_samples, ), for example using ravel().\n",
      "  y = column_or_1d(y, warn=True)\n",
      "/home/chad/anaconda3/lib/python3.9/site-packages/sklearn/utils/validation.py:993: DataConversionWarning: A column-vector y was passed when a 1d array was expected. Please change the shape of y to (n_samples, ), for example using ravel().\n",
      "  y = column_or_1d(y, warn=True)\n"
     ]
    }
   ],
   "source": [
    "# Calculate the mean of `y_train`\n",
    "# lr_default_cv_results = cross_validate(lr, X, y, cv=5, n_jobs=-1)\n",
    "cv_results = cross_validate(pipe, X_train, y_train, cv=5)"
   ]
  },
  {
   "cell_type": "code",
   "execution_count": 12,
   "id": "b7449d7a",
   "metadata": {},
   "outputs": [
    {
     "data": {
      "text/plain": [
       "array([0.11591491, 0.11763351, 0.1153496 , 0.11655005, 0.11745928])"
      ]
     },
     "execution_count": 12,
     "metadata": {},
     "output_type": "execute_result"
    }
   ],
   "source": [
    "# Fit the dummy regressor on the training data\n",
    "# This is an absolute baseline for what is the guess for drought score without any model or variable input.\n",
    "cv_scores = cv_results['test_score']\n",
    "cv_scores"
   ]
  },
  {
   "cell_type": "code",
   "execution_count": 13,
   "id": "bfe73968",
   "metadata": {},
   "outputs": [
    {
     "data": {
      "text/plain": [
       "(0.11658146771662894, 0.0008763711784679433)"
      ]
     },
     "execution_count": 13,
     "metadata": {},
     "output_type": "execute_result"
    }
   ],
   "source": [
    "np.mean(cv_scores), np.std(cv_scores)"
   ]
  },
  {
   "cell_type": "code",
   "execution_count": 14,
   "id": "714439fb",
   "metadata": {},
   "outputs": [],
   "source": [
    "pipe25 = make_pipeline(\n",
    "    SimpleImputer(strategy='median'), \n",
    "    StandardScaler(),\n",
    "    SelectKBest(f_regression, k=25),\n",
    "    LinearRegression()\n",
    ")"
   ]
  },
  {
   "cell_type": "code",
   "execution_count": 15,
   "id": "4f6eb84c",
   "metadata": {},
   "outputs": [
    {
     "name": "stderr",
     "output_type": "stream",
     "text": [
      "/home/chad/anaconda3/lib/python3.9/site-packages/sklearn/utils/validation.py:993: DataConversionWarning: A column-vector y was passed when a 1d array was expected. Please change the shape of y to (n_samples, ), for example using ravel().\n",
      "  y = column_or_1d(y, warn=True)\n"
     ]
    },
    {
     "data": {
      "text/plain": [
       "Pipeline(steps=[('simpleimputer', SimpleImputer(strategy='median')),\n",
       "                ('standardscaler', StandardScaler()),\n",
       "                ('selectkbest',\n",
       "                 SelectKBest(score_func=<function f_regression at 0x7fe60ddc2670>)),\n",
       "                ('linearregression', LinearRegression())])"
      ]
     },
     "execution_count": 15,
     "metadata": {},
     "output_type": "execute_result"
    }
   ],
   "source": [
    "pipe.fit(X_train, y_train)"
   ]
  },
  {
   "cell_type": "markdown",
   "id": "2806f7ab",
   "metadata": {},
   "source": [
    "###  Assess Model with Metrics"
   ]
  },
  {
   "cell_type": "code",
   "execution_count": null,
   "id": "103a9a06",
   "metadata": {},
   "outputs": [],
   "source": []
  }
 ],
 "metadata": {
  "kernelspec": {
   "display_name": "Python 3 (ipykernel)",
   "language": "python",
   "name": "python3"
  },
  "language_info": {
   "codemirror_mode": {
    "name": "ipython",
    "version": 3
   },
   "file_extension": ".py",
   "mimetype": "text/x-python",
   "name": "python",
   "nbconvert_exporter": "python",
   "pygments_lexer": "ipython3",
   "version": "3.9.12"
  }
 },
 "nbformat": 4,
 "nbformat_minor": 5
}
